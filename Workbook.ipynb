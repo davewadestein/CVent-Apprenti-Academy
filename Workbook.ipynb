{
 "cells": [
  {
   "cell_type": "markdown",
   "id": "ae3bb18a-52d7-4641-bbb4-57c22dbb5032",
   "metadata": {
    "jp-MarkdownHeadingCollapsed": true
   },
   "source": [
    "# Important things to know about coding\n",
    "* you have a limited palette\n",
    "  * you have a limited set of things you can say\n",
    "  * that set gets smaller as we move closer to CPU\n",
    "  * corollary: machine code/assembly langauage is going to be lengthier than our code\n",
    "* precision matters\n",
    "  * PB&J challenge\n",
    "  * brushing your teeth\n",
    "    1. start with toothbrush and toothpaste (buy at store)\n",
    "    2. open the toothpaste container\n",
    "    3. optional: wet the toothbrush \n",
    "    4. squeeze a pea-sized amount of toothpaste onto the bristles of the toothbrush\n",
    "    5. optional: wet the toothbrush/toothpaste...\n",
    "    6. open your mouth\n",
    "    7. put the bristle-side/toothpaste side into your mouth\n",
    "    8. imagine your mouth is divided into 4 quadrant upper left, upper right, lower left, lower right and start by positioning the toothbrush next to a tooth in that quadrant\n",
    "    9. brush along the teeth up and down on the surface, inside for 30 seconds per quadrant\n",
    "* Hal Abelson: \"Programs are written for other people to read and only incidentally for computers to run.\"\n",
    "* Eagleson's Law: \"Any code you wrote more than 6 months ago might as well have been written by someone by else.\"\n",
    "* DWS: \"Prefer clean code to comments\""
   ]
  },
  {
   "cell_type": "markdown",
   "id": "dbe4f12e-f8c8-409c-975f-147c4c71d7f1",
   "metadata": {},
   "source": [
    "# Important Things to Know About Python\n",
    "* everything in Python is an object\n",
    "  * they live in memory and we can inspect them\n",
    "  * everything has data (\"slots\" or \"fields\" or \"attributes\") and possibly methods hanging off of them or as part of them\n",
    "* mutable vs. immutable data types\n",
    "  * immutable: str, tuple\n",
    "  * mutable: list, set, dict\n",
    "* scalars vs. containers\n",
    "  * scalars: int, float, bool\n",
    "  * containers: 0+ items... str, list, set, dict, tuple\n",
    "* Boolean expression in Python can be \"truthy\" ... \"truthiness\"\n",
    "   * 0 and 0.0 are considered False in a Boolean context\n",
    "     * any other numbers are considered True in a Boolean context\n",
    "   * empty containers are considered False in a Boolean context\n",
    "     * non-empty containers are considered True \" \" \" \""
   ]
  },
  {
   "cell_type": "markdown",
   "id": "8c8d573f-3591-4031-84d9-63e4eabac8ef",
   "metadata": {},
   "source": [
    "# \"Pythonic\"\n",
    "* writing your code in such a way that it's familiar to other programmers\n",
    "  * using idioms\n",
    "* use __`.split()`__ to initialize lists, e.g,. __`fruits = 'apple fig pear'.split()`__\n",
    "* don't use indexing in for loops unless you need it\n",
    "  * __`for thing in container`__ is preferable to __`for index in range(len(container)): ...container[index]`__\n",
    "* truthiness! "
   ]
  },
  {
   "cell_type": "markdown",
   "id": "01d3faa3-105d-4a21-9ceb-c8631f767506",
   "metadata": {},
   "source": [
    "# DWS's \"Patented\" Method for Getting Better at Coding/Programming\n",
    "1. solve a problem you've already solved in another way\n",
    "2. add features to a program, even if you don't need them"
   ]
  },
  {
   "cell_type": "code",
   "execution_count": null,
   "id": "c5e6a658-d638-4400-9cb9-a02ff47953ea",
   "metadata": {},
   "outputs": [],
   "source": []
  },
  {
   "cell_type": "markdown",
   "id": "673104be-f439-4375-b1ba-44da33a81617",
   "metadata": {},
   "source": [
    "# Steps for writing code\n",
    "1. write down the steps in a form that you could hand to another person (English)\n",
    "2. refine those steps into \"pseudocode\""
   ]
  },
  {
   "cell_type": "markdown",
   "id": "15a0a0e9-7175-4979-a779-a02dbe6e8b32",
   "metadata": {
    "jupyter": {
     "source_hidden": true
    }
   },
   "source": [
    "# Wordle: steps for a human\n",
    "1. pick a 5-letter word and keep it to yourself, don't tell me\n",
    "2. on the paper, draw 5 squares or other indications of the 5 letters that the player can write their guess in\n",
    "3. player should guess a 5-letter word and write that word in the boxes/on the lines to indicate their guess\n",
    "4. circle any letters that are in the correct position (player is trying to guess the word)\n",
    "5. underline any letters that are actually in the word, but are in the correct position\n",
    "6. don't do anything with letters that are wrong, i.e., are not in the word they are trying to guess\n",
    "7. repeat steps 2-6 four more times or until they guess the word"
   ]
  },
  {
   "cell_type": "code",
   "execution_count": 64,
   "id": "ce51967a-267b-4986-a91c-20d83e90eb35",
   "metadata": {},
   "outputs": [],
   "source": [
    "def fibonacci(n):\n",
    "    print(f'calling fibonacci({n})')\n",
    "    # base cases\n",
    "    # fib(0) = 0\n",
    "    # fib(1) = 1\n",
    "    # everything else\n",
    "    # fib(n) = fib(n-1) + fib(n-2)\n",
    "    if 0 <= n <= 1:\n",
    "        return n\n",
    "    return fibonacci(n-1) + fibonacci(n-2)"
   ]
  },
  {
   "cell_type": "code",
   "execution_count": null,
   "id": "adfceb37-9b81-4438-9cb7-7f1a967b52dc",
   "metadata": {},
   "outputs": [],
   "source": [
    "# Wordle: pseudocode\n",
    "# 1. pick one of our stored 5-letters words\n",
    "# 2. \"guess a 5-letter word\"\n",
    "# 2a. guess counter = 0 \n",
    "# 3. until user has taken 6 guesses\n",
    "# 4. ----- maybe\n",
    "# 5. get a 5-letter word from the user\n",
    "# 6. if any of the 5 are not letters:\n",
    "# 7.     error msg + go back to step 4\n",
    "# 8. if length of word != 5:\n",
    "# 9.     error msg + go back to step 4\n",
    "# 10. for each letter of their guess: \n",
    "# 11.    if it matches the letter in word in the same position:\n",
    "# 12.         we'll indicate that by printing the letter itself\n",
    "# 13.    elif it matches a letter elsewhere in the word (i.e., not in the same position)\n",
    "# 14.         we'll indicate that by printing a '?'\n",
    "# 15.    else indicate totally wrong with -"
   ]
  },
  {
   "cell_type": "code",
   "execution_count": 70,
   "id": "e90ee873-c8d8-43c1-a286-5a9140be9ff3",
   "metadata": {},
   "outputs": [],
   "source": [
    "def get_valid_guess():\n",
    "    \"\"\"Repeatedly prompt the user for a guess until they enter a valid guess:\n",
    "    - must be exactly 5 letters\n",
    "    - must be letters only\n",
    "    - \"must be a word\" ... we won't do this part\n",
    "    \"\"\"\n",
    "    while True: # infinite loop\n",
    "        # 1. get input from user\n",
    "        guess = input('What is your guess? ').upper()\n",
    "        # 2. ensure length is 5\n",
    "        if len(guess) != 5:\n",
    "            print('Supposed to be 5 letters!')\n",
    "        # 3. ensure only letters\n",
    "        elif not guess.isalpha():\n",
    "            print('Non-letter found!')\n",
    "        # 4. return the valid guess\n",
    "        else:\n",
    "            return guess"
   ]
  },
  {
   "cell_type": "code",
   "execution_count": 110,
   "id": "af894928-92a1-483b-8367-a93a3b8b75cf",
   "metadata": {},
   "outputs": [],
   "source": [
    "def check_letters(user_guess, word):\n",
    "    \"\"\"Compare user's guess to the word and identify exact and inexact matches.\"\"\"\n",
    "    response_str = ''\n",
    "    \n",
    "    for index, letter in enumerate(user_guess): # 10\n",
    "        if letter == word[index]: # 11\n",
    "            # exact match based on position\n",
    "            response_str += letter # str-based solution for 12\n",
    "        elif letter in word: # 13 , inexact match\n",
    "            response_str += '?'\n",
    "        else:\n",
    "            response_str += '-'\n",
    "\n",
    "    return response_str"
   ]
  },
  {
   "cell_type": "code",
   "execution_count": 115,
   "id": "bcab717d-db48-478a-aac6-5f087a6f2136",
   "metadata": {},
   "outputs": [
    {
     "data": {
      "text/plain": [
       "['/Users/dave-wadestein/Downloads/Apprenti-Learn-to-Code-Python',\n",
       " '/opt/anaconda3/lib/python311.zip',\n",
       " '/opt/anaconda3/lib/python3.11',\n",
       " '/opt/anaconda3/lib/python3.11/lib-dynload',\n",
       " '',\n",
       " '/opt/anaconda3/lib/python3.11/site-packages',\n",
       " '/opt/anaconda3/lib/python3.11/site-packages/aeosa']"
      ]
     },
     "execution_count": 115,
     "metadata": {},
     "output_type": "execute_result"
    }
   ],
   "source": [
    "import sys\n",
    "sys.path"
   ]
  },
  {
   "cell_type": "code",
   "execution_count": 116,
   "id": "56957508-e2f6-4624-8519-a8aab74a3a55",
   "metadata": {},
   "outputs": [
    {
     "data": {
      "text/plain": [
       "['/Users/dave-wadestein/Downloads/Apprenti-Learn-to-Code-Python',\n",
       " '/opt/anaconda3/lib/python311.zip',\n",
       " '/opt/anaconda3/lib/python3.11',\n",
       " '/opt/anaconda3/lib/python3.11/lib-dynload',\n",
       " '',\n",
       " '/opt/anaconda3/lib/python3.11/site-packages',\n",
       " '/opt/anaconda3/lib/python3.11/site-packages/aeosa',\n",
       " '/cvent/specific/dir']"
      ]
     },
     "execution_count": 116,
     "metadata": {},
     "output_type": "execute_result"
    }
   ],
   "source": [
    "sys.path.append('/cvent/specific/dir')\n",
    "sys.path"
   ]
  },
  {
   "cell_type": "code",
   "execution_count": 111,
   "id": "ad42519c-9b9b-4539-9a3c-0c99137baedd",
   "metadata": {},
   "outputs": [
    {
     "data": {
      "text/plain": [
       "'??--e'"
      ]
     },
     "execution_count": 111,
     "metadata": {},
     "output_type": "execute_result"
    }
   ],
   "source": [
    "check_letters('paste', 'apple')"
   ]
  },
  {
   "cell_type": "code",
   "execution_count": 71,
   "id": "6bd02a49-e497-4a97-b01c-8ac506ba4965",
   "metadata": {},
   "outputs": [
    {
     "name": "stdin",
     "output_type": "stream",
     "text": [
      "What is your guess?  j\n"
     ]
    },
    {
     "name": "stdout",
     "output_type": "stream",
     "text": [
      "Supposed to be 5 letters!\n"
     ]
    },
    {
     "name": "stdin",
     "output_type": "stream",
     "text": [
      "What is your guess?  12345\n"
     ]
    },
    {
     "name": "stdout",
     "output_type": "stream",
     "text": [
      "Non-letter found!\n"
     ]
    },
    {
     "name": "stdin",
     "output_type": "stream",
     "text": [
      "What is your guess?  hello\n"
     ]
    },
    {
     "data": {
      "text/plain": [
       "'HELLO'"
      ]
     },
     "execution_count": 71,
     "metadata": {},
     "output_type": "execute_result"
    }
   ],
   "source": [
    "get_valid_guess()"
   ]
  },
  {
   "cell_type": "code",
   "execution_count": 113,
   "id": "ac053c4c-a4da-4a89-a136-8af5c4a60b8e",
   "metadata": {},
   "outputs": [
    {
     "name": "stdout",
     "output_type": "stream",
     "text": [
      "WORDLE: I picked a 5-letter word and you should guess it.\n"
     ]
    },
    {
     "name": "stdin",
     "output_type": "stream",
     "text": [
      "What is your guess?  apple\n"
     ]
    },
    {
     "name": "stdout",
     "output_type": "stream",
     "text": [
      "-----\n"
     ]
    },
    {
     "name": "stdin",
     "output_type": "stream",
     "text": [
      "What is your guess?  groan\n"
     ]
    },
    {
     "name": "stdout",
     "output_type": "stream",
     "text": [
      "?---?\n"
     ]
    },
    {
     "name": "stdin",
     "output_type": "stream",
     "text": [
      "What is your guess?  groan\n"
     ]
    },
    {
     "name": "stdout",
     "output_type": "stream",
     "text": [
      "?---?\n"
     ]
    },
    {
     "name": "stdin",
     "output_type": "stream",
     "text": [
      "What is your guess?  groan\n"
     ]
    },
    {
     "name": "stdout",
     "output_type": "stream",
     "text": [
      "?---?\n"
     ]
    },
    {
     "name": "stdin",
     "output_type": "stream",
     "text": [
      "What is your guess?  groan\n"
     ]
    },
    {
     "name": "stdout",
     "output_type": "stream",
     "text": [
      "?---?\n"
     ]
    },
    {
     "name": "stdin",
     "output_type": "stream",
     "text": [
      "What is your guess?  groan\n"
     ]
    },
    {
     "name": "stdout",
     "output_type": "stream",
     "text": [
      "?---?\n",
      "The word was DINGY\n"
     ]
    }
   ],
   "source": [
    "import random\n",
    "secret_word = random.choice(word_list).upper() # good catch, Joanna\n",
    "\n",
    "print('WORDLE: I picked a 5-letter word and you should guess it.') # 2\n",
    "guess_count = 0 # 2a\n",
    "\n",
    "while guess_count < 6: # 3\n",
    "    guess = get_valid_guess() # 5\n",
    "    guess_count += 1\n",
    "    \n",
    "    if guess == secret_word:\n",
    "        print(f'You got it in {guess_count} guesses!')\n",
    "        break # out of the while loop cuz we're done\n",
    "\n",
    "    print(check_letters(guess, secret_word))\n",
    "\n",
    "else: # the code in here (this else clause) is only run if we DID NOT BREAK out of the loop\n",
    "    print('The word was', secret_word)"
   ]
  },
  {
   "cell_type": "code",
   "execution_count": 87,
   "id": "37687675-edf6-494d-8eaa-c742158ea58b",
   "metadata": {},
   "outputs": [
    {
     "data": {
      "text/plain": [
       "2315"
      ]
     },
     "execution_count": 87,
     "metadata": {},
     "output_type": "execute_result"
    }
   ],
   "source": [
    "len(word_list)"
   ]
  },
  {
   "cell_type": "code",
   "execution_count": null,
   "id": "f8f60b1f-070a-44d2-9114-8134582e5a6d",
   "metadata": {},
   "outputs": [],
   "source": [
    "import random"
   ]
  },
  {
   "cell_type": "code",
   "execution_count": 94,
   "id": "c870a582-c03d-4f0f-a9a0-f705440d685d",
   "metadata": {},
   "outputs": [
    {
     "data": {
      "text/plain": [
       "['BPF',\n",
       " 'LOG4',\n",
       " 'NV_MAGICCONST',\n",
       " 'RECIP_BPF',\n",
       " 'Random',\n",
       " 'SG_MAGICCONST',\n",
       " 'SystemRandom',\n",
       " 'TWOPI',\n",
       " '_ONE',\n",
       " '_Sequence',\n",
       " '_Set',\n",
       " '__all__',\n",
       " '__builtins__',\n",
       " '__cached__',\n",
       " '__doc__',\n",
       " '__file__',\n",
       " '__loader__',\n",
       " '__name__',\n",
       " '__package__',\n",
       " '__spec__',\n",
       " '_accumulate',\n",
       " '_acos',\n",
       " '_bisect',\n",
       " '_ceil',\n",
       " '_cos',\n",
       " '_e',\n",
       " '_exp',\n",
       " '_floor',\n",
       " '_index',\n",
       " '_inst',\n",
       " '_isfinite',\n",
       " '_log',\n",
       " '_os',\n",
       " '_pi',\n",
       " '_random',\n",
       " '_repeat',\n",
       " '_sha512',\n",
       " '_sin',\n",
       " '_sqrt',\n",
       " '_test',\n",
       " '_test_generator',\n",
       " '_urandom',\n",
       " '_warn',\n",
       " 'betavariate',\n",
       " 'choice',\n",
       " 'choices',\n",
       " 'expovariate',\n",
       " 'gammavariate',\n",
       " 'gauss',\n",
       " 'getrandbits',\n",
       " 'getstate',\n",
       " 'lognormvariate',\n",
       " 'normalvariate',\n",
       " 'paretovariate',\n",
       " 'randbytes',\n",
       " 'randint',\n",
       " 'random',\n",
       " 'randrange',\n",
       " 'sample',\n",
       " 'seed',\n",
       " 'setstate',\n",
       " 'shuffle',\n",
       " 'triangular',\n",
       " 'uniform',\n",
       " 'vonmisesvariate',\n",
       " 'weibullvariate']"
      ]
     },
     "execution_count": 94,
     "metadata": {},
     "output_type": "execute_result"
    }
   ],
   "source": [
    "dir(random)"
   ]
  },
  {
   "cell_type": "code",
   "execution_count": 88,
   "id": "bbf76af4-4d59-4878-8b13-cd6ab95015d1",
   "metadata": {},
   "outputs": [
    {
     "data": {
      "text/plain": [
       "1391"
      ]
     },
     "execution_count": 88,
     "metadata": {},
     "output_type": "execute_result"
    }
   ],
   "source": [
    "random.randint(0, len(word_list) - 1)"
   ]
  },
  {
   "cell_type": "code",
   "execution_count": 93,
   "id": "9ebb4a49-7800-4778-a0fa-9296eaf90ec6",
   "metadata": {},
   "outputs": [
    {
     "data": {
      "text/plain": [
       "1798"
      ]
     },
     "execution_count": 93,
     "metadata": {},
     "output_type": "execute_result"
    }
   ],
   "source": [
    "random.randrange(0, len(word_list))"
   ]
  },
  {
   "cell_type": "code",
   "execution_count": 99,
   "id": "722e6ef6-7790-4e45-903c-e37a583d3a43",
   "metadata": {},
   "outputs": [
    {
     "data": {
      "text/plain": [
       "'print'"
      ]
     },
     "execution_count": 99,
     "metadata": {},
     "output_type": "execute_result"
    }
   ],
   "source": [
    "random.choice(word_list)"
   ]
  },
  {
   "cell_type": "code",
   "execution_count": 91,
   "id": "3fd7aa52-ab28-48b2-8ef1-5d728a92f935",
   "metadata": {},
   "outputs": [
    {
     "name": "stdout",
     "output_type": "stream",
     "text": [
      "0\n",
      "1\n",
      "2\n"
     ]
    }
   ],
   "source": [
    "for index in range(3):\n",
    "    print(index)"
   ]
  },
  {
   "cell_type": "code",
   "execution_count": 4,
   "id": "9be549f3-503c-4a5e-8526-96788ec29dc0",
   "metadata": {},
   "outputs": [],
   "source": [
    "name = 'aidan'"
   ]
  },
  {
   "cell_type": "code",
   "execution_count": 5,
   "id": "28bcded8-b492-44f0-a35f-77fb14f87001",
   "metadata": {},
   "outputs": [
    {
     "ename": "TypeError",
     "evalue": "'str' object does not support item assignment",
     "output_type": "error",
     "traceback": [
      "\u001b[0;31m---------------------------------------------------------------------------\u001b[0m",
      "\u001b[0;31mTypeError\u001b[0m                                 Traceback (most recent call last)",
      "Cell \u001b[0;32mIn[5], line 1\u001b[0m\n\u001b[0;32m----> 1\u001b[0m name[\u001b[38;5;241m0\u001b[39m] \u001b[38;5;241m=\u001b[39m \u001b[38;5;124m'\u001b[39m\u001b[38;5;124mA\u001b[39m\u001b[38;5;124m'\u001b[39m\n",
      "\u001b[0;31mTypeError\u001b[0m: 'str' object does not support item assignment"
     ]
    }
   ],
   "source": [
    "name[0] = 'A'"
   ]
  },
  {
   "cell_type": "code",
   "execution_count": 6,
   "id": "1fad399a-eb44-415e-bef4-9216ea1c1271",
   "metadata": {},
   "outputs": [],
   "source": [
    "name = 'Aidan'"
   ]
  },
  {
   "cell_type": "code",
   "execution_count": 7,
   "id": "855b5475-e7af-416a-ade8-fc5a8670fef3",
   "metadata": {},
   "outputs": [],
   "source": [
    "response = ''"
   ]
  },
  {
   "cell_type": "code",
   "execution_count": 10,
   "id": "8e4b622e-f71c-4ce8-89f7-fae35a1c3906",
   "metadata": {},
   "outputs": [],
   "source": [
    "response += '?'"
   ]
  },
  {
   "cell_type": "code",
   "execution_count": 11,
   "id": "1399ee16-7e3f-41ce-8184-6a68c0ad2de7",
   "metadata": {},
   "outputs": [
    {
     "data": {
      "text/plain": [
       "'??'"
      ]
     },
     "execution_count": 11,
     "metadata": {},
     "output_type": "execute_result"
    }
   ],
   "source": [
    "response"
   ]
  },
  {
   "cell_type": "code",
   "execution_count": 14,
   "id": "a41f8737-5bca-4eff-82fd-5fe4c43bdbc3",
   "metadata": {},
   "outputs": [],
   "source": [
    "response += '-'"
   ]
  },
  {
   "cell_type": "code",
   "execution_count": 15,
   "id": "2ccad3ec-27ea-45bb-9a41-7e354c7bf5d8",
   "metadata": {},
   "outputs": [
    {
     "data": {
      "text/plain": [
       "'??--'"
      ]
     },
     "execution_count": 15,
     "metadata": {},
     "output_type": "execute_result"
    }
   ],
   "source": [
    "response"
   ]
  },
  {
   "cell_type": "code",
   "execution_count": 16,
   "id": "643574f8-e6c5-405f-b79e-5c6c911cdf4c",
   "metadata": {},
   "outputs": [],
   "source": [
    "response += 'E' # Joanna's solution"
   ]
  },
  {
   "cell_type": "code",
   "execution_count": 18,
   "id": "c541840b-85dc-4bfe-8b3f-9a9764779a26",
   "metadata": {},
   "outputs": [
    {
     "data": {
      "text/plain": [
       "'??--E'"
      ]
     },
     "execution_count": 18,
     "metadata": {},
     "output_type": "execute_result"
    }
   ],
   "source": [
    "response"
   ]
  },
  {
   "cell_type": "code",
   "execution_count": 21,
   "id": "4b7ce2e0-4ace-4b61-9cbf-f1aa14ce50b0",
   "metadata": {
    "jupyter": {
     "source_hidden": true
    }
   },
   "outputs": [],
   "source": [
    "response = '- - - - -'.split() # \"Pythonic\" way to generate a list in your code "
   ]
  },
  {
   "cell_type": "code",
   "execution_count": 23,
   "id": "2d5afc54-177f-4c5f-8013-0ddbbb25a0da",
   "metadata": {},
   "outputs": [
    {
     "data": {
      "text/plain": [
       "['-', '-', '-', '-', '-']"
      ]
     },
     "execution_count": 23,
     "metadata": {},
     "output_type": "execute_result"
    }
   ],
   "source": [
    "response"
   ]
  },
  {
   "cell_type": "code",
   "execution_count": 51,
   "id": "3b4dc344-85be-4465-9880-3a416adaae0b",
   "metadata": {},
   "outputs": [],
   "source": [
    "response[4] = guess[4]"
   ]
  },
  {
   "cell_type": "code",
   "execution_count": 52,
   "id": "cf2f2198-d0dc-4ebc-9af6-5c6f9bb5aecb",
   "metadata": {},
   "outputs": [
    {
     "data": {
      "text/plain": [
       "['-', '-', '-', '-', 'E']"
      ]
     },
     "execution_count": 52,
     "metadata": {},
     "output_type": "execute_result"
    }
   ],
   "source": [
    "response"
   ]
  },
  {
   "cell_type": "code",
   "execution_count": 24,
   "id": "3bfb32b2-ceab-4cbd-aa97-7193a3180fb0",
   "metadata": {},
   "outputs": [],
   "source": [
    "guess = 'PASTE'"
   ]
  },
  {
   "cell_type": "code",
   "execution_count": 54,
   "id": "8dd63721-5ec9-4b50-9fc2-a5993fbee680",
   "metadata": {},
   "outputs": [
    {
     "data": {
      "text/plain": [
       "['?', '-', '-', '-', 'E']"
      ]
     },
     "execution_count": 54,
     "metadata": {},
     "output_type": "execute_result"
    }
   ],
   "source": [
    "response[0] = '?'\n",
    "response"
   ]
  },
  {
   "cell_type": "code",
   "execution_count": 55,
   "id": "b43d684f-85f0-43a5-b73b-3d9236bef57e",
   "metadata": {},
   "outputs": [
    {
     "data": {
      "text/plain": [
       "'?---E'"
      ]
     },
     "execution_count": 55,
     "metadata": {},
     "output_type": "execute_result"
    }
   ],
   "source": [
    "''.join(response)"
   ]
  },
  {
   "cell_type": "code",
   "execution_count": 25,
   "id": "157eccc4-6bee-448a-8e79-375b14742d6a",
   "metadata": {},
   "outputs": [
    {
     "data": {
      "text/plain": [
       "6"
      ]
     },
     "execution_count": 25,
     "metadata": {},
     "output_type": "execute_result"
    }
   ],
   "source": [
    "len('string')"
   ]
  },
  {
   "cell_type": "code",
   "execution_count": 26,
   "id": "b255db7d-897e-44cb-8452-fac83eca28f9",
   "metadata": {},
   "outputs": [
    {
     "data": {
      "text/plain": [
       "3"
      ]
     },
     "execution_count": 26,
     "metadata": {},
     "output_type": "execute_result"
    }
   ],
   "source": [
    "len([1, 2, 3])"
   ]
  },
  {
   "cell_type": "code",
   "execution_count": 27,
   "id": "11da8ec0-d213-4a09-ab0a-d723157b497b",
   "metadata": {},
   "outputs": [
    {
     "data": {
      "text/plain": [
       "3"
      ]
     },
     "execution_count": 27,
     "metadata": {},
     "output_type": "execute_result"
    }
   ],
   "source": [
    "len((1, 2, 3))"
   ]
  },
  {
   "cell_type": "code",
   "execution_count": 28,
   "id": "e46c101e-4a2d-4738-831d-38720c5c3769",
   "metadata": {},
   "outputs": [
    {
     "data": {
      "text/plain": [
       "3"
      ]
     },
     "execution_count": 28,
     "metadata": {},
     "output_type": "execute_result"
    }
   ],
   "source": [
    "len({'tall': 12, 'grande': 16, 'venti': 20})"
   ]
  },
  {
   "cell_type": "code",
   "execution_count": 29,
   "id": "ba686678-dd8a-4761-a0c2-280481dff2a3",
   "metadata": {},
   "outputs": [
    {
     "ename": "TypeError",
     "evalue": "object of type 'float' has no len()",
     "output_type": "error",
     "traceback": [
      "\u001b[0;31m---------------------------------------------------------------------------\u001b[0m",
      "\u001b[0;31mTypeError\u001b[0m                                 Traceback (most recent call last)",
      "Cell \u001b[0;32mIn[29], line 1\u001b[0m\n\u001b[0;32m----> 1\u001b[0m \u001b[38;5;28mlen\u001b[39m(\u001b[38;5;241m4.5\u001b[39m)\n",
      "\u001b[0;31mTypeError\u001b[0m: object of type 'float' has no len()"
     ]
    }
   ],
   "source": [
    "len(4.5)"
   ]
  },
  {
   "cell_type": "code",
   "execution_count": 30,
   "id": "7690f38a-e1fd-49df-97ee-fee3f351b886",
   "metadata": {},
   "outputs": [
    {
     "ename": "TypeError",
     "evalue": "object of type 'int' has no len()",
     "output_type": "error",
     "traceback": [
      "\u001b[0;31m---------------------------------------------------------------------------\u001b[0m",
      "\u001b[0;31mTypeError\u001b[0m                                 Traceback (most recent call last)",
      "Cell \u001b[0;32mIn[30], line 1\u001b[0m\n\u001b[0;32m----> 1\u001b[0m \u001b[38;5;28mlen\u001b[39m(\u001b[38;5;241m4\u001b[39m)\n",
      "\u001b[0;31mTypeError\u001b[0m: object of type 'int' has no len()"
     ]
    }
   ],
   "source": [
    "len(4)"
   ]
  },
  {
   "cell_type": "code",
   "execution_count": 31,
   "id": "dd54f755-5fd3-4a41-ba69-282ae844504c",
   "metadata": {},
   "outputs": [
    {
     "ename": "TypeError",
     "evalue": "'int' object is not iterable",
     "output_type": "error",
     "traceback": [
      "\u001b[0;31m---------------------------------------------------------------------------\u001b[0m",
      "\u001b[0;31mTypeError\u001b[0m                                 Traceback (most recent call last)",
      "Cell \u001b[0;32mIn[31], line 1\u001b[0m\n\u001b[0;32m----> 1\u001b[0m \u001b[38;5;28msorted\u001b[39m(\u001b[38;5;241m5\u001b[39m)\n",
      "\u001b[0;31mTypeError\u001b[0m: 'int' object is not iterable"
     ]
    }
   ],
   "source": [
    "sorted(5)"
   ]
  },
  {
   "cell_type": "code",
   "execution_count": 32,
   "id": "a4712968-da41-4a36-8cf4-6f64791a318f",
   "metadata": {},
   "outputs": [
    {
     "data": {
      "text/plain": [
       "0"
      ]
     },
     "execution_count": 32,
     "metadata": {},
     "output_type": "execute_result"
    }
   ],
   "source": [
    "min(1, 2, 0)"
   ]
  },
  {
   "cell_type": "code",
   "execution_count": 33,
   "id": "965c510f-845e-4223-831a-8d0996287804",
   "metadata": {},
   "outputs": [
    {
     "data": {
      "text/plain": [
       "-3.5"
      ]
     },
     "execution_count": 33,
     "metadata": {},
     "output_type": "execute_result"
    }
   ],
   "source": [
    "min(1.5, 2.5, -3.5)"
   ]
  },
  {
   "cell_type": "code",
   "execution_count": 34,
   "id": "055b4d38-c626-4543-875d-58b719ed1873",
   "metadata": {},
   "outputs": [
    {
     "data": {
      "text/plain": [
       "'apple'"
      ]
     },
     "execution_count": 34,
     "metadata": {},
     "output_type": "execute_result"
    }
   ],
   "source": [
    "min('apple', 'fig')"
   ]
  },
  {
   "cell_type": "code",
   "execution_count": 35,
   "id": "a2c50780-4ea9-4ccd-a9ab-85e0cd449563",
   "metadata": {},
   "outputs": [
    {
     "name": "stdout",
     "output_type": "stream",
     "text": [
      "1\n"
     ]
    }
   ],
   "source": [
    "print(1)"
   ]
  },
  {
   "cell_type": "code",
   "execution_count": 36,
   "id": "2dc6f440-c51d-4bd7-a5ea-139adc4d77db",
   "metadata": {},
   "outputs": [
    {
     "name": "stdout",
     "output_type": "stream",
     "text": [
      "1.2\n"
     ]
    }
   ],
   "source": [
    "print(1.2)"
   ]
  },
  {
   "cell_type": "code",
   "execution_count": 37,
   "id": "445a7408-6546-4371-8d58-08b4605c567c",
   "metadata": {},
   "outputs": [],
   "source": [
    "import random"
   ]
  },
  {
   "cell_type": "code",
   "execution_count": 38,
   "id": "9b7deee0-4e5f-4e77-8ce3-8ce90e5c14ae",
   "metadata": {},
   "outputs": [
    {
     "name": "stdout",
     "output_type": "stream",
     "text": [
      "<module 'random' from '/opt/anaconda3/lib/python3.11/random.py'>\n"
     ]
    }
   ],
   "source": [
    "print(random)"
   ]
  },
  {
   "cell_type": "code",
   "execution_count": 39,
   "id": "26a5de43-c28d-4491-84d3-7acb7fcb6dd8",
   "metadata": {},
   "outputs": [
    {
     "name": "stdout",
     "output_type": "stream",
     "text": [
      "\n"
     ]
    }
   ],
   "source": [
    "print()"
   ]
  },
  {
   "cell_type": "code",
   "execution_count": 40,
   "id": "ce0a37de-ebbe-48a5-9bdd-656cf6dd05ce",
   "metadata": {},
   "outputs": [
    {
     "name": "stdout",
     "output_type": "stream",
     "text": [
      "1 2 3 <module 'random' from '/opt/anaconda3/lib/python3.11/random.py'>\n"
     ]
    }
   ],
   "source": [
    "print(1, 2, 3, random)"
   ]
  },
  {
   "cell_type": "code",
   "execution_count": 41,
   "id": "9599396d-e9ff-4d24-8b1f-bffae7574d66",
   "metadata": {},
   "outputs": [
    {
     "data": {
      "text/plain": [
       "['P', 'y', 't', 'h', 'o', 'n']"
      ]
     },
     "execution_count": 41,
     "metadata": {},
     "output_type": "execute_result"
    }
   ],
   "source": [
    "list('Python') # list-ify = generate"
   ]
  },
  {
   "cell_type": "code",
   "execution_count": 43,
   "id": "edca49fb-a785-4130-89d7-dadb29a26d14",
   "metadata": {},
   "outputs": [
    {
     "data": {
      "text/plain": [
       "['Python', 'is', 'fun']"
      ]
     },
     "execution_count": 43,
     "metadata": {},
     "output_type": "execute_result"
    }
   ],
   "source": [
    "'Python is fun'.split()"
   ]
  },
  {
   "cell_type": "code",
   "execution_count": 44,
   "id": "91acec86-a020-4839-b215-b645e7f1ecb0",
   "metadata": {},
   "outputs": [],
   "source": [
    "words = 'this that other'.split()"
   ]
  },
  {
   "cell_type": "code",
   "execution_count": 45,
   "id": "938b5c67-5a25-4bbe-9598-fefedd2de0fc",
   "metadata": {},
   "outputs": [
    {
     "data": {
      "text/plain": [
       "['this', 'that', 'other']"
      ]
     },
     "execution_count": 45,
     "metadata": {},
     "output_type": "execute_result"
    }
   ],
   "source": [
    "words"
   ]
  },
  {
   "cell_type": "code",
   "execution_count": 46,
   "id": "a35e6658-bad2-433f-8990-e17e81ee8b8e",
   "metadata": {},
   "outputs": [],
   "source": [
    "words.sort()"
   ]
  },
  {
   "cell_type": "code",
   "execution_count": 47,
   "id": "86608a3c-787e-4328-8fa8-f030730148f9",
   "metadata": {},
   "outputs": [
    {
     "data": {
      "text/plain": [
       "['other', 'that', 'this']"
      ]
     },
     "execution_count": 47,
     "metadata": {},
     "output_type": "execute_result"
    }
   ],
   "source": [
    "words."
   ]
  },
  {
   "cell_type": "code",
   "execution_count": 48,
   "id": "f8036782-bd9d-4a99-93cd-740ee6c6c766",
   "metadata": {},
   "outputs": [],
   "source": [
    "number = 3415"
   ]
  },
  {
   "cell_type": "code",
   "execution_count": 49,
   "id": "65728b20-d63c-4aed-8f52-2e03740fa256",
   "metadata": {},
   "outputs": [
    {
     "ename": "AttributeError",
     "evalue": "'int' object has no attribute 'sort'",
     "output_type": "error",
     "traceback": [
      "\u001b[0;31m---------------------------------------------------------------------------\u001b[0m",
      "\u001b[0;31mAttributeError\u001b[0m                            Traceback (most recent call last)",
      "Cell \u001b[0;32mIn[49], line 1\u001b[0m\n\u001b[0;32m----> 1\u001b[0m number\u001b[38;5;241m.\u001b[39msort()\n",
      "\u001b[0;31mAttributeError\u001b[0m: 'int' object has no attribute 'sort'"
     ]
    }
   ],
   "source": [
    "number.sort()"
   ]
  },
  {
   "cell_type": "code",
   "execution_count": 50,
   "id": "f91545d2-d191-4c20-9199-07a8f4087efc",
   "metadata": {},
   "outputs": [
    {
     "name": "stdout",
     "output_type": "stream",
     "text": [
      "Help on method_descriptor:\n",
      "\n",
      "sort(self, /, *, key=None, reverse=False)\n",
      "    Sort the list in ascending order and return None.\n",
      "    \n",
      "    The sort is in-place (i.e. the list itself is modified) and stable (i.e. the\n",
      "    order of two equal elements is maintained).\n",
      "    \n",
      "    If a key function is given, apply it once to each list item and sort them,\n",
      "    ascending or descending, according to their function values.\n",
      "    \n",
      "    The reverse flag can be set to sort in descending order.\n",
      "\n"
     ]
    }
   ],
   "source": [
    "help(list.sort)"
   ]
  },
  {
   "cell_type": "code",
   "execution_count": 56,
   "id": "0cdea912-8edf-462d-abd8-0cf123b8a26d",
   "metadata": {},
   "outputs": [
    {
     "data": {
      "text/plain": [
       "'APPLE'"
      ]
     },
     "execution_count": 56,
     "metadata": {},
     "output_type": "execute_result"
    }
   ],
   "source": [
    "'apple'.upper()"
   ]
  },
  {
   "cell_type": "code",
   "execution_count": 57,
   "id": "835775a7-a748-407c-af89-4e6134a52f0e",
   "metadata": {},
   "outputs": [
    {
     "data": {
      "text/plain": [
       "'12345'"
      ]
     },
     "execution_count": 57,
     "metadata": {},
     "output_type": "execute_result"
    }
   ],
   "source": [
    "'12345'.upper()"
   ]
  },
  {
   "cell_type": "code",
   "execution_count": 58,
   "id": "2c843156-2df2-4d17-9c1b-863cb9cecec8",
   "metadata": {},
   "outputs": [],
   "source": [
    "num1 = 3\n",
    "num2 = 5"
   ]
  },
  {
   "cell_type": "code",
   "execution_count": 61,
   "id": "b2e62011-e08e-4e17-a139-7ec7050f7a67",
   "metadata": {},
   "outputs": [
    {
     "data": {
      "text/plain": [
       "'3 + 5 = 8'"
      ]
     },
     "execution_count": 61,
     "metadata": {},
     "output_type": "execute_result"
    }
   ],
   "source": [
    "f'{num1} + {num2} = {num1 + num2}'"
   ]
  },
  {
   "cell_type": "code",
   "execution_count": 62,
   "id": "5e2b9895-58a8-4b8a-aa0c-191e59c4cdb4",
   "metadata": {},
   "outputs": [
    {
     "data": {
      "text/plain": [
       "'5! = 120'"
      ]
     },
     "execution_count": 62,
     "metadata": {},
     "output_type": "execute_result"
    }
   ],
   "source": [
    "import math\n",
    "n = 5\n",
    "f'{n}! = {math.factorial(n)}'"
   ]
  },
  {
   "cell_type": "code",
   "execution_count": 73,
   "id": "fa087c22-1aa7-43b5-b4ff-806ab80bb826",
   "metadata": {},
   "outputs": [],
   "source": [
    "fruits = 'apple fig pear'.split()"
   ]
  },
  {
   "cell_type": "code",
   "execution_count": 74,
   "id": "9d770edf-e33d-4dc4-b0e8-c065ef43638f",
   "metadata": {},
   "outputs": [
    {
     "name": "stdout",
     "output_type": "stream",
     "text": [
      "apple\n",
      "fig\n",
      "pear\n"
     ]
    }
   ],
   "source": [
    "for fruit in fruits:\n",
    "    print(fruit)"
   ]
  },
  {
   "cell_type": "code",
   "execution_count": 82,
   "id": "e8fc02be-31f5-40ca-8dcd-e284b2d64586",
   "metadata": {},
   "outputs": [
    {
     "name": "stdout",
     "output_type": "stream",
     "text": [
      "0 apple\n",
      "1 fig\n",
      "2 pear\n"
     ]
    }
   ],
   "source": [
    "for index, fruit in enumerate(fruits):\n",
    "    print(index, fruit)"
   ]
  },
  {
   "cell_type": "code",
   "execution_count": 75,
   "id": "dcf32b99-5253-4a7a-8add-fb8633f4b5f4",
   "metadata": {},
   "outputs": [],
   "source": [
    "def f():\n",
    "    return 1, 2"
   ]
  },
  {
   "cell_type": "code",
   "execution_count": 76,
   "id": "f31574cc-e64e-4c13-8f34-bf1c10b99608",
   "metadata": {},
   "outputs": [
    {
     "data": {
      "text/plain": [
       "(1, 2)"
      ]
     },
     "execution_count": 76,
     "metadata": {},
     "output_type": "execute_result"
    }
   ],
   "source": [
    "f()"
   ]
  },
  {
   "cell_type": "code",
   "execution_count": 77,
   "id": "a3f25938-9a5f-4e82-bcef-82fa526538cc",
   "metadata": {},
   "outputs": [],
   "source": [
    "one, two = f()"
   ]
  },
  {
   "cell_type": "code",
   "execution_count": 78,
   "id": "6d16f93f-efaa-48fc-9aa6-3aff542570ba",
   "metadata": {},
   "outputs": [
    {
     "data": {
      "text/plain": [
       "1"
      ]
     },
     "execution_count": 78,
     "metadata": {},
     "output_type": "execute_result"
    }
   ],
   "source": [
    "one"
   ]
  },
  {
   "cell_type": "code",
   "execution_count": 79,
   "id": "d73d5e1f-f12d-453e-80f4-27dd564129fb",
   "metadata": {},
   "outputs": [
    {
     "data": {
      "text/plain": [
       "2"
      ]
     },
     "execution_count": 79,
     "metadata": {},
     "output_type": "execute_result"
    }
   ],
   "source": [
    "two"
   ]
  },
  {
   "cell_type": "code",
   "execution_count": 100,
   "id": "efc525f2-ede2-4d6b-b510-4102904eb920",
   "metadata": {},
   "outputs": [],
   "source": [
    "import random"
   ]
  },
  {
   "cell_type": "code",
   "execution_count": 101,
   "id": "22cffc2e-27b8-46f6-83e5-a037fa9df0ba",
   "metadata": {},
   "outputs": [
    {
     "name": "stdout",
     "output_type": "stream",
     "text": [
      "<module 'random' from '/opt/anaconda3/lib/python3.11/random.py'>\n"
     ]
    }
   ],
   "source": [
    "print(random)"
   ]
  },
  {
   "cell_type": "code",
   "execution_count": 102,
   "id": "c4f4dcb6-c700-4e82-b8b5-bf968b040802",
   "metadata": {},
   "outputs": [
    {
     "data": {
      "text/plain": [
       "['BPF',\n",
       " 'LOG4',\n",
       " 'NV_MAGICCONST',\n",
       " 'RECIP_BPF',\n",
       " 'Random',\n",
       " 'SG_MAGICCONST',\n",
       " 'SystemRandom',\n",
       " 'TWOPI',\n",
       " '_ONE',\n",
       " '_Sequence',\n",
       " '_Set',\n",
       " '__all__',\n",
       " '__builtins__',\n",
       " '__cached__',\n",
       " '__doc__',\n",
       " '__file__',\n",
       " '__loader__',\n",
       " '__name__',\n",
       " '__package__',\n",
       " '__spec__',\n",
       " '_accumulate',\n",
       " '_acos',\n",
       " '_bisect',\n",
       " '_ceil',\n",
       " '_cos',\n",
       " '_e',\n",
       " '_exp',\n",
       " '_floor',\n",
       " '_index',\n",
       " '_inst',\n",
       " '_isfinite',\n",
       " '_log',\n",
       " '_os',\n",
       " '_pi',\n",
       " '_random',\n",
       " '_repeat',\n",
       " '_sha512',\n",
       " '_sin',\n",
       " '_sqrt',\n",
       " '_test',\n",
       " '_test_generator',\n",
       " '_urandom',\n",
       " '_warn',\n",
       " 'betavariate',\n",
       " 'choice',\n",
       " 'choices',\n",
       " 'expovariate',\n",
       " 'gammavariate',\n",
       " 'gauss',\n",
       " 'getrandbits',\n",
       " 'getstate',\n",
       " 'lognormvariate',\n",
       " 'normalvariate',\n",
       " 'paretovariate',\n",
       " 'randbytes',\n",
       " 'randint',\n",
       " 'random',\n",
       " 'randrange',\n",
       " 'sample',\n",
       " 'seed',\n",
       " 'setstate',\n",
       " 'shuffle',\n",
       " 'triangular',\n",
       " 'uniform',\n",
       " 'vonmisesvariate',\n",
       " 'weibullvariate']"
      ]
     },
     "execution_count": 102,
     "metadata": {},
     "output_type": "execute_result"
    }
   ],
   "source": [
    "dir(random)"
   ]
  },
  {
   "cell_type": "code",
   "execution_count": 103,
   "id": "a3823b4b-3a0f-4603-b256-cce350be5dbd",
   "metadata": {},
   "outputs": [
    {
     "name": "stdout",
     "output_type": "stream",
     "text": [
      "/opt/anaconda3/lib/python3.11/random.py\n"
     ]
    }
   ],
   "source": [
    "print(random.__file__)"
   ]
  },
  {
   "cell_type": "code",
   "execution_count": 104,
   "id": "d7b74bb5-ad1a-4c06-94b7-d8e0f9eec7c0",
   "metadata": {},
   "outputs": [],
   "source": [
    "# %load /opt/anaconda3/lib/python3.11/random.py\n",
    "\"\"\"Random variable generators.\n",
    "\n",
    "    bytes\n",
    "    -----\n",
    "           uniform bytes (values between 0 and 255)\n",
    "\n",
    "    integers\n",
    "    --------\n",
    "           uniform within range\n",
    "\n",
    "    sequences\n",
    "    ---------\n",
    "           pick random element\n",
    "           pick random sample\n",
    "           pick weighted random sample\n",
    "           generate random permutation\n",
    "\n",
    "    distributions on the real line:\n",
    "    ------------------------------\n",
    "           uniform\n",
    "           triangular\n",
    "           normal (Gaussian)\n",
    "           lognormal\n",
    "           negative exponential\n",
    "           gamma\n",
    "           beta\n",
    "           pareto\n",
    "           Weibull\n",
    "\n",
    "    distributions on the circle (angles 0 to 2pi)\n",
    "    ---------------------------------------------\n",
    "           circular uniform\n",
    "           von Mises\n",
    "\n",
    "General notes on the underlying Mersenne Twister core generator:\n",
    "\n",
    "* The period is 2**19937-1.\n",
    "* It is one of the most extensively tested generators in existence.\n",
    "* The random() method is implemented in C, executes in a single Python step,\n",
    "  and is, therefore, threadsafe.\n",
    "\n",
    "\"\"\"\n",
    "\n",
    "# Translated by Guido van Rossum from C source provided by\n",
    "# Adrian Baddeley.  Adapted by Raymond Hettinger for use with\n",
    "# the Mersenne Twister  and os.urandom() core generators.\n",
    "\n",
    "from warnings import warn as _warn\n",
    "from math import log as _log, exp as _exp, pi as _pi, e as _e, ceil as _ceil\n",
    "from math import sqrt as _sqrt, acos as _acos, cos as _cos, sin as _sin\n",
    "from math import tau as TWOPI, floor as _floor, isfinite as _isfinite\n",
    "from os import urandom as _urandom\n",
    "from _collections_abc import Set as _Set, Sequence as _Sequence\n",
    "from operator import index as _index\n",
    "from itertools import accumulate as _accumulate, repeat as _repeat\n",
    "from bisect import bisect as _bisect\n",
    "import os as _os\n",
    "import _random\n",
    "\n",
    "try:\n",
    "    # hashlib is pretty heavy to load, try lean internal module first\n",
    "    from _sha512 import sha512 as _sha512\n",
    "except ImportError:\n",
    "    # fallback to official implementation\n",
    "    from hashlib import sha512 as _sha512\n",
    "\n",
    "__all__ = [\n",
    "    \"Random\",\n",
    "    \"SystemRandom\",\n",
    "    \"betavariate\",\n",
    "    \"choice\",\n",
    "    \"choices\",\n",
    "    \"expovariate\",\n",
    "    \"gammavariate\",\n",
    "    \"gauss\",\n",
    "    \"getrandbits\",\n",
    "    \"getstate\",\n",
    "    \"lognormvariate\",\n",
    "    \"normalvariate\",\n",
    "    \"paretovariate\",\n",
    "    \"randbytes\",\n",
    "    \"randint\",\n",
    "    \"random\",\n",
    "    \"randrange\",\n",
    "    \"sample\",\n",
    "    \"seed\",\n",
    "    \"setstate\",\n",
    "    \"shuffle\",\n",
    "    \"triangular\",\n",
    "    \"uniform\",\n",
    "    \"vonmisesvariate\",\n",
    "    \"weibullvariate\",\n",
    "]\n",
    "\n",
    "NV_MAGICCONST = 4 * _exp(-0.5) / _sqrt(2.0)\n",
    "LOG4 = _log(4.0)\n",
    "SG_MAGICCONST = 1.0 + _log(4.5)\n",
    "BPF = 53        # Number of bits in a float\n",
    "RECIP_BPF = 2 ** -BPF\n",
    "_ONE = 1\n",
    "\n",
    "\n",
    "class Random(_random.Random):\n",
    "    \"\"\"Random number generator base class used by bound module functions.\n",
    "\n",
    "    Used to instantiate instances of Random to get generators that don't\n",
    "    share state.\n",
    "\n",
    "    Class Random can also be subclassed if you want to use a different basic\n",
    "    generator of your own devising: in that case, override the following\n",
    "    methods:  random(), seed(), getstate(), and setstate().\n",
    "    Optionally, implement a getrandbits() method so that randrange()\n",
    "    can cover arbitrarily large ranges.\n",
    "\n",
    "    \"\"\"\n",
    "\n",
    "    VERSION = 3     # used by getstate/setstate\n",
    "\n",
    "    def __init__(self, x=None):\n",
    "        \"\"\"Initialize an instance.\n",
    "\n",
    "        Optional argument x controls seeding, as for Random.seed().\n",
    "        \"\"\"\n",
    "\n",
    "        self.seed(x)\n",
    "        self.gauss_next = None\n",
    "\n",
    "    def seed(self, a=None, version=2):\n",
    "        \"\"\"Initialize internal state from a seed.\n",
    "\n",
    "        The only supported seed types are None, int, float,\n",
    "        str, bytes, and bytearray.\n",
    "\n",
    "        None or no argument seeds from current time or from an operating\n",
    "        system specific randomness source if available.\n",
    "\n",
    "        If *a* is an int, all bits are used.\n",
    "\n",
    "        For version 2 (the default), all of the bits are used if *a* is a str,\n",
    "        bytes, or bytearray.  For version 1 (provided for reproducing random\n",
    "        sequences from older versions of Python), the algorithm for str and\n",
    "        bytes generates a narrower range of seeds.\n",
    "\n",
    "        \"\"\"\n",
    "\n",
    "        if version == 1 and isinstance(a, (str, bytes)):\n",
    "            a = a.decode('latin-1') if isinstance(a, bytes) else a\n",
    "            x = ord(a[0]) << 7 if a else 0\n",
    "            for c in map(ord, a):\n",
    "                x = ((1000003 * x) ^ c) & 0xFFFFFFFFFFFFFFFF\n",
    "            x ^= len(a)\n",
    "            a = -2 if x == -1 else x\n",
    "\n",
    "        elif version == 2 and isinstance(a, (str, bytes, bytearray)):\n",
    "            if isinstance(a, str):\n",
    "                a = a.encode()\n",
    "            a = int.from_bytes(a + _sha512(a).digest())\n",
    "\n",
    "        elif not isinstance(a, (type(None), int, float, str, bytes, bytearray)):\n",
    "            raise TypeError('The only supported seed types are: None,\\n'\n",
    "                            'int, float, str, bytes, and bytearray.')\n",
    "\n",
    "        super().seed(a)\n",
    "        self.gauss_next = None\n",
    "\n",
    "    def getstate(self):\n",
    "        \"\"\"Return internal state; can be passed to setstate() later.\"\"\"\n",
    "        return self.VERSION, super().getstate(), self.gauss_next\n",
    "\n",
    "    def setstate(self, state):\n",
    "        \"\"\"Restore internal state from object returned by getstate().\"\"\"\n",
    "        version = state[0]\n",
    "        if version == 3:\n",
    "            version, internalstate, self.gauss_next = state\n",
    "            super().setstate(internalstate)\n",
    "        elif version == 2:\n",
    "            version, internalstate, self.gauss_next = state\n",
    "            # In version 2, the state was saved as signed ints, which causes\n",
    "            #   inconsistencies between 32/64-bit systems. The state is\n",
    "            #   really unsigned 32-bit ints, so we convert negative ints from\n",
    "            #   version 2 to positive longs for version 3.\n",
    "            try:\n",
    "                internalstate = tuple(x % (2 ** 32) for x in internalstate)\n",
    "            except ValueError as e:\n",
    "                raise TypeError from e\n",
    "            super().setstate(internalstate)\n",
    "        else:\n",
    "            raise ValueError(\"state with version %s passed to \"\n",
    "                             \"Random.setstate() of version %s\" %\n",
    "                             (version, self.VERSION))\n",
    "\n",
    "\n",
    "    ## -------------------------------------------------------\n",
    "    ## ---- Methods below this point do not need to be overridden or extended\n",
    "    ## ---- when subclassing for the purpose of using a different core generator.\n",
    "\n",
    "\n",
    "    ## -------------------- pickle support  -------------------\n",
    "\n",
    "    # Issue 17489: Since __reduce__ was defined to fix #759889 this is no\n",
    "    # longer called; we leave it here because it has been here since random was\n",
    "    # rewritten back in 2001 and why risk breaking something.\n",
    "    def __getstate__(self):  # for pickle\n",
    "        return self.getstate()\n",
    "\n",
    "    def __setstate__(self, state):  # for pickle\n",
    "        self.setstate(state)\n",
    "\n",
    "    def __reduce__(self):\n",
    "        return self.__class__, (), self.getstate()\n",
    "\n",
    "\n",
    "    ## ---- internal support method for evenly distributed integers ----\n",
    "\n",
    "    def __init_subclass__(cls, /, **kwargs):\n",
    "        \"\"\"Control how subclasses generate random integers.\n",
    "\n",
    "        The algorithm a subclass can use depends on the random() and/or\n",
    "        getrandbits() implementation available to it and determines\n",
    "        whether it can generate random integers from arbitrarily large\n",
    "        ranges.\n",
    "        \"\"\"\n",
    "\n",
    "        for c in cls.__mro__:\n",
    "            if '_randbelow' in c.__dict__:\n",
    "                # just inherit it\n",
    "                break\n",
    "            if 'getrandbits' in c.__dict__:\n",
    "                cls._randbelow = cls._randbelow_with_getrandbits\n",
    "                break\n",
    "            if 'random' in c.__dict__:\n",
    "                cls._randbelow = cls._randbelow_without_getrandbits\n",
    "                break\n",
    "\n",
    "    def _randbelow_with_getrandbits(self, n):\n",
    "        \"Return a random int in the range [0,n).  Defined for n > 0.\"\n",
    "\n",
    "        getrandbits = self.getrandbits\n",
    "        k = n.bit_length()  # don't use (n-1) here because n can be 1\n",
    "        r = getrandbits(k)  # 0 <= r < 2**k\n",
    "        while r >= n:\n",
    "            r = getrandbits(k)\n",
    "        return r\n",
    "\n",
    "    def _randbelow_without_getrandbits(self, n, maxsize=1<<BPF):\n",
    "        \"\"\"Return a random int in the range [0,n).  Defined for n > 0.\n",
    "\n",
    "        The implementation does not use getrandbits, but only random.\n",
    "        \"\"\"\n",
    "\n",
    "        random = self.random\n",
    "        if n >= maxsize:\n",
    "            _warn(\"Underlying random() generator does not supply \\n\"\n",
    "                \"enough bits to choose from a population range this large.\\n\"\n",
    "                \"To remove the range limitation, add a getrandbits() method.\")\n",
    "            return _floor(random() * n)\n",
    "        rem = maxsize % n\n",
    "        limit = (maxsize - rem) / maxsize   # int(limit * maxsize) % n == 0\n",
    "        r = random()\n",
    "        while r >= limit:\n",
    "            r = random()\n",
    "        return _floor(r * maxsize) % n\n",
    "\n",
    "    _randbelow = _randbelow_with_getrandbits\n",
    "\n",
    "\n",
    "    ## --------------------------------------------------------\n",
    "    ## ---- Methods below this point generate custom distributions\n",
    "    ## ---- based on the methods defined above.  They do not\n",
    "    ## ---- directly touch the underlying generator and only\n",
    "    ## ---- access randomness through the methods:  random(),\n",
    "    ## ---- getrandbits(), or _randbelow().\n",
    "\n",
    "\n",
    "    ## -------------------- bytes methods ---------------------\n",
    "\n",
    "    def randbytes(self, n):\n",
    "        \"\"\"Generate n random bytes.\"\"\"\n",
    "        return self.getrandbits(n * 8).to_bytes(n, 'little')\n",
    "\n",
    "\n",
    "    ## -------------------- integer methods  -------------------\n",
    "\n",
    "    def randrange(self, start, stop=None, step=_ONE):\n",
    "        \"\"\"Choose a random item from range(stop) or range(start, stop[, step]).\n",
    "\n",
    "        Roughly equivalent to ``choice(range(start, stop, step))`` but\n",
    "        supports arbitrarily large ranges and is optimized for common cases.\n",
    "\n",
    "        \"\"\"\n",
    "\n",
    "        # This code is a bit messy to make it fast for the\n",
    "        # common case while still doing adequate error checking.\n",
    "        try:\n",
    "            istart = _index(start)\n",
    "        except TypeError:\n",
    "            istart = int(start)\n",
    "            if istart != start:\n",
    "                _warn('randrange() will raise TypeError in the future',\n",
    "                      DeprecationWarning, 2)\n",
    "                raise ValueError(\"non-integer arg 1 for randrange()\")\n",
    "            _warn('non-integer arguments to randrange() have been deprecated '\n",
    "                  'since Python 3.10 and will be removed in a subsequent '\n",
    "                  'version',\n",
    "                  DeprecationWarning, 2)\n",
    "        if stop is None:\n",
    "            # We don't check for \"step != 1\" because it hasn't been\n",
    "            # type checked and converted to an integer yet.\n",
    "            if step is not _ONE:\n",
    "                raise TypeError('Missing a non-None stop argument')\n",
    "            if istart > 0:\n",
    "                return self._randbelow(istart)\n",
    "            raise ValueError(\"empty range for randrange()\")\n",
    "\n",
    "        # stop argument supplied.\n",
    "        try:\n",
    "            istop = _index(stop)\n",
    "        except TypeError:\n",
    "            istop = int(stop)\n",
    "            if istop != stop:\n",
    "                _warn('randrange() will raise TypeError in the future',\n",
    "                      DeprecationWarning, 2)\n",
    "                raise ValueError(\"non-integer stop for randrange()\")\n",
    "            _warn('non-integer arguments to randrange() have been deprecated '\n",
    "                  'since Python 3.10 and will be removed in a subsequent '\n",
    "                  'version',\n",
    "                  DeprecationWarning, 2)\n",
    "        width = istop - istart\n",
    "        try:\n",
    "            istep = _index(step)\n",
    "        except TypeError:\n",
    "            istep = int(step)\n",
    "            if istep != step:\n",
    "                _warn('randrange() will raise TypeError in the future',\n",
    "                      DeprecationWarning, 2)\n",
    "                raise ValueError(\"non-integer step for randrange()\")\n",
    "            _warn('non-integer arguments to randrange() have been deprecated '\n",
    "                  'since Python 3.10 and will be removed in a subsequent '\n",
    "                  'version',\n",
    "                  DeprecationWarning, 2)\n",
    "        # Fast path.\n",
    "        if istep == 1:\n",
    "            if width > 0:\n",
    "                return istart + self._randbelow(width)\n",
    "            raise ValueError(\"empty range for randrange() (%d, %d, %d)\" % (istart, istop, width))\n",
    "\n",
    "        # Non-unit step argument supplied.\n",
    "        if istep > 0:\n",
    "            n = (width + istep - 1) // istep\n",
    "        elif istep < 0:\n",
    "            n = (width + istep + 1) // istep\n",
    "        else:\n",
    "            raise ValueError(\"zero step for randrange()\")\n",
    "        if n <= 0:\n",
    "            raise ValueError(\"empty range for randrange()\")\n",
    "        return istart + istep * self._randbelow(n)\n",
    "\n",
    "    def randint(self, a, b):\n",
    "        \"\"\"Return random integer in range [a, b], including both end points.\n",
    "        \"\"\"\n",
    "\n",
    "        return self.randrange(a, b+1)\n",
    "\n",
    "\n",
    "    ## -------------------- sequence methods  -------------------\n",
    "\n",
    "    def choice(self, seq):\n",
    "        \"\"\"Choose a random element from a non-empty sequence.\"\"\"\n",
    "\n",
    "        # As an accommodation for NumPy, we don't use \"if not seq\"\n",
    "        # because bool(numpy.array()) raises a ValueError.\n",
    "        if not len(seq):\n",
    "            raise IndexError('Cannot choose from an empty sequence')\n",
    "        return seq[self._randbelow(len(seq))]\n",
    "\n",
    "    def shuffle(self, x):\n",
    "        \"\"\"Shuffle list x in place, and return None.\"\"\"\n",
    "\n",
    "        randbelow = self._randbelow\n",
    "        for i in reversed(range(1, len(x))):\n",
    "            # pick an element in x[:i+1] with which to exchange x[i]\n",
    "            j = randbelow(i + 1)\n",
    "            x[i], x[j] = x[j], x[i]\n",
    "\n",
    "    def sample(self, population, k, *, counts=None):\n",
    "        \"\"\"Chooses k unique random elements from a population sequence.\n",
    "\n",
    "        Returns a new list containing elements from the population while\n",
    "        leaving the original population unchanged.  The resulting list is\n",
    "        in selection order so that all sub-slices will also be valid random\n",
    "        samples.  This allows raffle winners (the sample) to be partitioned\n",
    "        into grand prize and second place winners (the subslices).\n",
    "\n",
    "        Members of the population need not be hashable or unique.  If the\n",
    "        population contains repeats, then each occurrence is a possible\n",
    "        selection in the sample.\n",
    "\n",
    "        Repeated elements can be specified one at a time or with the optional\n",
    "        counts parameter.  For example:\n",
    "\n",
    "            sample(['red', 'blue'], counts=[4, 2], k=5)\n",
    "\n",
    "        is equivalent to:\n",
    "\n",
    "            sample(['red', 'red', 'red', 'red', 'blue', 'blue'], k=5)\n",
    "\n",
    "        To choose a sample from a range of integers, use range() for the\n",
    "        population argument.  This is especially fast and space efficient\n",
    "        for sampling from a large population:\n",
    "\n",
    "            sample(range(10000000), 60)\n",
    "\n",
    "        \"\"\"\n",
    "\n",
    "        # Sampling without replacement entails tracking either potential\n",
    "        # selections (the pool) in a list or previous selections in a set.\n",
    "\n",
    "        # When the number of selections is small compared to the\n",
    "        # population, then tracking selections is efficient, requiring\n",
    "        # only a small set and an occasional reselection.  For\n",
    "        # a larger number of selections, the pool tracking method is\n",
    "        # preferred since the list takes less space than the\n",
    "        # set and it doesn't suffer from frequent reselections.\n",
    "\n",
    "        # The number of calls to _randbelow() is kept at or near k, the\n",
    "        # theoretical minimum.  This is important because running time\n",
    "        # is dominated by _randbelow() and because it extracts the\n",
    "        # least entropy from the underlying random number generators.\n",
    "\n",
    "        # Memory requirements are kept to the smaller of a k-length\n",
    "        # set or an n-length list.\n",
    "\n",
    "        # There are other sampling algorithms that do not require\n",
    "        # auxiliary memory, but they were rejected because they made\n",
    "        # too many calls to _randbelow(), making them slower and\n",
    "        # causing them to eat more entropy than necessary.\n",
    "\n",
    "        if not isinstance(population, _Sequence):\n",
    "            raise TypeError(\"Population must be a sequence.  \"\n",
    "                            \"For dicts or sets, use sorted(d).\")\n",
    "        n = len(population)\n",
    "        if counts is not None:\n",
    "            cum_counts = list(_accumulate(counts))\n",
    "            if len(cum_counts) != n:\n",
    "                raise ValueError('The number of counts does not match the population')\n",
    "            total = cum_counts.pop()\n",
    "            if not isinstance(total, int):\n",
    "                raise TypeError('Counts must be integers')\n",
    "            if total <= 0:\n",
    "                raise ValueError('Total of counts must be greater than zero')\n",
    "            selections = self.sample(range(total), k=k)\n",
    "            bisect = _bisect\n",
    "            return [population[bisect(cum_counts, s)] for s in selections]\n",
    "        randbelow = self._randbelow\n",
    "        if not 0 <= k <= n:\n",
    "            raise ValueError(\"Sample larger than population or is negative\")\n",
    "        result = [None] * k\n",
    "        setsize = 21        # size of a small set minus size of an empty list\n",
    "        if k > 5:\n",
    "            setsize += 4 ** _ceil(_log(k * 3, 4))  # table size for big sets\n",
    "        if n <= setsize:\n",
    "            # An n-length list is smaller than a k-length set.\n",
    "            # Invariant:  non-selected at pool[0 : n-i]\n",
    "            pool = list(population)\n",
    "            for i in range(k):\n",
    "                j = randbelow(n - i)\n",
    "                result[i] = pool[j]\n",
    "                pool[j] = pool[n - i - 1]  # move non-selected item into vacancy\n",
    "        else:\n",
    "            selected = set()\n",
    "            selected_add = selected.add\n",
    "            for i in range(k):\n",
    "                j = randbelow(n)\n",
    "                while j in selected:\n",
    "                    j = randbelow(n)\n",
    "                selected_add(j)\n",
    "                result[i] = population[j]\n",
    "        return result\n",
    "\n",
    "    def choices(self, population, weights=None, *, cum_weights=None, k=1):\n",
    "        \"\"\"Return a k sized list of population elements chosen with replacement.\n",
    "\n",
    "        If the relative weights or cumulative weights are not specified,\n",
    "        the selections are made with equal probability.\n",
    "\n",
    "        \"\"\"\n",
    "        random = self.random\n",
    "        n = len(population)\n",
    "        if cum_weights is None:\n",
    "            if weights is None:\n",
    "                floor = _floor\n",
    "                n += 0.0    # convert to float for a small speed improvement\n",
    "                return [population[floor(random() * n)] for i in _repeat(None, k)]\n",
    "            try:\n",
    "                cum_weights = list(_accumulate(weights))\n",
    "            except TypeError:\n",
    "                if not isinstance(weights, int):\n",
    "                    raise\n",
    "                k = weights\n",
    "                raise TypeError(\n",
    "                    f'The number of choices must be a keyword argument: {k=}'\n",
    "                ) from None\n",
    "        elif weights is not None:\n",
    "            raise TypeError('Cannot specify both weights and cumulative weights')\n",
    "        if len(cum_weights) != n:\n",
    "            raise ValueError('The number of weights does not match the population')\n",
    "        total = cum_weights[-1] + 0.0   # convert to float\n",
    "        if total <= 0.0:\n",
    "            raise ValueError('Total of weights must be greater than zero')\n",
    "        if not _isfinite(total):\n",
    "            raise ValueError('Total of weights must be finite')\n",
    "        bisect = _bisect\n",
    "        hi = n - 1\n",
    "        return [population[bisect(cum_weights, random() * total, 0, hi)]\n",
    "                for i in _repeat(None, k)]\n",
    "\n",
    "\n",
    "    ## -------------------- real-valued distributions  -------------------\n",
    "\n",
    "    def uniform(self, a, b):\n",
    "        \"Get a random number in the range [a, b) or [a, b] depending on rounding.\"\n",
    "        return a + (b - a) * self.random()\n",
    "\n",
    "    def triangular(self, low=0.0, high=1.0, mode=None):\n",
    "        \"\"\"Triangular distribution.\n",
    "\n",
    "        Continuous distribution bounded by given lower and upper limits,\n",
    "        and having a given mode value in-between.\n",
    "\n",
    "        http://en.wikipedia.org/wiki/Triangular_distribution\n",
    "\n",
    "        \"\"\"\n",
    "        u = self.random()\n",
    "        try:\n",
    "            c = 0.5 if mode is None else (mode - low) / (high - low)\n",
    "        except ZeroDivisionError:\n",
    "            return low\n",
    "        if u > c:\n",
    "            u = 1.0 - u\n",
    "            c = 1.0 - c\n",
    "            low, high = high, low\n",
    "        return low + (high - low) * _sqrt(u * c)\n",
    "\n",
    "    def normalvariate(self, mu=0.0, sigma=1.0):\n",
    "        \"\"\"Normal distribution.\n",
    "\n",
    "        mu is the mean, and sigma is the standard deviation.\n",
    "\n",
    "        \"\"\"\n",
    "        # Uses Kinderman and Monahan method. Reference: Kinderman,\n",
    "        # A.J. and Monahan, J.F., \"Computer generation of random\n",
    "        # variables using the ratio of uniform deviates\", ACM Trans\n",
    "        # Math Software, 3, (1977), pp257-260.\n",
    "\n",
    "        random = self.random\n",
    "        while True:\n",
    "            u1 = random()\n",
    "            u2 = 1.0 - random()\n",
    "            z = NV_MAGICCONST * (u1 - 0.5) / u2\n",
    "            zz = z * z / 4.0\n",
    "            if zz <= -_log(u2):\n",
    "                break\n",
    "        return mu + z * sigma\n",
    "\n",
    "    def gauss(self, mu=0.0, sigma=1.0):\n",
    "        \"\"\"Gaussian distribution.\n",
    "\n",
    "        mu is the mean, and sigma is the standard deviation.  This is\n",
    "        slightly faster than the normalvariate() function.\n",
    "\n",
    "        Not thread-safe without a lock around calls.\n",
    "\n",
    "        \"\"\"\n",
    "        # When x and y are two variables from [0, 1), uniformly\n",
    "        # distributed, then\n",
    "        #\n",
    "        #    cos(2*pi*x)*sqrt(-2*log(1-y))\n",
    "        #    sin(2*pi*x)*sqrt(-2*log(1-y))\n",
    "        #\n",
    "        # are two *independent* variables with normal distribution\n",
    "        # (mu = 0, sigma = 1).\n",
    "        # (Lambert Meertens)\n",
    "        # (corrected version; bug discovered by Mike Miller, fixed by LM)\n",
    "\n",
    "        # Multithreading note: When two threads call this function\n",
    "        # simultaneously, it is possible that they will receive the\n",
    "        # same return value.  The window is very small though.  To\n",
    "        # avoid this, you have to use a lock around all calls.  (I\n",
    "        # didn't want to slow this down in the serial case by using a\n",
    "        # lock here.)\n",
    "\n",
    "        random = self.random\n",
    "        z = self.gauss_next\n",
    "        self.gauss_next = None\n",
    "        if z is None:\n",
    "            x2pi = random() * TWOPI\n",
    "            g2rad = _sqrt(-2.0 * _log(1.0 - random()))\n",
    "            z = _cos(x2pi) * g2rad\n",
    "            self.gauss_next = _sin(x2pi) * g2rad\n",
    "\n",
    "        return mu + z * sigma\n",
    "\n",
    "    def lognormvariate(self, mu, sigma):\n",
    "        \"\"\"Log normal distribution.\n",
    "\n",
    "        If you take the natural logarithm of this distribution, you'll get a\n",
    "        normal distribution with mean mu and standard deviation sigma.\n",
    "        mu can have any value, and sigma must be greater than zero.\n",
    "\n",
    "        \"\"\"\n",
    "        return _exp(self.normalvariate(mu, sigma))\n",
    "\n",
    "    def expovariate(self, lambd):\n",
    "        \"\"\"Exponential distribution.\n",
    "\n",
    "        lambd is 1.0 divided by the desired mean.  It should be\n",
    "        nonzero.  (The parameter would be called \"lambda\", but that is\n",
    "        a reserved word in Python.)  Returned values range from 0 to\n",
    "        positive infinity if lambd is positive, and from negative\n",
    "        infinity to 0 if lambd is negative.\n",
    "\n",
    "        \"\"\"\n",
    "        # lambd: rate lambd = 1/mean\n",
    "        # ('lambda' is a Python reserved word)\n",
    "\n",
    "        # we use 1-random() instead of random() to preclude the\n",
    "        # possibility of taking the log of zero.\n",
    "        return -_log(1.0 - self.random()) / lambd\n",
    "\n",
    "    def vonmisesvariate(self, mu, kappa):\n",
    "        \"\"\"Circular data distribution.\n",
    "\n",
    "        mu is the mean angle, expressed in radians between 0 and 2*pi, and\n",
    "        kappa is the concentration parameter, which must be greater than or\n",
    "        equal to zero.  If kappa is equal to zero, this distribution reduces\n",
    "        to a uniform random angle over the range 0 to 2*pi.\n",
    "\n",
    "        \"\"\"\n",
    "        # Based upon an algorithm published in: Fisher, N.I.,\n",
    "        # \"Statistical Analysis of Circular Data\", Cambridge\n",
    "        # University Press, 1993.\n",
    "\n",
    "        # Thanks to Magnus Kessler for a correction to the\n",
    "        # implementation of step 4.\n",
    "\n",
    "        random = self.random\n",
    "        if kappa <= 1e-6:\n",
    "            return TWOPI * random()\n",
    "\n",
    "        s = 0.5 / kappa\n",
    "        r = s + _sqrt(1.0 + s * s)\n",
    "\n",
    "        while True:\n",
    "            u1 = random()\n",
    "            z = _cos(_pi * u1)\n",
    "\n",
    "            d = z / (r + z)\n",
    "            u2 = random()\n",
    "            if u2 < 1.0 - d * d or u2 <= (1.0 - d) * _exp(d):\n",
    "                break\n",
    "\n",
    "        q = 1.0 / r\n",
    "        f = (q + z) / (1.0 + q * z)\n",
    "        u3 = random()\n",
    "        if u3 > 0.5:\n",
    "            theta = (mu + _acos(f)) % TWOPI\n",
    "        else:\n",
    "            theta = (mu - _acos(f)) % TWOPI\n",
    "\n",
    "        return theta\n",
    "\n",
    "    def gammavariate(self, alpha, beta):\n",
    "        \"\"\"Gamma distribution.  Not the gamma function!\n",
    "\n",
    "        Conditions on the parameters are alpha > 0 and beta > 0.\n",
    "\n",
    "        The probability distribution function is:\n",
    "\n",
    "                    x ** (alpha - 1) * math.exp(-x / beta)\n",
    "          pdf(x) =  --------------------------------------\n",
    "                      math.gamma(alpha) * beta ** alpha\n",
    "\n",
    "        \"\"\"\n",
    "        # alpha > 0, beta > 0, mean is alpha*beta, variance is alpha*beta**2\n",
    "\n",
    "        # Warning: a few older sources define the gamma distribution in terms\n",
    "        # of alpha > -1.0\n",
    "        if alpha <= 0.0 or beta <= 0.0:\n",
    "            raise ValueError('gammavariate: alpha and beta must be > 0.0')\n",
    "\n",
    "        random = self.random\n",
    "        if alpha > 1.0:\n",
    "\n",
    "            # Uses R.C.H. Cheng, \"The generation of Gamma\n",
    "            # variables with non-integral shape parameters\",\n",
    "            # Applied Statistics, (1977), 26, No. 1, p71-74\n",
    "\n",
    "            ainv = _sqrt(2.0 * alpha - 1.0)\n",
    "            bbb = alpha - LOG4\n",
    "            ccc = alpha + ainv\n",
    "\n",
    "            while True:\n",
    "                u1 = random()\n",
    "                if not 1e-7 < u1 < 0.9999999:\n",
    "                    continue\n",
    "                u2 = 1.0 - random()\n",
    "                v = _log(u1 / (1.0 - u1)) / ainv\n",
    "                x = alpha * _exp(v)\n",
    "                z = u1 * u1 * u2\n",
    "                r = bbb + ccc * v - x\n",
    "                if r + SG_MAGICCONST - 4.5 * z >= 0.0 or r >= _log(z):\n",
    "                    return x * beta\n",
    "\n",
    "        elif alpha == 1.0:\n",
    "            # expovariate(1/beta)\n",
    "            return -_log(1.0 - random()) * beta\n",
    "\n",
    "        else:\n",
    "            # alpha is between 0 and 1 (exclusive)\n",
    "            # Uses ALGORITHM GS of Statistical Computing - Kennedy & Gentle\n",
    "            while True:\n",
    "                u = random()\n",
    "                b = (_e + alpha) / _e\n",
    "                p = b * u\n",
    "                if p <= 1.0:\n",
    "                    x = p ** (1.0 / alpha)\n",
    "                else:\n",
    "                    x = -_log((b - p) / alpha)\n",
    "                u1 = random()\n",
    "                if p > 1.0:\n",
    "                    if u1 <= x ** (alpha - 1.0):\n",
    "                        break\n",
    "                elif u1 <= _exp(-x):\n",
    "                    break\n",
    "            return x * beta\n",
    "\n",
    "    def betavariate(self, alpha, beta):\n",
    "        \"\"\"Beta distribution.\n",
    "\n",
    "        Conditions on the parameters are alpha > 0 and beta > 0.\n",
    "        Returned values range between 0 and 1.\n",
    "\n",
    "        \"\"\"\n",
    "        ## See\n",
    "        ## http://mail.python.org/pipermail/python-bugs-list/2001-January/003752.html\n",
    "        ## for Ivan Frohne's insightful analysis of why the original implementation:\n",
    "        ##\n",
    "        ##    def betavariate(self, alpha, beta):\n",
    "        ##        # Discrete Event Simulation in C, pp 87-88.\n",
    "        ##\n",
    "        ##        y = self.expovariate(alpha)\n",
    "        ##        z = self.expovariate(1.0/beta)\n",
    "        ##        return z/(y+z)\n",
    "        ##\n",
    "        ## was dead wrong, and how it probably got that way.\n",
    "\n",
    "        # This version due to Janne Sinkkonen, and matches all the std\n",
    "        # texts (e.g., Knuth Vol 2 Ed 3 pg 134 \"the beta distribution\").\n",
    "        y = self.gammavariate(alpha, 1.0)\n",
    "        if y:\n",
    "            return y / (y + self.gammavariate(beta, 1.0))\n",
    "        return 0.0\n",
    "\n",
    "    def paretovariate(self, alpha):\n",
    "        \"\"\"Pareto distribution.  alpha is the shape parameter.\"\"\"\n",
    "        # Jain, pg. 495\n",
    "\n",
    "        u = 1.0 - self.random()\n",
    "        return u ** (-1.0 / alpha)\n",
    "\n",
    "    def weibullvariate(self, alpha, beta):\n",
    "        \"\"\"Weibull distribution.\n",
    "\n",
    "        alpha is the scale parameter and beta is the shape parameter.\n",
    "\n",
    "        \"\"\"\n",
    "        # Jain, pg. 499; bug fix courtesy Bill Arms\n",
    "\n",
    "        u = 1.0 - self.random()\n",
    "        return alpha * (-_log(u)) ** (1.0 / beta)\n",
    "\n",
    "\n",
    "## ------------------------------------------------------------------\n",
    "## --------------- Operating System Random Source  ------------------\n",
    "\n",
    "\n",
    "class SystemRandom(Random):\n",
    "    \"\"\"Alternate random number generator using sources provided\n",
    "    by the operating system (such as /dev/urandom on Unix or\n",
    "    CryptGenRandom on Windows).\n",
    "\n",
    "     Not available on all systems (see os.urandom() for details).\n",
    "\n",
    "    \"\"\"\n",
    "\n",
    "    def random(self):\n",
    "        \"\"\"Get the next random number in the range 0.0 <= X < 1.0.\"\"\"\n",
    "        return (int.from_bytes(_urandom(7)) >> 3) * RECIP_BPF\n",
    "\n",
    "    def getrandbits(self, k):\n",
    "        \"\"\"getrandbits(k) -> x.  Generates an int with k random bits.\"\"\"\n",
    "        if k < 0:\n",
    "            raise ValueError('number of bits must be non-negative')\n",
    "        numbytes = (k + 7) // 8                       # bits / 8 and rounded up\n",
    "        x = int.from_bytes(_urandom(numbytes))\n",
    "        return x >> (numbytes * 8 - k)                # trim excess bits\n",
    "\n",
    "    def randbytes(self, n):\n",
    "        \"\"\"Generate n random bytes.\"\"\"\n",
    "        # os.urandom(n) fails with ValueError for n < 0\n",
    "        # and returns an empty bytes string for n == 0.\n",
    "        return _urandom(n)\n",
    "\n",
    "    def seed(self, *args, **kwds):\n",
    "        \"Stub method.  Not used for a system random number generator.\"\n",
    "        return None\n",
    "\n",
    "    def _notimplemented(self, *args, **kwds):\n",
    "        \"Method should not be called for a system random number generator.\"\n",
    "        raise NotImplementedError('System entropy source does not have state.')\n",
    "    getstate = setstate = _notimplemented\n",
    "\n",
    "\n",
    "# ----------------------------------------------------------------------\n",
    "# Create one instance, seeded from current time, and export its methods\n",
    "# as module-level functions.  The functions share state across all uses\n",
    "# (both in the user's code and in the Python libraries), but that's fine\n",
    "# for most programs and is easier for the casual user than making them\n",
    "# instantiate their own Random() instance.\n",
    "\n",
    "_inst = Random()\n",
    "seed = _inst.seed\n",
    "random = _inst.random\n",
    "uniform = _inst.uniform\n",
    "triangular = _inst.triangular\n",
    "randint = _inst.randint\n",
    "choice = _inst.choice\n",
    "randrange = _inst.randrange\n",
    "sample = _inst.sample\n",
    "shuffle = _inst.shuffle\n",
    "choices = _inst.choices\n",
    "normalvariate = _inst.normalvariate\n",
    "lognormvariate = _inst.lognormvariate\n",
    "expovariate = _inst.expovariate\n",
    "vonmisesvariate = _inst.vonmisesvariate\n",
    "gammavariate = _inst.gammavariate\n",
    "gauss = _inst.gauss\n",
    "betavariate = _inst.betavariate\n",
    "paretovariate = _inst.paretovariate\n",
    "weibullvariate = _inst.weibullvariate\n",
    "getstate = _inst.getstate\n",
    "setstate = _inst.setstate\n",
    "getrandbits = _inst.getrandbits\n",
    "randbytes = _inst.randbytes\n",
    "\n",
    "\n",
    "## ------------------------------------------------------\n",
    "## ----------------- test program -----------------------\n",
    "\n",
    "def _test_generator(n, func, args):\n",
    "    from statistics import stdev, fmean as mean\n",
    "    from time import perf_counter\n",
    "\n",
    "    t0 = perf_counter()\n",
    "    data = [func(*args) for i in _repeat(None, n)]\n",
    "    t1 = perf_counter()\n",
    "\n",
    "    xbar = mean(data)\n",
    "    sigma = stdev(data, xbar)\n",
    "    low = min(data)\n",
    "    high = max(data)\n",
    "\n",
    "    print(f'{t1 - t0:.3f} sec, {n} times {func.__name__}')\n",
    "    print('avg %g, stddev %g, min %g, max %g\\n' % (xbar, sigma, low, high))\n",
    "\n",
    "\n",
    "def _test(N=2000):\n",
    "    _test_generator(N, random, ())\n",
    "    _test_generator(N, normalvariate, (0.0, 1.0))\n",
    "    _test_generator(N, lognormvariate, (0.0, 1.0))\n",
    "    _test_generator(N, vonmisesvariate, (0.0, 1.0))\n",
    "    _test_generator(N, gammavariate, (0.01, 1.0))\n",
    "    _test_generator(N, gammavariate, (0.1, 1.0))\n",
    "    _test_generator(N, gammavariate, (0.1, 2.0))\n",
    "    _test_generator(N, gammavariate, (0.5, 1.0))\n",
    "    _test_generator(N, gammavariate, (0.9, 1.0))\n",
    "    _test_generator(N, gammavariate, (1.0, 1.0))\n",
    "    _test_generator(N, gammavariate, (2.0, 1.0))\n",
    "    _test_generator(N, gammavariate, (20.0, 1.0))\n",
    "    _test_generator(N, gammavariate, (200.0, 1.0))\n",
    "    _test_generator(N, gauss, (0.0, 1.0))\n",
    "    _test_generator(N, betavariate, (3.0, 3.0))\n",
    "    _test_generator(N, triangular, (0.0, 1.0, 1.0 / 3.0))\n",
    "\n",
    "\n",
    "## ------------------------------------------------------\n",
    "## ------------------ fork support  ---------------------\n",
    "\n",
    "if hasattr(_os, \"fork\"):\n",
    "    _os.register_at_fork(after_in_child=_inst.seed)\n",
    "\n",
    "\n",
    "if __name__ == '__main__':\n",
    "    _test()\n"
   ]
  },
  {
   "cell_type": "code",
   "execution_count": 1,
   "id": "017c6f11-e05d-4bf5-9b4f-54b361ea3c1b",
   "metadata": {},
   "outputs": [
    {
     "name": "stdout",
     "output_type": "stream",
     "text": [
      "1 2 3\n"
     ]
    }
   ],
   "source": [
    "print(1, 2, 3) # built-in function ... \"procedural programming\""
   ]
  },
  {
   "cell_type": "code",
   "execution_count": 2,
   "id": "0461a43e-9de8-4eb7-8087-35ebafed1178",
   "metadata": {},
   "outputs": [],
   "source": [
    "fruits = 'apple fig pear'.split()"
   ]
  },
  {
   "cell_type": "code",
   "execution_count": 3,
   "id": "05b659a2-45a8-415a-a446-778ec5432292",
   "metadata": {},
   "outputs": [
    {
     "data": {
      "text/plain": [
       "['apple', 'fig', 'pear']"
      ]
     },
     "execution_count": 3,
     "metadata": {},
     "output_type": "execute_result"
    }
   ],
   "source": [
    "fruits"
   ]
  },
  {
   "cell_type": "code",
   "execution_count": null,
   "id": "592f77a5-1f26-4e62-ba8e-e6a4034dcb1a",
   "metadata": {},
   "outputs": [],
   "source": [
    "fruits."
   ]
  },
  {
   "cell_type": "code",
   "execution_count": 4,
   "id": "a0fdf70d-df3d-415a-8cde-628d7d44d11a",
   "metadata": {},
   "outputs": [],
   "source": [
    "name = 'Bruce Lee'"
   ]
  },
  {
   "cell_type": "code",
   "execution_count": 5,
   "id": "4f989f10-04da-44bc-9e22-7966047ab460",
   "metadata": {},
   "outputs": [
    {
     "data": {
      "text/plain": [
       "4404624624"
      ]
     },
     "execution_count": 5,
     "metadata": {},
     "output_type": "execute_result"
    }
   ],
   "source": [
    "id(name)"
   ]
  },
  {
   "cell_type": "code",
   "execution_count": 6,
   "id": "87fd642b-c894-4c94-9076-20bb9bb2b832",
   "metadata": {},
   "outputs": [],
   "source": [
    "year = 2024"
   ]
  },
  {
   "cell_type": "code",
   "execution_count": 7,
   "id": "83329271-8047-43aa-a335-e6fa9d7fee34",
   "metadata": {},
   "outputs": [
    {
     "data": {
      "text/plain": [
       "4395749936"
      ]
     },
     "execution_count": 7,
     "metadata": {},
     "output_type": "execute_result"
    }
   ],
   "source": [
    "id(year)"
   ]
  },
  {
   "cell_type": "code",
   "execution_count": 8,
   "id": "0de2c53c-83a0-46a8-a23a-a24599e28549",
   "metadata": {},
   "outputs": [],
   "source": [
    "import math"
   ]
  },
  {
   "cell_type": "code",
   "execution_count": 9,
   "id": "78df594e-7742-4da6-b702-0d9b267b7de1",
   "metadata": {},
   "outputs": [
    {
     "data": {
      "text/plain": [
       "4296898688"
      ]
     },
     "execution_count": 9,
     "metadata": {},
     "output_type": "execute_result"
    }
   ],
   "source": [
    "id(math)"
   ]
  },
  {
   "cell_type": "code",
   "execution_count": 10,
   "id": "e2b32cce-3a6a-4f61-a4b2-8917f044a07c",
   "metadata": {},
   "outputs": [
    {
     "data": {
      "text/plain": [
       "4295681312"
      ]
     },
     "execution_count": 10,
     "metadata": {},
     "output_type": "execute_result"
    }
   ],
   "source": [
    "id(print)"
   ]
  },
  {
   "cell_type": "code",
   "execution_count": 11,
   "id": "53e7118f-dfc0-46f1-b662-a883d48246d4",
   "metadata": {},
   "outputs": [
    {
     "data": {
      "text/plain": [
       "4295680112"
      ]
     },
     "execution_count": 11,
     "metadata": {},
     "output_type": "execute_result"
    }
   ],
   "source": [
    "id(id)"
   ]
  },
  {
   "cell_type": "code",
   "execution_count": 12,
   "id": "8761fc20-3515-4530-89ca-508ae270abe6",
   "metadata": {},
   "outputs": [
    {
     "data": {
      "text/plain": [
       "4320273448"
      ]
     },
     "execution_count": 12,
     "metadata": {},
     "output_type": "execute_result"
    }
   ],
   "source": [
    "id(dict)"
   ]
  },
  {
   "cell_type": "code",
   "execution_count": 13,
   "id": "41b3b700-bf3c-4e2a-b8f6-323ba1100088",
   "metadata": {},
   "outputs": [
    {
     "data": {
      "text/plain": [
       "['__add__',\n",
       " '__class__',\n",
       " '__contains__',\n",
       " '__delattr__',\n",
       " '__dir__',\n",
       " '__doc__',\n",
       " '__eq__',\n",
       " '__format__',\n",
       " '__ge__',\n",
       " '__getattribute__',\n",
       " '__getitem__',\n",
       " '__getnewargs__',\n",
       " '__getstate__',\n",
       " '__gt__',\n",
       " '__hash__',\n",
       " '__init__',\n",
       " '__init_subclass__',\n",
       " '__iter__',\n",
       " '__le__',\n",
       " '__len__',\n",
       " '__lt__',\n",
       " '__mod__',\n",
       " '__mul__',\n",
       " '__ne__',\n",
       " '__new__',\n",
       " '__reduce__',\n",
       " '__reduce_ex__',\n",
       " '__repr__',\n",
       " '__rmod__',\n",
       " '__rmul__',\n",
       " '__setattr__',\n",
       " '__sizeof__',\n",
       " '__str__',\n",
       " '__subclasshook__',\n",
       " 'capitalize',\n",
       " 'casefold',\n",
       " 'center',\n",
       " 'count',\n",
       " 'encode',\n",
       " 'endswith',\n",
       " 'expandtabs',\n",
       " 'find',\n",
       " 'format',\n",
       " 'format_map',\n",
       " 'index',\n",
       " 'isalnum',\n",
       " 'isalpha',\n",
       " 'isascii',\n",
       " 'isdecimal',\n",
       " 'isdigit',\n",
       " 'isidentifier',\n",
       " 'islower',\n",
       " 'isnumeric',\n",
       " 'isprintable',\n",
       " 'isspace',\n",
       " 'istitle',\n",
       " 'isupper',\n",
       " 'join',\n",
       " 'ljust',\n",
       " 'lower',\n",
       " 'lstrip',\n",
       " 'maketrans',\n",
       " 'partition',\n",
       " 'removeprefix',\n",
       " 'removesuffix',\n",
       " 'replace',\n",
       " 'rfind',\n",
       " 'rindex',\n",
       " 'rjust',\n",
       " 'rpartition',\n",
       " 'rsplit',\n",
       " 'rstrip',\n",
       " 'split',\n",
       " 'splitlines',\n",
       " 'startswith',\n",
       " 'strip',\n",
       " 'swapcase',\n",
       " 'title',\n",
       " 'translate',\n",
       " 'upper',\n",
       " 'zfill']"
      ]
     },
     "execution_count": 13,
     "metadata": {},
     "output_type": "execute_result"
    }
   ],
   "source": [
    "dir(name)"
   ]
  },
  {
   "cell_type": "code",
   "execution_count": 14,
   "id": "ef1377ab-5b16-462f-85c1-5efc643a1d29",
   "metadata": {},
   "outputs": [
    {
     "data": {
      "text/plain": [
       "'BRUCE LEE'"
      ]
     },
     "execution_count": 14,
     "metadata": {},
     "output_type": "execute_result"
    }
   ],
   "source": [
    "name.upper()"
   ]
  },
  {
   "cell_type": "code",
   "execution_count": 15,
   "id": "fcbed465-a0ee-4843-bc65-b16459058887",
   "metadata": {},
   "outputs": [
    {
     "data": {
      "text/plain": [
       "['__abs__',\n",
       " '__add__',\n",
       " '__and__',\n",
       " '__bool__',\n",
       " '__ceil__',\n",
       " '__class__',\n",
       " '__delattr__',\n",
       " '__dir__',\n",
       " '__divmod__',\n",
       " '__doc__',\n",
       " '__eq__',\n",
       " '__float__',\n",
       " '__floor__',\n",
       " '__floordiv__',\n",
       " '__format__',\n",
       " '__ge__',\n",
       " '__getattribute__',\n",
       " '__getnewargs__',\n",
       " '__getstate__',\n",
       " '__gt__',\n",
       " '__hash__',\n",
       " '__index__',\n",
       " '__init__',\n",
       " '__init_subclass__',\n",
       " '__int__',\n",
       " '__invert__',\n",
       " '__le__',\n",
       " '__lshift__',\n",
       " '__lt__',\n",
       " '__mod__',\n",
       " '__mul__',\n",
       " '__ne__',\n",
       " '__neg__',\n",
       " '__new__',\n",
       " '__or__',\n",
       " '__pos__',\n",
       " '__pow__',\n",
       " '__radd__',\n",
       " '__rand__',\n",
       " '__rdivmod__',\n",
       " '__reduce__',\n",
       " '__reduce_ex__',\n",
       " '__repr__',\n",
       " '__rfloordiv__',\n",
       " '__rlshift__',\n",
       " '__rmod__',\n",
       " '__rmul__',\n",
       " '__ror__',\n",
       " '__round__',\n",
       " '__rpow__',\n",
       " '__rrshift__',\n",
       " '__rshift__',\n",
       " '__rsub__',\n",
       " '__rtruediv__',\n",
       " '__rxor__',\n",
       " '__setattr__',\n",
       " '__sizeof__',\n",
       " '__str__',\n",
       " '__sub__',\n",
       " '__subclasshook__',\n",
       " '__truediv__',\n",
       " '__trunc__',\n",
       " '__xor__',\n",
       " 'as_integer_ratio',\n",
       " 'bit_count',\n",
       " 'bit_length',\n",
       " 'conjugate',\n",
       " 'denominator',\n",
       " 'from_bytes',\n",
       " 'imag',\n",
       " 'is_integer',\n",
       " 'numerator',\n",
       " 'real',\n",
       " 'to_bytes']"
      ]
     },
     "execution_count": 15,
     "metadata": {},
     "output_type": "execute_result"
    }
   ],
   "source": [
    "dir(year)"
   ]
  },
  {
   "cell_type": "code",
   "execution_count": 16,
   "id": "f586d694-d7e7-47f3-b8b5-e879082870a1",
   "metadata": {},
   "outputs": [
    {
     "data": {
      "text/plain": [
       "['__doc__',\n",
       " '__file__',\n",
       " '__loader__',\n",
       " '__name__',\n",
       " '__package__',\n",
       " '__spec__',\n",
       " 'acos',\n",
       " 'acosh',\n",
       " 'asin',\n",
       " 'asinh',\n",
       " 'atan',\n",
       " 'atan2',\n",
       " 'atanh',\n",
       " 'cbrt',\n",
       " 'ceil',\n",
       " 'comb',\n",
       " 'copysign',\n",
       " 'cos',\n",
       " 'cosh',\n",
       " 'degrees',\n",
       " 'dist',\n",
       " 'e',\n",
       " 'erf',\n",
       " 'erfc',\n",
       " 'exp',\n",
       " 'exp2',\n",
       " 'expm1',\n",
       " 'fabs',\n",
       " 'factorial',\n",
       " 'floor',\n",
       " 'fmod',\n",
       " 'frexp',\n",
       " 'fsum',\n",
       " 'gamma',\n",
       " 'gcd',\n",
       " 'hypot',\n",
       " 'inf',\n",
       " 'isclose',\n",
       " 'isfinite',\n",
       " 'isinf',\n",
       " 'isnan',\n",
       " 'isqrt',\n",
       " 'lcm',\n",
       " 'ldexp',\n",
       " 'lgamma',\n",
       " 'log',\n",
       " 'log10',\n",
       " 'log1p',\n",
       " 'log2',\n",
       " 'modf',\n",
       " 'nan',\n",
       " 'nextafter',\n",
       " 'perm',\n",
       " 'pi',\n",
       " 'pow',\n",
       " 'prod',\n",
       " 'radians',\n",
       " 'remainder',\n",
       " 'sin',\n",
       " 'sinh',\n",
       " 'sqrt',\n",
       " 'sumprod',\n",
       " 'tan',\n",
       " 'tanh',\n",
       " 'tau',\n",
       " 'trunc',\n",
       " 'ulp']"
      ]
     },
     "execution_count": 16,
     "metadata": {},
     "output_type": "execute_result"
    }
   ],
   "source": [
    "dir(math)"
   ]
  },
  {
   "cell_type": "code",
   "execution_count": 17,
   "id": "91e9509d-550f-45d1-857c-8b0615ebb648",
   "metadata": {},
   "outputs": [
    {
     "name": "stdout",
     "output_type": "stream",
     "text": [
      "Help on module math:\n",
      "\n",
      "NAME\n",
      "    math\n",
      "\n",
      "MODULE REFERENCE\n",
      "    https://docs.python.org/3.12/library/math.html\n",
      "\n",
      "    The following documentation is automatically generated from the Python\n",
      "    source files.  It may be incomplete, incorrect or include features that\n",
      "    are considered implementation detail and may vary between Python\n",
      "    implementations.  When in doubt, consult the module reference at the\n",
      "    location listed above.\n",
      "\n",
      "DESCRIPTION\n",
      "    This module provides access to the mathematical functions\n",
      "    defined by the C standard.\n",
      "\n",
      "FUNCTIONS\n",
      "    acos(x, /)\n",
      "        Return the arc cosine (measured in radians) of x.\n",
      "\n",
      "        The result is between 0 and pi.\n",
      "\n",
      "    acosh(x, /)\n",
      "        Return the inverse hyperbolic cosine of x.\n",
      "\n",
      "    asin(x, /)\n",
      "        Return the arc sine (measured in radians) of x.\n",
      "\n",
      "        The result is between -pi/2 and pi/2.\n",
      "\n",
      "    asinh(x, /)\n",
      "        Return the inverse hyperbolic sine of x.\n",
      "\n",
      "    atan(x, /)\n",
      "        Return the arc tangent (measured in radians) of x.\n",
      "\n",
      "        The result is between -pi/2 and pi/2.\n",
      "\n",
      "    atan2(y, x, /)\n",
      "        Return the arc tangent (measured in radians) of y/x.\n",
      "\n",
      "        Unlike atan(y/x), the signs of both x and y are considered.\n",
      "\n",
      "    atanh(x, /)\n",
      "        Return the inverse hyperbolic tangent of x.\n",
      "\n",
      "    cbrt(x, /)\n",
      "        Return the cube root of x.\n",
      "\n",
      "    ceil(x, /)\n",
      "        Return the ceiling of x as an Integral.\n",
      "\n",
      "        This is the smallest integer >= x.\n",
      "\n",
      "    comb(n, k, /)\n",
      "        Number of ways to choose k items from n items without repetition and without order.\n",
      "\n",
      "        Evaluates to n! / (k! * (n - k)!) when k <= n and evaluates\n",
      "        to zero when k > n.\n",
      "\n",
      "        Also called the binomial coefficient because it is equivalent\n",
      "        to the coefficient of k-th term in polynomial expansion of the\n",
      "        expression (1 + x)**n.\n",
      "\n",
      "        Raises TypeError if either of the arguments are not integers.\n",
      "        Raises ValueError if either of the arguments are negative.\n",
      "\n",
      "    copysign(x, y, /)\n",
      "        Return a float with the magnitude (absolute value) of x but the sign of y.\n",
      "\n",
      "        On platforms that support signed zeros, copysign(1.0, -0.0)\n",
      "        returns -1.0.\n",
      "\n",
      "    cos(x, /)\n",
      "        Return the cosine of x (measured in radians).\n",
      "\n",
      "    cosh(x, /)\n",
      "        Return the hyperbolic cosine of x.\n",
      "\n",
      "    degrees(x, /)\n",
      "        Convert angle x from radians to degrees.\n",
      "\n",
      "    dist(p, q, /)\n",
      "        Return the Euclidean distance between two points p and q.\n",
      "\n",
      "        The points should be specified as sequences (or iterables) of\n",
      "        coordinates.  Both inputs must have the same dimension.\n",
      "\n",
      "        Roughly equivalent to:\n",
      "            sqrt(sum((px - qx) ** 2.0 for px, qx in zip(p, q)))\n",
      "\n",
      "    erf(x, /)\n",
      "        Error function at x.\n",
      "\n",
      "    erfc(x, /)\n",
      "        Complementary error function at x.\n",
      "\n",
      "    exp(x, /)\n",
      "        Return e raised to the power of x.\n",
      "\n",
      "    exp2(x, /)\n",
      "        Return 2 raised to the power of x.\n",
      "\n",
      "    expm1(x, /)\n",
      "        Return exp(x)-1.\n",
      "\n",
      "        This function avoids the loss of precision involved in the direct evaluation of exp(x)-1 for small x.\n",
      "\n",
      "    fabs(x, /)\n",
      "        Return the absolute value of the float x.\n",
      "\n",
      "    factorial(n, /)\n",
      "        Find n!.\n",
      "\n",
      "        Raise a ValueError if x is negative or non-integral.\n",
      "\n",
      "    floor(x, /)\n",
      "        Return the floor of x as an Integral.\n",
      "\n",
      "        This is the largest integer <= x.\n",
      "\n",
      "    fmod(x, y, /)\n",
      "        Return fmod(x, y), according to platform C.\n",
      "\n",
      "        x % y may differ.\n",
      "\n",
      "    frexp(x, /)\n",
      "        Return the mantissa and exponent of x, as pair (m, e).\n",
      "\n",
      "        m is a float and e is an int, such that x = m * 2.**e.\n",
      "        If x is 0, m and e are both 0.  Else 0.5 <= abs(m) < 1.0.\n",
      "\n",
      "    fsum(seq, /)\n",
      "        Return an accurate floating point sum of values in the iterable seq.\n",
      "\n",
      "        Assumes IEEE-754 floating point arithmetic.\n",
      "\n",
      "    gamma(x, /)\n",
      "        Gamma function at x.\n",
      "\n",
      "    gcd(*integers)\n",
      "        Greatest Common Divisor.\n",
      "\n",
      "    hypot(...)\n",
      "        hypot(*coordinates) -> value\n",
      "\n",
      "        Multidimensional Euclidean distance from the origin to a point.\n",
      "\n",
      "        Roughly equivalent to:\n",
      "            sqrt(sum(x**2 for x in coordinates))\n",
      "\n",
      "        For a two dimensional point (x, y), gives the hypotenuse\n",
      "        using the Pythagorean theorem:  sqrt(x*x + y*y).\n",
      "\n",
      "        For example, the hypotenuse of a 3/4/5 right triangle is:\n",
      "\n",
      "            >>> hypot(3.0, 4.0)\n",
      "            5.0\n",
      "\n",
      "    isclose(a, b, *, rel_tol=1e-09, abs_tol=0.0)\n",
      "        Determine whether two floating point numbers are close in value.\n",
      "\n",
      "          rel_tol\n",
      "            maximum difference for being considered \"close\", relative to the\n",
      "            magnitude of the input values\n",
      "          abs_tol\n",
      "            maximum difference for being considered \"close\", regardless of the\n",
      "            magnitude of the input values\n",
      "\n",
      "        Return True if a is close in value to b, and False otherwise.\n",
      "\n",
      "        For the values to be considered close, the difference between them\n",
      "        must be smaller than at least one of the tolerances.\n",
      "\n",
      "        -inf, inf and NaN behave similarly to the IEEE 754 Standard.  That\n",
      "        is, NaN is not close to anything, even itself.  inf and -inf are\n",
      "        only close to themselves.\n",
      "\n",
      "    isfinite(x, /)\n",
      "        Return True if x is neither an infinity nor a NaN, and False otherwise.\n",
      "\n",
      "    isinf(x, /)\n",
      "        Return True if x is a positive or negative infinity, and False otherwise.\n",
      "\n",
      "    isnan(x, /)\n",
      "        Return True if x is a NaN (not a number), and False otherwise.\n",
      "\n",
      "    isqrt(n, /)\n",
      "        Return the integer part of the square root of the input.\n",
      "\n",
      "    lcm(*integers)\n",
      "        Least Common Multiple.\n",
      "\n",
      "    ldexp(x, i, /)\n",
      "        Return x * (2**i).\n",
      "\n",
      "        This is essentially the inverse of frexp().\n",
      "\n",
      "    lgamma(x, /)\n",
      "        Natural logarithm of absolute value of Gamma function at x.\n",
      "\n",
      "    log(...)\n",
      "        log(x, [base=math.e])\n",
      "        Return the logarithm of x to the given base.\n",
      "\n",
      "        If the base is not specified, returns the natural logarithm (base e) of x.\n",
      "\n",
      "    log10(x, /)\n",
      "        Return the base 10 logarithm of x.\n",
      "\n",
      "    log1p(x, /)\n",
      "        Return the natural logarithm of 1+x (base e).\n",
      "\n",
      "        The result is computed in a way which is accurate for x near zero.\n",
      "\n",
      "    log2(x, /)\n",
      "        Return the base 2 logarithm of x.\n",
      "\n",
      "    modf(x, /)\n",
      "        Return the fractional and integer parts of x.\n",
      "\n",
      "        Both results carry the sign of x and are floats.\n",
      "\n",
      "    nextafter(x, y, /, *, steps=None)\n",
      "        Return the floating-point value the given number of steps after x towards y.\n",
      "\n",
      "        If steps is not specified or is None, it defaults to 1.\n",
      "\n",
      "        Raises a TypeError, if x or y is not a double, or if steps is not an integer.\n",
      "        Raises ValueError if steps is negative.\n",
      "\n",
      "    perm(n, k=None, /)\n",
      "        Number of ways to choose k items from n items without repetition and with order.\n",
      "\n",
      "        Evaluates to n! / (n - k)! when k <= n and evaluates\n",
      "        to zero when k > n.\n",
      "\n",
      "        If k is not specified or is None, then k defaults to n\n",
      "        and the function returns n!.\n",
      "\n",
      "        Raises TypeError if either of the arguments are not integers.\n",
      "        Raises ValueError if either of the arguments are negative.\n",
      "\n",
      "    pow(x, y, /)\n",
      "        Return x**y (x to the power of y).\n",
      "\n",
      "    prod(iterable, /, *, start=1)\n",
      "        Calculate the product of all the elements in the input iterable.\n",
      "\n",
      "        The default start value for the product is 1.\n",
      "\n",
      "        When the iterable is empty, return the start value.  This function is\n",
      "        intended specifically for use with numeric values and may reject\n",
      "        non-numeric types.\n",
      "\n",
      "    radians(x, /)\n",
      "        Convert angle x from degrees to radians.\n",
      "\n",
      "    remainder(x, y, /)\n",
      "        Difference between x and the closest integer multiple of y.\n",
      "\n",
      "        Return x - n*y where n*y is the closest integer multiple of y.\n",
      "        In the case where x is exactly halfway between two multiples of\n",
      "        y, the nearest even value of n is used. The result is always exact.\n",
      "\n",
      "    sin(x, /)\n",
      "        Return the sine of x (measured in radians).\n",
      "\n",
      "    sinh(x, /)\n",
      "        Return the hyperbolic sine of x.\n",
      "\n",
      "    sqrt(x, /)\n",
      "        Return the square root of x.\n",
      "\n",
      "    sumprod(p, q, /)\n",
      "        Return the sum of products of values from two iterables p and q.\n",
      "\n",
      "        Roughly equivalent to:\n",
      "\n",
      "            sum(itertools.starmap(operator.mul, zip(p, q, strict=True)))\n",
      "\n",
      "        For float and mixed int/float inputs, the intermediate products\n",
      "        and sums are computed with extended precision.\n",
      "\n",
      "    tan(x, /)\n",
      "        Return the tangent of x (measured in radians).\n",
      "\n",
      "    tanh(x, /)\n",
      "        Return the hyperbolic tangent of x.\n",
      "\n",
      "    trunc(x, /)\n",
      "        Truncates the Real x to the nearest Integral toward 0.\n",
      "\n",
      "        Uses the __trunc__ magic method.\n",
      "\n",
      "    ulp(x, /)\n",
      "        Return the value of the least significant bit of the float x.\n",
      "\n",
      "DATA\n",
      "    e = 2.718281828459045\n",
      "    inf = inf\n",
      "    nan = nan\n",
      "    pi = 3.141592653589793\n",
      "    tau = 6.283185307179586\n",
      "\n",
      "FILE\n",
      "    /Library/Frameworks/Python.framework/Versions/3.12/lib/python3.12/lib-dynload/math.cpython-312-darwin.so\n",
      "\n",
      "\n"
     ]
    }
   ],
   "source": [
    "help(math)"
   ]
  },
  {
   "cell_type": "markdown",
   "id": "38163606-0c7c-4c2f-a666-12133578048a",
   "metadata": {},
   "source": [
    "# car rental agency - objects example\n",
    "* car\n",
    "   * make: 'Tesla',\n",
    "   * model: 'Y',\n",
    "   * year: 2023\n",
    "   * color: \"blue\"\n",
    "   * VIN: \"1GJ2...\"\n",
    "   * license plate\n",
    "   * mileage: 6022\n",
    "   * maintenance\n",
    "   * history\n",
    "   * status { \"rented\", washing, repaired, in transit, \"foo\" }\n",
    "   * location\n",
    " \n",
    "* reservation\n",
    "  * name, license, age, info\n",
    "  * credit card info\n",
    "  * check out date\n",
    "  * return date\n",
    "  * type of car { subcompact, compact, midsize, fullsize, convertible }\n",
    "  * specific car\n",
    "  * propulsion { EV, ICE }\n",
    "\n",
    "* locations / lots\n",
    "\n",
    "* customers"
   ]
  },
  {
   "cell_type": "code",
   "execution_count": null,
   "id": "5d5ee664-29c6-4a63-8a5c-46d30cbac2f2",
   "metadata": {},
   "outputs": [],
   "source": [
    "from enum import Enum\n",
    "\n",
    "# class syntax\n",
    "class Color(Enum):\n",
    "    RED = 1\n",
    "    GREEN = 2\n",
    "    BLUE = 3"
   ]
  },
  {
   "cell_type": "code",
   "execution_count": 18,
   "id": "8ffcf83b-df4b-4b44-8229-7ea308f571f7",
   "metadata": {},
   "outputs": [],
   "source": [
    "car = [ 'Tesla', 'Y', 2023 ]"
   ]
  },
  {
   "cell_type": "code",
   "execution_count": 19,
   "id": "1f2f026c-9ac6-4727-ac2a-f0cb4d85de0f",
   "metadata": {},
   "outputs": [
    {
     "data": {
      "text/plain": [
       "['Tesla', 'Y', 2023]"
      ]
     },
     "execution_count": 19,
     "metadata": {},
     "output_type": "execute_result"
    }
   ],
   "source": [
    "car"
   ]
  },
  {
   "cell_type": "code",
   "execution_count": 22,
   "id": "8d58152f-f96a-4a3e-b097-d0bd81823b9a",
   "metadata": {},
   "outputs": [
    {
     "name": "stdout",
     "output_type": "stream",
     "text": [
      "Tesla <class 'str'>\n",
      "Y <class 'str'>\n",
      "2023 <class 'int'>\n"
     ]
    }
   ],
   "source": [
    "for field in car:\n",
    "    print(field, type(field))"
   ]
  },
  {
   "cell_type": "code",
   "execution_count": 23,
   "id": "2f1c09d3-7bac-4ab7-ba01-aa51c05d459e",
   "metadata": {},
   "outputs": [
    {
     "data": {
      "text/plain": [
       "['apple', 'fig', 'pear']"
      ]
     },
     "execution_count": 23,
     "metadata": {},
     "output_type": "execute_result"
    }
   ],
   "source": [
    "fruits"
   ]
  },
  {
   "cell_type": "code",
   "execution_count": 24,
   "id": "81f4b3b7-f7dd-439c-afbb-147ed4ce0212",
   "metadata": {},
   "outputs": [],
   "source": [
    "fruits.append('banana') # mutator method"
   ]
  },
  {
   "cell_type": "code",
   "execution_count": 25,
   "id": "653e6560-49ff-4616-b5b4-62f867469433",
   "metadata": {},
   "outputs": [
    {
     "data": {
      "text/plain": [
       "['apple', 'fig', 'pear', 'banana']"
      ]
     },
     "execution_count": 25,
     "metadata": {},
     "output_type": "execute_result"
    }
   ],
   "source": [
    "fruits"
   ]
  },
  {
   "cell_type": "code",
   "execution_count": 26,
   "id": "b8eec94b-4f21-42f7-947b-c5ff06540041",
   "metadata": {},
   "outputs": [
    {
     "data": {
      "text/plain": [
       "1"
      ]
     },
     "execution_count": 26,
     "metadata": {},
     "output_type": "execute_result"
    }
   ],
   "source": [
    "fruits.count('fig') # inspector method"
   ]
  },
  {
   "cell_type": "code",
   "execution_count": 27,
   "id": "51de5b8f-0d56-45d7-9292-875a22813f52",
   "metadata": {},
   "outputs": [
    {
     "data": {
      "text/plain": [
       "['apple', 'fig', 'pear', 'banana']"
      ]
     },
     "execution_count": 27,
     "metadata": {},
     "output_type": "execute_result"
    }
   ],
   "source": [
    "fruits"
   ]
  },
  {
   "cell_type": "code",
   "execution_count": 28,
   "id": "762d6400-c8cf-496c-a716-f0845ca9b665",
   "metadata": {},
   "outputs": [
    {
     "data": {
      "text/plain": [
       "list"
      ]
     },
     "execution_count": 28,
     "metadata": {},
     "output_type": "execute_result"
    }
   ],
   "source": [
    "type(fruits)"
   ]
  },
  {
   "cell_type": "code",
   "execution_count": 29,
   "id": "00ff06b8-9bb5-49c4-bf93-1ad10277bcaf",
   "metadata": {},
   "outputs": [
    {
     "name": "stdout",
     "output_type": "stream",
     "text": [
      "<class 'list'>\n"
     ]
    }
   ],
   "source": [
    "print(type(fruits))"
   ]
  },
  {
   "cell_type": "code",
   "execution_count": 30,
   "id": "19db06d0-d157-4cc7-b052-8940aceea59f",
   "metadata": {},
   "outputs": [
    {
     "name": "stdout",
     "output_type": "stream",
     "text": [
      "<class 'int'>\n"
     ]
    }
   ],
   "source": [
    "print(type(1))"
   ]
  },
  {
   "cell_type": "code",
   "execution_count": 31,
   "id": "e74f57ef-d38c-48fb-8f10-0864f06b7d6a",
   "metadata": {},
   "outputs": [
    {
     "name": "stdout",
     "output_type": "stream",
     "text": [
      "<class 'bool'>\n"
     ]
    }
   ],
   "source": [
    "print(type(False))"
   ]
  },
  {
   "cell_type": "code",
   "execution_count": 32,
   "id": "12fffbf4-7946-44df-9e16-24566056874b",
   "metadata": {},
   "outputs": [
    {
     "ename": "SyntaxError",
     "evalue": "invalid syntax (3675897435.py, line 1)",
     "output_type": "error",
     "traceback": [
      "\u001b[0;36m  Cell \u001b[0;32mIn[32], line 1\u001b[0;36m\u001b[0m\n\u001b[0;31m    while = 4\u001b[0m\n\u001b[0m          ^\u001b[0m\n\u001b[0;31mSyntaxError\u001b[0m\u001b[0;31m:\u001b[0m invalid syntax\n"
     ]
    }
   ],
   "source": [
    "while = 4"
   ]
  },
  {
   "cell_type": "code",
   "execution_count": 33,
   "id": "163d4380-e6bc-454d-8b33-e108e0adfad7",
   "metadata": {},
   "outputs": [],
   "source": [
    "self = 4"
   ]
  },
  {
   "cell_type": "code",
   "execution_count": 34,
   "id": "62f5e51d-21ea-4896-914b-98925bd09f3c",
   "metadata": {},
   "outputs": [],
   "source": [
    "my_super_cool_list = '1 2 3'.split()"
   ]
  },
  {
   "cell_type": "code",
   "execution_count": 46,
   "id": "6b0ca0d4-d124-4b0d-b750-c290c6af2bcc",
   "metadata": {},
   "outputs": [],
   "source": [
    "def split_and_sort(string):\n",
    "    \"\"\"Accept a string and return a splitted version of the string as a sorted list.\"\"\""
   ]
  },
  {
   "cell_type": "code",
   "execution_count": 36,
   "id": "23ac79fd-8e26-4e56-8932-6db2ce8d3952",
   "metadata": {},
   "outputs": [],
   "source": [
    "long_string = \"\"\"\n",
    "This is a long string.\n",
    "It spans multiple lines.\n",
    "There are embedded CRs in here!\n",
    "\"\"\""
   ]
  },
  {
   "cell_type": "code",
   "execution_count": 37,
   "id": "12f9c94c-71cf-4f16-94de-569f41900cd8",
   "metadata": {},
   "outputs": [
    {
     "data": {
      "text/plain": [
       "'this\\nalso \\nworks'"
      ]
     },
     "execution_count": 37,
     "metadata": {},
     "output_type": "execute_result"
    }
   ],
   "source": [
    "'''this\n",
    "also \n",
    "works'''"
   ]
  },
  {
   "cell_type": "code",
   "execution_count": 44,
   "id": "1aa60d25-80a0-4e07-a7c2-1f2853a0367b",
   "metadata": {},
   "outputs": [
    {
     "name": "stdout",
     "output_type": "stream",
     "text": [
      "Help on function split_and_sort in module __main__:\n",
      "\n",
      "split_and_sort(string)\n",
      "    HELLO! Accept a string and return a splitted version of the string as a sorted list.\n",
      "\n"
     ]
    }
   ],
   "source": [
    "help(split_and_sort)"
   ]
  },
  {
   "cell_type": "code",
   "execution_count": 47,
   "id": "9c419719-2087-42f7-953f-284b5838580d",
   "metadata": {},
   "outputs": [],
   "source": [
    "def new_func():\n",
    "    \"\"\"New function\"\"\""
   ]
  },
  {
   "cell_type": "code",
   "execution_count": 48,
   "id": "28d1585c-6113-4742-a0d3-0bcb4a7ee2da",
   "metadata": {},
   "outputs": [
    {
     "data": {
      "text/plain": [
       "4406493024"
      ]
     },
     "execution_count": 48,
     "metadata": {},
     "output_type": "execute_result"
    }
   ],
   "source": [
    "id(new_func)"
   ]
  },
  {
   "cell_type": "code",
   "execution_count": 49,
   "id": "d601b5ff-32b9-4a31-93d3-dc3cdd7ed1ff",
   "metadata": {},
   "outputs": [
    {
     "data": {
      "text/plain": [
       "['__annotations__',\n",
       " '__builtins__',\n",
       " '__call__',\n",
       " '__class__',\n",
       " '__closure__',\n",
       " '__code__',\n",
       " '__defaults__',\n",
       " '__delattr__',\n",
       " '__dict__',\n",
       " '__dir__',\n",
       " '__doc__',\n",
       " '__eq__',\n",
       " '__format__',\n",
       " '__ge__',\n",
       " '__get__',\n",
       " '__getattribute__',\n",
       " '__getstate__',\n",
       " '__globals__',\n",
       " '__gt__',\n",
       " '__hash__',\n",
       " '__init__',\n",
       " '__init_subclass__',\n",
       " '__kwdefaults__',\n",
       " '__le__',\n",
       " '__lt__',\n",
       " '__module__',\n",
       " '__name__',\n",
       " '__ne__',\n",
       " '__new__',\n",
       " '__qualname__',\n",
       " '__reduce__',\n",
       " '__reduce_ex__',\n",
       " '__repr__',\n",
       " '__setattr__',\n",
       " '__sizeof__',\n",
       " '__str__',\n",
       " '__subclasshook__',\n",
       " '__type_params__']"
      ]
     },
     "execution_count": 49,
     "metadata": {},
     "output_type": "execute_result"
    }
   ],
   "source": [
    "dir(new_func)"
   ]
  },
  {
   "cell_type": "code",
   "execution_count": 50,
   "id": "032c2d7d-58bc-4821-8693-d84f8f5e2b7f",
   "metadata": {},
   "outputs": [
    {
     "data": {
      "text/plain": [
       "'New function'"
      ]
     },
     "execution_count": 50,
     "metadata": {},
     "output_type": "execute_result"
    }
   ],
   "source": [
    "new_func.__doc__"
   ]
  },
  {
   "cell_type": "code",
   "execution_count": 51,
   "id": "68176eb9-d79f-429d-ba27-3db515959651",
   "metadata": {},
   "outputs": [
    {
     "data": {
      "text/plain": [
       "'Accept a string and return a splitted version of the string as a sorted list.'"
      ]
     },
     "execution_count": 51,
     "metadata": {},
     "output_type": "execute_result"
    }
   ],
   "source": [
    "split_and_sort.__doc__"
   ]
  },
  {
   "cell_type": "code",
   "execution_count": 52,
   "id": "51a98ebe-4bad-412e-a82a-f990f5e4158e",
   "metadata": {},
   "outputs": [
    {
     "name": "stdout",
     "output_type": "stream",
     "text": [
      "Help on function split_and_sort in module __main__:\n",
      "\n",
      "split_and_sort(string)\n",
      "    Accept a string and return a splitted version of the string as a sorted list.\n",
      "\n"
     ]
    }
   ],
   "source": [
    "help(split_and_sort)"
   ]
  },
  {
   "cell_type": "code",
   "execution_count": 53,
   "id": "39ecf95c-e5a2-42e5-98c9-e634eaf8342a",
   "metadata": {},
   "outputs": [
    {
     "data": {
      "text/plain": [
       "function"
      ]
     },
     "execution_count": 53,
     "metadata": {},
     "output_type": "execute_result"
    }
   ],
   "source": [
    "type(split_and_sort)"
   ]
  },
  {
   "cell_type": "code",
   "execution_count": 55,
   "id": "4c91ad6b-5d1f-4390-b6da-fd9994278075",
   "metadata": {},
   "outputs": [],
   "source": [
    "import math"
   ]
  },
  {
   "cell_type": "code",
   "execution_count": 56,
   "id": "939cf8a2-a5a1-4331-9612-030933ec7ac2",
   "metadata": {},
   "outputs": [
    {
     "name": "stdout",
     "output_type": "stream",
     "text": [
      "Help on built-in function sin in module math:\n",
      "\n",
      "sin(x, /)\n",
      "    Return the sine of x (measured in radians).\n",
      "\n"
     ]
    }
   ],
   "source": [
    "help(math.sin)"
   ]
  },
  {
   "cell_type": "code",
   "execution_count": 70,
   "id": "fef832cc-ef7c-4ec4-b3b4-57574b367b5d",
   "metadata": {},
   "outputs": [],
   "source": [
    "class BankAccount: # by convention class names are Pascal Case\n",
    "    \"\"\"A class (or type) that represents a bank account.\"\"\"\n",
    "    def __init__(self, name, initial_balance):\n",
    "        print(vars(self))\n",
    "        self.name = name\n",
    "        print(vars(self))\n",
    "        self.balance = initial_balance\n",
    "        print(vars(self))\n",
    "        \n",
    "    def deposit(self, amount):\n",
    "        \"\"\"deposit function (method)\"\"\"\n",
    "        if amount > 0:\n",
    "            self.balance += amount\n",
    "            return self.balance\n",
    "        else:\n",
    "            print(\"can't deposit nonpositive amount!\")\n",
    "\n",
    "    def withdraw(self, amount):\n",
    "        if amount > 0:\n",
    "            if amount <= self.balance:\n",
    "                self.balance -= amount\n",
    "                return self.balance\n",
    "            else:\n",
    "                print(\"can't withdraw\", amount, \"or you would be overdrawn!\")\n",
    "        else:\n",
    "            print(\"can't withdraw nonpositive amount!\") "
   ]
  },
  {
   "cell_type": "code",
   "execution_count": 60,
   "id": "4cb63c47-b31f-4b04-a74f-8df37873dcf4",
   "metadata": {},
   "outputs": [
    {
     "ename": "TypeError",
     "evalue": "BankAccount.__init__() missing 2 required positional arguments: 'name' and 'initial_balance'",
     "output_type": "error",
     "traceback": [
      "\u001b[0;31m---------------------------------------------------------------------------\u001b[0m",
      "\u001b[0;31mTypeError\u001b[0m                                 Traceback (most recent call last)",
      "Cell \u001b[0;32mIn[60], line 1\u001b[0m\n\u001b[0;32m----> 1\u001b[0m new_account \u001b[38;5;241m=\u001b[39m \u001b[43mBankAccount\u001b[49m\u001b[43m(\u001b[49m\u001b[43m)\u001b[49m\n",
      "\u001b[0;31mTypeError\u001b[0m: BankAccount.__init__() missing 2 required positional arguments: 'name' and 'initial_balance'"
     ]
    }
   ],
   "source": [
    "new_account = BankAccount()"
   ]
  },
  {
   "cell_type": "code",
   "execution_count": 61,
   "id": "66dd1ee4-9aaf-4121-ae23-a89da2366611",
   "metadata": {},
   "outputs": [
    {
     "ename": "TypeError",
     "evalue": "BankAccount.__init__() takes 3 positional arguments but 4 were given",
     "output_type": "error",
     "traceback": [
      "\u001b[0;31m---------------------------------------------------------------------------\u001b[0m",
      "\u001b[0;31mTypeError\u001b[0m                                 Traceback (most recent call last)",
      "Cell \u001b[0;32mIn[61], line 1\u001b[0m\n\u001b[0;32m----> 1\u001b[0m new_account \u001b[38;5;241m=\u001b[39m \u001b[43mBankAccount\u001b[49m\u001b[43m(\u001b[49m\u001b[38;5;124;43m'\u001b[39;49m\u001b[38;5;124;43m'\u001b[39;49m\u001b[43m,\u001b[49m\u001b[43m \u001b[49m\u001b[38;5;124;43m'\u001b[39;49m\u001b[38;5;124;43mDave\u001b[39;49m\u001b[38;5;124;43m'\u001b[39;49m\u001b[43m,\u001b[49m\u001b[43m \u001b[49m\u001b[38;5;241;43m100\u001b[39;49m\u001b[43m)\u001b[49m\n",
      "\u001b[0;31mTypeError\u001b[0m: BankAccount.__init__() takes 3 positional arguments but 4 were given"
     ]
    }
   ],
   "source": [
    "new_account = BankAccount('', 'Dave', 100)"
   ]
  },
  {
   "cell_type": "code",
   "execution_count": 71,
   "id": "34ca6a5e-e9ef-4beb-8702-08103c340abf",
   "metadata": {},
   "outputs": [
    {
     "name": "stdout",
     "output_type": "stream",
     "text": [
      "{}\n",
      "{'name': 'Dave'}\n",
      "{'name': 'Dave', 'balance': 100}\n"
     ]
    }
   ],
   "source": [
    "new_account = BankAccount('Dave', 100)"
   ]
  },
  {
   "cell_type": "code",
   "execution_count": 63,
   "id": "1916cb00-c4a2-47f2-bf58-93552a6c4669",
   "metadata": {},
   "outputs": [
    {
     "data": {
      "text/plain": [
       "['__class__',\n",
       " '__delattr__',\n",
       " '__dict__',\n",
       " '__dir__',\n",
       " '__doc__',\n",
       " '__eq__',\n",
       " '__format__',\n",
       " '__ge__',\n",
       " '__getattribute__',\n",
       " '__getstate__',\n",
       " '__gt__',\n",
       " '__hash__',\n",
       " '__init__',\n",
       " '__init_subclass__',\n",
       " '__le__',\n",
       " '__lt__',\n",
       " '__module__',\n",
       " '__ne__',\n",
       " '__new__',\n",
       " '__reduce__',\n",
       " '__reduce_ex__',\n",
       " '__repr__',\n",
       " '__setattr__',\n",
       " '__sizeof__',\n",
       " '__str__',\n",
       " '__subclasshook__',\n",
       " '__weakref__',\n",
       " 'balance',\n",
       " 'deposit',\n",
       " 'name',\n",
       " 'withdraw']"
      ]
     },
     "execution_count": 63,
     "metadata": {},
     "output_type": "execute_result"
    }
   ],
   "source": [
    "dir(new_account)"
   ]
  },
  {
   "cell_type": "code",
   "execution_count": 64,
   "id": "f6b9bafb-2545-4fc6-bb0a-b72b0c7743fb",
   "metadata": {},
   "outputs": [],
   "source": [
    "class Person:\n",
    "    def __init__(self, name):\n",
    "        self.name = name"
   ]
  },
  {
   "cell_type": "code",
   "execution_count": 65,
   "id": "491073b9-9556-42a5-b443-f47c5ea5e350",
   "metadata": {},
   "outputs": [],
   "source": [
    "person1 = Person('Dolly Parton')"
   ]
  },
  {
   "cell_type": "code",
   "execution_count": 66,
   "id": "4d79e66d-0dd7-44c9-bc25-d887606825e2",
   "metadata": {},
   "outputs": [
    {
     "data": {
      "text/plain": [
       "{'name': 'Dolly Parton'}"
      ]
     },
     "execution_count": 66,
     "metadata": {},
     "output_type": "execute_result"
    }
   ],
   "source": [
    "person1.__dict__"
   ]
  },
  {
   "cell_type": "code",
   "execution_count": 67,
   "id": "7030d7dc-3974-4832-bd0f-1792366ba40e",
   "metadata": {},
   "outputs": [
    {
     "data": {
      "text/plain": [
       "{'name': 'Dolly Parton'}"
      ]
     },
     "execution_count": 67,
     "metadata": {},
     "output_type": "execute_result"
    }
   ],
   "source": [
    "vars(person1)"
   ]
  },
  {
   "cell_type": "code",
   "execution_count": 68,
   "id": "11bda972-ccd3-4891-bb7a-17dcf968abcb",
   "metadata": {},
   "outputs": [],
   "source": [
    "person1.thing = 'Gazornin'"
   ]
  },
  {
   "cell_type": "code",
   "execution_count": 69,
   "id": "c85cdd3f-a49a-4169-93bf-ca22d5f7978a",
   "metadata": {},
   "outputs": [
    {
     "data": {
      "text/plain": [
       "{'name': 'Dolly Parton', 'thing': 'Gazornin'}"
      ]
     },
     "execution_count": 69,
     "metadata": {},
     "output_type": "execute_result"
    }
   ],
   "source": [
    "vars(person1)"
   ]
  },
  {
   "cell_type": "code",
   "execution_count": 72,
   "id": "2fda3dd7-51cf-41ba-876e-9e1fb5ec48ca",
   "metadata": {},
   "outputs": [
    {
     "ename": "TypeError",
     "evalue": "object of type 'int' has no len()",
     "output_type": "error",
     "traceback": [
      "\u001b[0;31m---------------------------------------------------------------------------\u001b[0m",
      "\u001b[0;31mTypeError\u001b[0m                                 Traceback (most recent call last)",
      "Cell \u001b[0;32mIn[72], line 1\u001b[0m\n\u001b[0;32m----> 1\u001b[0m \u001b[38;5;28;43mlen\u001b[39;49m\u001b[43m(\u001b[49m\u001b[38;5;241;43m1234\u001b[39;49m\u001b[43m)\u001b[49m\n",
      "\u001b[0;31mTypeError\u001b[0m: object of type 'int' has no len()"
     ]
    }
   ],
   "source": [
    "len(1234)"
   ]
  },
  {
   "cell_type": "code",
   "execution_count": 73,
   "id": "1de9d796-a4f3-4c8f-a747-5c8ed69812b7",
   "metadata": {},
   "outputs": [],
   "source": [
    "name = 'Taylor Swift'"
   ]
  },
  {
   "cell_type": "code",
   "execution_count": 74,
   "id": "0a20dac9-3658-4bc7-ae5f-fdfc7f426e3b",
   "metadata": {},
   "outputs": [
    {
     "data": {
      "text/plain": [
       "'Taylor Swift'"
      ]
     },
     "execution_count": 74,
     "metadata": {},
     "output_type": "execute_result"
    }
   ],
   "source": [
    "name # asking python to evaluate the value of this variable"
   ]
  },
  {
   "cell_type": "code",
   "execution_count": 75,
   "id": "d4782427-6499-4a2f-8193-ae462b8ec8d4",
   "metadata": {},
   "outputs": [
    {
     "name": "stdout",
     "output_type": "stream",
     "text": [
      "Taylor Swift\n"
     ]
    }
   ],
   "source": [
    "print(name) # print what's in it"
   ]
  },
  {
   "cell_type": "code",
   "execution_count": 76,
   "id": "e6c6e2fd-b617-4084-adf4-3765e10835a4",
   "metadata": {},
   "outputs": [],
   "source": [
    "is_finished = True"
   ]
  },
  {
   "cell_type": "code",
   "execution_count": 77,
   "id": "a79c8c93-0694-48d0-92ae-d6ffcd19e744",
   "metadata": {},
   "outputs": [
    {
     "name": "stdout",
     "output_type": "stream",
     "text": [
      "True\n"
     ]
    }
   ],
   "source": [
    "print(is_finished)"
   ]
  },
  {
   "cell_type": "code",
   "execution_count": 80,
   "id": "42942324-d39d-477e-8feb-cb28d018c4f4",
   "metadata": {},
   "outputs": [
    {
     "name": "stdout",
     "output_type": "stream",
     "text": [
      "True\n"
     ]
    }
   ],
   "source": [
    "word = 'True'\n",
    "print(word)"
   ]
  },
  {
   "cell_type": "code",
   "execution_count": 79,
   "id": "31fab6a3-a39f-443a-af76-b41ff793e6c2",
   "metadata": {},
   "outputs": [
    {
     "data": {
      "text/plain": [
       "True"
      ]
     },
     "execution_count": 79,
     "metadata": {},
     "output_type": "execute_result"
    }
   ],
   "source": [
    "is_finished"
   ]
  },
  {
   "cell_type": "code",
   "execution_count": 81,
   "id": "82cb7073-d19a-4409-a6cc-cd1895b8ca0b",
   "metadata": {},
   "outputs": [
    {
     "data": {
      "text/plain": [
       "'True'"
      ]
     },
     "execution_count": 81,
     "metadata": {},
     "output_type": "execute_result"
    }
   ],
   "source": [
    "word"
   ]
  },
  {
   "cell_type": "code",
   "execution_count": null,
   "id": "c3f60ea8-6ac0-4a6c-ae2c-80e0eb70c918",
   "metadata": {},
   "outputs": [],
   "source": [
    "str(4) # BankAccount('Beyonce', 123)"
   ]
  },
  {
   "cell_type": "code",
   "execution_count": null,
   "id": "42a9d75c-2266-4cd5-a249-b469ada4f43c",
   "metadata": {},
   "outputs": [],
   "source": [
    "class str:\n",
    "    def __init__(...):"
   ]
  },
  {
   "cell_type": "code",
   "execution_count": 83,
   "id": "641c4b71-2435-4ca1-81d8-4167c849fee9",
   "metadata": {},
   "outputs": [
    {
     "data": {
      "text/plain": [
       "'4'"
      ]
     },
     "execution_count": 83,
     "metadata": {},
     "output_type": "execute_result"
    }
   ],
   "source": [
    "str(4) # \"give me a human readable version of this\""
   ]
  },
  {
   "cell_type": "code",
   "execution_count": 84,
   "id": "5bf6e929-5605-4693-bc1f-c4a847ed0eff",
   "metadata": {},
   "outputs": [
    {
     "data": {
      "text/plain": [
       "'4'"
      ]
     },
     "execution_count": 84,
     "metadata": {},
     "output_type": "execute_result"
    }
   ],
   "source": [
    "repr(4) # \"give me a machine readable version of this\""
   ]
  },
  {
   "cell_type": "code",
   "execution_count": 85,
   "id": "5b1b54f8-8fab-490a-bb87-c1dbaf3bcaca",
   "metadata": {},
   "outputs": [
    {
     "data": {
      "text/plain": [
       "'hello'"
      ]
     },
     "execution_count": 85,
     "metadata": {},
     "output_type": "execute_result"
    }
   ],
   "source": [
    "str('hello')"
   ]
  },
  {
   "cell_type": "code",
   "execution_count": 86,
   "id": "5a0cf7e8-818a-4bca-873f-1a033f80f65a",
   "metadata": {},
   "outputs": [
    {
     "data": {
      "text/plain": [
       "\"'hello'\""
      ]
     },
     "execution_count": 86,
     "metadata": {},
     "output_type": "execute_result"
    }
   ],
   "source": [
    "repr('hello')"
   ]
  },
  {
   "cell_type": "code",
   "execution_count": 87,
   "id": "131a947d-a96b-4577-8d2c-c05503e42217",
   "metadata": {},
   "outputs": [],
   "source": [
    "num = 1234"
   ]
  },
  {
   "cell_type": "code",
   "execution_count": 89,
   "id": "668cc7cd-28a3-4d00-88eb-a7ff40ea769b",
   "metadata": {},
   "outputs": [
    {
     "data": {
      "text/plain": [
       "'1234'"
      ]
     },
     "execution_count": 89,
     "metadata": {},
     "output_type": "execute_result"
    }
   ],
   "source": [
    "str(num) # => __str__()"
   ]
  },
  {
   "cell_type": "code",
   "execution_count": 91,
   "id": "fe92d983-06dc-48d8-903b-8c74e620569a",
   "metadata": {},
   "outputs": [
    {
     "data": {
      "text/plain": [
       "'1234'"
      ]
     },
     "execution_count": 91,
     "metadata": {},
     "output_type": "execute_result"
    }
   ],
   "source": [
    "num.__str__()"
   ]
  },
  {
   "cell_type": "code",
   "execution_count": 90,
   "id": "cce0a818-bea9-4202-837b-fb752eb59ab2",
   "metadata": {},
   "outputs": [
    {
     "data": {
      "text/plain": [
       "['__abs__',\n",
       " '__add__',\n",
       " '__and__',\n",
       " '__bool__',\n",
       " '__ceil__',\n",
       " '__class__',\n",
       " '__delattr__',\n",
       " '__dir__',\n",
       " '__divmod__',\n",
       " '__doc__',\n",
       " '__eq__',\n",
       " '__float__',\n",
       " '__floor__',\n",
       " '__floordiv__',\n",
       " '__format__',\n",
       " '__ge__',\n",
       " '__getattribute__',\n",
       " '__getnewargs__',\n",
       " '__getstate__',\n",
       " '__gt__',\n",
       " '__hash__',\n",
       " '__index__',\n",
       " '__init__',\n",
       " '__init_subclass__',\n",
       " '__int__',\n",
       " '__invert__',\n",
       " '__le__',\n",
       " '__lshift__',\n",
       " '__lt__',\n",
       " '__mod__',\n",
       " '__mul__',\n",
       " '__ne__',\n",
       " '__neg__',\n",
       " '__new__',\n",
       " '__or__',\n",
       " '__pos__',\n",
       " '__pow__',\n",
       " '__radd__',\n",
       " '__rand__',\n",
       " '__rdivmod__',\n",
       " '__reduce__',\n",
       " '__reduce_ex__',\n",
       " '__repr__',\n",
       " '__rfloordiv__',\n",
       " '__rlshift__',\n",
       " '__rmod__',\n",
       " '__rmul__',\n",
       " '__ror__',\n",
       " '__round__',\n",
       " '__rpow__',\n",
       " '__rrshift__',\n",
       " '__rshift__',\n",
       " '__rsub__',\n",
       " '__rtruediv__',\n",
       " '__rxor__',\n",
       " '__setattr__',\n",
       " '__sizeof__',\n",
       " '__str__',\n",
       " '__sub__',\n",
       " '__subclasshook__',\n",
       " '__truediv__',\n",
       " '__trunc__',\n",
       " '__xor__',\n",
       " 'as_integer_ratio',\n",
       " 'bit_count',\n",
       " 'bit_length',\n",
       " 'conjugate',\n",
       " 'denominator',\n",
       " 'from_bytes',\n",
       " 'imag',\n",
       " 'is_integer',\n",
       " 'numerator',\n",
       " 'real',\n",
       " 'to_bytes']"
      ]
     },
     "execution_count": 90,
     "metadata": {},
     "output_type": "execute_result"
    }
   ],
   "source": [
    "dir(num)"
   ]
  },
  {
   "cell_type": "code",
   "execution_count": 92,
   "id": "c4dc664a-e4d9-4385-b32c-f057056719df",
   "metadata": {},
   "outputs": [
    {
     "name": "stdout",
     "output_type": "stream",
     "text": [
      "{}\n",
      "{'name': 'Bazooka Joe'}\n",
      "{'name': 'Bazooka Joe', 'balance': 1234}\n"
     ]
    }
   ],
   "source": [
    "ba = BankAccount('Bazooka Joe', 1234)"
   ]
  },
  {
   "cell_type": "code",
   "execution_count": 93,
   "id": "09f4aab9-aaaf-4e61-a50d-2399b2680676",
   "metadata": {},
   "outputs": [
    {
     "data": {
      "text/plain": [
       "'<__main__.BankAccount object at 0x1069a3ce0>'"
      ]
     },
     "execution_count": 93,
     "metadata": {},
     "output_type": "execute_result"
    }
   ],
   "source": [
    "str(ba)"
   ]
  },
  {
   "cell_type": "code",
   "execution_count": 94,
   "id": "ab47c264-9c9f-48a0-97b1-32f02e686d30",
   "metadata": {},
   "outputs": [
    {
     "data": {
      "text/plain": [
       "'<__main__.BankAccount object at 0x1069a3ce0>'"
      ]
     },
     "execution_count": 94,
     "metadata": {},
     "output_type": "execute_result"
    }
   ],
   "source": [
    "repr(ba)"
   ]
  },
  {
   "cell_type": "code",
   "execution_count": 95,
   "id": "514ebdd1-ca31-4825-849b-f61f3f38b960",
   "metadata": {},
   "outputs": [],
   "source": [
    "name = 'Bruce Lee'"
   ]
  },
  {
   "cell_type": "code",
   "execution_count": 96,
   "id": "e4dd40fc-33f0-440f-8b15-8d540b702513",
   "metadata": {},
   "outputs": [
    {
     "data": {
      "text/plain": [
       "'Bruce Lee'"
      ]
     },
     "execution_count": 96,
     "metadata": {},
     "output_type": "execute_result"
    }
   ],
   "source": [
    "name # repr"
   ]
  },
  {
   "cell_type": "code",
   "execution_count": 97,
   "id": "cb6d2964-b14c-4613-bf40-918cf1e62981",
   "metadata": {},
   "outputs": [
    {
     "name": "stdout",
     "output_type": "stream",
     "text": [
      "Bruce Lee\n"
     ]
    }
   ],
   "source": [
    "print(name) # str"
   ]
  },
  {
   "cell_type": "code",
   "execution_count": 98,
   "id": "d08a595b-1671-4511-9114-de932fdd9e6b",
   "metadata": {},
   "outputs": [],
   "source": [
    "import datetime"
   ]
  },
  {
   "cell_type": "code",
   "execution_count": 99,
   "id": "566835ff-d2d7-4b86-810c-214efbd2a1f7",
   "metadata": {},
   "outputs": [
    {
     "name": "stdout",
     "output_type": "stream",
     "text": [
      "<module 'datetime' from '/Library/Frameworks/Python.framework/Versions/3.12/lib/python3.12/datetime.py'>\n"
     ]
    }
   ],
   "source": [
    "print(datetime)"
   ]
  },
  {
   "cell_type": "code",
   "execution_count": 102,
   "id": "60f6523c-0b01-49e6-9c8d-2c94fc0e4e12",
   "metadata": {},
   "outputs": [
    {
     "name": "stdout",
     "output_type": "stream",
     "text": [
      "Help on built-in function now:\n",
      "\n",
      "now(tz=None) method of builtins.type instance\n",
      "    Returns new datetime object representing current time local to tz.\n",
      "\n",
      "      tz\n",
      "        Timezone object.\n",
      "\n",
      "    If no tz is specified, uses local timezone.\n",
      "\n"
     ]
    }
   ],
   "source": [
    "help(datetime.datetime.now)"
   ]
  },
  {
   "cell_type": "code",
   "execution_count": 103,
   "id": "fef10584-2c1c-4f11-9257-4f5f094b287c",
   "metadata": {},
   "outputs": [],
   "source": [
    "import datetime # module for converting/adding/etc. dates\n",
    "today = datetime.datetime.now() "
   ]
  },
  {
   "cell_type": "code",
   "execution_count": 104,
   "id": "d42e0aea-e4a2-4f65-8353-b574a3f34b80",
   "metadata": {},
   "outputs": [
    {
     "name": "stdout",
     "output_type": "stream",
     "text": [
      "2024-04-16 14:41:35.090781\n"
     ]
    }
   ],
   "source": [
    "print(today)"
   ]
  },
  {
   "cell_type": "code",
   "execution_count": 105,
   "id": "e5cba8d0-9395-48f0-b544-bfba3301e779",
   "metadata": {},
   "outputs": [
    {
     "data": {
      "text/plain": [
       "datetime.datetime(2024, 4, 16, 14, 41, 35, 90781)"
      ]
     },
     "execution_count": 105,
     "metadata": {},
     "output_type": "execute_result"
    }
   ],
   "source": [
    "today # repr"
   ]
  },
  {
   "cell_type": "code",
   "execution_count": 106,
   "id": "ca362ee8-5bf7-4297-bc59-bc94cb4ce73e",
   "metadata": {},
   "outputs": [],
   "source": [
    "something = datetime.datetime(2024, 4, 16, 14, 41, 35, 90781)"
   ]
  },
  {
   "cell_type": "code",
   "execution_count": 107,
   "id": "5ba8e009-1fcd-41a0-9968-73d881abcf9b",
   "metadata": {},
   "outputs": [
    {
     "name": "stdout",
     "output_type": "stream",
     "text": [
      "2024-04-16 14:41:35.090781\n"
     ]
    }
   ],
   "source": [
    "print(something)"
   ]
  },
  {
   "cell_type": "code",
   "execution_count": 108,
   "id": "6a63084f-b6de-41d8-9d33-3ded4be88429",
   "metadata": {},
   "outputs": [
    {
     "data": {
      "text/plain": [
       "True"
      ]
     },
     "execution_count": 108,
     "metadata": {},
     "output_type": "execute_result"
    }
   ],
   "source": [
    "today == something"
   ]
  },
  {
   "cell_type": "code",
   "execution_count": 109,
   "id": "f3b7ac4c-7133-48a6-98d7-316a22bbf560",
   "metadata": {},
   "outputs": [
    {
     "data": {
      "text/plain": [
       "3"
      ]
     },
     "execution_count": 109,
     "metadata": {},
     "output_type": "execute_result"
    }
   ],
   "source": [
    "eval('1 + 2')"
   ]
  },
  {
   "cell_type": "code",
   "execution_count": 153,
   "id": "1d24d158-38c6-483a-81a9-0101cafd6aa4",
   "metadata": {
    "scrolled": true
   },
   "outputs": [
    {
     "name": "stdin",
     "output_type": "stream",
     "text": [
      " 2.5 * 9.4\n"
     ]
    },
    {
     "name": "stdout",
     "output_type": "stream",
     "text": [
      "23.5\n"
     ]
    },
    {
     "name": "stdin",
     "output_type": "stream",
     "text": [
      " \n"
     ]
    }
   ],
   "source": [
    "while (response := input()):\n",
    "    print(eval(response))"
   ]
  },
  {
   "cell_type": "markdown",
   "id": "6c442027-c9be-44f1-a522-220b24c20569",
   "metadata": {},
   "source": [
    "# BDFL\n",
    "* Guido van Rossum\n",
    "* Benevolent Dictator for Life (or until 2018)\n",
    "* walrus operator := PEP 572"
   ]
  },
  {
   "cell_type": "code",
   "execution_count": 115,
   "id": "87a708b5-c727-47ed-86ab-ea0577fd48cf",
   "metadata": {},
   "outputs": [
    {
     "data": {
      "text/plain": [
       "'3.12.2 (v3.12.2:6abddd9f6a, Feb  6 2024, 17:02:06) [Clang 13.0.0 (clang-1300.0.29.30)]'"
      ]
     },
     "execution_count": 115,
     "metadata": {},
     "output_type": "execute_result"
    }
   ],
   "source": [
    "import sys\n",
    "sys.version"
   ]
  },
  {
   "cell_type": "code",
   "execution_count": 117,
   "id": "b79a09e7-e89a-4722-b645-6129c5a4a83d",
   "metadata": {},
   "outputs": [
    {
     "name": "stdin",
     "output_type": "stream",
     "text": [
      "Give me some input:  apple\n"
     ]
    },
    {
     "name": "stdout",
     "output_type": "stream",
     "text": [
      "process apple\n"
     ]
    },
    {
     "name": "stdin",
     "output_type": "stream",
     "text": [
      "Give me some input:  fig\n"
     ]
    },
    {
     "name": "stdout",
     "output_type": "stream",
     "text": [
      "process fig\n"
     ]
    },
    {
     "name": "stdin",
     "output_type": "stream",
     "text": [
      "Give me some input:  pear\n"
     ]
    },
    {
     "name": "stdout",
     "output_type": "stream",
     "text": [
      "process pear\n"
     ]
    },
    {
     "name": "stdin",
     "output_type": "stream",
     "text": [
      "Give me some input:  quit\n"
     ]
    }
   ],
   "source": [
    "while True:\n",
    "    response = input('Give me some input: ')\n",
    "    if response == 'quit': # middle test loop\n",
    "        break\n",
    "    print('process', response)"
   ]
  },
  {
   "cell_type": "code",
   "execution_count": 118,
   "id": "5d3a93e7-c633-4c08-bc52-2d15c702ed63",
   "metadata": {},
   "outputs": [
    {
     "ename": "SyntaxError",
     "evalue": "invalid syntax. Maybe you meant '==' or ':=' instead of '='? (2815570825.py, line 1)",
     "output_type": "error",
     "traceback": [
      "\u001b[0;36m  Cell \u001b[0;32mIn[118], line 1\u001b[0;36m\u001b[0m\n\u001b[0;31m    while (response = input('Give me some input: ')) != 'quit':\u001b[0m\n\u001b[0m           ^\u001b[0m\n\u001b[0;31mSyntaxError\u001b[0m\u001b[0;31m:\u001b[0m invalid syntax. Maybe you meant '==' or ':=' instead of '='?\n"
     ]
    }
   ],
   "source": [
    "while (response = input('Give me some input: ')) != 'quit':\n",
    "    print(response)"
   ]
  },
  {
   "cell_type": "code",
   "execution_count": 120,
   "id": "4c737b0d-d8c2-429f-8775-dc18db881de3",
   "metadata": {},
   "outputs": [
    {
     "name": "stdin",
     "output_type": "stream",
     "text": [
      "Give me some input:  hey\n"
     ]
    },
    {
     "name": "stdout",
     "output_type": "stream",
     "text": [
      "hey\n"
     ]
    },
    {
     "name": "stdin",
     "output_type": "stream",
     "text": [
      "Give me some input:  ok\n"
     ]
    },
    {
     "name": "stdout",
     "output_type": "stream",
     "text": [
      "ok\n"
     ]
    },
    {
     "name": "stdin",
     "output_type": "stream",
     "text": [
      "Give me some input:  apple\n"
     ]
    },
    {
     "name": "stdout",
     "output_type": "stream",
     "text": [
      "apple\n"
     ]
    },
    {
     "name": "stdin",
     "output_type": "stream",
     "text": [
      "Give me some input:  quit\n"
     ]
    }
   ],
   "source": [
    "while (response := input('Give me some input: ')) != 'quit':\n",
    "    print(response)"
   ]
  },
  {
   "cell_type": "code",
   "execution_count": 119,
   "id": "f8bbbc3e-c652-48b5-a475-90a9330091e5",
   "metadata": {},
   "outputs": [
    {
     "ename": "SyntaxError",
     "evalue": "invalid syntax (3972926028.py, line 1)",
     "output_type": "error",
     "traceback": [
      "\u001b[0;36m  Cell \u001b[0;32mIn[119], line 1\u001b[0;36m\u001b[0m\n\u001b[0;31m    name := 'foo'\u001b[0m\n\u001b[0m         ^\u001b[0m\n\u001b[0;31mSyntaxError\u001b[0m\u001b[0;31m:\u001b[0m invalid syntax\n"
     ]
    }
   ],
   "source": [
    "name := 'foo'"
   ]
  },
  {
   "cell_type": "code",
   "execution_count": 121,
   "id": "ace98ab5-ee79-4cce-8609-bd9c54ea9674",
   "metadata": {},
   "outputs": [],
   "source": [
    "# truthiness"
   ]
  },
  {
   "cell_type": "code",
   "execution_count": 122,
   "id": "7cdfa6cd-bfb4-4465-913b-b203958eee1f",
   "metadata": {},
   "outputs": [
    {
     "name": "stdout",
     "output_type": "stream",
     "text": [
      "hi\n"
     ]
    }
   ],
   "source": [
    "if 5 > 3:\n",
    "    print('hi')"
   ]
  },
  {
   "cell_type": "code",
   "execution_count": 123,
   "id": "3a44a0c0-6212-4da6-9fd3-745793871766",
   "metadata": {},
   "outputs": [
    {
     "name": "stdout",
     "output_type": "stream",
     "text": [
      "yep\n"
     ]
    }
   ],
   "source": [
    "if 5: # is 5 not 0 or 0.0 ?\n",
    "    print('yep')"
   ]
  },
  {
   "cell_type": "code",
   "execution_count": 124,
   "id": "6e05e602-64bb-4a62-81d4-caf9b51ceed5",
   "metadata": {},
   "outputs": [
    {
     "data": {
      "text/plain": [
       "False"
      ]
     },
     "execution_count": 124,
     "metadata": {},
     "output_type": "execute_result"
    }
   ],
   "source": [
    "5 == True"
   ]
  },
  {
   "cell_type": "code",
   "execution_count": 125,
   "id": "9cbc7da3-2480-4331-94d4-ee36dec120df",
   "metadata": {},
   "outputs": [
    {
     "name": "stdout",
     "output_type": "stream",
     "text": [
      "yep\n"
     ]
    }
   ],
   "source": [
    "value = 5\n",
    "if value:\n",
    "    print('yep')"
   ]
  },
  {
   "cell_type": "code",
   "execution_count": 126,
   "id": "3a21e17f-4165-420c-9acd-8597b448555b",
   "metadata": {},
   "outputs": [],
   "source": [
    "value = 0.0\n",
    "if value:\n",
    "    print('nope')"
   ]
  },
  {
   "cell_type": "code",
   "execution_count": 127,
   "id": "8d224a1e-e848-4679-8842-6689d0dba410",
   "metadata": {},
   "outputs": [],
   "source": [
    "stuff = []"
   ]
  },
  {
   "cell_type": "code",
   "execution_count": 131,
   "id": "12a460e9-de6e-456c-bb37-653c75cb8202",
   "metadata": {},
   "outputs": [
    {
     "name": "stdout",
     "output_type": "stream",
     "text": [
      "nope\n"
     ]
    }
   ],
   "source": [
    "if stuff:\n",
    "    print('nope')"
   ]
  },
  {
   "cell_type": "code",
   "execution_count": 132,
   "id": "94af769d-8beb-4f86-b50e-b525b439a474",
   "metadata": {},
   "outputs": [
    {
     "data": {
      "text/plain": [
       "['apple', 'fig', 'pear', 'banana']"
      ]
     },
     "execution_count": 132,
     "metadata": {},
     "output_type": "execute_result"
    }
   ],
   "source": [
    "fruits"
   ]
  },
  {
   "cell_type": "code",
   "execution_count": 133,
   "id": "369bb7b1-18c1-4251-9aa5-079c07e91dcc",
   "metadata": {},
   "outputs": [
    {
     "name": "stdout",
     "output_type": "stream",
     "text": [
      "something in there\n"
     ]
    }
   ],
   "source": [
    "if fruits:\n",
    "    print('something in there')"
   ]
  },
  {
   "cell_type": "code",
   "execution_count": 134,
   "id": "fde120bf-3b4d-49da-b16d-f43830c59d9b",
   "metadata": {},
   "outputs": [],
   "source": [
    "if not fruits:\n",
    "    print('list is empty')"
   ]
  },
  {
   "cell_type": "code",
   "execution_count": 148,
   "id": "e476b564-0f00-43cf-82f3-10f4e719363b",
   "metadata": {},
   "outputs": [
    {
     "name": "stdin",
     "output_type": "stream",
     "text": [
      "Enter please:  1\n"
     ]
    }
   ],
   "source": [
    "response = input('Enter please: ')"
   ]
  },
  {
   "cell_type": "code",
   "execution_count": 142,
   "id": "0b042e4f-409b-430f-adfc-cf57fba98ab3",
   "metadata": {},
   "outputs": [],
   "source": [
    "if response: # non-empty response\n",
    "    print('yep, they responded')"
   ]
  },
  {
   "cell_type": "code",
   "execution_count": 144,
   "id": "f5da01cf-262a-4d96-8ec2-d38c84687300",
   "metadata": {},
   "outputs": [
    {
     "data": {
      "text/plain": [
       "'0'"
      ]
     },
     "execution_count": 144,
     "metadata": {},
     "output_type": "execute_result"
    }
   ],
   "source": [
    "response"
   ]
  },
  {
   "cell_type": "code",
   "execution_count": 149,
   "id": "8e80c57f-07f5-4cc5-83a6-d8052724983c",
   "metadata": {},
   "outputs": [
    {
     "data": {
      "text/plain": [
       "1"
      ]
     },
     "execution_count": 149,
     "metadata": {},
     "output_type": "execute_result"
    }
   ],
   "source": [
    "int(response)"
   ]
  },
  {
   "cell_type": "code",
   "execution_count": 150,
   "id": "23663695-db38-46dc-a908-3a3aa68c7c5e",
   "metadata": {},
   "outputs": [
    {
     "name": "stdout",
     "output_type": "stream",
     "text": [
      "non-zero number\n"
     ]
    }
   ],
   "source": [
    "if int(response): \n",
    "    print('non-zero number')"
   ]
  },
  {
   "cell_type": "code",
   "execution_count": 155,
   "id": "f714aadb-4a67-4b21-a2d1-5ab264b67f4c",
   "metadata": {},
   "outputs": [
    {
     "name": "stdout",
     "output_type": "stream",
     "text": [
      "BankAccount2(Bruce Lee\n"
     ]
    }
   ],
   "source": [
    "print('BankAccount2(' + 'Bruce Lee')"
   ]
  },
  {
   "cell_type": "code",
   "execution_count": 156,
   "id": "29c1900c-002f-48b4-835f-e3aa1f6cfbac",
   "metadata": {},
   "outputs": [
    {
     "name": "stdout",
     "output_type": "stream",
     "text": [
      "BankAccount2('Bruce Lee'\n"
     ]
    }
   ],
   "source": [
    "print('BankAccount2(' + repr('Bruce Lee'))"
   ]
  },
  {
   "cell_type": "code",
   "execution_count": null,
   "id": "5518c063-c7f9-4949-80b5-52b6fd552e10",
   "metadata": {},
   "outputs": [],
   "source": []
  }
 ],
 "metadata": {
  "kernelspec": {
   "display_name": "Python 3 (ipykernel)",
   "language": "python",
   "name": "python3"
  },
  "language_info": {
   "codemirror_mode": {
    "name": "ipython",
    "version": 3
   },
   "file_extension": ".py",
   "mimetype": "text/x-python",
   "name": "python",
   "nbconvert_exporter": "python",
   "pygments_lexer": "ipython3",
   "version": "3.12.2"
  }
 },
 "nbformat": 4,
 "nbformat_minor": 5
}
