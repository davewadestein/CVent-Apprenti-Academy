{
 "cells": [
  {
   "cell_type": "markdown",
   "id": "ae3bb18a-52d7-4641-bbb4-57c22dbb5032",
   "metadata": {
    "jp-MarkdownHeadingCollapsed": true
   },
   "source": [
    "# Important things to know about coding\n",
    "* you have a limited palette\n",
    "  * you have a limited set of things you can say\n",
    "  * that set gets smaller as we move closer to CPU\n",
    "  * corollary: machine code/assembly langauage is going to be lengthier than our code\n",
    "* precision matters\n",
    "  * PB&J challenge\n",
    "  * brushing your teeth\n",
    "    1. start with toothbrush and toothpaste (buy at store)\n",
    "    2. open the toothpaste container\n",
    "    3. optional: wet the toothbrush \n",
    "    4. squeeze a pea-sized amount of toothpaste onto the bristles of the toothbrush\n",
    "    5. optional: wet the toothbrush/toothpaste...\n",
    "    6. open your mouth\n",
    "    7. put the bristle-side/toothpaste side into your mouth\n",
    "    8. imagine your mouth is divided into 4 quadrant upper left, upper right, lower left, lower right and start by positioning the toothbrush next to a tooth in that quadrant\n",
    "    9. brush along the teeth up and down on the surface, inside for 30 seconds per quadrant\n",
    "* Hal Abelson: \"Programs are written for other people to read and only incidentally for computers to run.\"\n",
    "* Eagleson's Law: \"Any code you wrote more than 6 months ago might as well have been written by someone by else.\"\n",
    "* DWS: \"Prefer clean code to comments\"\n",
    "* DWS: \"Efficiency doesn't matter until it matters, and it rarely matters\"\n",
    "* \"Premature optimization is the root of all evil (or at least most of it)\" – C.A.R. 'Tony' Hoare\n",
    "* \"Program testing can be used to show the presence of bugs, but never their absence.\" –Dijkstra\n",
    "* DRY = Don't Repeat Yourself\n",
    "* LBYL vs. EAFP\n",
    "  * Look Before You Leap = check to see if an error will occur and avoid it\n",
    "  * Easier to Ask Forgiveness than Permission = do the thing, and catch the error\n",
    "  * DWS opinion: Use LBYL when it's easy, otherwise EAFP"
   ]
  },
  {
   "cell_type": "markdown",
   "id": "dbe4f12e-f8c8-409c-975f-147c4c71d7f1",
   "metadata": {},
   "source": [
    "# Important Things to Know About Python\n",
    "* everything in Python is an object\n",
    "  * they live in memory and we can inspect them\n",
    "  * everything has data (\"slots\" or \"fields\" or \"attributes\") and possibly methods hanging off of them or as part of them\n",
    "* mutable vs. immutable data types\n",
    "  * immutable: str, tuple\n",
    "  * mutable: list, set, dict\n",
    "* scalars vs. containers\n",
    "  * scalars: int, float, bool\n",
    "  * containers: 0+ items... str, list, set, dict, tuple\n",
    "* Boolean expression in Python can be \"truthy\" ... \"truthiness\"\n",
    "   * 0 and 0.0 are considered False in a Boolean context\n",
    "     * any other numbers are considered True in a Boolean context\n",
    "   * empty containers are considered False in a Boolean context\n",
    "     * non-empty containers are considered True \" \" \" \"\n",
    "   * __`None`__ is considered False in a Boolean context\n",
    "* dynamic typing\n",
    "  * you can reassign variables with something of a different type (could be bad)\n",
    "  * you can just start using your variables\n",
    "  * more flexible because our functions can be \"duck typed\"\n",
    "    * \"if it walks like a duck and it quacks like a duck, I'm going to call it a duck\"\n",
    "    * functions don't have to look for a particular data type to be passed to them,\n",
    "      instead, they can expect their parameters to exhibit a particular attribute"
   ]
  },
  {
   "cell_type": "markdown",
   "id": "8c8d573f-3591-4031-84d9-63e4eabac8ef",
   "metadata": {},
   "source": [
    "# \"Pythonic\"\n",
    "* \"My name's Rick and I'm a Java programmer and I've been teaching myself Python, but my Python looks like Java\"\n",
    "* writing your code in such a way that it's familiar to other programmers\n",
    "  * using idioms\n",
    "* use __`.split()`__ to initialize lists, e.g,. __`fruits = 'apple fig pear'.split()`__\n",
    "* don't use indexing in for loops unless you need it\n",
    "  * __`for thing in container`__ is preferable to __`for index in range(len(container)): ...container[index]`__\n",
    "* __`container[-1]`__ always meant the last element of the container\n",
    "  * prefer to __`container[len(container) - 1]`__\n",
    "* __`container[:n]`__ gives us the first n elements in container\n",
    "* __`container[n:]`__ gives us element n on to the end\n",
    "* __`container[-n:]`__ gives us the last n items\n",
    "* __`container[:-n]`__ gives us all but the last n items\n",
    "* truthiness!\n",
    "* __`for _ in range(n)`__ can only mean repeat an action n times\n",
    "   * (and should only be used when you don't need the loop var in the loop\n",
    "* if an object is difficult to work with, consider changing its type"
   ]
  },
  {
   "cell_type": "markdown",
   "id": "01d3faa3-105d-4a21-9ceb-c8631f767506",
   "metadata": {},
   "source": [
    "# DWS's \"Patented\" Method for Getting Better at Coding/Programming\n",
    "1. solve a problem you've already solved in another way\n",
    "2. add features to a program, even if you don't need them"
   ]
  },
  {
   "cell_type": "code",
   "execution_count": null,
   "id": "c5e6a658-d638-4400-9cb9-a02ff47953ea",
   "metadata": {},
   "outputs": [],
   "source": []
  },
  {
   "cell_type": "markdown",
   "id": "673104be-f439-4375-b1ba-44da33a81617",
   "metadata": {},
   "source": [
    "# Steps for writing code\n",
    "1. write down the steps in a form that you could hand to another person (English)\n",
    "2. refine those steps into \"pseudocode\""
   ]
  },
  {
   "cell_type": "markdown",
   "id": "15a0a0e9-7175-4979-a779-a02dbe6e8b32",
   "metadata": {
    "jupyter": {
     "source_hidden": true
    }
   },
   "source": [
    "# Wordle: steps for a human\n",
    "1. pick a 5-letter word and keep it to yourself, don't tell me\n",
    "2. on the paper, draw 5 squares or other indications of the 5 letters that the player can write their guess in\n",
    "3. player should guess a 5-letter word and write that word in the boxes/on the lines to indicate their guess\n",
    "4. circle any letters that are in the correct position (player is trying to guess the word)\n",
    "5. underline any letters that are actually in the word, but are in the correct position\n",
    "6. don't do anything with letters that are wrong, i.e., are not in the word they are trying to guess\n",
    "7. repeat steps 2-6 four more times or until they guess the word"
   ]
  },
  {
   "cell_type": "code",
   "execution_count": 64,
   "id": "ce51967a-267b-4986-a91c-20d83e90eb35",
   "metadata": {},
   "outputs": [],
   "source": [
    "def fibonacci(n):\n",
    "    print(f'calling fibonacci({n})')\n",
    "    # base cases\n",
    "    # fib(0) = 0\n",
    "    # fib(1) = 1\n",
    "    # everything else\n",
    "    # fib(n) = fib(n-1) + fib(n-2)\n",
    "    if 0 <= n <= 1:\n",
    "        return n\n",
    "    return fibonacci(n-1) + fibonacci(n-2)"
   ]
  },
  {
   "cell_type": "code",
   "execution_count": null,
   "id": "adfceb37-9b81-4438-9cb7-7f1a967b52dc",
   "metadata": {},
   "outputs": [],
   "source": [
    "# Wordle: pseudocode\n",
    "# 1. pick one of our stored 5-letters words\n",
    "# 2. \"guess a 5-letter word\"\n",
    "# 2a. guess counter = 0 \n",
    "# 3. until user has taken 6 guesses\n",
    "# 4. ----- maybe\n",
    "# 5. get a 5-letter word from the user\n",
    "# 6. if any of the 5 are not letters:\n",
    "# 7.     error msg + go back to step 4\n",
    "# 8. if length of word != 5:\n",
    "# 9.     error msg + go back to step 4\n",
    "# 10. for each letter of their guess: \n",
    "# 11.    if it matches the letter in word in the same position:\n",
    "# 12.         we'll indicate that by printing the letter itself\n",
    "# 13.    elif it matches a letter elsewhere in the word (i.e., not in the same position)\n",
    "# 14.         we'll indicate that by printing a '?'\n",
    "# 15.    else indicate totally wrong with -"
   ]
  },
  {
   "cell_type": "code",
   "execution_count": 70,
   "id": "e90ee873-c8d8-43c1-a286-5a9140be9ff3",
   "metadata": {},
   "outputs": [],
   "source": [
    "def get_valid_guess():\n",
    "    \"\"\"Repeatedly prompt the user for a guess until they enter a valid guess:\n",
    "    - must be exactly 5 letters\n",
    "    - must be letters only\n",
    "    - \"must be a word\" ... we won't do this part\n",
    "    \"\"\"\n",
    "    while True: # infinite loop\n",
    "        # 1. get input from user\n",
    "        guess = input('What is your guess? ').upper()\n",
    "        # 2. ensure length is 5\n",
    "        if len(guess) != 5:\n",
    "            print('Supposed to be 5 letters!')\n",
    "        # 3. ensure only letters\n",
    "        elif not guess.isalpha():\n",
    "            print('Non-letter found!')\n",
    "        # 4. return the valid guess\n",
    "        else:\n",
    "            return guess"
   ]
  },
  {
   "cell_type": "code",
   "execution_count": 110,
   "id": "af894928-92a1-483b-8367-a93a3b8b75cf",
   "metadata": {},
   "outputs": [],
   "source": [
    "def check_letters(user_guess, word):\n",
    "    \"\"\"Compare user's guess to the word and identify exact and inexact matches.\"\"\"\n",
    "    response_str = ''\n",
    "    \n",
    "    for index, letter in enumerate(user_guess): # 10\n",
    "        if letter == word[index]: # 11\n",
    "            # exact match based on position\n",
    "            response_str += letter # str-based solution for 12\n",
    "        elif letter in word: # 13 , inexact match\n",
    "            response_str += '?'\n",
    "        else:\n",
    "            response_str += '-'\n",
    "\n",
    "    return response_str"
   ]
  },
  {
   "cell_type": "code",
   "execution_count": 115,
   "id": "bcab717d-db48-478a-aac6-5f087a6f2136",
   "metadata": {},
   "outputs": [
    {
     "data": {
      "text/plain": [
       "['/Users/dave-wadestein/Downloads/Apprenti-Learn-to-Code-Python',\n",
       " '/opt/anaconda3/lib/python311.zip',\n",
       " '/opt/anaconda3/lib/python3.11',\n",
       " '/opt/anaconda3/lib/python3.11/lib-dynload',\n",
       " '',\n",
       " '/opt/anaconda3/lib/python3.11/site-packages',\n",
       " '/opt/anaconda3/lib/python3.11/site-packages/aeosa']"
      ]
     },
     "execution_count": 115,
     "metadata": {},
     "output_type": "execute_result"
    }
   ],
   "source": [
    "import sys\n",
    "sys.path"
   ]
  },
  {
   "cell_type": "code",
   "execution_count": 116,
   "id": "56957508-e2f6-4624-8519-a8aab74a3a55",
   "metadata": {},
   "outputs": [
    {
     "data": {
      "text/plain": [
       "['/Users/dave-wadestein/Downloads/Apprenti-Learn-to-Code-Python',\n",
       " '/opt/anaconda3/lib/python311.zip',\n",
       " '/opt/anaconda3/lib/python3.11',\n",
       " '/opt/anaconda3/lib/python3.11/lib-dynload',\n",
       " '',\n",
       " '/opt/anaconda3/lib/python3.11/site-packages',\n",
       " '/opt/anaconda3/lib/python3.11/site-packages/aeosa',\n",
       " '/cvent/specific/dir']"
      ]
     },
     "execution_count": 116,
     "metadata": {},
     "output_type": "execute_result"
    }
   ],
   "source": [
    "sys.path.append('/cvent/specific/dir')\n",
    "sys.path"
   ]
  },
  {
   "cell_type": "code",
   "execution_count": 111,
   "id": "ad42519c-9b9b-4539-9a3c-0c99137baedd",
   "metadata": {},
   "outputs": [
    {
     "data": {
      "text/plain": [
       "'??--e'"
      ]
     },
     "execution_count": 111,
     "metadata": {},
     "output_type": "execute_result"
    }
   ],
   "source": [
    "check_letters('paste', 'apple')"
   ]
  },
  {
   "cell_type": "code",
   "execution_count": 71,
   "id": "6bd02a49-e497-4a97-b01c-8ac506ba4965",
   "metadata": {},
   "outputs": [
    {
     "name": "stdin",
     "output_type": "stream",
     "text": [
      "What is your guess?  j\n"
     ]
    },
    {
     "name": "stdout",
     "output_type": "stream",
     "text": [
      "Supposed to be 5 letters!\n"
     ]
    },
    {
     "name": "stdin",
     "output_type": "stream",
     "text": [
      "What is your guess?  12345\n"
     ]
    },
    {
     "name": "stdout",
     "output_type": "stream",
     "text": [
      "Non-letter found!\n"
     ]
    },
    {
     "name": "stdin",
     "output_type": "stream",
     "text": [
      "What is your guess?  hello\n"
     ]
    },
    {
     "data": {
      "text/plain": [
       "'HELLO'"
      ]
     },
     "execution_count": 71,
     "metadata": {},
     "output_type": "execute_result"
    }
   ],
   "source": [
    "get_valid_guess()"
   ]
  },
  {
   "cell_type": "code",
   "execution_count": 113,
   "id": "ac053c4c-a4da-4a89-a136-8af5c4a60b8e",
   "metadata": {},
   "outputs": [
    {
     "name": "stdout",
     "output_type": "stream",
     "text": [
      "WORDLE: I picked a 5-letter word and you should guess it.\n"
     ]
    },
    {
     "name": "stdin",
     "output_type": "stream",
     "text": [
      "What is your guess?  apple\n"
     ]
    },
    {
     "name": "stdout",
     "output_type": "stream",
     "text": [
      "-----\n"
     ]
    },
    {
     "name": "stdin",
     "output_type": "stream",
     "text": [
      "What is your guess?  groan\n"
     ]
    },
    {
     "name": "stdout",
     "output_type": "stream",
     "text": [
      "?---?\n"
     ]
    },
    {
     "name": "stdin",
     "output_type": "stream",
     "text": [
      "What is your guess?  groan\n"
     ]
    },
    {
     "name": "stdout",
     "output_type": "stream",
     "text": [
      "?---?\n"
     ]
    },
    {
     "name": "stdin",
     "output_type": "stream",
     "text": [
      "What is your guess?  groan\n"
     ]
    },
    {
     "name": "stdout",
     "output_type": "stream",
     "text": [
      "?---?\n"
     ]
    },
    {
     "name": "stdin",
     "output_type": "stream",
     "text": [
      "What is your guess?  groan\n"
     ]
    },
    {
     "name": "stdout",
     "output_type": "stream",
     "text": [
      "?---?\n"
     ]
    },
    {
     "name": "stdin",
     "output_type": "stream",
     "text": [
      "What is your guess?  groan\n"
     ]
    },
    {
     "name": "stdout",
     "output_type": "stream",
     "text": [
      "?---?\n",
      "The word was DINGY\n"
     ]
    }
   ],
   "source": [
    "import random\n",
    "secret_word = random.choice(word_list).upper() # good catch, Joanna\n",
    "\n",
    "print('WORDLE: I picked a 5-letter word and you should guess it.') # 2\n",
    "guess_count = 0 # 2a\n",
    "\n",
    "while guess_count < 6: # 3\n",
    "    guess = get_valid_guess() # 5\n",
    "    guess_count += 1\n",
    "    \n",
    "    if guess == secret_word:\n",
    "        print(f'You got it in {guess_count} guesses!')\n",
    "        break # out of the while loop cuz we're done\n",
    "\n",
    "    print(check_letters(guess, secret_word))\n",
    "\n",
    "else: # the code in here (this else clause) is only run if we DID NOT BREAK out of the loop\n",
    "    print('The word was', secret_word)"
   ]
  },
  {
   "cell_type": "code",
   "execution_count": 87,
   "id": "37687675-edf6-494d-8eaa-c742158ea58b",
   "metadata": {},
   "outputs": [
    {
     "data": {
      "text/plain": [
       "2315"
      ]
     },
     "execution_count": 87,
     "metadata": {},
     "output_type": "execute_result"
    }
   ],
   "source": [
    "len(word_list)"
   ]
  },
  {
   "cell_type": "code",
   "execution_count": null,
   "id": "f8f60b1f-070a-44d2-9114-8134582e5a6d",
   "metadata": {},
   "outputs": [],
   "source": [
    "import random"
   ]
  },
  {
   "cell_type": "code",
   "execution_count": 94,
   "id": "c870a582-c03d-4f0f-a9a0-f705440d685d",
   "metadata": {},
   "outputs": [
    {
     "data": {
      "text/plain": [
       "['BPF',\n",
       " 'LOG4',\n",
       " 'NV_MAGICCONST',\n",
       " 'RECIP_BPF',\n",
       " 'Random',\n",
       " 'SG_MAGICCONST',\n",
       " 'SystemRandom',\n",
       " 'TWOPI',\n",
       " '_ONE',\n",
       " '_Sequence',\n",
       " '_Set',\n",
       " '__all__',\n",
       " '__builtins__',\n",
       " '__cached__',\n",
       " '__doc__',\n",
       " '__file__',\n",
       " '__loader__',\n",
       " '__name__',\n",
       " '__package__',\n",
       " '__spec__',\n",
       " '_accumulate',\n",
       " '_acos',\n",
       " '_bisect',\n",
       " '_ceil',\n",
       " '_cos',\n",
       " '_e',\n",
       " '_exp',\n",
       " '_floor',\n",
       " '_index',\n",
       " '_inst',\n",
       " '_isfinite',\n",
       " '_log',\n",
       " '_os',\n",
       " '_pi',\n",
       " '_random',\n",
       " '_repeat',\n",
       " '_sha512',\n",
       " '_sin',\n",
       " '_sqrt',\n",
       " '_test',\n",
       " '_test_generator',\n",
       " '_urandom',\n",
       " '_warn',\n",
       " 'betavariate',\n",
       " 'choice',\n",
       " 'choices',\n",
       " 'expovariate',\n",
       " 'gammavariate',\n",
       " 'gauss',\n",
       " 'getrandbits',\n",
       " 'getstate',\n",
       " 'lognormvariate',\n",
       " 'normalvariate',\n",
       " 'paretovariate',\n",
       " 'randbytes',\n",
       " 'randint',\n",
       " 'random',\n",
       " 'randrange',\n",
       " 'sample',\n",
       " 'seed',\n",
       " 'setstate',\n",
       " 'shuffle',\n",
       " 'triangular',\n",
       " 'uniform',\n",
       " 'vonmisesvariate',\n",
       " 'weibullvariate']"
      ]
     },
     "execution_count": 94,
     "metadata": {},
     "output_type": "execute_result"
    }
   ],
   "source": [
    "dir(random)"
   ]
  },
  {
   "cell_type": "code",
   "execution_count": 88,
   "id": "bbf76af4-4d59-4878-8b13-cd6ab95015d1",
   "metadata": {},
   "outputs": [
    {
     "data": {
      "text/plain": [
       "1391"
      ]
     },
     "execution_count": 88,
     "metadata": {},
     "output_type": "execute_result"
    }
   ],
   "source": [
    "random.randint(0, len(word_list) - 1)"
   ]
  },
  {
   "cell_type": "code",
   "execution_count": 93,
   "id": "9ebb4a49-7800-4778-a0fa-9296eaf90ec6",
   "metadata": {},
   "outputs": [
    {
     "data": {
      "text/plain": [
       "1798"
      ]
     },
     "execution_count": 93,
     "metadata": {},
     "output_type": "execute_result"
    }
   ],
   "source": [
    "random.randrange(0, len(word_list))"
   ]
  },
  {
   "cell_type": "code",
   "execution_count": 99,
   "id": "722e6ef6-7790-4e45-903c-e37a583d3a43",
   "metadata": {},
   "outputs": [
    {
     "data": {
      "text/plain": [
       "'print'"
      ]
     },
     "execution_count": 99,
     "metadata": {},
     "output_type": "execute_result"
    }
   ],
   "source": [
    "random.choice(word_list)"
   ]
  },
  {
   "cell_type": "code",
   "execution_count": 91,
   "id": "3fd7aa52-ab28-48b2-8ef1-5d728a92f935",
   "metadata": {},
   "outputs": [
    {
     "name": "stdout",
     "output_type": "stream",
     "text": [
      "0\n",
      "1\n",
      "2\n"
     ]
    }
   ],
   "source": [
    "for index in range(3):\n",
    "    print(index)"
   ]
  },
  {
   "cell_type": "code",
   "execution_count": 4,
   "id": "9be549f3-503c-4a5e-8526-96788ec29dc0",
   "metadata": {},
   "outputs": [],
   "source": [
    "name = 'aidan'"
   ]
  },
  {
   "cell_type": "code",
   "execution_count": 5,
   "id": "28bcded8-b492-44f0-a35f-77fb14f87001",
   "metadata": {},
   "outputs": [
    {
     "ename": "TypeError",
     "evalue": "'str' object does not support item assignment",
     "output_type": "error",
     "traceback": [
      "\u001b[0;31m---------------------------------------------------------------------------\u001b[0m",
      "\u001b[0;31mTypeError\u001b[0m                                 Traceback (most recent call last)",
      "Cell \u001b[0;32mIn[5], line 1\u001b[0m\n\u001b[0;32m----> 1\u001b[0m name[\u001b[38;5;241m0\u001b[39m] \u001b[38;5;241m=\u001b[39m \u001b[38;5;124m'\u001b[39m\u001b[38;5;124mA\u001b[39m\u001b[38;5;124m'\u001b[39m\n",
      "\u001b[0;31mTypeError\u001b[0m: 'str' object does not support item assignment"
     ]
    }
   ],
   "source": [
    "name[0] = 'A'"
   ]
  },
  {
   "cell_type": "code",
   "execution_count": 6,
   "id": "1fad399a-eb44-415e-bef4-9216ea1c1271",
   "metadata": {},
   "outputs": [],
   "source": [
    "name = 'Aidan'"
   ]
  },
  {
   "cell_type": "code",
   "execution_count": 7,
   "id": "855b5475-e7af-416a-ade8-fc5a8670fef3",
   "metadata": {},
   "outputs": [],
   "source": [
    "response = ''"
   ]
  },
  {
   "cell_type": "code",
   "execution_count": 10,
   "id": "8e4b622e-f71c-4ce8-89f7-fae35a1c3906",
   "metadata": {},
   "outputs": [],
   "source": [
    "response += '?'"
   ]
  },
  {
   "cell_type": "code",
   "execution_count": 11,
   "id": "1399ee16-7e3f-41ce-8184-6a68c0ad2de7",
   "metadata": {},
   "outputs": [
    {
     "data": {
      "text/plain": [
       "'??'"
      ]
     },
     "execution_count": 11,
     "metadata": {},
     "output_type": "execute_result"
    }
   ],
   "source": [
    "response"
   ]
  },
  {
   "cell_type": "code",
   "execution_count": 14,
   "id": "a41f8737-5bca-4eff-82fd-5fe4c43bdbc3",
   "metadata": {},
   "outputs": [],
   "source": [
    "response += '-'"
   ]
  },
  {
   "cell_type": "code",
   "execution_count": 15,
   "id": "2ccad3ec-27ea-45bb-9a41-7e354c7bf5d8",
   "metadata": {},
   "outputs": [
    {
     "data": {
      "text/plain": [
       "'??--'"
      ]
     },
     "execution_count": 15,
     "metadata": {},
     "output_type": "execute_result"
    }
   ],
   "source": [
    "response"
   ]
  },
  {
   "cell_type": "code",
   "execution_count": 16,
   "id": "643574f8-e6c5-405f-b79e-5c6c911cdf4c",
   "metadata": {},
   "outputs": [],
   "source": [
    "response += 'E' # Joanna's solution"
   ]
  },
  {
   "cell_type": "code",
   "execution_count": 18,
   "id": "c541840b-85dc-4bfe-8b3f-9a9764779a26",
   "metadata": {},
   "outputs": [
    {
     "data": {
      "text/plain": [
       "'??--E'"
      ]
     },
     "execution_count": 18,
     "metadata": {},
     "output_type": "execute_result"
    }
   ],
   "source": [
    "response"
   ]
  },
  {
   "cell_type": "code",
   "execution_count": 21,
   "id": "4b7ce2e0-4ace-4b61-9cbf-f1aa14ce50b0",
   "metadata": {
    "jupyter": {
     "source_hidden": true
    }
   },
   "outputs": [],
   "source": [
    "response = '- - - - -'.split() # \"Pythonic\" way to generate a list in your code "
   ]
  },
  {
   "cell_type": "code",
   "execution_count": 23,
   "id": "2d5afc54-177f-4c5f-8013-0ddbbb25a0da",
   "metadata": {},
   "outputs": [
    {
     "data": {
      "text/plain": [
       "['-', '-', '-', '-', '-']"
      ]
     },
     "execution_count": 23,
     "metadata": {},
     "output_type": "execute_result"
    }
   ],
   "source": [
    "response"
   ]
  },
  {
   "cell_type": "code",
   "execution_count": 51,
   "id": "3b4dc344-85be-4465-9880-3a416adaae0b",
   "metadata": {},
   "outputs": [],
   "source": [
    "response[4] = guess[4]"
   ]
  },
  {
   "cell_type": "code",
   "execution_count": 52,
   "id": "cf2f2198-d0dc-4ebc-9af6-5c6f9bb5aecb",
   "metadata": {},
   "outputs": [
    {
     "data": {
      "text/plain": [
       "['-', '-', '-', '-', 'E']"
      ]
     },
     "execution_count": 52,
     "metadata": {},
     "output_type": "execute_result"
    }
   ],
   "source": [
    "response"
   ]
  },
  {
   "cell_type": "code",
   "execution_count": 24,
   "id": "3bfb32b2-ceab-4cbd-aa97-7193a3180fb0",
   "metadata": {},
   "outputs": [],
   "source": [
    "guess = 'PASTE'"
   ]
  },
  {
   "cell_type": "code",
   "execution_count": 54,
   "id": "8dd63721-5ec9-4b50-9fc2-a5993fbee680",
   "metadata": {},
   "outputs": [
    {
     "data": {
      "text/plain": [
       "['?', '-', '-', '-', 'E']"
      ]
     },
     "execution_count": 54,
     "metadata": {},
     "output_type": "execute_result"
    }
   ],
   "source": [
    "response[0] = '?'\n",
    "response"
   ]
  },
  {
   "cell_type": "code",
   "execution_count": 55,
   "id": "b43d684f-85f0-43a5-b73b-3d9236bef57e",
   "metadata": {},
   "outputs": [
    {
     "data": {
      "text/plain": [
       "'?---E'"
      ]
     },
     "execution_count": 55,
     "metadata": {},
     "output_type": "execute_result"
    }
   ],
   "source": [
    "''.join(response)"
   ]
  },
  {
   "cell_type": "code",
   "execution_count": 25,
   "id": "157eccc4-6bee-448a-8e79-375b14742d6a",
   "metadata": {},
   "outputs": [
    {
     "data": {
      "text/plain": [
       "6"
      ]
     },
     "execution_count": 25,
     "metadata": {},
     "output_type": "execute_result"
    }
   ],
   "source": [
    "len('string')"
   ]
  },
  {
   "cell_type": "code",
   "execution_count": 26,
   "id": "b255db7d-897e-44cb-8452-fac83eca28f9",
   "metadata": {},
   "outputs": [
    {
     "data": {
      "text/plain": [
       "3"
      ]
     },
     "execution_count": 26,
     "metadata": {},
     "output_type": "execute_result"
    }
   ],
   "source": [
    "len([1, 2, 3])"
   ]
  },
  {
   "cell_type": "code",
   "execution_count": 27,
   "id": "11da8ec0-d213-4a09-ab0a-d723157b497b",
   "metadata": {},
   "outputs": [
    {
     "data": {
      "text/plain": [
       "3"
      ]
     },
     "execution_count": 27,
     "metadata": {},
     "output_type": "execute_result"
    }
   ],
   "source": [
    "len((1, 2, 3))"
   ]
  },
  {
   "cell_type": "code",
   "execution_count": 28,
   "id": "e46c101e-4a2d-4738-831d-38720c5c3769",
   "metadata": {},
   "outputs": [
    {
     "data": {
      "text/plain": [
       "3"
      ]
     },
     "execution_count": 28,
     "metadata": {},
     "output_type": "execute_result"
    }
   ],
   "source": [
    "len({'tall': 12, 'grande': 16, 'venti': 20})"
   ]
  },
  {
   "cell_type": "code",
   "execution_count": 29,
   "id": "ba686678-dd8a-4761-a0c2-280481dff2a3",
   "metadata": {},
   "outputs": [
    {
     "ename": "TypeError",
     "evalue": "object of type 'float' has no len()",
     "output_type": "error",
     "traceback": [
      "\u001b[0;31m---------------------------------------------------------------------------\u001b[0m",
      "\u001b[0;31mTypeError\u001b[0m                                 Traceback (most recent call last)",
      "Cell \u001b[0;32mIn[29], line 1\u001b[0m\n\u001b[0;32m----> 1\u001b[0m \u001b[38;5;28mlen\u001b[39m(\u001b[38;5;241m4.5\u001b[39m)\n",
      "\u001b[0;31mTypeError\u001b[0m: object of type 'float' has no len()"
     ]
    }
   ],
   "source": [
    "len(4.5)"
   ]
  },
  {
   "cell_type": "code",
   "execution_count": 30,
   "id": "7690f38a-e1fd-49df-97ee-fee3f351b886",
   "metadata": {},
   "outputs": [
    {
     "ename": "TypeError",
     "evalue": "object of type 'int' has no len()",
     "output_type": "error",
     "traceback": [
      "\u001b[0;31m---------------------------------------------------------------------------\u001b[0m",
      "\u001b[0;31mTypeError\u001b[0m                                 Traceback (most recent call last)",
      "Cell \u001b[0;32mIn[30], line 1\u001b[0m\n\u001b[0;32m----> 1\u001b[0m \u001b[38;5;28mlen\u001b[39m(\u001b[38;5;241m4\u001b[39m)\n",
      "\u001b[0;31mTypeError\u001b[0m: object of type 'int' has no len()"
     ]
    }
   ],
   "source": [
    "len(4)"
   ]
  },
  {
   "cell_type": "code",
   "execution_count": 31,
   "id": "dd54f755-5fd3-4a41-ba69-282ae844504c",
   "metadata": {},
   "outputs": [
    {
     "ename": "TypeError",
     "evalue": "'int' object is not iterable",
     "output_type": "error",
     "traceback": [
      "\u001b[0;31m---------------------------------------------------------------------------\u001b[0m",
      "\u001b[0;31mTypeError\u001b[0m                                 Traceback (most recent call last)",
      "Cell \u001b[0;32mIn[31], line 1\u001b[0m\n\u001b[0;32m----> 1\u001b[0m \u001b[38;5;28msorted\u001b[39m(\u001b[38;5;241m5\u001b[39m)\n",
      "\u001b[0;31mTypeError\u001b[0m: 'int' object is not iterable"
     ]
    }
   ],
   "source": [
    "sorted(5)"
   ]
  },
  {
   "cell_type": "code",
   "execution_count": 32,
   "id": "a4712968-da41-4a36-8cf4-6f64791a318f",
   "metadata": {},
   "outputs": [
    {
     "data": {
      "text/plain": [
       "0"
      ]
     },
     "execution_count": 32,
     "metadata": {},
     "output_type": "execute_result"
    }
   ],
   "source": [
    "min(1, 2, 0)"
   ]
  },
  {
   "cell_type": "code",
   "execution_count": 33,
   "id": "965c510f-845e-4223-831a-8d0996287804",
   "metadata": {},
   "outputs": [
    {
     "data": {
      "text/plain": [
       "-3.5"
      ]
     },
     "execution_count": 33,
     "metadata": {},
     "output_type": "execute_result"
    }
   ],
   "source": [
    "min(1.5, 2.5, -3.5)"
   ]
  },
  {
   "cell_type": "code",
   "execution_count": 34,
   "id": "055b4d38-c626-4543-875d-58b719ed1873",
   "metadata": {},
   "outputs": [
    {
     "data": {
      "text/plain": [
       "'apple'"
      ]
     },
     "execution_count": 34,
     "metadata": {},
     "output_type": "execute_result"
    }
   ],
   "source": [
    "min('apple', 'fig')"
   ]
  },
  {
   "cell_type": "code",
   "execution_count": 35,
   "id": "a2c50780-4ea9-4ccd-a9ab-85e0cd449563",
   "metadata": {},
   "outputs": [
    {
     "name": "stdout",
     "output_type": "stream",
     "text": [
      "1\n"
     ]
    }
   ],
   "source": [
    "print(1)"
   ]
  },
  {
   "cell_type": "code",
   "execution_count": 36,
   "id": "2dc6f440-c51d-4bd7-a5ea-139adc4d77db",
   "metadata": {},
   "outputs": [
    {
     "name": "stdout",
     "output_type": "stream",
     "text": [
      "1.2\n"
     ]
    }
   ],
   "source": [
    "print(1.2)"
   ]
  },
  {
   "cell_type": "code",
   "execution_count": 37,
   "id": "445a7408-6546-4371-8d58-08b4605c567c",
   "metadata": {},
   "outputs": [],
   "source": [
    "import random"
   ]
  },
  {
   "cell_type": "code",
   "execution_count": 38,
   "id": "9b7deee0-4e5f-4e77-8ce3-8ce90e5c14ae",
   "metadata": {},
   "outputs": [
    {
     "name": "stdout",
     "output_type": "stream",
     "text": [
      "<module 'random' from '/opt/anaconda3/lib/python3.11/random.py'>\n"
     ]
    }
   ],
   "source": [
    "print(random)"
   ]
  },
  {
   "cell_type": "code",
   "execution_count": 39,
   "id": "26a5de43-c28d-4491-84d3-7acb7fcb6dd8",
   "metadata": {},
   "outputs": [
    {
     "name": "stdout",
     "output_type": "stream",
     "text": [
      "\n"
     ]
    }
   ],
   "source": [
    "print()"
   ]
  },
  {
   "cell_type": "code",
   "execution_count": 40,
   "id": "ce0a37de-ebbe-48a5-9bdd-656cf6dd05ce",
   "metadata": {},
   "outputs": [
    {
     "name": "stdout",
     "output_type": "stream",
     "text": [
      "1 2 3 <module 'random' from '/opt/anaconda3/lib/python3.11/random.py'>\n"
     ]
    }
   ],
   "source": [
    "print(1, 2, 3, random)"
   ]
  },
  {
   "cell_type": "code",
   "execution_count": 41,
   "id": "9599396d-e9ff-4d24-8b1f-bffae7574d66",
   "metadata": {},
   "outputs": [
    {
     "data": {
      "text/plain": [
       "['P', 'y', 't', 'h', 'o', 'n']"
      ]
     },
     "execution_count": 41,
     "metadata": {},
     "output_type": "execute_result"
    }
   ],
   "source": [
    "list('Python') # list-ify = generate"
   ]
  },
  {
   "cell_type": "code",
   "execution_count": 43,
   "id": "edca49fb-a785-4130-89d7-dadb29a26d14",
   "metadata": {},
   "outputs": [
    {
     "data": {
      "text/plain": [
       "['Python', 'is', 'fun']"
      ]
     },
     "execution_count": 43,
     "metadata": {},
     "output_type": "execute_result"
    }
   ],
   "source": [
    "'Python is fun'.split()"
   ]
  },
  {
   "cell_type": "code",
   "execution_count": 44,
   "id": "91acec86-a020-4839-b215-b645e7f1ecb0",
   "metadata": {},
   "outputs": [],
   "source": [
    "words = 'this that other'.split()"
   ]
  },
  {
   "cell_type": "code",
   "execution_count": 45,
   "id": "938b5c67-5a25-4bbe-9598-fefedd2de0fc",
   "metadata": {},
   "outputs": [
    {
     "data": {
      "text/plain": [
       "['this', 'that', 'other']"
      ]
     },
     "execution_count": 45,
     "metadata": {},
     "output_type": "execute_result"
    }
   ],
   "source": [
    "words"
   ]
  },
  {
   "cell_type": "code",
   "execution_count": 46,
   "id": "a35e6658-bad2-433f-8990-e17e81ee8b8e",
   "metadata": {},
   "outputs": [],
   "source": [
    "words.sort()"
   ]
  },
  {
   "cell_type": "code",
   "execution_count": 47,
   "id": "86608a3c-787e-4328-8fa8-f030730148f9",
   "metadata": {},
   "outputs": [
    {
     "data": {
      "text/plain": [
       "['other', 'that', 'this']"
      ]
     },
     "execution_count": 47,
     "metadata": {},
     "output_type": "execute_result"
    }
   ],
   "source": [
    "words."
   ]
  },
  {
   "cell_type": "code",
   "execution_count": 48,
   "id": "f8036782-bd9d-4a99-93cd-740ee6c6c766",
   "metadata": {},
   "outputs": [],
   "source": [
    "number = 3415"
   ]
  },
  {
   "cell_type": "code",
   "execution_count": 49,
   "id": "65728b20-d63c-4aed-8f52-2e03740fa256",
   "metadata": {},
   "outputs": [
    {
     "ename": "AttributeError",
     "evalue": "'int' object has no attribute 'sort'",
     "output_type": "error",
     "traceback": [
      "\u001b[0;31m---------------------------------------------------------------------------\u001b[0m",
      "\u001b[0;31mAttributeError\u001b[0m                            Traceback (most recent call last)",
      "Cell \u001b[0;32mIn[49], line 1\u001b[0m\n\u001b[0;32m----> 1\u001b[0m number\u001b[38;5;241m.\u001b[39msort()\n",
      "\u001b[0;31mAttributeError\u001b[0m: 'int' object has no attribute 'sort'"
     ]
    }
   ],
   "source": [
    "number.sort()"
   ]
  },
  {
   "cell_type": "code",
   "execution_count": 50,
   "id": "f91545d2-d191-4c20-9199-07a8f4087efc",
   "metadata": {},
   "outputs": [
    {
     "name": "stdout",
     "output_type": "stream",
     "text": [
      "Help on method_descriptor:\n",
      "\n",
      "sort(self, /, *, key=None, reverse=False)\n",
      "    Sort the list in ascending order and return None.\n",
      "    \n",
      "    The sort is in-place (i.e. the list itself is modified) and stable (i.e. the\n",
      "    order of two equal elements is maintained).\n",
      "    \n",
      "    If a key function is given, apply it once to each list item and sort them,\n",
      "    ascending or descending, according to their function values.\n",
      "    \n",
      "    The reverse flag can be set to sort in descending order.\n",
      "\n"
     ]
    }
   ],
   "source": [
    "help(list.sort)"
   ]
  },
  {
   "cell_type": "code",
   "execution_count": 56,
   "id": "0cdea912-8edf-462d-abd8-0cf123b8a26d",
   "metadata": {},
   "outputs": [
    {
     "data": {
      "text/plain": [
       "'APPLE'"
      ]
     },
     "execution_count": 56,
     "metadata": {},
     "output_type": "execute_result"
    }
   ],
   "source": [
    "'apple'.upper()"
   ]
  },
  {
   "cell_type": "code",
   "execution_count": 57,
   "id": "835775a7-a748-407c-af89-4e6134a52f0e",
   "metadata": {},
   "outputs": [
    {
     "data": {
      "text/plain": [
       "'12345'"
      ]
     },
     "execution_count": 57,
     "metadata": {},
     "output_type": "execute_result"
    }
   ],
   "source": [
    "'12345'.upper()"
   ]
  },
  {
   "cell_type": "code",
   "execution_count": 58,
   "id": "2c843156-2df2-4d17-9c1b-863cb9cecec8",
   "metadata": {},
   "outputs": [],
   "source": [
    "num1 = 3\n",
    "num2 = 5"
   ]
  },
  {
   "cell_type": "code",
   "execution_count": 61,
   "id": "b2e62011-e08e-4e17-a139-7ec7050f7a67",
   "metadata": {},
   "outputs": [
    {
     "data": {
      "text/plain": [
       "'3 + 5 = 8'"
      ]
     },
     "execution_count": 61,
     "metadata": {},
     "output_type": "execute_result"
    }
   ],
   "source": [
    "f'{num1} + {num2} = {num1 + num2}'"
   ]
  },
  {
   "cell_type": "code",
   "execution_count": 62,
   "id": "5e2b9895-58a8-4b8a-aa0c-191e59c4cdb4",
   "metadata": {},
   "outputs": [
    {
     "data": {
      "text/plain": [
       "'5! = 120'"
      ]
     },
     "execution_count": 62,
     "metadata": {},
     "output_type": "execute_result"
    }
   ],
   "source": [
    "import math\n",
    "n = 5\n",
    "f'{n}! = {math.factorial(n)}'"
   ]
  },
  {
   "cell_type": "code",
   "execution_count": 73,
   "id": "fa087c22-1aa7-43b5-b4ff-806ab80bb826",
   "metadata": {},
   "outputs": [],
   "source": [
    "fruits = 'apple fig pear'.split()"
   ]
  },
  {
   "cell_type": "code",
   "execution_count": 74,
   "id": "9d770edf-e33d-4dc4-b0e8-c065ef43638f",
   "metadata": {},
   "outputs": [
    {
     "name": "stdout",
     "output_type": "stream",
     "text": [
      "apple\n",
      "fig\n",
      "pear\n"
     ]
    }
   ],
   "source": [
    "for fruit in fruits:\n",
    "    print(fruit)"
   ]
  },
  {
   "cell_type": "code",
   "execution_count": 82,
   "id": "e8fc02be-31f5-40ca-8dcd-e284b2d64586",
   "metadata": {},
   "outputs": [
    {
     "name": "stdout",
     "output_type": "stream",
     "text": [
      "0 apple\n",
      "1 fig\n",
      "2 pear\n"
     ]
    }
   ],
   "source": [
    "for index, fruit in enumerate(fruits):\n",
    "    print(index, fruit)"
   ]
  },
  {
   "cell_type": "code",
   "execution_count": 75,
   "id": "dcf32b99-5253-4a7a-8add-fb8633f4b5f4",
   "metadata": {},
   "outputs": [],
   "source": [
    "def f():\n",
    "    return 1, 2"
   ]
  },
  {
   "cell_type": "code",
   "execution_count": 76,
   "id": "f31574cc-e64e-4c13-8f34-bf1c10b99608",
   "metadata": {},
   "outputs": [
    {
     "data": {
      "text/plain": [
       "(1, 2)"
      ]
     },
     "execution_count": 76,
     "metadata": {},
     "output_type": "execute_result"
    }
   ],
   "source": [
    "f()"
   ]
  },
  {
   "cell_type": "code",
   "execution_count": 77,
   "id": "a3f25938-9a5f-4e82-bcef-82fa526538cc",
   "metadata": {},
   "outputs": [],
   "source": [
    "one, two = f()"
   ]
  },
  {
   "cell_type": "code",
   "execution_count": 78,
   "id": "6d16f93f-efaa-48fc-9aa6-3aff542570ba",
   "metadata": {},
   "outputs": [
    {
     "data": {
      "text/plain": [
       "1"
      ]
     },
     "execution_count": 78,
     "metadata": {},
     "output_type": "execute_result"
    }
   ],
   "source": [
    "one"
   ]
  },
  {
   "cell_type": "code",
   "execution_count": 79,
   "id": "d73d5e1f-f12d-453e-80f4-27dd564129fb",
   "metadata": {},
   "outputs": [
    {
     "data": {
      "text/plain": [
       "2"
      ]
     },
     "execution_count": 79,
     "metadata": {},
     "output_type": "execute_result"
    }
   ],
   "source": [
    "two"
   ]
  },
  {
   "cell_type": "code",
   "execution_count": 100,
   "id": "efc525f2-ede2-4d6b-b510-4102904eb920",
   "metadata": {},
   "outputs": [],
   "source": [
    "import random"
   ]
  },
  {
   "cell_type": "code",
   "execution_count": 101,
   "id": "22cffc2e-27b8-46f6-83e5-a037fa9df0ba",
   "metadata": {},
   "outputs": [
    {
     "name": "stdout",
     "output_type": "stream",
     "text": [
      "<module 'random' from '/opt/anaconda3/lib/python3.11/random.py'>\n"
     ]
    }
   ],
   "source": [
    "print(random)"
   ]
  },
  {
   "cell_type": "code",
   "execution_count": 102,
   "id": "c4f4dcb6-c700-4e82-b8b5-bf968b040802",
   "metadata": {},
   "outputs": [
    {
     "data": {
      "text/plain": [
       "['BPF',\n",
       " 'LOG4',\n",
       " 'NV_MAGICCONST',\n",
       " 'RECIP_BPF',\n",
       " 'Random',\n",
       " 'SG_MAGICCONST',\n",
       " 'SystemRandom',\n",
       " 'TWOPI',\n",
       " '_ONE',\n",
       " '_Sequence',\n",
       " '_Set',\n",
       " '__all__',\n",
       " '__builtins__',\n",
       " '__cached__',\n",
       " '__doc__',\n",
       " '__file__',\n",
       " '__loader__',\n",
       " '__name__',\n",
       " '__package__',\n",
       " '__spec__',\n",
       " '_accumulate',\n",
       " '_acos',\n",
       " '_bisect',\n",
       " '_ceil',\n",
       " '_cos',\n",
       " '_e',\n",
       " '_exp',\n",
       " '_floor',\n",
       " '_index',\n",
       " '_inst',\n",
       " '_isfinite',\n",
       " '_log',\n",
       " '_os',\n",
       " '_pi',\n",
       " '_random',\n",
       " '_repeat',\n",
       " '_sha512',\n",
       " '_sin',\n",
       " '_sqrt',\n",
       " '_test',\n",
       " '_test_generator',\n",
       " '_urandom',\n",
       " '_warn',\n",
       " 'betavariate',\n",
       " 'choice',\n",
       " 'choices',\n",
       " 'expovariate',\n",
       " 'gammavariate',\n",
       " 'gauss',\n",
       " 'getrandbits',\n",
       " 'getstate',\n",
       " 'lognormvariate',\n",
       " 'normalvariate',\n",
       " 'paretovariate',\n",
       " 'randbytes',\n",
       " 'randint',\n",
       " 'random',\n",
       " 'randrange',\n",
       " 'sample',\n",
       " 'seed',\n",
       " 'setstate',\n",
       " 'shuffle',\n",
       " 'triangular',\n",
       " 'uniform',\n",
       " 'vonmisesvariate',\n",
       " 'weibullvariate']"
      ]
     },
     "execution_count": 102,
     "metadata": {},
     "output_type": "execute_result"
    }
   ],
   "source": [
    "dir(random)"
   ]
  },
  {
   "cell_type": "code",
   "execution_count": 103,
   "id": "a3823b4b-3a0f-4603-b256-cce350be5dbd",
   "metadata": {},
   "outputs": [
    {
     "name": "stdout",
     "output_type": "stream",
     "text": [
      "/opt/anaconda3/lib/python3.11/random.py\n"
     ]
    }
   ],
   "source": [
    "print(random.__file__)"
   ]
  },
  {
   "cell_type": "code",
   "execution_count": 104,
   "id": "d7b74bb5-ad1a-4c06-94b7-d8e0f9eec7c0",
   "metadata": {},
   "outputs": [],
   "source": [
    "# %load /opt/anaconda3/lib/python3.11/random.py\n",
    "\"\"\"Random variable generators.\n",
    "\n",
    "    bytes\n",
    "    -----\n",
    "           uniform bytes (values between 0 and 255)\n",
    "\n",
    "    integers\n",
    "    --------\n",
    "           uniform within range\n",
    "\n",
    "    sequences\n",
    "    ---------\n",
    "           pick random element\n",
    "           pick random sample\n",
    "           pick weighted random sample\n",
    "           generate random permutation\n",
    "\n",
    "    distributions on the real line:\n",
    "    ------------------------------\n",
    "           uniform\n",
    "           triangular\n",
    "           normal (Gaussian)\n",
    "           lognormal\n",
    "           negative exponential\n",
    "           gamma\n",
    "           beta\n",
    "           pareto\n",
    "           Weibull\n",
    "\n",
    "    distributions on the circle (angles 0 to 2pi)\n",
    "    ---------------------------------------------\n",
    "           circular uniform\n",
    "           von Mises\n",
    "\n",
    "General notes on the underlying Mersenne Twister core generator:\n",
    "\n",
    "* The period is 2**19937-1.\n",
    "* It is one of the most extensively tested generators in existence.\n",
    "* The random() method is implemented in C, executes in a single Python step,\n",
    "  and is, therefore, threadsafe.\n",
    "\n",
    "\"\"\"\n",
    "\n",
    "# Translated by Guido van Rossum from C source provided by\n",
    "# Adrian Baddeley.  Adapted by Raymond Hettinger for use with\n",
    "# the Mersenne Twister  and os.urandom() core generators.\n",
    "\n",
    "from warnings import warn as _warn\n",
    "from math import log as _log, exp as _exp, pi as _pi, e as _e, ceil as _ceil\n",
    "from math import sqrt as _sqrt, acos as _acos, cos as _cos, sin as _sin\n",
    "from math import tau as TWOPI, floor as _floor, isfinite as _isfinite\n",
    "from os import urandom as _urandom\n",
    "from _collections_abc import Set as _Set, Sequence as _Sequence\n",
    "from operator import index as _index\n",
    "from itertools import accumulate as _accumulate, repeat as _repeat\n",
    "from bisect import bisect as _bisect\n",
    "import os as _os\n",
    "import _random\n",
    "\n",
    "try:\n",
    "    # hashlib is pretty heavy to load, try lean internal module first\n",
    "    from _sha512 import sha512 as _sha512\n",
    "except ImportError:\n",
    "    # fallback to official implementation\n",
    "    from hashlib import sha512 as _sha512\n",
    "\n",
    "__all__ = [\n",
    "    \"Random\",\n",
    "    \"SystemRandom\",\n",
    "    \"betavariate\",\n",
    "    \"choice\",\n",
    "    \"choices\",\n",
    "    \"expovariate\",\n",
    "    \"gammavariate\",\n",
    "    \"gauss\",\n",
    "    \"getrandbits\",\n",
    "    \"getstate\",\n",
    "    \"lognormvariate\",\n",
    "    \"normalvariate\",\n",
    "    \"paretovariate\",\n",
    "    \"randbytes\",\n",
    "    \"randint\",\n",
    "    \"random\",\n",
    "    \"randrange\",\n",
    "    \"sample\",\n",
    "    \"seed\",\n",
    "    \"setstate\",\n",
    "    \"shuffle\",\n",
    "    \"triangular\",\n",
    "    \"uniform\",\n",
    "    \"vonmisesvariate\",\n",
    "    \"weibullvariate\",\n",
    "]\n",
    "\n",
    "NV_MAGICCONST = 4 * _exp(-0.5) / _sqrt(2.0)\n",
    "LOG4 = _log(4.0)\n",
    "SG_MAGICCONST = 1.0 + _log(4.5)\n",
    "BPF = 53        # Number of bits in a float\n",
    "RECIP_BPF = 2 ** -BPF\n",
    "_ONE = 1\n",
    "\n",
    "\n",
    "class Random(_random.Random):\n",
    "    \"\"\"Random number generator base class used by bound module functions.\n",
    "\n",
    "    Used to instantiate instances of Random to get generators that don't\n",
    "    share state.\n",
    "\n",
    "    Class Random can also be subclassed if you want to use a different basic\n",
    "    generator of your own devising: in that case, override the following\n",
    "    methods:  random(), seed(), getstate(), and setstate().\n",
    "    Optionally, implement a getrandbits() method so that randrange()\n",
    "    can cover arbitrarily large ranges.\n",
    "\n",
    "    \"\"\"\n",
    "\n",
    "    VERSION = 3     # used by getstate/setstate\n",
    "\n",
    "    def __init__(self, x=None):\n",
    "        \"\"\"Initialize an instance.\n",
    "\n",
    "        Optional argument x controls seeding, as for Random.seed().\n",
    "        \"\"\"\n",
    "\n",
    "        self.seed(x)\n",
    "        self.gauss_next = None\n",
    "\n",
    "    def seed(self, a=None, version=2):\n",
    "        \"\"\"Initialize internal state from a seed.\n",
    "\n",
    "        The only supported seed types are None, int, float,\n",
    "        str, bytes, and bytearray.\n",
    "\n",
    "        None or no argument seeds from current time or from an operating\n",
    "        system specific randomness source if available.\n",
    "\n",
    "        If *a* is an int, all bits are used.\n",
    "\n",
    "        For version 2 (the default), all of the bits are used if *a* is a str,\n",
    "        bytes, or bytearray.  For version 1 (provided for reproducing random\n",
    "        sequences from older versions of Python), the algorithm for str and\n",
    "        bytes generates a narrower range of seeds.\n",
    "\n",
    "        \"\"\"\n",
    "\n",
    "        if version == 1 and isinstance(a, (str, bytes)):\n",
    "            a = a.decode('latin-1') if isinstance(a, bytes) else a\n",
    "            x = ord(a[0]) << 7 if a else 0\n",
    "            for c in map(ord, a):\n",
    "                x = ((1000003 * x) ^ c) & 0xFFFFFFFFFFFFFFFF\n",
    "            x ^= len(a)\n",
    "            a = -2 if x == -1 else x\n",
    "\n",
    "        elif version == 2 and isinstance(a, (str, bytes, bytearray)):\n",
    "            if isinstance(a, str):\n",
    "                a = a.encode()\n",
    "            a = int.from_bytes(a + _sha512(a).digest())\n",
    "\n",
    "        elif not isinstance(a, (type(None), int, float, str, bytes, bytearray)):\n",
    "            raise TypeError('The only supported seed types are: None,\\n'\n",
    "                            'int, float, str, bytes, and bytearray.')\n",
    "\n",
    "        super().seed(a)\n",
    "        self.gauss_next = None\n",
    "\n",
    "    def getstate(self):\n",
    "        \"\"\"Return internal state; can be passed to setstate() later.\"\"\"\n",
    "        return self.VERSION, super().getstate(), self.gauss_next\n",
    "\n",
    "    def setstate(self, state):\n",
    "        \"\"\"Restore internal state from object returned by getstate().\"\"\"\n",
    "        version = state[0]\n",
    "        if version == 3:\n",
    "            version, internalstate, self.gauss_next = state\n",
    "            super().setstate(internalstate)\n",
    "        elif version == 2:\n",
    "            version, internalstate, self.gauss_next = state\n",
    "            # In version 2, the state was saved as signed ints, which causes\n",
    "            #   inconsistencies between 32/64-bit systems. The state is\n",
    "            #   really unsigned 32-bit ints, so we convert negative ints from\n",
    "            #   version 2 to positive longs for version 3.\n",
    "            try:\n",
    "                internalstate = tuple(x % (2 ** 32) for x in internalstate)\n",
    "            except ValueError as e:\n",
    "                raise TypeError from e\n",
    "            super().setstate(internalstate)\n",
    "        else:\n",
    "            raise ValueError(\"state with version %s passed to \"\n",
    "                             \"Random.setstate() of version %s\" %\n",
    "                             (version, self.VERSION))\n",
    "\n",
    "\n",
    "    ## -------------------------------------------------------\n",
    "    ## ---- Methods below this point do not need to be overridden or extended\n",
    "    ## ---- when subclassing for the purpose of using a different core generator.\n",
    "\n",
    "\n",
    "    ## -------------------- pickle support  -------------------\n",
    "\n",
    "    # Issue 17489: Since __reduce__ was defined to fix #759889 this is no\n",
    "    # longer called; we leave it here because it has been here since random was\n",
    "    # rewritten back in 2001 and why risk breaking something.\n",
    "    def __getstate__(self):  # for pickle\n",
    "        return self.getstate()\n",
    "\n",
    "    def __setstate__(self, state):  # for pickle\n",
    "        self.setstate(state)\n",
    "\n",
    "    def __reduce__(self):\n",
    "        return self.__class__, (), self.getstate()\n",
    "\n",
    "\n",
    "    ## ---- internal support method for evenly distributed integers ----\n",
    "\n",
    "    def __init_subclass__(cls, /, **kwargs):\n",
    "        \"\"\"Control how subclasses generate random integers.\n",
    "\n",
    "        The algorithm a subclass can use depends on the random() and/or\n",
    "        getrandbits() implementation available to it and determines\n",
    "        whether it can generate random integers from arbitrarily large\n",
    "        ranges.\n",
    "        \"\"\"\n",
    "\n",
    "        for c in cls.__mro__:\n",
    "            if '_randbelow' in c.__dict__:\n",
    "                # just inherit it\n",
    "                break\n",
    "            if 'getrandbits' in c.__dict__:\n",
    "                cls._randbelow = cls._randbelow_with_getrandbits\n",
    "                break\n",
    "            if 'random' in c.__dict__:\n",
    "                cls._randbelow = cls._randbelow_without_getrandbits\n",
    "                break\n",
    "\n",
    "    def _randbelow_with_getrandbits(self, n):\n",
    "        \"Return a random int in the range [0,n).  Defined for n > 0.\"\n",
    "\n",
    "        getrandbits = self.getrandbits\n",
    "        k = n.bit_length()  # don't use (n-1) here because n can be 1\n",
    "        r = getrandbits(k)  # 0 <= r < 2**k\n",
    "        while r >= n:\n",
    "            r = getrandbits(k)\n",
    "        return r\n",
    "\n",
    "    def _randbelow_without_getrandbits(self, n, maxsize=1<<BPF):\n",
    "        \"\"\"Return a random int in the range [0,n).  Defined for n > 0.\n",
    "\n",
    "        The implementation does not use getrandbits, but only random.\n",
    "        \"\"\"\n",
    "\n",
    "        random = self.random\n",
    "        if n >= maxsize:\n",
    "            _warn(\"Underlying random() generator does not supply \\n\"\n",
    "                \"enough bits to choose from a population range this large.\\n\"\n",
    "                \"To remove the range limitation, add a getrandbits() method.\")\n",
    "            return _floor(random() * n)\n",
    "        rem = maxsize % n\n",
    "        limit = (maxsize - rem) / maxsize   # int(limit * maxsize) % n == 0\n",
    "        r = random()\n",
    "        while r >= limit:\n",
    "            r = random()\n",
    "        return _floor(r * maxsize) % n\n",
    "\n",
    "    _randbelow = _randbelow_with_getrandbits\n",
    "\n",
    "\n",
    "    ## --------------------------------------------------------\n",
    "    ## ---- Methods below this point generate custom distributions\n",
    "    ## ---- based on the methods defined above.  They do not\n",
    "    ## ---- directly touch the underlying generator and only\n",
    "    ## ---- access randomness through the methods:  random(),\n",
    "    ## ---- getrandbits(), or _randbelow().\n",
    "\n",
    "\n",
    "    ## -------------------- bytes methods ---------------------\n",
    "\n",
    "    def randbytes(self, n):\n",
    "        \"\"\"Generate n random bytes.\"\"\"\n",
    "        return self.getrandbits(n * 8).to_bytes(n, 'little')\n",
    "\n",
    "\n",
    "    ## -------------------- integer methods  -------------------\n",
    "\n",
    "    def randrange(self, start, stop=None, step=_ONE):\n",
    "        \"\"\"Choose a random item from range(stop) or range(start, stop[, step]).\n",
    "\n",
    "        Roughly equivalent to ``choice(range(start, stop, step))`` but\n",
    "        supports arbitrarily large ranges and is optimized for common cases.\n",
    "\n",
    "        \"\"\"\n",
    "\n",
    "        # This code is a bit messy to make it fast for the\n",
    "        # common case while still doing adequate error checking.\n",
    "        try:\n",
    "            istart = _index(start)\n",
    "        except TypeError:\n",
    "            istart = int(start)\n",
    "            if istart != start:\n",
    "                _warn('randrange() will raise TypeError in the future',\n",
    "                      DeprecationWarning, 2)\n",
    "                raise ValueError(\"non-integer arg 1 for randrange()\")\n",
    "            _warn('non-integer arguments to randrange() have been deprecated '\n",
    "                  'since Python 3.10 and will be removed in a subsequent '\n",
    "                  'version',\n",
    "                  DeprecationWarning, 2)\n",
    "        if stop is None:\n",
    "            # We don't check for \"step != 1\" because it hasn't been\n",
    "            # type checked and converted to an integer yet.\n",
    "            if step is not _ONE:\n",
    "                raise TypeError('Missing a non-None stop argument')\n",
    "            if istart > 0:\n",
    "                return self._randbelow(istart)\n",
    "            raise ValueError(\"empty range for randrange()\")\n",
    "\n",
    "        # stop argument supplied.\n",
    "        try:\n",
    "            istop = _index(stop)\n",
    "        except TypeError:\n",
    "            istop = int(stop)\n",
    "            if istop != stop:\n",
    "                _warn('randrange() will raise TypeError in the future',\n",
    "                      DeprecationWarning, 2)\n",
    "                raise ValueError(\"non-integer stop for randrange()\")\n",
    "            _warn('non-integer arguments to randrange() have been deprecated '\n",
    "                  'since Python 3.10 and will be removed in a subsequent '\n",
    "                  'version',\n",
    "                  DeprecationWarning, 2)\n",
    "        width = istop - istart\n",
    "        try:\n",
    "            istep = _index(step)\n",
    "        except TypeError:\n",
    "            istep = int(step)\n",
    "            if istep != step:\n",
    "                _warn('randrange() will raise TypeError in the future',\n",
    "                      DeprecationWarning, 2)\n",
    "                raise ValueError(\"non-integer step for randrange()\")\n",
    "            _warn('non-integer arguments to randrange() have been deprecated '\n",
    "                  'since Python 3.10 and will be removed in a subsequent '\n",
    "                  'version',\n",
    "                  DeprecationWarning, 2)\n",
    "        # Fast path.\n",
    "        if istep == 1:\n",
    "            if width > 0:\n",
    "                return istart + self._randbelow(width)\n",
    "            raise ValueError(\"empty range for randrange() (%d, %d, %d)\" % (istart, istop, width))\n",
    "\n",
    "        # Non-unit step argument supplied.\n",
    "        if istep > 0:\n",
    "            n = (width + istep - 1) // istep\n",
    "        elif istep < 0:\n",
    "            n = (width + istep + 1) // istep\n",
    "        else:\n",
    "            raise ValueError(\"zero step for randrange()\")\n",
    "        if n <= 0:\n",
    "            raise ValueError(\"empty range for randrange()\")\n",
    "        return istart + istep * self._randbelow(n)\n",
    "\n",
    "    def randint(self, a, b):\n",
    "        \"\"\"Return random integer in range [a, b], including both end points.\n",
    "        \"\"\"\n",
    "\n",
    "        return self.randrange(a, b+1)\n",
    "\n",
    "\n",
    "    ## -------------------- sequence methods  -------------------\n",
    "\n",
    "    def choice(self, seq):\n",
    "        \"\"\"Choose a random element from a non-empty sequence.\"\"\"\n",
    "\n",
    "        # As an accommodation for NumPy, we don't use \"if not seq\"\n",
    "        # because bool(numpy.array()) raises a ValueError.\n",
    "        if not len(seq):\n",
    "            raise IndexError('Cannot choose from an empty sequence')\n",
    "        return seq[self._randbelow(len(seq))]\n",
    "\n",
    "    def shuffle(self, x):\n",
    "        \"\"\"Shuffle list x in place, and return None.\"\"\"\n",
    "\n",
    "        randbelow = self._randbelow\n",
    "        for i in reversed(range(1, len(x))):\n",
    "            # pick an element in x[:i+1] with which to exchange x[i]\n",
    "            j = randbelow(i + 1)\n",
    "            x[i], x[j] = x[j], x[i]\n",
    "\n",
    "    def sample(self, population, k, *, counts=None):\n",
    "        \"\"\"Chooses k unique random elements from a population sequence.\n",
    "\n",
    "        Returns a new list containing elements from the population while\n",
    "        leaving the original population unchanged.  The resulting list is\n",
    "        in selection order so that all sub-slices will also be valid random\n",
    "        samples.  This allows raffle winners (the sample) to be partitioned\n",
    "        into grand prize and second place winners (the subslices).\n",
    "\n",
    "        Members of the population need not be hashable or unique.  If the\n",
    "        population contains repeats, then each occurrence is a possible\n",
    "        selection in the sample.\n",
    "\n",
    "        Repeated elements can be specified one at a time or with the optional\n",
    "        counts parameter.  For example:\n",
    "\n",
    "            sample(['red', 'blue'], counts=[4, 2], k=5)\n",
    "\n",
    "        is equivalent to:\n",
    "\n",
    "            sample(['red', 'red', 'red', 'red', 'blue', 'blue'], k=5)\n",
    "\n",
    "        To choose a sample from a range of integers, use range() for the\n",
    "        population argument.  This is especially fast and space efficient\n",
    "        for sampling from a large population:\n",
    "\n",
    "            sample(range(10000000), 60)\n",
    "\n",
    "        \"\"\"\n",
    "\n",
    "        # Sampling without replacement entails tracking either potential\n",
    "        # selections (the pool) in a list or previous selections in a set.\n",
    "\n",
    "        # When the number of selections is small compared to the\n",
    "        # population, then tracking selections is efficient, requiring\n",
    "        # only a small set and an occasional reselection.  For\n",
    "        # a larger number of selections, the pool tracking method is\n",
    "        # preferred since the list takes less space than the\n",
    "        # set and it doesn't suffer from frequent reselections.\n",
    "\n",
    "        # The number of calls to _randbelow() is kept at or near k, the\n",
    "        # theoretical minimum.  This is important because running time\n",
    "        # is dominated by _randbelow() and because it extracts the\n",
    "        # least entropy from the underlying random number generators.\n",
    "\n",
    "        # Memory requirements are kept to the smaller of a k-length\n",
    "        # set or an n-length list.\n",
    "\n",
    "        # There are other sampling algorithms that do not require\n",
    "        # auxiliary memory, but they were rejected because they made\n",
    "        # too many calls to _randbelow(), making them slower and\n",
    "        # causing them to eat more entropy than necessary.\n",
    "\n",
    "        if not isinstance(population, _Sequence):\n",
    "            raise TypeError(\"Population must be a sequence.  \"\n",
    "                            \"For dicts or sets, use sorted(d).\")\n",
    "        n = len(population)\n",
    "        if counts is not None:\n",
    "            cum_counts = list(_accumulate(counts))\n",
    "            if len(cum_counts) != n:\n",
    "                raise ValueError('The number of counts does not match the population')\n",
    "            total = cum_counts.pop()\n",
    "            if not isinstance(total, int):\n",
    "                raise TypeError('Counts must be integers')\n",
    "            if total <= 0:\n",
    "                raise ValueError('Total of counts must be greater than zero')\n",
    "            selections = self.sample(range(total), k=k)\n",
    "            bisect = _bisect\n",
    "            return [population[bisect(cum_counts, s)] for s in selections]\n",
    "        randbelow = self._randbelow\n",
    "        if not 0 <= k <= n:\n",
    "            raise ValueError(\"Sample larger than population or is negative\")\n",
    "        result = [None] * k\n",
    "        setsize = 21        # size of a small set minus size of an empty list\n",
    "        if k > 5:\n",
    "            setsize += 4 ** _ceil(_log(k * 3, 4))  # table size for big sets\n",
    "        if n <= setsize:\n",
    "            # An n-length list is smaller than a k-length set.\n",
    "            # Invariant:  non-selected at pool[0 : n-i]\n",
    "            pool = list(population)\n",
    "            for i in range(k):\n",
    "                j = randbelow(n - i)\n",
    "                result[i] = pool[j]\n",
    "                pool[j] = pool[n - i - 1]  # move non-selected item into vacancy\n",
    "        else:\n",
    "            selected = set()\n",
    "            selected_add = selected.add\n",
    "            for i in range(k):\n",
    "                j = randbelow(n)\n",
    "                while j in selected:\n",
    "                    j = randbelow(n)\n",
    "                selected_add(j)\n",
    "                result[i] = population[j]\n",
    "        return result\n",
    "\n",
    "    def choices(self, population, weights=None, *, cum_weights=None, k=1):\n",
    "        \"\"\"Return a k sized list of population elements chosen with replacement.\n",
    "\n",
    "        If the relative weights or cumulative weights are not specified,\n",
    "        the selections are made with equal probability.\n",
    "\n",
    "        \"\"\"\n",
    "        random = self.random\n",
    "        n = len(population)\n",
    "        if cum_weights is None:\n",
    "            if weights is None:\n",
    "                floor = _floor\n",
    "                n += 0.0    # convert to float for a small speed improvement\n",
    "                return [population[floor(random() * n)] for i in _repeat(None, k)]\n",
    "            try:\n",
    "                cum_weights = list(_accumulate(weights))\n",
    "            except TypeError:\n",
    "                if not isinstance(weights, int):\n",
    "                    raise\n",
    "                k = weights\n",
    "                raise TypeError(\n",
    "                    f'The number of choices must be a keyword argument: {k=}'\n",
    "                ) from None\n",
    "        elif weights is not None:\n",
    "            raise TypeError('Cannot specify both weights and cumulative weights')\n",
    "        if len(cum_weights) != n:\n",
    "            raise ValueError('The number of weights does not match the population')\n",
    "        total = cum_weights[-1] + 0.0   # convert to float\n",
    "        if total <= 0.0:\n",
    "            raise ValueError('Total of weights must be greater than zero')\n",
    "        if not _isfinite(total):\n",
    "            raise ValueError('Total of weights must be finite')\n",
    "        bisect = _bisect\n",
    "        hi = n - 1\n",
    "        return [population[bisect(cum_weights, random() * total, 0, hi)]\n",
    "                for i in _repeat(None, k)]\n",
    "\n",
    "\n",
    "    ## -------------------- real-valued distributions  -------------------\n",
    "\n",
    "    def uniform(self, a, b):\n",
    "        \"Get a random number in the range [a, b) or [a, b] depending on rounding.\"\n",
    "        return a + (b - a) * self.random()\n",
    "\n",
    "    def triangular(self, low=0.0, high=1.0, mode=None):\n",
    "        \"\"\"Triangular distribution.\n",
    "\n",
    "        Continuous distribution bounded by given lower and upper limits,\n",
    "        and having a given mode value in-between.\n",
    "\n",
    "        http://en.wikipedia.org/wiki/Triangular_distribution\n",
    "\n",
    "        \"\"\"\n",
    "        u = self.random()\n",
    "        try:\n",
    "            c = 0.5 if mode is None else (mode - low) / (high - low)\n",
    "        except ZeroDivisionError:\n",
    "            return low\n",
    "        if u > c:\n",
    "            u = 1.0 - u\n",
    "            c = 1.0 - c\n",
    "            low, high = high, low\n",
    "        return low + (high - low) * _sqrt(u * c)\n",
    "\n",
    "    def normalvariate(self, mu=0.0, sigma=1.0):\n",
    "        \"\"\"Normal distribution.\n",
    "\n",
    "        mu is the mean, and sigma is the standard deviation.\n",
    "\n",
    "        \"\"\"\n",
    "        # Uses Kinderman and Monahan method. Reference: Kinderman,\n",
    "        # A.J. and Monahan, J.F., \"Computer generation of random\n",
    "        # variables using the ratio of uniform deviates\", ACM Trans\n",
    "        # Math Software, 3, (1977), pp257-260.\n",
    "\n",
    "        random = self.random\n",
    "        while True:\n",
    "            u1 = random()\n",
    "            u2 = 1.0 - random()\n",
    "            z = NV_MAGICCONST * (u1 - 0.5) / u2\n",
    "            zz = z * z / 4.0\n",
    "            if zz <= -_log(u2):\n",
    "                break\n",
    "        return mu + z * sigma\n",
    "\n",
    "    def gauss(self, mu=0.0, sigma=1.0):\n",
    "        \"\"\"Gaussian distribution.\n",
    "\n",
    "        mu is the mean, and sigma is the standard deviation.  This is\n",
    "        slightly faster than the normalvariate() function.\n",
    "\n",
    "        Not thread-safe without a lock around calls.\n",
    "\n",
    "        \"\"\"\n",
    "        # When x and y are two variables from [0, 1), uniformly\n",
    "        # distributed, then\n",
    "        #\n",
    "        #    cos(2*pi*x)*sqrt(-2*log(1-y))\n",
    "        #    sin(2*pi*x)*sqrt(-2*log(1-y))\n",
    "        #\n",
    "        # are two *independent* variables with normal distribution\n",
    "        # (mu = 0, sigma = 1).\n",
    "        # (Lambert Meertens)\n",
    "        # (corrected version; bug discovered by Mike Miller, fixed by LM)\n",
    "\n",
    "        # Multithreading note: When two threads call this function\n",
    "        # simultaneously, it is possible that they will receive the\n",
    "        # same return value.  The window is very small though.  To\n",
    "        # avoid this, you have to use a lock around all calls.  (I\n",
    "        # didn't want to slow this down in the serial case by using a\n",
    "        # lock here.)\n",
    "\n",
    "        random = self.random\n",
    "        z = self.gauss_next\n",
    "        self.gauss_next = None\n",
    "        if z is None:\n",
    "            x2pi = random() * TWOPI\n",
    "            g2rad = _sqrt(-2.0 * _log(1.0 - random()))\n",
    "            z = _cos(x2pi) * g2rad\n",
    "            self.gauss_next = _sin(x2pi) * g2rad\n",
    "\n",
    "        return mu + z * sigma\n",
    "\n",
    "    def lognormvariate(self, mu, sigma):\n",
    "        \"\"\"Log normal distribution.\n",
    "\n",
    "        If you take the natural logarithm of this distribution, you'll get a\n",
    "        normal distribution with mean mu and standard deviation sigma.\n",
    "        mu can have any value, and sigma must be greater than zero.\n",
    "\n",
    "        \"\"\"\n",
    "        return _exp(self.normalvariate(mu, sigma))\n",
    "\n",
    "    def expovariate(self, lambd):\n",
    "        \"\"\"Exponential distribution.\n",
    "\n",
    "        lambd is 1.0 divided by the desired mean.  It should be\n",
    "        nonzero.  (The parameter would be called \"lambda\", but that is\n",
    "        a reserved word in Python.)  Returned values range from 0 to\n",
    "        positive infinity if lambd is positive, and from negative\n",
    "        infinity to 0 if lambd is negative.\n",
    "\n",
    "        \"\"\"\n",
    "        # lambd: rate lambd = 1/mean\n",
    "        # ('lambda' is a Python reserved word)\n",
    "\n",
    "        # we use 1-random() instead of random() to preclude the\n",
    "        # possibility of taking the log of zero.\n",
    "        return -_log(1.0 - self.random()) / lambd\n",
    "\n",
    "    def vonmisesvariate(self, mu, kappa):\n",
    "        \"\"\"Circular data distribution.\n",
    "\n",
    "        mu is the mean angle, expressed in radians between 0 and 2*pi, and\n",
    "        kappa is the concentration parameter, which must be greater than or\n",
    "        equal to zero.  If kappa is equal to zero, this distribution reduces\n",
    "        to a uniform random angle over the range 0 to 2*pi.\n",
    "\n",
    "        \"\"\"\n",
    "        # Based upon an algorithm published in: Fisher, N.I.,\n",
    "        # \"Statistical Analysis of Circular Data\", Cambridge\n",
    "        # University Press, 1993.\n",
    "\n",
    "        # Thanks to Magnus Kessler for a correction to the\n",
    "        # implementation of step 4.\n",
    "\n",
    "        random = self.random\n",
    "        if kappa <= 1e-6:\n",
    "            return TWOPI * random()\n",
    "\n",
    "        s = 0.5 / kappa\n",
    "        r = s + _sqrt(1.0 + s * s)\n",
    "\n",
    "        while True:\n",
    "            u1 = random()\n",
    "            z = _cos(_pi * u1)\n",
    "\n",
    "            d = z / (r + z)\n",
    "            u2 = random()\n",
    "            if u2 < 1.0 - d * d or u2 <= (1.0 - d) * _exp(d):\n",
    "                break\n",
    "\n",
    "        q = 1.0 / r\n",
    "        f = (q + z) / (1.0 + q * z)\n",
    "        u3 = random()\n",
    "        if u3 > 0.5:\n",
    "            theta = (mu + _acos(f)) % TWOPI\n",
    "        else:\n",
    "            theta = (mu - _acos(f)) % TWOPI\n",
    "\n",
    "        return theta\n",
    "\n",
    "    def gammavariate(self, alpha, beta):\n",
    "        \"\"\"Gamma distribution.  Not the gamma function!\n",
    "\n",
    "        Conditions on the parameters are alpha > 0 and beta > 0.\n",
    "\n",
    "        The probability distribution function is:\n",
    "\n",
    "                    x ** (alpha - 1) * math.exp(-x / beta)\n",
    "          pdf(x) =  --------------------------------------\n",
    "                      math.gamma(alpha) * beta ** alpha\n",
    "\n",
    "        \"\"\"\n",
    "        # alpha > 0, beta > 0, mean is alpha*beta, variance is alpha*beta**2\n",
    "\n",
    "        # Warning: a few older sources define the gamma distribution in terms\n",
    "        # of alpha > -1.0\n",
    "        if alpha <= 0.0 or beta <= 0.0:\n",
    "            raise ValueError('gammavariate: alpha and beta must be > 0.0')\n",
    "\n",
    "        random = self.random\n",
    "        if alpha > 1.0:\n",
    "\n",
    "            # Uses R.C.H. Cheng, \"The generation of Gamma\n",
    "            # variables with non-integral shape parameters\",\n",
    "            # Applied Statistics, (1977), 26, No. 1, p71-74\n",
    "\n",
    "            ainv = _sqrt(2.0 * alpha - 1.0)\n",
    "            bbb = alpha - LOG4\n",
    "            ccc = alpha + ainv\n",
    "\n",
    "            while True:\n",
    "                u1 = random()\n",
    "                if not 1e-7 < u1 < 0.9999999:\n",
    "                    continue\n",
    "                u2 = 1.0 - random()\n",
    "                v = _log(u1 / (1.0 - u1)) / ainv\n",
    "                x = alpha * _exp(v)\n",
    "                z = u1 * u1 * u2\n",
    "                r = bbb + ccc * v - x\n",
    "                if r + SG_MAGICCONST - 4.5 * z >= 0.0 or r >= _log(z):\n",
    "                    return x * beta\n",
    "\n",
    "        elif alpha == 1.0:\n",
    "            # expovariate(1/beta)\n",
    "            return -_log(1.0 - random()) * beta\n",
    "\n",
    "        else:\n",
    "            # alpha is between 0 and 1 (exclusive)\n",
    "            # Uses ALGORITHM GS of Statistical Computing - Kennedy & Gentle\n",
    "            while True:\n",
    "                u = random()\n",
    "                b = (_e + alpha) / _e\n",
    "                p = b * u\n",
    "                if p <= 1.0:\n",
    "                    x = p ** (1.0 / alpha)\n",
    "                else:\n",
    "                    x = -_log((b - p) / alpha)\n",
    "                u1 = random()\n",
    "                if p > 1.0:\n",
    "                    if u1 <= x ** (alpha - 1.0):\n",
    "                        break\n",
    "                elif u1 <= _exp(-x):\n",
    "                    break\n",
    "            return x * beta\n",
    "\n",
    "    def betavariate(self, alpha, beta):\n",
    "        \"\"\"Beta distribution.\n",
    "\n",
    "        Conditions on the parameters are alpha > 0 and beta > 0.\n",
    "        Returned values range between 0 and 1.\n",
    "\n",
    "        \"\"\"\n",
    "        ## See\n",
    "        ## http://mail.python.org/pipermail/python-bugs-list/2001-January/003752.html\n",
    "        ## for Ivan Frohne's insightful analysis of why the original implementation:\n",
    "        ##\n",
    "        ##    def betavariate(self, alpha, beta):\n",
    "        ##        # Discrete Event Simulation in C, pp 87-88.\n",
    "        ##\n",
    "        ##        y = self.expovariate(alpha)\n",
    "        ##        z = self.expovariate(1.0/beta)\n",
    "        ##        return z/(y+z)\n",
    "        ##\n",
    "        ## was dead wrong, and how it probably got that way.\n",
    "\n",
    "        # This version due to Janne Sinkkonen, and matches all the std\n",
    "        # texts (e.g., Knuth Vol 2 Ed 3 pg 134 \"the beta distribution\").\n",
    "        y = self.gammavariate(alpha, 1.0)\n",
    "        if y:\n",
    "            return y / (y + self.gammavariate(beta, 1.0))\n",
    "        return 0.0\n",
    "\n",
    "    def paretovariate(self, alpha):\n",
    "        \"\"\"Pareto distribution.  alpha is the shape parameter.\"\"\"\n",
    "        # Jain, pg. 495\n",
    "\n",
    "        u = 1.0 - self.random()\n",
    "        return u ** (-1.0 / alpha)\n",
    "\n",
    "    def weibullvariate(self, alpha, beta):\n",
    "        \"\"\"Weibull distribution.\n",
    "\n",
    "        alpha is the scale parameter and beta is the shape parameter.\n",
    "\n",
    "        \"\"\"\n",
    "        # Jain, pg. 499; bug fix courtesy Bill Arms\n",
    "\n",
    "        u = 1.0 - self.random()\n",
    "        return alpha * (-_log(u)) ** (1.0 / beta)\n",
    "\n",
    "\n",
    "## ------------------------------------------------------------------\n",
    "## --------------- Operating System Random Source  ------------------\n",
    "\n",
    "\n",
    "class SystemRandom(Random):\n",
    "    \"\"\"Alternate random number generator using sources provided\n",
    "    by the operating system (such as /dev/urandom on Unix or\n",
    "    CryptGenRandom on Windows).\n",
    "\n",
    "     Not available on all systems (see os.urandom() for details).\n",
    "\n",
    "    \"\"\"\n",
    "\n",
    "    def random(self):\n",
    "        \"\"\"Get the next random number in the range 0.0 <= X < 1.0.\"\"\"\n",
    "        return (int.from_bytes(_urandom(7)) >> 3) * RECIP_BPF\n",
    "\n",
    "    def getrandbits(self, k):\n",
    "        \"\"\"getrandbits(k) -> x.  Generates an int with k random bits.\"\"\"\n",
    "        if k < 0:\n",
    "            raise ValueError('number of bits must be non-negative')\n",
    "        numbytes = (k + 7) // 8                       # bits / 8 and rounded up\n",
    "        x = int.from_bytes(_urandom(numbytes))\n",
    "        return x >> (numbytes * 8 - k)                # trim excess bits\n",
    "\n",
    "    def randbytes(self, n):\n",
    "        \"\"\"Generate n random bytes.\"\"\"\n",
    "        # os.urandom(n) fails with ValueError for n < 0\n",
    "        # and returns an empty bytes string for n == 0.\n",
    "        return _urandom(n)\n",
    "\n",
    "    def seed(self, *args, **kwds):\n",
    "        \"Stub method.  Not used for a system random number generator.\"\n",
    "        return None\n",
    "\n",
    "    def _notimplemented(self, *args, **kwds):\n",
    "        \"Method should not be called for a system random number generator.\"\n",
    "        raise NotImplementedError('System entropy source does not have state.')\n",
    "    getstate = setstate = _notimplemented\n",
    "\n",
    "\n",
    "# ----------------------------------------------------------------------\n",
    "# Create one instance, seeded from current time, and export its methods\n",
    "# as module-level functions.  The functions share state across all uses\n",
    "# (both in the user's code and in the Python libraries), but that's fine\n",
    "# for most programs and is easier for the casual user than making them\n",
    "# instantiate their own Random() instance.\n",
    "\n",
    "_inst = Random()\n",
    "seed = _inst.seed\n",
    "random = _inst.random\n",
    "uniform = _inst.uniform\n",
    "triangular = _inst.triangular\n",
    "randint = _inst.randint\n",
    "choice = _inst.choice\n",
    "randrange = _inst.randrange\n",
    "sample = _inst.sample\n",
    "shuffle = _inst.shuffle\n",
    "choices = _inst.choices\n",
    "normalvariate = _inst.normalvariate\n",
    "lognormvariate = _inst.lognormvariate\n",
    "expovariate = _inst.expovariate\n",
    "vonmisesvariate = _inst.vonmisesvariate\n",
    "gammavariate = _inst.gammavariate\n",
    "gauss = _inst.gauss\n",
    "betavariate = _inst.betavariate\n",
    "paretovariate = _inst.paretovariate\n",
    "weibullvariate = _inst.weibullvariate\n",
    "getstate = _inst.getstate\n",
    "setstate = _inst.setstate\n",
    "getrandbits = _inst.getrandbits\n",
    "randbytes = _inst.randbytes\n",
    "\n",
    "\n",
    "## ------------------------------------------------------\n",
    "## ----------------- test program -----------------------\n",
    "\n",
    "def _test_generator(n, func, args):\n",
    "    from statistics import stdev, fmean as mean\n",
    "    from time import perf_counter\n",
    "\n",
    "    t0 = perf_counter()\n",
    "    data = [func(*args) for i in _repeat(None, n)]\n",
    "    t1 = perf_counter()\n",
    "\n",
    "    xbar = mean(data)\n",
    "    sigma = stdev(data, xbar)\n",
    "    low = min(data)\n",
    "    high = max(data)\n",
    "\n",
    "    print(f'{t1 - t0:.3f} sec, {n} times {func.__name__}')\n",
    "    print('avg %g, stddev %g, min %g, max %g\\n' % (xbar, sigma, low, high))\n",
    "\n",
    "\n",
    "def _test(N=2000):\n",
    "    _test_generator(N, random, ())\n",
    "    _test_generator(N, normalvariate, (0.0, 1.0))\n",
    "    _test_generator(N, lognormvariate, (0.0, 1.0))\n",
    "    _test_generator(N, vonmisesvariate, (0.0, 1.0))\n",
    "    _test_generator(N, gammavariate, (0.01, 1.0))\n",
    "    _test_generator(N, gammavariate, (0.1, 1.0))\n",
    "    _test_generator(N, gammavariate, (0.1, 2.0))\n",
    "    _test_generator(N, gammavariate, (0.5, 1.0))\n",
    "    _test_generator(N, gammavariate, (0.9, 1.0))\n",
    "    _test_generator(N, gammavariate, (1.0, 1.0))\n",
    "    _test_generator(N, gammavariate, (2.0, 1.0))\n",
    "    _test_generator(N, gammavariate, (20.0, 1.0))\n",
    "    _test_generator(N, gammavariate, (200.0, 1.0))\n",
    "    _test_generator(N, gauss, (0.0, 1.0))\n",
    "    _test_generator(N, betavariate, (3.0, 3.0))\n",
    "    _test_generator(N, triangular, (0.0, 1.0, 1.0 / 3.0))\n",
    "\n",
    "\n",
    "## ------------------------------------------------------\n",
    "## ------------------ fork support  ---------------------\n",
    "\n",
    "if hasattr(_os, \"fork\"):\n",
    "    _os.register_at_fork(after_in_child=_inst.seed)\n",
    "\n",
    "\n",
    "if __name__ == '__main__':\n",
    "    _test()\n"
   ]
  },
  {
   "cell_type": "code",
   "execution_count": 1,
   "id": "017c6f11-e05d-4bf5-9b4f-54b361ea3c1b",
   "metadata": {},
   "outputs": [
    {
     "name": "stdout",
     "output_type": "stream",
     "text": [
      "1 2 3\n"
     ]
    }
   ],
   "source": [
    "print(1, 2, 3) # built-in function ... \"procedural programming\""
   ]
  },
  {
   "cell_type": "code",
   "execution_count": 2,
   "id": "0461a43e-9de8-4eb7-8087-35ebafed1178",
   "metadata": {},
   "outputs": [],
   "source": [
    "fruits = 'apple fig pear'.split()"
   ]
  },
  {
   "cell_type": "code",
   "execution_count": 3,
   "id": "05b659a2-45a8-415a-a446-778ec5432292",
   "metadata": {},
   "outputs": [
    {
     "data": {
      "text/plain": [
       "['apple', 'fig', 'pear']"
      ]
     },
     "execution_count": 3,
     "metadata": {},
     "output_type": "execute_result"
    }
   ],
   "source": [
    "fruits"
   ]
  },
  {
   "cell_type": "code",
   "execution_count": null,
   "id": "592f77a5-1f26-4e62-ba8e-e6a4034dcb1a",
   "metadata": {},
   "outputs": [],
   "source": [
    "fruits."
   ]
  },
  {
   "cell_type": "code",
   "execution_count": 4,
   "id": "a0fdf70d-df3d-415a-8cde-628d7d44d11a",
   "metadata": {},
   "outputs": [],
   "source": [
    "name = 'Bruce Lee'"
   ]
  },
  {
   "cell_type": "code",
   "execution_count": 5,
   "id": "4f989f10-04da-44bc-9e22-7966047ab460",
   "metadata": {},
   "outputs": [
    {
     "data": {
      "text/plain": [
       "4404624624"
      ]
     },
     "execution_count": 5,
     "metadata": {},
     "output_type": "execute_result"
    }
   ],
   "source": [
    "id(name)"
   ]
  },
  {
   "cell_type": "code",
   "execution_count": 6,
   "id": "87fd642b-c894-4c94-9076-20bb9bb2b832",
   "metadata": {},
   "outputs": [],
   "source": [
    "year = 2024"
   ]
  },
  {
   "cell_type": "code",
   "execution_count": 7,
   "id": "83329271-8047-43aa-a335-e6fa9d7fee34",
   "metadata": {},
   "outputs": [
    {
     "data": {
      "text/plain": [
       "4395749936"
      ]
     },
     "execution_count": 7,
     "metadata": {},
     "output_type": "execute_result"
    }
   ],
   "source": [
    "id(year)"
   ]
  },
  {
   "cell_type": "code",
   "execution_count": 8,
   "id": "0de2c53c-83a0-46a8-a23a-a24599e28549",
   "metadata": {},
   "outputs": [],
   "source": [
    "import math"
   ]
  },
  {
   "cell_type": "code",
   "execution_count": 9,
   "id": "78df594e-7742-4da6-b702-0d9b267b7de1",
   "metadata": {},
   "outputs": [
    {
     "data": {
      "text/plain": [
       "4296898688"
      ]
     },
     "execution_count": 9,
     "metadata": {},
     "output_type": "execute_result"
    }
   ],
   "source": [
    "id(math)"
   ]
  },
  {
   "cell_type": "code",
   "execution_count": 10,
   "id": "e2b32cce-3a6a-4f61-a4b2-8917f044a07c",
   "metadata": {},
   "outputs": [
    {
     "data": {
      "text/plain": [
       "4295681312"
      ]
     },
     "execution_count": 10,
     "metadata": {},
     "output_type": "execute_result"
    }
   ],
   "source": [
    "id(print)"
   ]
  },
  {
   "cell_type": "code",
   "execution_count": 11,
   "id": "53e7118f-dfc0-46f1-b662-a883d48246d4",
   "metadata": {},
   "outputs": [
    {
     "data": {
      "text/plain": [
       "4295680112"
      ]
     },
     "execution_count": 11,
     "metadata": {},
     "output_type": "execute_result"
    }
   ],
   "source": [
    "id(id)"
   ]
  },
  {
   "cell_type": "code",
   "execution_count": 12,
   "id": "8761fc20-3515-4530-89ca-508ae270abe6",
   "metadata": {},
   "outputs": [
    {
     "data": {
      "text/plain": [
       "4320273448"
      ]
     },
     "execution_count": 12,
     "metadata": {},
     "output_type": "execute_result"
    }
   ],
   "source": [
    "id(dict)"
   ]
  },
  {
   "cell_type": "code",
   "execution_count": 13,
   "id": "41b3b700-bf3c-4e2a-b8f6-323ba1100088",
   "metadata": {},
   "outputs": [
    {
     "data": {
      "text/plain": [
       "['__add__',\n",
       " '__class__',\n",
       " '__contains__',\n",
       " '__delattr__',\n",
       " '__dir__',\n",
       " '__doc__',\n",
       " '__eq__',\n",
       " '__format__',\n",
       " '__ge__',\n",
       " '__getattribute__',\n",
       " '__getitem__',\n",
       " '__getnewargs__',\n",
       " '__getstate__',\n",
       " '__gt__',\n",
       " '__hash__',\n",
       " '__init__',\n",
       " '__init_subclass__',\n",
       " '__iter__',\n",
       " '__le__',\n",
       " '__len__',\n",
       " '__lt__',\n",
       " '__mod__',\n",
       " '__mul__',\n",
       " '__ne__',\n",
       " '__new__',\n",
       " '__reduce__',\n",
       " '__reduce_ex__',\n",
       " '__repr__',\n",
       " '__rmod__',\n",
       " '__rmul__',\n",
       " '__setattr__',\n",
       " '__sizeof__',\n",
       " '__str__',\n",
       " '__subclasshook__',\n",
       " 'capitalize',\n",
       " 'casefold',\n",
       " 'center',\n",
       " 'count',\n",
       " 'encode',\n",
       " 'endswith',\n",
       " 'expandtabs',\n",
       " 'find',\n",
       " 'format',\n",
       " 'format_map',\n",
       " 'index',\n",
       " 'isalnum',\n",
       " 'isalpha',\n",
       " 'isascii',\n",
       " 'isdecimal',\n",
       " 'isdigit',\n",
       " 'isidentifier',\n",
       " 'islower',\n",
       " 'isnumeric',\n",
       " 'isprintable',\n",
       " 'isspace',\n",
       " 'istitle',\n",
       " 'isupper',\n",
       " 'join',\n",
       " 'ljust',\n",
       " 'lower',\n",
       " 'lstrip',\n",
       " 'maketrans',\n",
       " 'partition',\n",
       " 'removeprefix',\n",
       " 'removesuffix',\n",
       " 'replace',\n",
       " 'rfind',\n",
       " 'rindex',\n",
       " 'rjust',\n",
       " 'rpartition',\n",
       " 'rsplit',\n",
       " 'rstrip',\n",
       " 'split',\n",
       " 'splitlines',\n",
       " 'startswith',\n",
       " 'strip',\n",
       " 'swapcase',\n",
       " 'title',\n",
       " 'translate',\n",
       " 'upper',\n",
       " 'zfill']"
      ]
     },
     "execution_count": 13,
     "metadata": {},
     "output_type": "execute_result"
    }
   ],
   "source": [
    "dir(name)"
   ]
  },
  {
   "cell_type": "code",
   "execution_count": 14,
   "id": "ef1377ab-5b16-462f-85c1-5efc643a1d29",
   "metadata": {},
   "outputs": [
    {
     "data": {
      "text/plain": [
       "'BRUCE LEE'"
      ]
     },
     "execution_count": 14,
     "metadata": {},
     "output_type": "execute_result"
    }
   ],
   "source": [
    "name.upper()"
   ]
  },
  {
   "cell_type": "code",
   "execution_count": 15,
   "id": "fcbed465-a0ee-4843-bc65-b16459058887",
   "metadata": {},
   "outputs": [
    {
     "data": {
      "text/plain": [
       "['__abs__',\n",
       " '__add__',\n",
       " '__and__',\n",
       " '__bool__',\n",
       " '__ceil__',\n",
       " '__class__',\n",
       " '__delattr__',\n",
       " '__dir__',\n",
       " '__divmod__',\n",
       " '__doc__',\n",
       " '__eq__',\n",
       " '__float__',\n",
       " '__floor__',\n",
       " '__floordiv__',\n",
       " '__format__',\n",
       " '__ge__',\n",
       " '__getattribute__',\n",
       " '__getnewargs__',\n",
       " '__getstate__',\n",
       " '__gt__',\n",
       " '__hash__',\n",
       " '__index__',\n",
       " '__init__',\n",
       " '__init_subclass__',\n",
       " '__int__',\n",
       " '__invert__',\n",
       " '__le__',\n",
       " '__lshift__',\n",
       " '__lt__',\n",
       " '__mod__',\n",
       " '__mul__',\n",
       " '__ne__',\n",
       " '__neg__',\n",
       " '__new__',\n",
       " '__or__',\n",
       " '__pos__',\n",
       " '__pow__',\n",
       " '__radd__',\n",
       " '__rand__',\n",
       " '__rdivmod__',\n",
       " '__reduce__',\n",
       " '__reduce_ex__',\n",
       " '__repr__',\n",
       " '__rfloordiv__',\n",
       " '__rlshift__',\n",
       " '__rmod__',\n",
       " '__rmul__',\n",
       " '__ror__',\n",
       " '__round__',\n",
       " '__rpow__',\n",
       " '__rrshift__',\n",
       " '__rshift__',\n",
       " '__rsub__',\n",
       " '__rtruediv__',\n",
       " '__rxor__',\n",
       " '__setattr__',\n",
       " '__sizeof__',\n",
       " '__str__',\n",
       " '__sub__',\n",
       " '__subclasshook__',\n",
       " '__truediv__',\n",
       " '__trunc__',\n",
       " '__xor__',\n",
       " 'as_integer_ratio',\n",
       " 'bit_count',\n",
       " 'bit_length',\n",
       " 'conjugate',\n",
       " 'denominator',\n",
       " 'from_bytes',\n",
       " 'imag',\n",
       " 'is_integer',\n",
       " 'numerator',\n",
       " 'real',\n",
       " 'to_bytes']"
      ]
     },
     "execution_count": 15,
     "metadata": {},
     "output_type": "execute_result"
    }
   ],
   "source": [
    "dir(year)"
   ]
  },
  {
   "cell_type": "code",
   "execution_count": 16,
   "id": "f586d694-d7e7-47f3-b8b5-e879082870a1",
   "metadata": {},
   "outputs": [
    {
     "data": {
      "text/plain": [
       "['__doc__',\n",
       " '__file__',\n",
       " '__loader__',\n",
       " '__name__',\n",
       " '__package__',\n",
       " '__spec__',\n",
       " 'acos',\n",
       " 'acosh',\n",
       " 'asin',\n",
       " 'asinh',\n",
       " 'atan',\n",
       " 'atan2',\n",
       " 'atanh',\n",
       " 'cbrt',\n",
       " 'ceil',\n",
       " 'comb',\n",
       " 'copysign',\n",
       " 'cos',\n",
       " 'cosh',\n",
       " 'degrees',\n",
       " 'dist',\n",
       " 'e',\n",
       " 'erf',\n",
       " 'erfc',\n",
       " 'exp',\n",
       " 'exp2',\n",
       " 'expm1',\n",
       " 'fabs',\n",
       " 'factorial',\n",
       " 'floor',\n",
       " 'fmod',\n",
       " 'frexp',\n",
       " 'fsum',\n",
       " 'gamma',\n",
       " 'gcd',\n",
       " 'hypot',\n",
       " 'inf',\n",
       " 'isclose',\n",
       " 'isfinite',\n",
       " 'isinf',\n",
       " 'isnan',\n",
       " 'isqrt',\n",
       " 'lcm',\n",
       " 'ldexp',\n",
       " 'lgamma',\n",
       " 'log',\n",
       " 'log10',\n",
       " 'log1p',\n",
       " 'log2',\n",
       " 'modf',\n",
       " 'nan',\n",
       " 'nextafter',\n",
       " 'perm',\n",
       " 'pi',\n",
       " 'pow',\n",
       " 'prod',\n",
       " 'radians',\n",
       " 'remainder',\n",
       " 'sin',\n",
       " 'sinh',\n",
       " 'sqrt',\n",
       " 'sumprod',\n",
       " 'tan',\n",
       " 'tanh',\n",
       " 'tau',\n",
       " 'trunc',\n",
       " 'ulp']"
      ]
     },
     "execution_count": 16,
     "metadata": {},
     "output_type": "execute_result"
    }
   ],
   "source": [
    "dir(math)"
   ]
  },
  {
   "cell_type": "code",
   "execution_count": 17,
   "id": "91e9509d-550f-45d1-857c-8b0615ebb648",
   "metadata": {},
   "outputs": [
    {
     "name": "stdout",
     "output_type": "stream",
     "text": [
      "Help on module math:\n",
      "\n",
      "NAME\n",
      "    math\n",
      "\n",
      "MODULE REFERENCE\n",
      "    https://docs.python.org/3.12/library/math.html\n",
      "\n",
      "    The following documentation is automatically generated from the Python\n",
      "    source files.  It may be incomplete, incorrect or include features that\n",
      "    are considered implementation detail and may vary between Python\n",
      "    implementations.  When in doubt, consult the module reference at the\n",
      "    location listed above.\n",
      "\n",
      "DESCRIPTION\n",
      "    This module provides access to the mathematical functions\n",
      "    defined by the C standard.\n",
      "\n",
      "FUNCTIONS\n",
      "    acos(x, /)\n",
      "        Return the arc cosine (measured in radians) of x.\n",
      "\n",
      "        The result is between 0 and pi.\n",
      "\n",
      "    acosh(x, /)\n",
      "        Return the inverse hyperbolic cosine of x.\n",
      "\n",
      "    asin(x, /)\n",
      "        Return the arc sine (measured in radians) of x.\n",
      "\n",
      "        The result is between -pi/2 and pi/2.\n",
      "\n",
      "    asinh(x, /)\n",
      "        Return the inverse hyperbolic sine of x.\n",
      "\n",
      "    atan(x, /)\n",
      "        Return the arc tangent (measured in radians) of x.\n",
      "\n",
      "        The result is between -pi/2 and pi/2.\n",
      "\n",
      "    atan2(y, x, /)\n",
      "        Return the arc tangent (measured in radians) of y/x.\n",
      "\n",
      "        Unlike atan(y/x), the signs of both x and y are considered.\n",
      "\n",
      "    atanh(x, /)\n",
      "        Return the inverse hyperbolic tangent of x.\n",
      "\n",
      "    cbrt(x, /)\n",
      "        Return the cube root of x.\n",
      "\n",
      "    ceil(x, /)\n",
      "        Return the ceiling of x as an Integral.\n",
      "\n",
      "        This is the smallest integer >= x.\n",
      "\n",
      "    comb(n, k, /)\n",
      "        Number of ways to choose k items from n items without repetition and without order.\n",
      "\n",
      "        Evaluates to n! / (k! * (n - k)!) when k <= n and evaluates\n",
      "        to zero when k > n.\n",
      "\n",
      "        Also called the binomial coefficient because it is equivalent\n",
      "        to the coefficient of k-th term in polynomial expansion of the\n",
      "        expression (1 + x)**n.\n",
      "\n",
      "        Raises TypeError if either of the arguments are not integers.\n",
      "        Raises ValueError if either of the arguments are negative.\n",
      "\n",
      "    copysign(x, y, /)\n",
      "        Return a float with the magnitude (absolute value) of x but the sign of y.\n",
      "\n",
      "        On platforms that support signed zeros, copysign(1.0, -0.0)\n",
      "        returns -1.0.\n",
      "\n",
      "    cos(x, /)\n",
      "        Return the cosine of x (measured in radians).\n",
      "\n",
      "    cosh(x, /)\n",
      "        Return the hyperbolic cosine of x.\n",
      "\n",
      "    degrees(x, /)\n",
      "        Convert angle x from radians to degrees.\n",
      "\n",
      "    dist(p, q, /)\n",
      "        Return the Euclidean distance between two points p and q.\n",
      "\n",
      "        The points should be specified as sequences (or iterables) of\n",
      "        coordinates.  Both inputs must have the same dimension.\n",
      "\n",
      "        Roughly equivalent to:\n",
      "            sqrt(sum((px - qx) ** 2.0 for px, qx in zip(p, q)))\n",
      "\n",
      "    erf(x, /)\n",
      "        Error function at x.\n",
      "\n",
      "    erfc(x, /)\n",
      "        Complementary error function at x.\n",
      "\n",
      "    exp(x, /)\n",
      "        Return e raised to the power of x.\n",
      "\n",
      "    exp2(x, /)\n",
      "        Return 2 raised to the power of x.\n",
      "\n",
      "    expm1(x, /)\n",
      "        Return exp(x)-1.\n",
      "\n",
      "        This function avoids the loss of precision involved in the direct evaluation of exp(x)-1 for small x.\n",
      "\n",
      "    fabs(x, /)\n",
      "        Return the absolute value of the float x.\n",
      "\n",
      "    factorial(n, /)\n",
      "        Find n!.\n",
      "\n",
      "        Raise a ValueError if x is negative or non-integral.\n",
      "\n",
      "    floor(x, /)\n",
      "        Return the floor of x as an Integral.\n",
      "\n",
      "        This is the largest integer <= x.\n",
      "\n",
      "    fmod(x, y, /)\n",
      "        Return fmod(x, y), according to platform C.\n",
      "\n",
      "        x % y may differ.\n",
      "\n",
      "    frexp(x, /)\n",
      "        Return the mantissa and exponent of x, as pair (m, e).\n",
      "\n",
      "        m is a float and e is an int, such that x = m * 2.**e.\n",
      "        If x is 0, m and e are both 0.  Else 0.5 <= abs(m) < 1.0.\n",
      "\n",
      "    fsum(seq, /)\n",
      "        Return an accurate floating point sum of values in the iterable seq.\n",
      "\n",
      "        Assumes IEEE-754 floating point arithmetic.\n",
      "\n",
      "    gamma(x, /)\n",
      "        Gamma function at x.\n",
      "\n",
      "    gcd(*integers)\n",
      "        Greatest Common Divisor.\n",
      "\n",
      "    hypot(...)\n",
      "        hypot(*coordinates) -> value\n",
      "\n",
      "        Multidimensional Euclidean distance from the origin to a point.\n",
      "\n",
      "        Roughly equivalent to:\n",
      "            sqrt(sum(x**2 for x in coordinates))\n",
      "\n",
      "        For a two dimensional point (x, y), gives the hypotenuse\n",
      "        using the Pythagorean theorem:  sqrt(x*x + y*y).\n",
      "\n",
      "        For example, the hypotenuse of a 3/4/5 right triangle is:\n",
      "\n",
      "            >>> hypot(3.0, 4.0)\n",
      "            5.0\n",
      "\n",
      "    isclose(a, b, *, rel_tol=1e-09, abs_tol=0.0)\n",
      "        Determine whether two floating point numbers are close in value.\n",
      "\n",
      "          rel_tol\n",
      "            maximum difference for being considered \"close\", relative to the\n",
      "            magnitude of the input values\n",
      "          abs_tol\n",
      "            maximum difference for being considered \"close\", regardless of the\n",
      "            magnitude of the input values\n",
      "\n",
      "        Return True if a is close in value to b, and False otherwise.\n",
      "\n",
      "        For the values to be considered close, the difference between them\n",
      "        must be smaller than at least one of the tolerances.\n",
      "\n",
      "        -inf, inf and NaN behave similarly to the IEEE 754 Standard.  That\n",
      "        is, NaN is not close to anything, even itself.  inf and -inf are\n",
      "        only close to themselves.\n",
      "\n",
      "    isfinite(x, /)\n",
      "        Return True if x is neither an infinity nor a NaN, and False otherwise.\n",
      "\n",
      "    isinf(x, /)\n",
      "        Return True if x is a positive or negative infinity, and False otherwise.\n",
      "\n",
      "    isnan(x, /)\n",
      "        Return True if x is a NaN (not a number), and False otherwise.\n",
      "\n",
      "    isqrt(n, /)\n",
      "        Return the integer part of the square root of the input.\n",
      "\n",
      "    lcm(*integers)\n",
      "        Least Common Multiple.\n",
      "\n",
      "    ldexp(x, i, /)\n",
      "        Return x * (2**i).\n",
      "\n",
      "        This is essentially the inverse of frexp().\n",
      "\n",
      "    lgamma(x, /)\n",
      "        Natural logarithm of absolute value of Gamma function at x.\n",
      "\n",
      "    log(...)\n",
      "        log(x, [base=math.e])\n",
      "        Return the logarithm of x to the given base.\n",
      "\n",
      "        If the base is not specified, returns the natural logarithm (base e) of x.\n",
      "\n",
      "    log10(x, /)\n",
      "        Return the base 10 logarithm of x.\n",
      "\n",
      "    log1p(x, /)\n",
      "        Return the natural logarithm of 1+x (base e).\n",
      "\n",
      "        The result is computed in a way which is accurate for x near zero.\n",
      "\n",
      "    log2(x, /)\n",
      "        Return the base 2 logarithm of x.\n",
      "\n",
      "    modf(x, /)\n",
      "        Return the fractional and integer parts of x.\n",
      "\n",
      "        Both results carry the sign of x and are floats.\n",
      "\n",
      "    nextafter(x, y, /, *, steps=None)\n",
      "        Return the floating-point value the given number of steps after x towards y.\n",
      "\n",
      "        If steps is not specified or is None, it defaults to 1.\n",
      "\n",
      "        Raises a TypeError, if x or y is not a double, or if steps is not an integer.\n",
      "        Raises ValueError if steps is negative.\n",
      "\n",
      "    perm(n, k=None, /)\n",
      "        Number of ways to choose k items from n items without repetition and with order.\n",
      "\n",
      "        Evaluates to n! / (n - k)! when k <= n and evaluates\n",
      "        to zero when k > n.\n",
      "\n",
      "        If k is not specified or is None, then k defaults to n\n",
      "        and the function returns n!.\n",
      "\n",
      "        Raises TypeError if either of the arguments are not integers.\n",
      "        Raises ValueError if either of the arguments are negative.\n",
      "\n",
      "    pow(x, y, /)\n",
      "        Return x**y (x to the power of y).\n",
      "\n",
      "    prod(iterable, /, *, start=1)\n",
      "        Calculate the product of all the elements in the input iterable.\n",
      "\n",
      "        The default start value for the product is 1.\n",
      "\n",
      "        When the iterable is empty, return the start value.  This function is\n",
      "        intended specifically for use with numeric values and may reject\n",
      "        non-numeric types.\n",
      "\n",
      "    radians(x, /)\n",
      "        Convert angle x from degrees to radians.\n",
      "\n",
      "    remainder(x, y, /)\n",
      "        Difference between x and the closest integer multiple of y.\n",
      "\n",
      "        Return x - n*y where n*y is the closest integer multiple of y.\n",
      "        In the case where x is exactly halfway between two multiples of\n",
      "        y, the nearest even value of n is used. The result is always exact.\n",
      "\n",
      "    sin(x, /)\n",
      "        Return the sine of x (measured in radians).\n",
      "\n",
      "    sinh(x, /)\n",
      "        Return the hyperbolic sine of x.\n",
      "\n",
      "    sqrt(x, /)\n",
      "        Return the square root of x.\n",
      "\n",
      "    sumprod(p, q, /)\n",
      "        Return the sum of products of values from two iterables p and q.\n",
      "\n",
      "        Roughly equivalent to:\n",
      "\n",
      "            sum(itertools.starmap(operator.mul, zip(p, q, strict=True)))\n",
      "\n",
      "        For float and mixed int/float inputs, the intermediate products\n",
      "        and sums are computed with extended precision.\n",
      "\n",
      "    tan(x, /)\n",
      "        Return the tangent of x (measured in radians).\n",
      "\n",
      "    tanh(x, /)\n",
      "        Return the hyperbolic tangent of x.\n",
      "\n",
      "    trunc(x, /)\n",
      "        Truncates the Real x to the nearest Integral toward 0.\n",
      "\n",
      "        Uses the __trunc__ magic method.\n",
      "\n",
      "    ulp(x, /)\n",
      "        Return the value of the least significant bit of the float x.\n",
      "\n",
      "DATA\n",
      "    e = 2.718281828459045\n",
      "    inf = inf\n",
      "    nan = nan\n",
      "    pi = 3.141592653589793\n",
      "    tau = 6.283185307179586\n",
      "\n",
      "FILE\n",
      "    /Library/Frameworks/Python.framework/Versions/3.12/lib/python3.12/lib-dynload/math.cpython-312-darwin.so\n",
      "\n",
      "\n"
     ]
    }
   ],
   "source": [
    "help(math)"
   ]
  },
  {
   "cell_type": "markdown",
   "id": "38163606-0c7c-4c2f-a666-12133578048a",
   "metadata": {},
   "source": [
    "# car rental agency - objects example\n",
    "* car\n",
    "   * make: 'Tesla',\n",
    "   * model: 'Y',\n",
    "   * year: 2023\n",
    "   * color: \"blue\"\n",
    "   * VIN: \"1GJ2...\"\n",
    "   * license plate\n",
    "   * mileage: 6022\n",
    "   * maintenance\n",
    "   * history\n",
    "   * status { \"rented\", washing, repaired, in transit, \"foo\" }\n",
    "   * location\n",
    " \n",
    "* reservation\n",
    "  * name, license, age, info\n",
    "  * credit card info\n",
    "  * check out date\n",
    "  * return date\n",
    "  * type of car { subcompact, compact, midsize, fullsize, convertible }\n",
    "  * specific car\n",
    "  * propulsion { EV, ICE }\n",
    "\n",
    "* locations / lots\n",
    "\n",
    "* customers"
   ]
  },
  {
   "cell_type": "code",
   "execution_count": null,
   "id": "5d5ee664-29c6-4a63-8a5c-46d30cbac2f2",
   "metadata": {},
   "outputs": [],
   "source": [
    "from enum import Enum\n",
    "\n",
    "# class syntax\n",
    "class Color(Enum):\n",
    "    RED = 1\n",
    "    GREEN = 2\n",
    "    BLUE = 3"
   ]
  },
  {
   "cell_type": "code",
   "execution_count": 18,
   "id": "8ffcf83b-df4b-4b44-8229-7ea308f571f7",
   "metadata": {},
   "outputs": [],
   "source": [
    "car = [ 'Tesla', 'Y', 2023 ]"
   ]
  },
  {
   "cell_type": "code",
   "execution_count": 19,
   "id": "1f2f026c-9ac6-4727-ac2a-f0cb4d85de0f",
   "metadata": {},
   "outputs": [
    {
     "data": {
      "text/plain": [
       "['Tesla', 'Y', 2023]"
      ]
     },
     "execution_count": 19,
     "metadata": {},
     "output_type": "execute_result"
    }
   ],
   "source": [
    "car"
   ]
  },
  {
   "cell_type": "code",
   "execution_count": 22,
   "id": "8d58152f-f96a-4a3e-b097-d0bd81823b9a",
   "metadata": {},
   "outputs": [
    {
     "name": "stdout",
     "output_type": "stream",
     "text": [
      "Tesla <class 'str'>\n",
      "Y <class 'str'>\n",
      "2023 <class 'int'>\n"
     ]
    }
   ],
   "source": [
    "for field in car:\n",
    "    print(field, type(field))"
   ]
  },
  {
   "cell_type": "code",
   "execution_count": 23,
   "id": "2f1c09d3-7bac-4ab7-ba01-aa51c05d459e",
   "metadata": {},
   "outputs": [
    {
     "data": {
      "text/plain": [
       "['apple', 'fig', 'pear']"
      ]
     },
     "execution_count": 23,
     "metadata": {},
     "output_type": "execute_result"
    }
   ],
   "source": [
    "fruits"
   ]
  },
  {
   "cell_type": "code",
   "execution_count": 24,
   "id": "81f4b3b7-f7dd-439c-afbb-147ed4ce0212",
   "metadata": {},
   "outputs": [],
   "source": [
    "fruits.append('banana') # mutator method"
   ]
  },
  {
   "cell_type": "code",
   "execution_count": 25,
   "id": "653e6560-49ff-4616-b5b4-62f867469433",
   "metadata": {},
   "outputs": [
    {
     "data": {
      "text/plain": [
       "['apple', 'fig', 'pear', 'banana']"
      ]
     },
     "execution_count": 25,
     "metadata": {},
     "output_type": "execute_result"
    }
   ],
   "source": [
    "fruits"
   ]
  },
  {
   "cell_type": "code",
   "execution_count": 26,
   "id": "b8eec94b-4f21-42f7-947b-c5ff06540041",
   "metadata": {},
   "outputs": [
    {
     "data": {
      "text/plain": [
       "1"
      ]
     },
     "execution_count": 26,
     "metadata": {},
     "output_type": "execute_result"
    }
   ],
   "source": [
    "fruits.count('fig') # inspector method"
   ]
  },
  {
   "cell_type": "code",
   "execution_count": 27,
   "id": "51de5b8f-0d56-45d7-9292-875a22813f52",
   "metadata": {},
   "outputs": [
    {
     "data": {
      "text/plain": [
       "['apple', 'fig', 'pear', 'banana']"
      ]
     },
     "execution_count": 27,
     "metadata": {},
     "output_type": "execute_result"
    }
   ],
   "source": [
    "fruits"
   ]
  },
  {
   "cell_type": "code",
   "execution_count": 28,
   "id": "762d6400-c8cf-496c-a716-f0845ca9b665",
   "metadata": {},
   "outputs": [
    {
     "data": {
      "text/plain": [
       "list"
      ]
     },
     "execution_count": 28,
     "metadata": {},
     "output_type": "execute_result"
    }
   ],
   "source": [
    "type(fruits)"
   ]
  },
  {
   "cell_type": "code",
   "execution_count": 29,
   "id": "00ff06b8-9bb5-49c4-bf93-1ad10277bcaf",
   "metadata": {},
   "outputs": [
    {
     "name": "stdout",
     "output_type": "stream",
     "text": [
      "<class 'list'>\n"
     ]
    }
   ],
   "source": [
    "print(type(fruits))"
   ]
  },
  {
   "cell_type": "code",
   "execution_count": 30,
   "id": "19db06d0-d157-4cc7-b052-8940aceea59f",
   "metadata": {},
   "outputs": [
    {
     "name": "stdout",
     "output_type": "stream",
     "text": [
      "<class 'int'>\n"
     ]
    }
   ],
   "source": [
    "print(type(1))"
   ]
  },
  {
   "cell_type": "code",
   "execution_count": 31,
   "id": "e74f57ef-d38c-48fb-8f10-0864f06b7d6a",
   "metadata": {},
   "outputs": [
    {
     "name": "stdout",
     "output_type": "stream",
     "text": [
      "<class 'bool'>\n"
     ]
    }
   ],
   "source": [
    "print(type(False))"
   ]
  },
  {
   "cell_type": "code",
   "execution_count": 32,
   "id": "12fffbf4-7946-44df-9e16-24566056874b",
   "metadata": {},
   "outputs": [
    {
     "ename": "SyntaxError",
     "evalue": "invalid syntax (3675897435.py, line 1)",
     "output_type": "error",
     "traceback": [
      "\u001b[0;36m  Cell \u001b[0;32mIn[32], line 1\u001b[0;36m\u001b[0m\n\u001b[0;31m    while = 4\u001b[0m\n\u001b[0m          ^\u001b[0m\n\u001b[0;31mSyntaxError\u001b[0m\u001b[0;31m:\u001b[0m invalid syntax\n"
     ]
    }
   ],
   "source": [
    "while = 4"
   ]
  },
  {
   "cell_type": "code",
   "execution_count": 33,
   "id": "163d4380-e6bc-454d-8b33-e108e0adfad7",
   "metadata": {},
   "outputs": [],
   "source": [
    "self = 4"
   ]
  },
  {
   "cell_type": "code",
   "execution_count": 34,
   "id": "62f5e51d-21ea-4896-914b-98925bd09f3c",
   "metadata": {},
   "outputs": [],
   "source": [
    "my_super_cool_list = '1 2 3'.split()"
   ]
  },
  {
   "cell_type": "code",
   "execution_count": 46,
   "id": "6b0ca0d4-d124-4b0d-b750-c290c6af2bcc",
   "metadata": {},
   "outputs": [],
   "source": [
    "def split_and_sort(string):\n",
    "    \"\"\"Accept a string and return a splitted version of the string as a sorted list.\"\"\""
   ]
  },
  {
   "cell_type": "code",
   "execution_count": 36,
   "id": "23ac79fd-8e26-4e56-8932-6db2ce8d3952",
   "metadata": {},
   "outputs": [],
   "source": [
    "long_string = \"\"\"\n",
    "This is a long string.\n",
    "It spans multiple lines.\n",
    "There are embedded CRs in here!\n",
    "\"\"\""
   ]
  },
  {
   "cell_type": "code",
   "execution_count": 37,
   "id": "12f9c94c-71cf-4f16-94de-569f41900cd8",
   "metadata": {},
   "outputs": [
    {
     "data": {
      "text/plain": [
       "'this\\nalso \\nworks'"
      ]
     },
     "execution_count": 37,
     "metadata": {},
     "output_type": "execute_result"
    }
   ],
   "source": [
    "'''this\n",
    "also \n",
    "works'''"
   ]
  },
  {
   "cell_type": "code",
   "execution_count": 44,
   "id": "1aa60d25-80a0-4e07-a7c2-1f2853a0367b",
   "metadata": {},
   "outputs": [
    {
     "name": "stdout",
     "output_type": "stream",
     "text": [
      "Help on function split_and_sort in module __main__:\n",
      "\n",
      "split_and_sort(string)\n",
      "    HELLO! Accept a string and return a splitted version of the string as a sorted list.\n",
      "\n"
     ]
    }
   ],
   "source": [
    "help(split_and_sort)"
   ]
  },
  {
   "cell_type": "code",
   "execution_count": 47,
   "id": "9c419719-2087-42f7-953f-284b5838580d",
   "metadata": {},
   "outputs": [],
   "source": [
    "def new_func():\n",
    "    \"\"\"New function\"\"\""
   ]
  },
  {
   "cell_type": "code",
   "execution_count": 48,
   "id": "28d1585c-6113-4742-a0d3-0bcb4a7ee2da",
   "metadata": {},
   "outputs": [
    {
     "data": {
      "text/plain": [
       "4406493024"
      ]
     },
     "execution_count": 48,
     "metadata": {},
     "output_type": "execute_result"
    }
   ],
   "source": [
    "id(new_func)"
   ]
  },
  {
   "cell_type": "code",
   "execution_count": 49,
   "id": "d601b5ff-32b9-4a31-93d3-dc3cdd7ed1ff",
   "metadata": {},
   "outputs": [
    {
     "data": {
      "text/plain": [
       "['__annotations__',\n",
       " '__builtins__',\n",
       " '__call__',\n",
       " '__class__',\n",
       " '__closure__',\n",
       " '__code__',\n",
       " '__defaults__',\n",
       " '__delattr__',\n",
       " '__dict__',\n",
       " '__dir__',\n",
       " '__doc__',\n",
       " '__eq__',\n",
       " '__format__',\n",
       " '__ge__',\n",
       " '__get__',\n",
       " '__getattribute__',\n",
       " '__getstate__',\n",
       " '__globals__',\n",
       " '__gt__',\n",
       " '__hash__',\n",
       " '__init__',\n",
       " '__init_subclass__',\n",
       " '__kwdefaults__',\n",
       " '__le__',\n",
       " '__lt__',\n",
       " '__module__',\n",
       " '__name__',\n",
       " '__ne__',\n",
       " '__new__',\n",
       " '__qualname__',\n",
       " '__reduce__',\n",
       " '__reduce_ex__',\n",
       " '__repr__',\n",
       " '__setattr__',\n",
       " '__sizeof__',\n",
       " '__str__',\n",
       " '__subclasshook__',\n",
       " '__type_params__']"
      ]
     },
     "execution_count": 49,
     "metadata": {},
     "output_type": "execute_result"
    }
   ],
   "source": [
    "dir(new_func)"
   ]
  },
  {
   "cell_type": "code",
   "execution_count": 50,
   "id": "032c2d7d-58bc-4821-8693-d84f8f5e2b7f",
   "metadata": {},
   "outputs": [
    {
     "data": {
      "text/plain": [
       "'New function'"
      ]
     },
     "execution_count": 50,
     "metadata": {},
     "output_type": "execute_result"
    }
   ],
   "source": [
    "new_func.__doc__"
   ]
  },
  {
   "cell_type": "code",
   "execution_count": 51,
   "id": "68176eb9-d79f-429d-ba27-3db515959651",
   "metadata": {},
   "outputs": [
    {
     "data": {
      "text/plain": [
       "'Accept a string and return a splitted version of the string as a sorted list.'"
      ]
     },
     "execution_count": 51,
     "metadata": {},
     "output_type": "execute_result"
    }
   ],
   "source": [
    "split_and_sort.__doc__"
   ]
  },
  {
   "cell_type": "code",
   "execution_count": 52,
   "id": "51a98ebe-4bad-412e-a82a-f990f5e4158e",
   "metadata": {},
   "outputs": [
    {
     "name": "stdout",
     "output_type": "stream",
     "text": [
      "Help on function split_and_sort in module __main__:\n",
      "\n",
      "split_and_sort(string)\n",
      "    Accept a string and return a splitted version of the string as a sorted list.\n",
      "\n"
     ]
    }
   ],
   "source": [
    "help(split_and_sort)"
   ]
  },
  {
   "cell_type": "code",
   "execution_count": 53,
   "id": "39ecf95c-e5a2-42e5-98c9-e634eaf8342a",
   "metadata": {},
   "outputs": [
    {
     "data": {
      "text/plain": [
       "function"
      ]
     },
     "execution_count": 53,
     "metadata": {},
     "output_type": "execute_result"
    }
   ],
   "source": [
    "type(split_and_sort)"
   ]
  },
  {
   "cell_type": "code",
   "execution_count": 55,
   "id": "4c91ad6b-5d1f-4390-b6da-fd9994278075",
   "metadata": {},
   "outputs": [],
   "source": [
    "import math"
   ]
  },
  {
   "cell_type": "code",
   "execution_count": 56,
   "id": "939cf8a2-a5a1-4331-9612-030933ec7ac2",
   "metadata": {},
   "outputs": [
    {
     "name": "stdout",
     "output_type": "stream",
     "text": [
      "Help on built-in function sin in module math:\n",
      "\n",
      "sin(x, /)\n",
      "    Return the sine of x (measured in radians).\n",
      "\n"
     ]
    }
   ],
   "source": [
    "help(math.sin)"
   ]
  },
  {
   "cell_type": "code",
   "execution_count": 70,
   "id": "fef832cc-ef7c-4ec4-b3b4-57574b367b5d",
   "metadata": {},
   "outputs": [],
   "source": [
    "class BankAccount: # by convention class names are Pascal Case\n",
    "    \"\"\"A class (or type) that represents a bank account.\"\"\"\n",
    "    def __init__(self, name, initial_balance):\n",
    "        print(vars(self))\n",
    "        self.name = name\n",
    "        print(vars(self))\n",
    "        self.balance = initial_balance\n",
    "        print(vars(self))\n",
    "        \n",
    "    def deposit(self, amount):\n",
    "        \"\"\"deposit function (method)\"\"\"\n",
    "        if amount > 0:\n",
    "            self.balance += amount\n",
    "            return self.balance\n",
    "        else:\n",
    "            print(\"can't deposit nonpositive amount!\")\n",
    "\n",
    "    def withdraw(self, amount):\n",
    "        if amount > 0:\n",
    "            if amount <= self.balance:\n",
    "                self.balance -= amount\n",
    "                return self.balance\n",
    "            else:\n",
    "                print(\"can't withdraw\", amount, \"or you would be overdrawn!\")\n",
    "        else:\n",
    "            print(\"can't withdraw nonpositive amount!\") "
   ]
  },
  {
   "cell_type": "code",
   "execution_count": 60,
   "id": "4cb63c47-b31f-4b04-a74f-8df37873dcf4",
   "metadata": {},
   "outputs": [
    {
     "ename": "TypeError",
     "evalue": "BankAccount.__init__() missing 2 required positional arguments: 'name' and 'initial_balance'",
     "output_type": "error",
     "traceback": [
      "\u001b[0;31m---------------------------------------------------------------------------\u001b[0m",
      "\u001b[0;31mTypeError\u001b[0m                                 Traceback (most recent call last)",
      "Cell \u001b[0;32mIn[60], line 1\u001b[0m\n\u001b[0;32m----> 1\u001b[0m new_account \u001b[38;5;241m=\u001b[39m \u001b[43mBankAccount\u001b[49m\u001b[43m(\u001b[49m\u001b[43m)\u001b[49m\n",
      "\u001b[0;31mTypeError\u001b[0m: BankAccount.__init__() missing 2 required positional arguments: 'name' and 'initial_balance'"
     ]
    }
   ],
   "source": [
    "new_account = BankAccount()"
   ]
  },
  {
   "cell_type": "code",
   "execution_count": 61,
   "id": "66dd1ee4-9aaf-4121-ae23-a89da2366611",
   "metadata": {},
   "outputs": [
    {
     "ename": "TypeError",
     "evalue": "BankAccount.__init__() takes 3 positional arguments but 4 were given",
     "output_type": "error",
     "traceback": [
      "\u001b[0;31m---------------------------------------------------------------------------\u001b[0m",
      "\u001b[0;31mTypeError\u001b[0m                                 Traceback (most recent call last)",
      "Cell \u001b[0;32mIn[61], line 1\u001b[0m\n\u001b[0;32m----> 1\u001b[0m new_account \u001b[38;5;241m=\u001b[39m \u001b[43mBankAccount\u001b[49m\u001b[43m(\u001b[49m\u001b[38;5;124;43m'\u001b[39;49m\u001b[38;5;124;43m'\u001b[39;49m\u001b[43m,\u001b[49m\u001b[43m \u001b[49m\u001b[38;5;124;43m'\u001b[39;49m\u001b[38;5;124;43mDave\u001b[39;49m\u001b[38;5;124;43m'\u001b[39;49m\u001b[43m,\u001b[49m\u001b[43m \u001b[49m\u001b[38;5;241;43m100\u001b[39;49m\u001b[43m)\u001b[49m\n",
      "\u001b[0;31mTypeError\u001b[0m: BankAccount.__init__() takes 3 positional arguments but 4 were given"
     ]
    }
   ],
   "source": [
    "new_account = BankAccount('', 'Dave', 100)"
   ]
  },
  {
   "cell_type": "code",
   "execution_count": 71,
   "id": "34ca6a5e-e9ef-4beb-8702-08103c340abf",
   "metadata": {},
   "outputs": [
    {
     "name": "stdout",
     "output_type": "stream",
     "text": [
      "{}\n",
      "{'name': 'Dave'}\n",
      "{'name': 'Dave', 'balance': 100}\n"
     ]
    }
   ],
   "source": [
    "new_account = BankAccount('Dave', 100)"
   ]
  },
  {
   "cell_type": "code",
   "execution_count": 63,
   "id": "1916cb00-c4a2-47f2-bf58-93552a6c4669",
   "metadata": {},
   "outputs": [
    {
     "data": {
      "text/plain": [
       "['__class__',\n",
       " '__delattr__',\n",
       " '__dict__',\n",
       " '__dir__',\n",
       " '__doc__',\n",
       " '__eq__',\n",
       " '__format__',\n",
       " '__ge__',\n",
       " '__getattribute__',\n",
       " '__getstate__',\n",
       " '__gt__',\n",
       " '__hash__',\n",
       " '__init__',\n",
       " '__init_subclass__',\n",
       " '__le__',\n",
       " '__lt__',\n",
       " '__module__',\n",
       " '__ne__',\n",
       " '__new__',\n",
       " '__reduce__',\n",
       " '__reduce_ex__',\n",
       " '__repr__',\n",
       " '__setattr__',\n",
       " '__sizeof__',\n",
       " '__str__',\n",
       " '__subclasshook__',\n",
       " '__weakref__',\n",
       " 'balance',\n",
       " 'deposit',\n",
       " 'name',\n",
       " 'withdraw']"
      ]
     },
     "execution_count": 63,
     "metadata": {},
     "output_type": "execute_result"
    }
   ],
   "source": [
    "dir(new_account)"
   ]
  },
  {
   "cell_type": "code",
   "execution_count": 64,
   "id": "f6b9bafb-2545-4fc6-bb0a-b72b0c7743fb",
   "metadata": {},
   "outputs": [],
   "source": [
    "class Person:\n",
    "    def __init__(self, name):\n",
    "        self.name = name"
   ]
  },
  {
   "cell_type": "code",
   "execution_count": 65,
   "id": "491073b9-9556-42a5-b443-f47c5ea5e350",
   "metadata": {},
   "outputs": [],
   "source": [
    "person1 = Person('Dolly Parton')"
   ]
  },
  {
   "cell_type": "code",
   "execution_count": 66,
   "id": "4d79e66d-0dd7-44c9-bc25-d887606825e2",
   "metadata": {},
   "outputs": [
    {
     "data": {
      "text/plain": [
       "{'name': 'Dolly Parton'}"
      ]
     },
     "execution_count": 66,
     "metadata": {},
     "output_type": "execute_result"
    }
   ],
   "source": [
    "person1.__dict__"
   ]
  },
  {
   "cell_type": "code",
   "execution_count": 67,
   "id": "7030d7dc-3974-4832-bd0f-1792366ba40e",
   "metadata": {},
   "outputs": [
    {
     "data": {
      "text/plain": [
       "{'name': 'Dolly Parton'}"
      ]
     },
     "execution_count": 67,
     "metadata": {},
     "output_type": "execute_result"
    }
   ],
   "source": [
    "vars(person1)"
   ]
  },
  {
   "cell_type": "code",
   "execution_count": 68,
   "id": "11bda972-ccd3-4891-bb7a-17dcf968abcb",
   "metadata": {},
   "outputs": [],
   "source": [
    "person1.thing = 'Gazornin'"
   ]
  },
  {
   "cell_type": "code",
   "execution_count": 69,
   "id": "c85cdd3f-a49a-4169-93bf-ca22d5f7978a",
   "metadata": {},
   "outputs": [
    {
     "data": {
      "text/plain": [
       "{'name': 'Dolly Parton', 'thing': 'Gazornin'}"
      ]
     },
     "execution_count": 69,
     "metadata": {},
     "output_type": "execute_result"
    }
   ],
   "source": [
    "vars(person1)"
   ]
  },
  {
   "cell_type": "code",
   "execution_count": 72,
   "id": "2fda3dd7-51cf-41ba-876e-9e1fb5ec48ca",
   "metadata": {},
   "outputs": [
    {
     "ename": "TypeError",
     "evalue": "object of type 'int' has no len()",
     "output_type": "error",
     "traceback": [
      "\u001b[0;31m---------------------------------------------------------------------------\u001b[0m",
      "\u001b[0;31mTypeError\u001b[0m                                 Traceback (most recent call last)",
      "Cell \u001b[0;32mIn[72], line 1\u001b[0m\n\u001b[0;32m----> 1\u001b[0m \u001b[38;5;28;43mlen\u001b[39;49m\u001b[43m(\u001b[49m\u001b[38;5;241;43m1234\u001b[39;49m\u001b[43m)\u001b[49m\n",
      "\u001b[0;31mTypeError\u001b[0m: object of type 'int' has no len()"
     ]
    }
   ],
   "source": [
    "len(1234)"
   ]
  },
  {
   "cell_type": "code",
   "execution_count": 73,
   "id": "1de9d796-a4f3-4c8f-a747-5c8ed69812b7",
   "metadata": {},
   "outputs": [],
   "source": [
    "name = 'Taylor Swift'"
   ]
  },
  {
   "cell_type": "code",
   "execution_count": 74,
   "id": "0a20dac9-3658-4bc7-ae5f-fdfc7f426e3b",
   "metadata": {},
   "outputs": [
    {
     "data": {
      "text/plain": [
       "'Taylor Swift'"
      ]
     },
     "execution_count": 74,
     "metadata": {},
     "output_type": "execute_result"
    }
   ],
   "source": [
    "name # asking python to evaluate the value of this variable"
   ]
  },
  {
   "cell_type": "code",
   "execution_count": 75,
   "id": "d4782427-6499-4a2f-8193-ae462b8ec8d4",
   "metadata": {},
   "outputs": [
    {
     "name": "stdout",
     "output_type": "stream",
     "text": [
      "Taylor Swift\n"
     ]
    }
   ],
   "source": [
    "print(name) # print what's in it"
   ]
  },
  {
   "cell_type": "code",
   "execution_count": 76,
   "id": "e6c6e2fd-b617-4084-adf4-3765e10835a4",
   "metadata": {},
   "outputs": [],
   "source": [
    "is_finished = True"
   ]
  },
  {
   "cell_type": "code",
   "execution_count": 77,
   "id": "a79c8c93-0694-48d0-92ae-d6ffcd19e744",
   "metadata": {},
   "outputs": [
    {
     "name": "stdout",
     "output_type": "stream",
     "text": [
      "True\n"
     ]
    }
   ],
   "source": [
    "print(is_finished)"
   ]
  },
  {
   "cell_type": "code",
   "execution_count": 80,
   "id": "42942324-d39d-477e-8feb-cb28d018c4f4",
   "metadata": {},
   "outputs": [
    {
     "name": "stdout",
     "output_type": "stream",
     "text": [
      "True\n"
     ]
    }
   ],
   "source": [
    "word = 'True'\n",
    "print(word)"
   ]
  },
  {
   "cell_type": "code",
   "execution_count": 79,
   "id": "31fab6a3-a39f-443a-af76-b41ff793e6c2",
   "metadata": {},
   "outputs": [
    {
     "data": {
      "text/plain": [
       "True"
      ]
     },
     "execution_count": 79,
     "metadata": {},
     "output_type": "execute_result"
    }
   ],
   "source": [
    "is_finished"
   ]
  },
  {
   "cell_type": "code",
   "execution_count": 81,
   "id": "82cb7073-d19a-4409-a6cc-cd1895b8ca0b",
   "metadata": {},
   "outputs": [
    {
     "data": {
      "text/plain": [
       "'True'"
      ]
     },
     "execution_count": 81,
     "metadata": {},
     "output_type": "execute_result"
    }
   ],
   "source": [
    "word"
   ]
  },
  {
   "cell_type": "code",
   "execution_count": null,
   "id": "c3f60ea8-6ac0-4a6c-ae2c-80e0eb70c918",
   "metadata": {},
   "outputs": [],
   "source": [
    "str(4) # BankAccount('Beyonce', 123)"
   ]
  },
  {
   "cell_type": "code",
   "execution_count": null,
   "id": "42a9d75c-2266-4cd5-a249-b469ada4f43c",
   "metadata": {},
   "outputs": [],
   "source": [
    "class str:\n",
    "    def __init__(...):"
   ]
  },
  {
   "cell_type": "code",
   "execution_count": 83,
   "id": "641c4b71-2435-4ca1-81d8-4167c849fee9",
   "metadata": {},
   "outputs": [
    {
     "data": {
      "text/plain": [
       "'4'"
      ]
     },
     "execution_count": 83,
     "metadata": {},
     "output_type": "execute_result"
    }
   ],
   "source": [
    "str(4) # \"give me a human readable version of this\""
   ]
  },
  {
   "cell_type": "code",
   "execution_count": 84,
   "id": "5bf6e929-5605-4693-bc1f-c4a847ed0eff",
   "metadata": {},
   "outputs": [
    {
     "data": {
      "text/plain": [
       "'4'"
      ]
     },
     "execution_count": 84,
     "metadata": {},
     "output_type": "execute_result"
    }
   ],
   "source": [
    "repr(4) # \"give me a machine readable version of this\""
   ]
  },
  {
   "cell_type": "code",
   "execution_count": 85,
   "id": "5b1b54f8-8fab-490a-bb87-c1dbaf3bcaca",
   "metadata": {},
   "outputs": [
    {
     "data": {
      "text/plain": [
       "'hello'"
      ]
     },
     "execution_count": 85,
     "metadata": {},
     "output_type": "execute_result"
    }
   ],
   "source": [
    "str('hello')"
   ]
  },
  {
   "cell_type": "code",
   "execution_count": 86,
   "id": "5a0cf7e8-818a-4bca-873f-1a033f80f65a",
   "metadata": {},
   "outputs": [
    {
     "data": {
      "text/plain": [
       "\"'hello'\""
      ]
     },
     "execution_count": 86,
     "metadata": {},
     "output_type": "execute_result"
    }
   ],
   "source": [
    "repr('hello')"
   ]
  },
  {
   "cell_type": "code",
   "execution_count": 87,
   "id": "131a947d-a96b-4577-8d2c-c05503e42217",
   "metadata": {},
   "outputs": [],
   "source": [
    "num = 1234"
   ]
  },
  {
   "cell_type": "code",
   "execution_count": 89,
   "id": "668cc7cd-28a3-4d00-88eb-a7ff40ea769b",
   "metadata": {},
   "outputs": [
    {
     "data": {
      "text/plain": [
       "'1234'"
      ]
     },
     "execution_count": 89,
     "metadata": {},
     "output_type": "execute_result"
    }
   ],
   "source": [
    "str(num) # => __str__()"
   ]
  },
  {
   "cell_type": "code",
   "execution_count": 91,
   "id": "fe92d983-06dc-48d8-903b-8c74e620569a",
   "metadata": {},
   "outputs": [
    {
     "data": {
      "text/plain": [
       "'1234'"
      ]
     },
     "execution_count": 91,
     "metadata": {},
     "output_type": "execute_result"
    }
   ],
   "source": [
    "num.__str__()"
   ]
  },
  {
   "cell_type": "code",
   "execution_count": 90,
   "id": "cce0a818-bea9-4202-837b-fb752eb59ab2",
   "metadata": {},
   "outputs": [
    {
     "data": {
      "text/plain": [
       "['__abs__',\n",
       " '__add__',\n",
       " '__and__',\n",
       " '__bool__',\n",
       " '__ceil__',\n",
       " '__class__',\n",
       " '__delattr__',\n",
       " '__dir__',\n",
       " '__divmod__',\n",
       " '__doc__',\n",
       " '__eq__',\n",
       " '__float__',\n",
       " '__floor__',\n",
       " '__floordiv__',\n",
       " '__format__',\n",
       " '__ge__',\n",
       " '__getattribute__',\n",
       " '__getnewargs__',\n",
       " '__getstate__',\n",
       " '__gt__',\n",
       " '__hash__',\n",
       " '__index__',\n",
       " '__init__',\n",
       " '__init_subclass__',\n",
       " '__int__',\n",
       " '__invert__',\n",
       " '__le__',\n",
       " '__lshift__',\n",
       " '__lt__',\n",
       " '__mod__',\n",
       " '__mul__',\n",
       " '__ne__',\n",
       " '__neg__',\n",
       " '__new__',\n",
       " '__or__',\n",
       " '__pos__',\n",
       " '__pow__',\n",
       " '__radd__',\n",
       " '__rand__',\n",
       " '__rdivmod__',\n",
       " '__reduce__',\n",
       " '__reduce_ex__',\n",
       " '__repr__',\n",
       " '__rfloordiv__',\n",
       " '__rlshift__',\n",
       " '__rmod__',\n",
       " '__rmul__',\n",
       " '__ror__',\n",
       " '__round__',\n",
       " '__rpow__',\n",
       " '__rrshift__',\n",
       " '__rshift__',\n",
       " '__rsub__',\n",
       " '__rtruediv__',\n",
       " '__rxor__',\n",
       " '__setattr__',\n",
       " '__sizeof__',\n",
       " '__str__',\n",
       " '__sub__',\n",
       " '__subclasshook__',\n",
       " '__truediv__',\n",
       " '__trunc__',\n",
       " '__xor__',\n",
       " 'as_integer_ratio',\n",
       " 'bit_count',\n",
       " 'bit_length',\n",
       " 'conjugate',\n",
       " 'denominator',\n",
       " 'from_bytes',\n",
       " 'imag',\n",
       " 'is_integer',\n",
       " 'numerator',\n",
       " 'real',\n",
       " 'to_bytes']"
      ]
     },
     "execution_count": 90,
     "metadata": {},
     "output_type": "execute_result"
    }
   ],
   "source": [
    "dir(num)"
   ]
  },
  {
   "cell_type": "code",
   "execution_count": 92,
   "id": "c4dc664a-e4d9-4385-b32c-f057056719df",
   "metadata": {},
   "outputs": [
    {
     "name": "stdout",
     "output_type": "stream",
     "text": [
      "{}\n",
      "{'name': 'Bazooka Joe'}\n",
      "{'name': 'Bazooka Joe', 'balance': 1234}\n"
     ]
    }
   ],
   "source": [
    "ba = BankAccount('Bazooka Joe', 1234)"
   ]
  },
  {
   "cell_type": "code",
   "execution_count": 93,
   "id": "09f4aab9-aaaf-4e61-a50d-2399b2680676",
   "metadata": {},
   "outputs": [
    {
     "data": {
      "text/plain": [
       "'<__main__.BankAccount object at 0x1069a3ce0>'"
      ]
     },
     "execution_count": 93,
     "metadata": {},
     "output_type": "execute_result"
    }
   ],
   "source": [
    "str(ba)"
   ]
  },
  {
   "cell_type": "code",
   "execution_count": 94,
   "id": "ab47c264-9c9f-48a0-97b1-32f02e686d30",
   "metadata": {},
   "outputs": [
    {
     "data": {
      "text/plain": [
       "'<__main__.BankAccount object at 0x1069a3ce0>'"
      ]
     },
     "execution_count": 94,
     "metadata": {},
     "output_type": "execute_result"
    }
   ],
   "source": [
    "repr(ba)"
   ]
  },
  {
   "cell_type": "code",
   "execution_count": 95,
   "id": "514ebdd1-ca31-4825-849b-f61f3f38b960",
   "metadata": {},
   "outputs": [],
   "source": [
    "name = 'Bruce Lee'"
   ]
  },
  {
   "cell_type": "code",
   "execution_count": 96,
   "id": "e4dd40fc-33f0-440f-8b15-8d540b702513",
   "metadata": {},
   "outputs": [
    {
     "data": {
      "text/plain": [
       "'Bruce Lee'"
      ]
     },
     "execution_count": 96,
     "metadata": {},
     "output_type": "execute_result"
    }
   ],
   "source": [
    "name # repr"
   ]
  },
  {
   "cell_type": "code",
   "execution_count": 97,
   "id": "cb6d2964-b14c-4613-bf40-918cf1e62981",
   "metadata": {},
   "outputs": [
    {
     "name": "stdout",
     "output_type": "stream",
     "text": [
      "Bruce Lee\n"
     ]
    }
   ],
   "source": [
    "print(name) # str"
   ]
  },
  {
   "cell_type": "code",
   "execution_count": 98,
   "id": "d08a595b-1671-4511-9114-de932fdd9e6b",
   "metadata": {},
   "outputs": [],
   "source": [
    "import datetime"
   ]
  },
  {
   "cell_type": "code",
   "execution_count": 99,
   "id": "566835ff-d2d7-4b86-810c-214efbd2a1f7",
   "metadata": {},
   "outputs": [
    {
     "name": "stdout",
     "output_type": "stream",
     "text": [
      "<module 'datetime' from '/Library/Frameworks/Python.framework/Versions/3.12/lib/python3.12/datetime.py'>\n"
     ]
    }
   ],
   "source": [
    "print(datetime)"
   ]
  },
  {
   "cell_type": "code",
   "execution_count": 102,
   "id": "60f6523c-0b01-49e6-9c8d-2c94fc0e4e12",
   "metadata": {},
   "outputs": [
    {
     "name": "stdout",
     "output_type": "stream",
     "text": [
      "Help on built-in function now:\n",
      "\n",
      "now(tz=None) method of builtins.type instance\n",
      "    Returns new datetime object representing current time local to tz.\n",
      "\n",
      "      tz\n",
      "        Timezone object.\n",
      "\n",
      "    If no tz is specified, uses local timezone.\n",
      "\n"
     ]
    }
   ],
   "source": [
    "help(datetime.datetime.now)"
   ]
  },
  {
   "cell_type": "code",
   "execution_count": 103,
   "id": "fef10584-2c1c-4f11-9257-4f5f094b287c",
   "metadata": {},
   "outputs": [],
   "source": [
    "import datetime # module for converting/adding/etc. dates\n",
    "today = datetime.datetime.now() "
   ]
  },
  {
   "cell_type": "code",
   "execution_count": 104,
   "id": "d42e0aea-e4a2-4f65-8353-b574a3f34b80",
   "metadata": {},
   "outputs": [
    {
     "name": "stdout",
     "output_type": "stream",
     "text": [
      "2024-04-16 14:41:35.090781\n"
     ]
    }
   ],
   "source": [
    "print(today)"
   ]
  },
  {
   "cell_type": "code",
   "execution_count": 105,
   "id": "e5cba8d0-9395-48f0-b544-bfba3301e779",
   "metadata": {},
   "outputs": [
    {
     "data": {
      "text/plain": [
       "datetime.datetime(2024, 4, 16, 14, 41, 35, 90781)"
      ]
     },
     "execution_count": 105,
     "metadata": {},
     "output_type": "execute_result"
    }
   ],
   "source": [
    "today # repr"
   ]
  },
  {
   "cell_type": "code",
   "execution_count": 106,
   "id": "ca362ee8-5bf7-4297-bc59-bc94cb4ce73e",
   "metadata": {},
   "outputs": [],
   "source": [
    "something = datetime.datetime(2024, 4, 16, 14, 41, 35, 90781)"
   ]
  },
  {
   "cell_type": "code",
   "execution_count": 107,
   "id": "5ba8e009-1fcd-41a0-9968-73d881abcf9b",
   "metadata": {},
   "outputs": [
    {
     "name": "stdout",
     "output_type": "stream",
     "text": [
      "2024-04-16 14:41:35.090781\n"
     ]
    }
   ],
   "source": [
    "print(something)"
   ]
  },
  {
   "cell_type": "code",
   "execution_count": 108,
   "id": "6a63084f-b6de-41d8-9d33-3ded4be88429",
   "metadata": {},
   "outputs": [
    {
     "data": {
      "text/plain": [
       "True"
      ]
     },
     "execution_count": 108,
     "metadata": {},
     "output_type": "execute_result"
    }
   ],
   "source": [
    "today == something"
   ]
  },
  {
   "cell_type": "code",
   "execution_count": 109,
   "id": "f3b7ac4c-7133-48a6-98d7-316a22bbf560",
   "metadata": {},
   "outputs": [
    {
     "data": {
      "text/plain": [
       "3"
      ]
     },
     "execution_count": 109,
     "metadata": {},
     "output_type": "execute_result"
    }
   ],
   "source": [
    "eval('1 + 2')"
   ]
  },
  {
   "cell_type": "code",
   "execution_count": 153,
   "id": "1d24d158-38c6-483a-81a9-0101cafd6aa4",
   "metadata": {
    "scrolled": true
   },
   "outputs": [
    {
     "name": "stdin",
     "output_type": "stream",
     "text": [
      " 2.5 * 9.4\n"
     ]
    },
    {
     "name": "stdout",
     "output_type": "stream",
     "text": [
      "23.5\n"
     ]
    },
    {
     "name": "stdin",
     "output_type": "stream",
     "text": [
      " \n"
     ]
    }
   ],
   "source": [
    "while (response := input()):\n",
    "    print(eval(response))"
   ]
  },
  {
   "cell_type": "markdown",
   "id": "6c442027-c9be-44f1-a522-220b24c20569",
   "metadata": {},
   "source": [
    "# BDFL\n",
    "* Guido van Rossum\n",
    "* Benevolent Dictator for Life (or until 2018)\n",
    "* walrus operator := PEP 572"
   ]
  },
  {
   "cell_type": "code",
   "execution_count": 115,
   "id": "87a708b5-c727-47ed-86ab-ea0577fd48cf",
   "metadata": {},
   "outputs": [
    {
     "data": {
      "text/plain": [
       "'3.12.2 (v3.12.2:6abddd9f6a, Feb  6 2024, 17:02:06) [Clang 13.0.0 (clang-1300.0.29.30)]'"
      ]
     },
     "execution_count": 115,
     "metadata": {},
     "output_type": "execute_result"
    }
   ],
   "source": [
    "import sys\n",
    "sys.version"
   ]
  },
  {
   "cell_type": "code",
   "execution_count": 117,
   "id": "b79a09e7-e89a-4722-b645-6129c5a4a83d",
   "metadata": {},
   "outputs": [
    {
     "name": "stdin",
     "output_type": "stream",
     "text": [
      "Give me some input:  apple\n"
     ]
    },
    {
     "name": "stdout",
     "output_type": "stream",
     "text": [
      "process apple\n"
     ]
    },
    {
     "name": "stdin",
     "output_type": "stream",
     "text": [
      "Give me some input:  fig\n"
     ]
    },
    {
     "name": "stdout",
     "output_type": "stream",
     "text": [
      "process fig\n"
     ]
    },
    {
     "name": "stdin",
     "output_type": "stream",
     "text": [
      "Give me some input:  pear\n"
     ]
    },
    {
     "name": "stdout",
     "output_type": "stream",
     "text": [
      "process pear\n"
     ]
    },
    {
     "name": "stdin",
     "output_type": "stream",
     "text": [
      "Give me some input:  quit\n"
     ]
    }
   ],
   "source": [
    "while True:\n",
    "    response = input('Give me some input: ')\n",
    "    if response == 'quit': # middle test loop\n",
    "        break\n",
    "    print('process', response)"
   ]
  },
  {
   "cell_type": "code",
   "execution_count": 118,
   "id": "5d3a93e7-c633-4c08-bc52-2d15c702ed63",
   "metadata": {},
   "outputs": [
    {
     "ename": "SyntaxError",
     "evalue": "invalid syntax. Maybe you meant '==' or ':=' instead of '='? (2815570825.py, line 1)",
     "output_type": "error",
     "traceback": [
      "\u001b[0;36m  Cell \u001b[0;32mIn[118], line 1\u001b[0;36m\u001b[0m\n\u001b[0;31m    while (response = input('Give me some input: ')) != 'quit':\u001b[0m\n\u001b[0m           ^\u001b[0m\n\u001b[0;31mSyntaxError\u001b[0m\u001b[0;31m:\u001b[0m invalid syntax. Maybe you meant '==' or ':=' instead of '='?\n"
     ]
    }
   ],
   "source": [
    "while (response = input('Give me some input: ')) != 'quit':\n",
    "    print(response)"
   ]
  },
  {
   "cell_type": "code",
   "execution_count": 120,
   "id": "4c737b0d-d8c2-429f-8775-dc18db881de3",
   "metadata": {},
   "outputs": [
    {
     "name": "stdin",
     "output_type": "stream",
     "text": [
      "Give me some input:  hey\n"
     ]
    },
    {
     "name": "stdout",
     "output_type": "stream",
     "text": [
      "hey\n"
     ]
    },
    {
     "name": "stdin",
     "output_type": "stream",
     "text": [
      "Give me some input:  ok\n"
     ]
    },
    {
     "name": "stdout",
     "output_type": "stream",
     "text": [
      "ok\n"
     ]
    },
    {
     "name": "stdin",
     "output_type": "stream",
     "text": [
      "Give me some input:  apple\n"
     ]
    },
    {
     "name": "stdout",
     "output_type": "stream",
     "text": [
      "apple\n"
     ]
    },
    {
     "name": "stdin",
     "output_type": "stream",
     "text": [
      "Give me some input:  quit\n"
     ]
    }
   ],
   "source": [
    "while (response := input('Give me some input: ')) != 'quit':\n",
    "    print(response)"
   ]
  },
  {
   "cell_type": "code",
   "execution_count": 119,
   "id": "f8bbbc3e-c652-48b5-a475-90a9330091e5",
   "metadata": {},
   "outputs": [
    {
     "ename": "SyntaxError",
     "evalue": "invalid syntax (3972926028.py, line 1)",
     "output_type": "error",
     "traceback": [
      "\u001b[0;36m  Cell \u001b[0;32mIn[119], line 1\u001b[0;36m\u001b[0m\n\u001b[0;31m    name := 'foo'\u001b[0m\n\u001b[0m         ^\u001b[0m\n\u001b[0;31mSyntaxError\u001b[0m\u001b[0;31m:\u001b[0m invalid syntax\n"
     ]
    }
   ],
   "source": [
    "name := 'foo'"
   ]
  },
  {
   "cell_type": "code",
   "execution_count": 121,
   "id": "ace98ab5-ee79-4cce-8609-bd9c54ea9674",
   "metadata": {},
   "outputs": [],
   "source": [
    "# truthiness"
   ]
  },
  {
   "cell_type": "code",
   "execution_count": 122,
   "id": "7cdfa6cd-bfb4-4465-913b-b203958eee1f",
   "metadata": {},
   "outputs": [
    {
     "name": "stdout",
     "output_type": "stream",
     "text": [
      "hi\n"
     ]
    }
   ],
   "source": [
    "if 5 > 3:\n",
    "    print('hi')"
   ]
  },
  {
   "cell_type": "code",
   "execution_count": 123,
   "id": "3a44a0c0-6212-4da6-9fd3-745793871766",
   "metadata": {},
   "outputs": [
    {
     "name": "stdout",
     "output_type": "stream",
     "text": [
      "yep\n"
     ]
    }
   ],
   "source": [
    "if 5: # is 5 not 0 or 0.0 ?\n",
    "    print('yep')"
   ]
  },
  {
   "cell_type": "code",
   "execution_count": 124,
   "id": "6e05e602-64bb-4a62-81d4-caf9b51ceed5",
   "metadata": {},
   "outputs": [
    {
     "data": {
      "text/plain": [
       "False"
      ]
     },
     "execution_count": 124,
     "metadata": {},
     "output_type": "execute_result"
    }
   ],
   "source": [
    "5 == True"
   ]
  },
  {
   "cell_type": "code",
   "execution_count": 125,
   "id": "9cbc7da3-2480-4331-94d4-ee36dec120df",
   "metadata": {},
   "outputs": [
    {
     "name": "stdout",
     "output_type": "stream",
     "text": [
      "yep\n"
     ]
    }
   ],
   "source": [
    "value = 5\n",
    "if value:\n",
    "    print('yep')"
   ]
  },
  {
   "cell_type": "code",
   "execution_count": 126,
   "id": "3a21e17f-4165-420c-9acd-8597b448555b",
   "metadata": {},
   "outputs": [],
   "source": [
    "value = 0.0\n",
    "if value:\n",
    "    print('nope')"
   ]
  },
  {
   "cell_type": "code",
   "execution_count": 127,
   "id": "8d224a1e-e848-4679-8842-6689d0dba410",
   "metadata": {},
   "outputs": [],
   "source": [
    "stuff = []"
   ]
  },
  {
   "cell_type": "code",
   "execution_count": 131,
   "id": "12a460e9-de6e-456c-bb37-653c75cb8202",
   "metadata": {},
   "outputs": [
    {
     "name": "stdout",
     "output_type": "stream",
     "text": [
      "nope\n"
     ]
    }
   ],
   "source": [
    "if stuff:\n",
    "    print('nope')"
   ]
  },
  {
   "cell_type": "code",
   "execution_count": 132,
   "id": "94af769d-8beb-4f86-b50e-b525b439a474",
   "metadata": {},
   "outputs": [
    {
     "data": {
      "text/plain": [
       "['apple', 'fig', 'pear', 'banana']"
      ]
     },
     "execution_count": 132,
     "metadata": {},
     "output_type": "execute_result"
    }
   ],
   "source": [
    "fruits"
   ]
  },
  {
   "cell_type": "code",
   "execution_count": 133,
   "id": "369bb7b1-18c1-4251-9aa5-079c07e91dcc",
   "metadata": {},
   "outputs": [
    {
     "name": "stdout",
     "output_type": "stream",
     "text": [
      "something in there\n"
     ]
    }
   ],
   "source": [
    "if fruits:\n",
    "    print('something in there')"
   ]
  },
  {
   "cell_type": "code",
   "execution_count": 134,
   "id": "fde120bf-3b4d-49da-b16d-f43830c59d9b",
   "metadata": {},
   "outputs": [],
   "source": [
    "if not fruits:\n",
    "    print('list is empty')"
   ]
  },
  {
   "cell_type": "code",
   "execution_count": 148,
   "id": "e476b564-0f00-43cf-82f3-10f4e719363b",
   "metadata": {},
   "outputs": [
    {
     "name": "stdin",
     "output_type": "stream",
     "text": [
      "Enter please:  1\n"
     ]
    }
   ],
   "source": [
    "response = input('Enter please: ')"
   ]
  },
  {
   "cell_type": "code",
   "execution_count": 142,
   "id": "0b042e4f-409b-430f-adfc-cf57fba98ab3",
   "metadata": {},
   "outputs": [],
   "source": [
    "if response: # non-empty response\n",
    "    print('yep, they responded')"
   ]
  },
  {
   "cell_type": "code",
   "execution_count": 144,
   "id": "f5da01cf-262a-4d96-8ec2-d38c84687300",
   "metadata": {},
   "outputs": [
    {
     "data": {
      "text/plain": [
       "'0'"
      ]
     },
     "execution_count": 144,
     "metadata": {},
     "output_type": "execute_result"
    }
   ],
   "source": [
    "response"
   ]
  },
  {
   "cell_type": "code",
   "execution_count": 149,
   "id": "8e80c57f-07f5-4cc5-83a6-d8052724983c",
   "metadata": {},
   "outputs": [
    {
     "data": {
      "text/plain": [
       "1"
      ]
     },
     "execution_count": 149,
     "metadata": {},
     "output_type": "execute_result"
    }
   ],
   "source": [
    "int(response)"
   ]
  },
  {
   "cell_type": "code",
   "execution_count": 150,
   "id": "23663695-db38-46dc-a908-3a3aa68c7c5e",
   "metadata": {},
   "outputs": [
    {
     "name": "stdout",
     "output_type": "stream",
     "text": [
      "non-zero number\n"
     ]
    }
   ],
   "source": [
    "if int(response): \n",
    "    print('non-zero number')"
   ]
  },
  {
   "cell_type": "code",
   "execution_count": 155,
   "id": "f714aadb-4a67-4b21-a2d1-5ab264b67f4c",
   "metadata": {},
   "outputs": [
    {
     "name": "stdout",
     "output_type": "stream",
     "text": [
      "BankAccount2(Bruce Lee\n"
     ]
    }
   ],
   "source": [
    "print('BankAccount2(' + 'Bruce Lee')"
   ]
  },
  {
   "cell_type": "code",
   "execution_count": 156,
   "id": "29c1900c-002f-48b4-835f-e3aa1f6cfbac",
   "metadata": {},
   "outputs": [
    {
     "name": "stdout",
     "output_type": "stream",
     "text": [
      "BankAccount2('Bruce Lee'\n"
     ]
    }
   ],
   "source": [
    "print('BankAccount2(' + repr('Bruce Lee'))"
   ]
  },
  {
   "cell_type": "code",
   "execution_count": 157,
   "id": "5518c063-c7f9-4949-80b5-52b6fd552e10",
   "metadata": {},
   "outputs": [
    {
     "data": {
      "text/plain": [
       "\"'string'\""
      ]
     },
     "execution_count": 157,
     "metadata": {},
     "output_type": "execute_result"
    }
   ],
   "source": [
    "repr('string')"
   ]
  },
  {
   "cell_type": "code",
   "execution_count": 159,
   "id": "9415bd3d-78d6-435a-b60b-8a5e14456701",
   "metadata": {},
   "outputs": [
    {
     "name": "stdout",
     "output_type": "stream",
     "text": [
      "123.45\n"
     ]
    }
   ],
   "source": [
    "print(repr(123.45))"
   ]
  },
  {
   "cell_type": "code",
   "execution_count": 160,
   "id": "f057277f-f943-41d8-86ab-b8891cf9dc40",
   "metadata": {},
   "outputs": [],
   "source": [
    "company_name = 'Cvent'"
   ]
  },
  {
   "cell_type": "code",
   "execution_count": 161,
   "id": "4ba2d1d5-0965-4f1f-9f25-b6148c463a13",
   "metadata": {},
   "outputs": [
    {
     "data": {
      "text/plain": [
       "'Cvent'"
      ]
     },
     "execution_count": 161,
     "metadata": {},
     "output_type": "execute_result"
    }
   ],
   "source": [
    "company_name"
   ]
  },
  {
   "cell_type": "code",
   "execution_count": 162,
   "id": "4fc7d7e7-0c85-4c50-9455-d6abae54ee43",
   "metadata": {},
   "outputs": [
    {
     "data": {
      "text/plain": [
       "str"
      ]
     },
     "execution_count": 162,
     "metadata": {},
     "output_type": "execute_result"
    }
   ],
   "source": [
    "type(company_name)"
   ]
  },
  {
   "cell_type": "code",
   "execution_count": 163,
   "id": "d228c593-0ca4-4b15-a7a1-43f70b53999e",
   "metadata": {},
   "outputs": [],
   "source": [
    "company_name = 12"
   ]
  },
  {
   "cell_type": "code",
   "execution_count": 164,
   "id": "bc08a889-f5bd-4d48-ac18-d20a17631b16",
   "metadata": {},
   "outputs": [
    {
     "data": {
      "text/plain": [
       "int"
      ]
     },
     "execution_count": 164,
     "metadata": {},
     "output_type": "execute_result"
    }
   ],
   "source": [
    "type(company_name)"
   ]
  },
  {
   "cell_type": "code",
   "execution_count": 165,
   "id": "e1703517-cbae-41e2-a176-28628af9358b",
   "metadata": {},
   "outputs": [
    {
     "data": {
      "text/plain": [
       "['__abs__',\n",
       " '__add__',\n",
       " '__and__',\n",
       " '__bool__',\n",
       " '__ceil__',\n",
       " '__class__',\n",
       " '__delattr__',\n",
       " '__dir__',\n",
       " '__divmod__',\n",
       " '__doc__',\n",
       " '__eq__',\n",
       " '__float__',\n",
       " '__floor__',\n",
       " '__floordiv__',\n",
       " '__format__',\n",
       " '__ge__',\n",
       " '__getattribute__',\n",
       " '__getnewargs__',\n",
       " '__getstate__',\n",
       " '__gt__',\n",
       " '__hash__',\n",
       " '__index__',\n",
       " '__init__',\n",
       " '__init_subclass__',\n",
       " '__int__',\n",
       " '__invert__',\n",
       " '__le__',\n",
       " '__lshift__',\n",
       " '__lt__',\n",
       " '__mod__',\n",
       " '__mul__',\n",
       " '__ne__',\n",
       " '__neg__',\n",
       " '__new__',\n",
       " '__or__',\n",
       " '__pos__',\n",
       " '__pow__',\n",
       " '__radd__',\n",
       " '__rand__',\n",
       " '__rdivmod__',\n",
       " '__reduce__',\n",
       " '__reduce_ex__',\n",
       " '__repr__',\n",
       " '__rfloordiv__',\n",
       " '__rlshift__',\n",
       " '__rmod__',\n",
       " '__rmul__',\n",
       " '__ror__',\n",
       " '__round__',\n",
       " '__rpow__',\n",
       " '__rrshift__',\n",
       " '__rshift__',\n",
       " '__rsub__',\n",
       " '__rtruediv__',\n",
       " '__rxor__',\n",
       " '__setattr__',\n",
       " '__sizeof__',\n",
       " '__str__',\n",
       " '__sub__',\n",
       " '__subclasshook__',\n",
       " '__truediv__',\n",
       " '__trunc__',\n",
       " '__xor__',\n",
       " 'as_integer_ratio',\n",
       " 'bit_count',\n",
       " 'bit_length',\n",
       " 'conjugate',\n",
       " 'denominator',\n",
       " 'from_bytes',\n",
       " 'imag',\n",
       " 'is_integer',\n",
       " 'numerator',\n",
       " 'real',\n",
       " 'to_bytes']"
      ]
     },
     "execution_count": 165,
     "metadata": {},
     "output_type": "execute_result"
    }
   ],
   "source": [
    "dir(company_name)"
   ]
  },
  {
   "cell_type": "code",
   "execution_count": 166,
   "id": "56df46a6-7750-4c06-9f35-b7ce4ab39807",
   "metadata": {},
   "outputs": [
    {
     "data": {
      "text/plain": [
       "12"
      ]
     },
     "execution_count": 166,
     "metadata": {},
     "output_type": "execute_result"
    }
   ],
   "source": [
    "company_name"
   ]
  },
  {
   "cell_type": "code",
   "execution_count": 167,
   "id": "868bb35a-c1f5-43cb-a529-4411c2fe06b8",
   "metadata": {},
   "outputs": [],
   "source": [
    "newvar = 123.45"
   ]
  },
  {
   "cell_type": "code",
   "execution_count": 168,
   "id": "ea7bc044-adf7-4926-a6e0-0bfd97e2c1c8",
   "metadata": {},
   "outputs": [
    {
     "data": {
      "text/plain": [
       "float"
      ]
     },
     "execution_count": 168,
     "metadata": {},
     "output_type": "execute_result"
    }
   ],
   "source": [
    "type(newvar)"
   ]
  },
  {
   "cell_type": "code",
   "execution_count": 169,
   "id": "cc5043cf-b551-454e-992f-809e9970f392",
   "metadata": {},
   "outputs": [
    {
     "data": {
      "text/plain": [
       "['__abs__',\n",
       " '__add__',\n",
       " '__bool__',\n",
       " '__ceil__',\n",
       " '__class__',\n",
       " '__delattr__',\n",
       " '__dir__',\n",
       " '__divmod__',\n",
       " '__doc__',\n",
       " '__eq__',\n",
       " '__float__',\n",
       " '__floor__',\n",
       " '__floordiv__',\n",
       " '__format__',\n",
       " '__ge__',\n",
       " '__getattribute__',\n",
       " '__getformat__',\n",
       " '__getnewargs__',\n",
       " '__getstate__',\n",
       " '__gt__',\n",
       " '__hash__',\n",
       " '__init__',\n",
       " '__init_subclass__',\n",
       " '__int__',\n",
       " '__le__',\n",
       " '__lt__',\n",
       " '__mod__',\n",
       " '__mul__',\n",
       " '__ne__',\n",
       " '__neg__',\n",
       " '__new__',\n",
       " '__pos__',\n",
       " '__pow__',\n",
       " '__radd__',\n",
       " '__rdivmod__',\n",
       " '__reduce__',\n",
       " '__reduce_ex__',\n",
       " '__repr__',\n",
       " '__rfloordiv__',\n",
       " '__rmod__',\n",
       " '__rmul__',\n",
       " '__round__',\n",
       " '__rpow__',\n",
       " '__rsub__',\n",
       " '__rtruediv__',\n",
       " '__setattr__',\n",
       " '__sizeof__',\n",
       " '__str__',\n",
       " '__sub__',\n",
       " '__subclasshook__',\n",
       " '__truediv__',\n",
       " '__trunc__',\n",
       " 'as_integer_ratio',\n",
       " 'conjugate',\n",
       " 'fromhex',\n",
       " 'hex',\n",
       " 'imag',\n",
       " 'is_integer',\n",
       " 'real']"
      ]
     },
     "execution_count": 169,
     "metadata": {},
     "output_type": "execute_result"
    }
   ],
   "source": [
    "dir(newvar)\n"
   ]
  },
  {
   "cell_type": "code",
   "execution_count": 170,
   "id": "d2e77760-22d6-4ca1-9c36-39da24f0b00a",
   "metadata": {},
   "outputs": [
    {
     "data": {
      "text/plain": [
       "float"
      ]
     },
     "execution_count": 170,
     "metadata": {},
     "output_type": "execute_result"
    }
   ],
   "source": [
    "newvar.__class__"
   ]
  },
  {
   "cell_type": "code",
   "execution_count": 172,
   "id": "b25e91e8-32f2-43ca-bd9b-f35b98d399a8",
   "metadata": {},
   "outputs": [
    {
     "data": {
      "text/plain": [
       "float"
      ]
     },
     "execution_count": 172,
     "metadata": {},
     "output_type": "execute_result"
    }
   ],
   "source": [
    "type(newvar)"
   ]
  },
  {
   "cell_type": "code",
   "execution_count": 173,
   "id": "8fd4c80a-57ad-4789-a4c0-bc3c8d4939c8",
   "metadata": {},
   "outputs": [],
   "source": [
    "import random"
   ]
  },
  {
   "cell_type": "code",
   "execution_count": 174,
   "id": "23479db3-8a0e-4e29-ab73-9773d2d3c8d1",
   "metadata": {},
   "outputs": [
    {
     "data": {
      "text/plain": [
       "['BPF',\n",
       " 'LOG4',\n",
       " 'NV_MAGICCONST',\n",
       " 'RECIP_BPF',\n",
       " 'Random',\n",
       " 'SG_MAGICCONST',\n",
       " 'SystemRandom',\n",
       " 'TWOPI',\n",
       " '_ONE',\n",
       " '_Sequence',\n",
       " '__all__',\n",
       " '__builtins__',\n",
       " '__cached__',\n",
       " '__doc__',\n",
       " '__file__',\n",
       " '__loader__',\n",
       " '__name__',\n",
       " '__package__',\n",
       " '__spec__',\n",
       " '_accumulate',\n",
       " '_acos',\n",
       " '_bisect',\n",
       " '_ceil',\n",
       " '_cos',\n",
       " '_e',\n",
       " '_exp',\n",
       " '_fabs',\n",
       " '_floor',\n",
       " '_index',\n",
       " '_inst',\n",
       " '_isfinite',\n",
       " '_lgamma',\n",
       " '_log',\n",
       " '_log2',\n",
       " '_os',\n",
       " '_pi',\n",
       " '_random',\n",
       " '_repeat',\n",
       " '_sha512',\n",
       " '_sin',\n",
       " '_sqrt',\n",
       " '_test',\n",
       " '_test_generator',\n",
       " '_urandom',\n",
       " '_warn',\n",
       " 'betavariate',\n",
       " 'binomialvariate',\n",
       " 'choice',\n",
       " 'choices',\n",
       " 'expovariate',\n",
       " 'gammavariate',\n",
       " 'gauss',\n",
       " 'getrandbits',\n",
       " 'getstate',\n",
       " 'lognormvariate',\n",
       " 'normalvariate',\n",
       " 'paretovariate',\n",
       " 'randbytes',\n",
       " 'randint',\n",
       " 'random',\n",
       " 'randrange',\n",
       " 'sample',\n",
       " 'seed',\n",
       " 'setstate',\n",
       " 'shuffle',\n",
       " 'triangular',\n",
       " 'uniform',\n",
       " 'vonmisesvariate',\n",
       " 'weibullvariate']"
      ]
     },
     "execution_count": 174,
     "metadata": {},
     "output_type": "execute_result"
    }
   ],
   "source": [
    "dir(random)"
   ]
  },
  {
   "cell_type": "code",
   "execution_count": 175,
   "id": "894dd5e3-76e2-4a0a-baa7-215c8e27eb72",
   "metadata": {},
   "outputs": [
    {
     "data": {
      "text/plain": [
       "module"
      ]
     },
     "execution_count": 175,
     "metadata": {},
     "output_type": "execute_result"
    }
   ],
   "source": [
    "type(random)"
   ]
  },
  {
   "cell_type": "code",
   "execution_count": 176,
   "id": "31a42c50-0cf0-41d1-8885-ee6481cbc6cc",
   "metadata": {},
   "outputs": [
    {
     "data": {
      "text/plain": [
       "['__call__',\n",
       " '__class__',\n",
       " '__delattr__',\n",
       " '__dir__',\n",
       " '__doc__',\n",
       " '__eq__',\n",
       " '__format__',\n",
       " '__ge__',\n",
       " '__getattribute__',\n",
       " '__getstate__',\n",
       " '__gt__',\n",
       " '__hash__',\n",
       " '__init__',\n",
       " '__init_subclass__',\n",
       " '__le__',\n",
       " '__lt__',\n",
       " '__module__',\n",
       " '__name__',\n",
       " '__ne__',\n",
       " '__new__',\n",
       " '__qualname__',\n",
       " '__reduce__',\n",
       " '__reduce_ex__',\n",
       " '__repr__',\n",
       " '__self__',\n",
       " '__setattr__',\n",
       " '__sizeof__',\n",
       " '__str__',\n",
       " '__subclasshook__',\n",
       " '__text_signature__']"
      ]
     },
     "execution_count": 176,
     "metadata": {},
     "output_type": "execute_result"
    }
   ],
   "source": [
    "dir(print)"
   ]
  },
  {
   "cell_type": "code",
   "execution_count": 177,
   "id": "5494eb22-de84-4fbe-a661-f602d51a14af",
   "metadata": {},
   "outputs": [
    {
     "data": {
      "text/plain": [
       "builtin_function_or_method"
      ]
     },
     "execution_count": 177,
     "metadata": {},
     "output_type": "execute_result"
    }
   ],
   "source": [
    "print.__class__"
   ]
  },
  {
   "cell_type": "code",
   "execution_count": 180,
   "id": "7815203b-b087-40be-9e0d-75121e735e83",
   "metadata": {},
   "outputs": [],
   "source": [
    "def f():\n",
    "    pass"
   ]
  },
  {
   "cell_type": "code",
   "execution_count": 182,
   "id": "e398cdd2-58ab-41a4-abcd-f82426b7e449",
   "metadata": {},
   "outputs": [
    {
     "data": {
      "text/plain": [
       "['__annotations__',\n",
       " '__builtins__',\n",
       " '__call__',\n",
       " '__class__',\n",
       " '__closure__',\n",
       " '__code__',\n",
       " '__defaults__',\n",
       " '__delattr__',\n",
       " '__dict__',\n",
       " '__dir__',\n",
       " '__doc__',\n",
       " '__eq__',\n",
       " '__format__',\n",
       " '__ge__',\n",
       " '__get__',\n",
       " '__getattribute__',\n",
       " '__getstate__',\n",
       " '__globals__',\n",
       " '__gt__',\n",
       " '__hash__',\n",
       " '__init__',\n",
       " '__init_subclass__',\n",
       " '__kwdefaults__',\n",
       " '__le__',\n",
       " '__lt__',\n",
       " '__module__',\n",
       " '__name__',\n",
       " '__ne__',\n",
       " '__new__',\n",
       " '__qualname__',\n",
       " '__reduce__',\n",
       " '__reduce_ex__',\n",
       " '__repr__',\n",
       " '__setattr__',\n",
       " '__sizeof__',\n",
       " '__str__',\n",
       " '__subclasshook__',\n",
       " '__type_params__']"
      ]
     },
     "execution_count": 182,
     "metadata": {},
     "output_type": "execute_result"
    }
   ],
   "source": [
    "dir(f)"
   ]
  },
  {
   "cell_type": "code",
   "execution_count": 183,
   "id": "f05558f7-7d60-47cf-8d1c-e4ad860f8e05",
   "metadata": {},
   "outputs": [
    {
     "data": {
      "text/plain": [
       "function"
      ]
     },
     "execution_count": 183,
     "metadata": {},
     "output_type": "execute_result"
    }
   ],
   "source": [
    "f.__class__"
   ]
  },
  {
   "cell_type": "code",
   "execution_count": 184,
   "id": "f7068a29-68e3-4f4e-93e5-1e570fa1e294",
   "metadata": {},
   "outputs": [],
   "source": [
    "number = 5"
   ]
  },
  {
   "cell_type": "code",
   "execution_count": 185,
   "id": "3b771776-43eb-4dac-824a-958376bac354",
   "metadata": {},
   "outputs": [
    {
     "data": {
      "text/plain": [
       "int"
      ]
     },
     "execution_count": 185,
     "metadata": {},
     "output_type": "execute_result"
    }
   ],
   "source": [
    "number.__class__"
   ]
  },
  {
   "cell_type": "code",
   "execution_count": 186,
   "id": "86295356-6947-4887-b9b5-443b95fe26c6",
   "metadata": {},
   "outputs": [
    {
     "data": {
      "text/plain": [
       "'int'"
      ]
     },
     "execution_count": 186,
     "metadata": {},
     "output_type": "execute_result"
    }
   ],
   "source": [
    "number.__class__.__name__"
   ]
  },
  {
   "cell_type": "code",
   "execution_count": 187,
   "id": "97b8354d-9ec2-4e6e-b089-3c51d5a34008",
   "metadata": {},
   "outputs": [
    {
     "name": "stdout",
     "output_type": "stream",
     "text": [
      "start\n",
      "end\n"
     ]
    }
   ],
   "source": [
    "print('start')\n",
    "2 + 3\n",
    "print('end')"
   ]
  },
  {
   "cell_type": "code",
   "execution_count": 188,
   "id": "1cbad607-9a92-46c9-bf37-76532acecfac",
   "metadata": {},
   "outputs": [],
   "source": [
    "x = 1\n",
    "y = 2"
   ]
  },
  {
   "cell_type": "code",
   "execution_count": 189,
   "id": "e816ad6d-62e5-43b2-865e-9e9801bc7b68",
   "metadata": {},
   "outputs": [
    {
     "data": {
      "text/plain": [
       "3"
      ]
     },
     "execution_count": 189,
     "metadata": {},
     "output_type": "execute_result"
    }
   ],
   "source": [
    "x + y"
   ]
  },
  {
   "cell_type": "code",
   "execution_count": 190,
   "id": "a45210f0-d342-4353-9d57-492b1822e61e",
   "metadata": {},
   "outputs": [
    {
     "data": {
      "text/plain": [
       "3"
      ]
     },
     "execution_count": 190,
     "metadata": {},
     "output_type": "execute_result"
    }
   ],
   "source": [
    "x.__add__(y)"
   ]
  },
  {
   "cell_type": "code",
   "execution_count": 191,
   "id": "24d7a304-4701-4737-89b6-edfb8ddd08a3",
   "metadata": {},
   "outputs": [
    {
     "data": {
      "text/plain": [
       "3"
      ]
     },
     "execution_count": 191,
     "metadata": {},
     "output_type": "execute_result"
    }
   ],
   "source": [
    "int.__add__(x, y)"
   ]
  },
  {
   "cell_type": "code",
   "execution_count": 192,
   "id": "218d38d6-9085-4dce-ada6-8d3dff4c1e5e",
   "metadata": {},
   "outputs": [
    {
     "data": {
      "text/plain": [
       "[1, 2, 3, 4]"
      ]
     },
     "execution_count": 192,
     "metadata": {},
     "output_type": "execute_result"
    }
   ],
   "source": [
    "[1, 2, 3] + [4]"
   ]
  },
  {
   "cell_type": "code",
   "execution_count": 193,
   "id": "a59ec946-ef7f-4d7c-b302-32c084e9bc00",
   "metadata": {},
   "outputs": [
    {
     "data": {
      "text/plain": [
       "[1, 2, 3, 4]"
      ]
     },
     "execution_count": 193,
     "metadata": {},
     "output_type": "execute_result"
    }
   ],
   "source": [
    "[1, 2, 3].__add__([4])"
   ]
  },
  {
   "cell_type": "code",
   "execution_count": 194,
   "id": "a25534cd-0884-44c3-85de-fe7de2350590",
   "metadata": {},
   "outputs": [
    {
     "data": {
      "text/plain": [
       "6"
      ]
     },
     "execution_count": 194,
     "metadata": {},
     "output_type": "execute_result"
    }
   ],
   "source": [
    "'string'.__len__()"
   ]
  },
  {
   "cell_type": "code",
   "execution_count": 195,
   "id": "fc61a112-d22a-417c-8a52-6cc3ebbfe2e7",
   "metadata": {},
   "outputs": [
    {
     "data": {
      "text/plain": [
       "'stringstringstringstringstring'"
      ]
     },
     "execution_count": 195,
     "metadata": {},
     "output_type": "execute_result"
    }
   ],
   "source": [
    "'string' * 5"
   ]
  },
  {
   "cell_type": "code",
   "execution_count": 196,
   "id": "1e17d767-a6de-40f5-82f9-e906e94499f6",
   "metadata": {},
   "outputs": [
    {
     "data": {
      "text/plain": [
       "6.15"
      ]
     },
     "execution_count": 196,
     "metadata": {},
     "output_type": "execute_result"
    }
   ],
   "source": [
    "1.23 * 5"
   ]
  },
  {
   "cell_type": "code",
   "execution_count": 197,
   "id": "1de0feb7-71dc-4b7d-9d5e-1ac2ba4058eb",
   "metadata": {},
   "outputs": [
    {
     "data": {
      "text/plain": [
       "10"
      ]
     },
     "execution_count": 197,
     "metadata": {},
     "output_type": "execute_result"
    }
   ],
   "source": [
    "2 * 5"
   ]
  },
  {
   "cell_type": "code",
   "execution_count": null,
   "id": "00951f41-b414-49e0-a994-9cee8733c607",
   "metadata": {},
   "outputs": [],
   "source": [
    "ba2 = ba2 * 1.23"
   ]
  },
  {
   "cell_type": "markdown",
   "id": "a3b508d7-4b7d-454f-b239-2ab206e7dfe6",
   "metadata": {},
   "source": [
    "## Lab: OO Programming\n",
    "1. Add a __\\_\\_`eq`\\_\\_()__ method to the BankAccount class\n",
    "  * How you define __\\_\\_`eq`\\_\\_()__ is up to you\n",
    "* Add a __\\_\\_`len`\\_\\_()__ method to the BankAccount class\n",
    "* Add a __\\_\\_`mul`\\_\\_()__ method to the BankAccount class\n",
    "  * it should create a new BankAccount which does something to the name and multiplies the balance by the second operand\n",
    "* Create a class __`Calculator`__ which acts like a calculator\n",
    "  * Your class should have methods `add()`, `sub()`, `mult()`, `div()`, `pow()`, and `log()`\n",
    "  * Each of the above methods (except `log`) should take 1 or 2 arguments\n",
    "    * for 1 argument, e.g., `add(1)`, your method should add to the running total\n",
    "    * for 2 arguments, your method should act on those 2 arguments to create a new running total\n",
    "    * e.g., `add(2, 4)` should produce 6, and then if followed by `multiply(5)`, the result should be 30\n",
    "* All calculations should be stored, and should be accessible to the caller via the `showcalc()` method (kind of like a printing calculator)\n",
    "* You should also have an `ac()` \"all clear\" method which clears the running total and the list of calculations (i.e., showcalc() should produce no output, or \"0.0\" when preceded by a call to `ac()`)"
   ]
  },
  {
   "cell_type": "code",
   "execution_count": 216,
   "id": "45d040d5-2317-4dbe-9dc2-f2cd3729b339",
   "metadata": {},
   "outputs": [],
   "source": [
    "class BankAccount:\n",
    "    def __init__(self, name, initial_balance):\n",
    "        self.name = name\n",
    "        self.balance = initial_balance\n",
    "        print('in __init__')\n",
    "\n",
    "    '''\n",
    "    def __str__(self):\n",
    "        \"\"\"string representation of object, for humans\n",
    "        __repr__ is used if __str__ does not exist\"\"\"\n",
    "        #return f'{self.name} has £{self.balance} in the bank'\n",
    "        return self.name + ' has $' + str(self.balance) + ' in the bank'\n",
    "    '''  \n",
    "        \n",
    "    def __repr__(self):\n",
    "        '''unambiguous representation of the object'''\n",
    "        return self.name + ' has $' + str(self.balance) + ' in the bank'\n",
    "        #return self.__class__.__name__ + '(' + repr(self.name) + ', ' + repr(self.balance) + ')'\n",
    "\n",
    "\n",
    "    def __eq__(self, other): \n",
    "        \"\"\"Implement equality...both fields must be equal\"\"\"\n",
    "        return self == other and self.balance == other.balance\n",
    "\n",
    "\n",
    "    def __len__(self): \n",
    "        \"\"\"We define \"length\" as being the length of the name + the length of the\n",
    "           balance (number of digits). Why? Why not?\n",
    "        \"\"\"\n",
    "        return len(self.name) + len(str(self.balance))\n",
    "\n",
    "    \n",
    "    def __mul__(self, factor):\n",
    "        \"\"\"Multiplication should return a new object of this type.\n",
    "           e.g., 2.3 * 2 returns a float, '2' * 2 returns a str, [1, 2] * 2 returns a list, etc.\n",
    "        \"\"\"\n",
    "        return self.__class__(self.name, self.balance * factor)\n",
    "\n",
    "    \n",
    "    def deposit(self, amount):\n",
    "        if amount > 0:\n",
    "            self.balance += amount\n",
    "            return self.balance\n",
    "        else:\n",
    "            print(\"can't deposit nonpositive amount!\")\n",
    "\n",
    "    \n",
    "    def withdraw(self, amount):\n",
    "        if amount > 0:\n",
    "            if amount <= self.balance:\n",
    "                self.balance -= amount\n",
    "                return self.balance\n",
    "            else:\n",
    "                print(\"can't withdraw\", amount, \"or you would be overdrawn!\")\n",
    "        else:\n",
    "            print(\"can't withdraw nonpositive amount!\")"
   ]
  },
  {
   "cell_type": "code",
   "execution_count": 217,
   "id": "1504d731-8df0-49e9-a5c6-e48d79412c89",
   "metadata": {},
   "outputs": [],
   "source": [
    "one = BankAccount('Dave', 123)"
   ]
  },
  {
   "cell_type": "code",
   "execution_count": 218,
   "id": "ff04fc78-b54b-4020-8b81-5450f527132d",
   "metadata": {},
   "outputs": [],
   "source": [
    "two = BankAccount('Grace Hopper', 321)"
   ]
  },
  {
   "cell_type": "code",
   "execution_count": 219,
   "id": "f3332cc1-b250-4511-b206-970a80c89ddb",
   "metadata": {},
   "outputs": [
    {
     "data": {
      "text/plain": [
       "Dave has $123 in the bank"
      ]
     },
     "execution_count": 219,
     "metadata": {},
     "output_type": "execute_result"
    }
   ],
   "source": [
    "one"
   ]
  },
  {
   "cell_type": "code",
   "execution_count": 220,
   "id": "b4a35f91-ce3c-4ef3-9cb2-aeee1e81f16c",
   "metadata": {},
   "outputs": [
    {
     "name": "stdout",
     "output_type": "stream",
     "text": [
      "Dave has $123 in the bank\n"
     ]
    }
   ],
   "source": [
    "print(one)"
   ]
  },
  {
   "cell_type": "code",
   "execution_count": 221,
   "id": "d73f6598-fd3d-4677-9589-08ed663da136",
   "metadata": {},
   "outputs": [
    {
     "data": {
      "text/plain": [
       "False"
      ]
     },
     "execution_count": 221,
     "metadata": {},
     "output_type": "execute_result"
    }
   ],
   "source": [
    "one == two"
   ]
  },
  {
   "cell_type": "code",
   "execution_count": 203,
   "id": "7743bd7a-d6bf-4c4a-b897-f99ea4523649",
   "metadata": {},
   "outputs": [
    {
     "data": {
      "text/plain": [
       "7"
      ]
     },
     "execution_count": 203,
     "metadata": {},
     "output_type": "execute_result"
    }
   ],
   "source": [
    "len(one) # 4 + 3"
   ]
  },
  {
   "cell_type": "code",
   "execution_count": 204,
   "id": "c10c6a75-4071-4496-b4db-58bfc76c3094",
   "metadata": {},
   "outputs": [
    {
     "data": {
      "text/plain": [
       "15"
      ]
     },
     "execution_count": 204,
     "metadata": {},
     "output_type": "execute_result"
    }
   ],
   "source": [
    "len(two)"
   ]
  },
  {
   "cell_type": "code",
   "execution_count": 205,
   "id": "69ba2478-5d2f-4a83-a7b2-2723f84944a7",
   "metadata": {},
   "outputs": [],
   "source": [
    "dupe = BankAccount('Dave', 123)"
   ]
  },
  {
   "cell_type": "code",
   "execution_count": 206,
   "id": "8ade083d-dec2-4436-899d-f1ade545e4da",
   "metadata": {},
   "outputs": [
    {
     "data": {
      "text/plain": [
       "True"
      ]
     },
     "execution_count": 206,
     "metadata": {},
     "output_type": "execute_result"
    }
   ],
   "source": [
    "one == dupe"
   ]
  },
  {
   "cell_type": "code",
   "execution_count": 207,
   "id": "9b6a5406-902b-4678-b1b7-42204875229d",
   "metadata": {},
   "outputs": [],
   "source": [
    "dupe.balance += 1"
   ]
  },
  {
   "cell_type": "code",
   "execution_count": 208,
   "id": "cff23d2c-3767-4259-9d61-e2ed4875c3b5",
   "metadata": {},
   "outputs": [
    {
     "data": {
      "text/plain": [
       "False"
      ]
     },
     "execution_count": 208,
     "metadata": {},
     "output_type": "execute_result"
    }
   ],
   "source": [
    "one == dupe"
   ]
  },
  {
   "cell_type": "code",
   "execution_count": 222,
   "id": "0b96fba4-78d6-46fa-b507-89f643277916",
   "metadata": {},
   "outputs": [],
   "source": [
    "one = one * 1.23"
   ]
  },
  {
   "cell_type": "code",
   "execution_count": 223,
   "id": "2200fe8a-8f82-48a3-a255-65803be7fbfb",
   "metadata": {},
   "outputs": [
    {
     "data": {
      "text/plain": [
       "Dave has $151.29 in the bank"
      ]
     },
     "execution_count": 223,
     "metadata": {},
     "output_type": "execute_result"
    }
   ],
   "source": [
    "one"
   ]
  },
  {
   "cell_type": "code",
   "execution_count": 321,
   "id": "0891d51c-3b58-4a08-af95-ae51807cf8de",
   "metadata": {},
   "outputs": [],
   "source": [
    "class Calculator:\n",
    "    \"\"\"Class to mimic the operations of a calculator.\"\"\"\n",
    "    def __init__(self): # no params needed–initialization does not depend on user input\n",
    "        self.ac() # leverage ac() method to do the work\n",
    "\n",
    "    def __repr__(self):\n",
    "        return '\\n'.join(self.calculations)\n",
    "        \n",
    "    def ac(self):\n",
    "        \"\"\"All clear. Set running total to 0 and clear calculations.\n",
    "\n",
    "           Note that this is the exact same set of operations we do for __init__. \n",
    "\n",
    "           So why not just have __init__ call us, rather than duplicate code (DRY).\n",
    "        \"\"\"\n",
    "        self.total = 0 # running total\n",
    "        self.calculations = [] # keep the calculations so far in a list of strings\n",
    "    \n",
    "    def showcalc(self):\n",
    "        \"\"\"Return all calculations, one per line.\"\"\"\n",
    "        print(repr(self))\n",
    "        print(self.__repr__())\n",
    "\n",
    "    def add_calculation(self, oper, op1, op2):\n",
    "        self.calculations.append(f'{op1} {oper} {op2} = {self.total}')\n",
    "\n",
    "    def swap_operands(self, op1, op2=None):\n",
    "        if not op2: # what feature am I using? \"truthiness\"\n",
    "            # for one argument, we are adding op1 to the running total...\n",
    "            # ...but to get things in the right order, we swap them\n",
    "            op2 = op1\n",
    "            op1 = self.total\n",
    "\n",
    "        return op1, op2\n",
    "\n",
    "    def add(self, op1, op2=None): # I forgot self!\n",
    "        \"\"\"Add two numbers, or add one number to running total.\"\"\"\n",
    "\n",
    "        op1, op2 = self.swap_operands(op1, op2)\n",
    "        self.total = op1 + op2\n",
    "        self.add_calculation('+', op1, op2)\n",
    "\n",
    "        return self.total\n",
    "        \n",
    "    def mul(self, op1, op2=None): # I forgot self!\n",
    "        \"\"\"Add two numbers, or add one number to running total.\"\"\"\n",
    "\n",
    "        op1, op2 = self.swap_operands(op1, op2)\n",
    "        self.total = op1 * op2\n",
    "        self.add_calculation('*', op1, op2)\n",
    "        \n",
    "        return self.total\n",
    "\n",
    "    # lather, rinse, repeat...\n",
    "\n",
    "    '''\n",
    "    # for a little more advanced...\n",
    "    import operator\n",
    "\n",
    "    # translate operator into Python function to do it...\n",
    "    ops_dict = {\n",
    "        '+': operator.add,\n",
    "        '-': operator.sub,\n",
    "        '*': operator.mul,\n",
    "        '/': operator.truediv,\n",
    "    }\n",
    "\n",
    "    def do_calculation(self, oper, op1, op2=None):\n",
    "        op1, op2 = self.swap_operands(op1, op2)\n",
    "        self.total = self.ops_dict[oper](op1, op2)\n",
    "        self.add_calculation(oper, op1, op2)\n",
    "\n",
    "    def add(self, op1, op2=None): # I forgot self!\n",
    "        \"\"\"Add two numbers, or add one number to running total.\"\"\"\n",
    "        self.do_calculation('+', op1, op2)\n",
    "        \n",
    "        return self.total\n",
    "\n",
    "    \n",
    "    def div(self, op1, op2=None): # I forgot self!\n",
    "        \"\"\"Add two numbers, or add one number to running total.\"\"\"\n",
    "        self.do_calculation('/', op1, op2)\n",
    "        \n",
    "        return self.total\n",
    "    '''"
   ]
  },
  {
   "cell_type": "code",
   "execution_count": 322,
   "id": "01f4a8be-94b3-4ba8-90e2-4829fe8a8c4f",
   "metadata": {},
   "outputs": [],
   "source": [
    "c = Calculator()"
   ]
  },
  {
   "cell_type": "code",
   "execution_count": 323,
   "id": "8471e972-f0ec-494e-88f7-4e8bf611b6e2",
   "metadata": {},
   "outputs": [
    {
     "data": {
      "text/plain": [
       "7"
      ]
     },
     "execution_count": 323,
     "metadata": {},
     "output_type": "execute_result"
    }
   ],
   "source": [
    "c.add(2, 5)"
   ]
  },
  {
   "cell_type": "code",
   "execution_count": 325,
   "id": "faab6c38-8941-4928-aa2a-ebcdddc3faeb",
   "metadata": {},
   "outputs": [
    {
     "data": {
      "text/plain": [
       "28"
      ]
     },
     "execution_count": 325,
     "metadata": {},
     "output_type": "execute_result"
    }
   ],
   "source": [
    "c.mul(4)"
   ]
  },
  {
   "cell_type": "code",
   "execution_count": 327,
   "id": "1c6a0979-1d98-4775-ad25-84a80bdb8d83",
   "metadata": {},
   "outputs": [
    {
     "name": "stdout",
     "output_type": "stream",
     "text": [
      "2 + 5 = 7\n",
      "7 * 4 = 28\n"
     ]
    }
   ],
   "source": [
    "print(c)"
   ]
  },
  {
   "cell_type": "code",
   "execution_count": 328,
   "id": "38395746-1036-4497-af57-e1983a78dd66",
   "metadata": {},
   "outputs": [],
   "source": [
    "c.ac()"
   ]
  },
  {
   "cell_type": "code",
   "execution_count": 329,
   "id": "58627b82-6a7c-4f48-83a6-d3e03d80c88c",
   "metadata": {},
   "outputs": [
    {
     "data": {
      "text/plain": []
     },
     "execution_count": 329,
     "metadata": {},
     "output_type": "execute_result"
    }
   ],
   "source": [
    "c"
   ]
  },
  {
   "cell_type": "code",
   "execution_count": 330,
   "id": "6a8236bb-24dd-4135-9484-c1a9398f1c42",
   "metadata": {},
   "outputs": [
    {
     "data": {
      "text/plain": [
       "5"
      ]
     },
     "execution_count": 330,
     "metadata": {},
     "output_type": "execute_result"
    }
   ],
   "source": [
    "c.add(5)"
   ]
  },
  {
   "cell_type": "code",
   "execution_count": 331,
   "id": "29765612-0a20-4a49-ad29-2389ffa52a34",
   "metadata": {},
   "outputs": [
    {
     "data": {
      "text/plain": [
       "0 + 5 = 5"
      ]
     },
     "execution_count": 331,
     "metadata": {},
     "output_type": "execute_result"
    }
   ],
   "source": [
    "c"
   ]
  },
  {
   "cell_type": "code",
   "execution_count": 280,
   "id": "e6ed83fc-1f22-4b99-9bb9-28fe0ee09c4a",
   "metadata": {},
   "outputs": [
    {
     "data": {
      "text/plain": [
       "['__abs__',\n",
       " '__add__',\n",
       " '__all__',\n",
       " '__and__',\n",
       " '__builtins__',\n",
       " '__cached__',\n",
       " '__call__',\n",
       " '__concat__',\n",
       " '__contains__',\n",
       " '__delitem__',\n",
       " '__doc__',\n",
       " '__eq__',\n",
       " '__file__',\n",
       " '__floordiv__',\n",
       " '__ge__',\n",
       " '__getitem__',\n",
       " '__gt__',\n",
       " '__iadd__',\n",
       " '__iand__',\n",
       " '__iconcat__',\n",
       " '__ifloordiv__',\n",
       " '__ilshift__',\n",
       " '__imatmul__',\n",
       " '__imod__',\n",
       " '__imul__',\n",
       " '__index__',\n",
       " '__inv__',\n",
       " '__invert__',\n",
       " '__ior__',\n",
       " '__ipow__',\n",
       " '__irshift__',\n",
       " '__isub__',\n",
       " '__itruediv__',\n",
       " '__ixor__',\n",
       " '__le__',\n",
       " '__loader__',\n",
       " '__lshift__',\n",
       " '__lt__',\n",
       " '__matmul__',\n",
       " '__mod__',\n",
       " '__mul__',\n",
       " '__name__',\n",
       " '__ne__',\n",
       " '__neg__',\n",
       " '__not__',\n",
       " '__or__',\n",
       " '__package__',\n",
       " '__pos__',\n",
       " '__pow__',\n",
       " '__rshift__',\n",
       " '__setitem__',\n",
       " '__spec__',\n",
       " '__sub__',\n",
       " '__truediv__',\n",
       " '__xor__',\n",
       " '_abs',\n",
       " 'abs',\n",
       " 'add',\n",
       " 'and_',\n",
       " 'attrgetter',\n",
       " 'call',\n",
       " 'concat',\n",
       " 'contains',\n",
       " 'countOf',\n",
       " 'delitem',\n",
       " 'eq',\n",
       " 'floordiv',\n",
       " 'ge',\n",
       " 'getitem',\n",
       " 'gt',\n",
       " 'iadd',\n",
       " 'iand',\n",
       " 'iconcat',\n",
       " 'ifloordiv',\n",
       " 'ilshift',\n",
       " 'imatmul',\n",
       " 'imod',\n",
       " 'imul',\n",
       " 'index',\n",
       " 'indexOf',\n",
       " 'inv',\n",
       " 'invert',\n",
       " 'ior',\n",
       " 'ipow',\n",
       " 'irshift',\n",
       " 'is_',\n",
       " 'is_not',\n",
       " 'isub',\n",
       " 'itemgetter',\n",
       " 'itruediv',\n",
       " 'ixor',\n",
       " 'le',\n",
       " 'length_hint',\n",
       " 'lshift',\n",
       " 'lt',\n",
       " 'matmul',\n",
       " 'methodcaller',\n",
       " 'mod',\n",
       " 'mul',\n",
       " 'ne',\n",
       " 'neg',\n",
       " 'not_',\n",
       " 'or_',\n",
       " 'pos',\n",
       " 'pow',\n",
       " 'rshift',\n",
       " 'setitem',\n",
       " 'sub',\n",
       " 'truediv',\n",
       " 'truth',\n",
       " 'xor']"
      ]
     },
     "execution_count": 280,
     "metadata": {},
     "output_type": "execute_result"
    }
   ],
   "source": [
    "dir(operator)"
   ]
  },
  {
   "cell_type": "code",
   "execution_count": 300,
   "id": "3d705d45-db7f-47b0-91c6-286c4b5a003d",
   "metadata": {},
   "outputs": [
    {
     "data": {
      "text/plain": [
       "False"
      ]
     },
     "execution_count": 300,
     "metadata": {},
     "output_type": "execute_result"
    }
   ],
   "source": [
    "1 == [1]"
   ]
  },
  {
   "cell_type": "code",
   "execution_count": 303,
   "id": "c1450930-ccb0-4638-baaf-4fb711fff119",
   "metadata": {},
   "outputs": [
    {
     "data": {
      "text/plain": [
       "False"
      ]
     },
     "execution_count": 303,
     "metadata": {},
     "output_type": "execute_result"
    }
   ],
   "source": [
    "None == False"
   ]
  },
  {
   "cell_type": "code",
   "execution_count": 304,
   "id": "b95a11bc-a535-4b1d-80ca-711e4803c235",
   "metadata": {},
   "outputs": [],
   "source": [
    "if None:\n",
    "    print('nope')"
   ]
  },
  {
   "cell_type": "code",
   "execution_count": 306,
   "id": "c0db2a9f-5ccf-4fff-ad19-fab6800e7979",
   "metadata": {},
   "outputs": [
    {
     "data": {
      "text/plain": [
       "True"
      ]
     },
     "execution_count": 306,
     "metadata": {},
     "output_type": "execute_result"
    }
   ],
   "source": [
    "[1, 2, 3] == [1.0, 2.0, 3.0]"
   ]
  },
  {
   "cell_type": "code",
   "execution_count": 307,
   "id": "c696089c-e12b-481f-bb26-cf46408f133d",
   "metadata": {},
   "outputs": [
    {
     "data": {
      "text/plain": [
       "False"
      ]
     },
     "execution_count": 307,
     "metadata": {},
     "output_type": "execute_result"
    }
   ],
   "source": [
    "[1, 2, 3] is [1.0, 2.0, 3.0]"
   ]
  },
  {
   "cell_type": "code",
   "execution_count": 309,
   "id": "7b6ed6ce-75c9-43b9-b938-b1406a9d17ff",
   "metadata": {},
   "outputs": [],
   "source": [
    "nums = [1, 2, 3]"
   ]
  },
  {
   "cell_type": "code",
   "execution_count": 310,
   "id": "47b4d12b-cf13-4c93-96a8-a75fef573ac6",
   "metadata": {},
   "outputs": [],
   "source": [
    "nums2 = [1, 2, 3]"
   ]
  },
  {
   "cell_type": "code",
   "execution_count": 311,
   "id": "7ad79ee6-d0b4-4e29-b168-f262fe973c9e",
   "metadata": {},
   "outputs": [
    {
     "data": {
      "text/plain": [
       "4437100992"
      ]
     },
     "execution_count": 311,
     "metadata": {},
     "output_type": "execute_result"
    }
   ],
   "source": [
    "id(nums)"
   ]
  },
  {
   "cell_type": "code",
   "execution_count": 312,
   "id": "0688d651-8dac-4069-93fd-e4de15a91205",
   "metadata": {},
   "outputs": [
    {
     "data": {
      "text/plain": [
       "4437078464"
      ]
     },
     "execution_count": 312,
     "metadata": {},
     "output_type": "execute_result"
    }
   ],
   "source": [
    "id(nums2)"
   ]
  },
  {
   "cell_type": "code",
   "execution_count": 313,
   "id": "a8934ed1-ee25-4724-b2fb-a496cda80160",
   "metadata": {},
   "outputs": [
    {
     "data": {
      "text/plain": [
       "True"
      ]
     },
     "execution_count": 313,
     "metadata": {},
     "output_type": "execute_result"
    }
   ],
   "source": [
    "nums == nums2"
   ]
  },
  {
   "cell_type": "code",
   "execution_count": 314,
   "id": "cd842e3c-c242-453b-aa54-48f5078052c4",
   "metadata": {},
   "outputs": [
    {
     "data": {
      "text/plain": [
       "False"
      ]
     },
     "execution_count": 314,
     "metadata": {},
     "output_type": "execute_result"
    }
   ],
   "source": [
    "nums is nums2"
   ]
  },
  {
   "cell_type": "code",
   "execution_count": 315,
   "id": "b891df60-b494-4377-9169-b315e63e6cf7",
   "metadata": {},
   "outputs": [],
   "source": [
    "import copy"
   ]
  },
  {
   "cell_type": "code",
   "execution_count": 316,
   "id": "f0e96c7c-375d-457e-93b8-3a70f4c9579d",
   "metadata": {},
   "outputs": [
    {
     "data": {
      "text/plain": [
       "['Error',\n",
       " '__all__',\n",
       " '__builtins__',\n",
       " '__cached__',\n",
       " '__doc__',\n",
       " '__file__',\n",
       " '__loader__',\n",
       " '__name__',\n",
       " '__package__',\n",
       " '__spec__',\n",
       " '_copy_dispatch',\n",
       " '_copy_immutable',\n",
       " '_deepcopy_atomic',\n",
       " '_deepcopy_dict',\n",
       " '_deepcopy_dispatch',\n",
       " '_deepcopy_list',\n",
       " '_deepcopy_method',\n",
       " '_deepcopy_tuple',\n",
       " '_keep_alive',\n",
       " '_reconstruct',\n",
       " 'copy',\n",
       " 'deepcopy',\n",
       " 'dispatch_table',\n",
       " 'error']"
      ]
     },
     "execution_count": 316,
     "metadata": {},
     "output_type": "execute_result"
    }
   ],
   "source": [
    "dir(copy)"
   ]
  },
  {
   "cell_type": "code",
   "execution_count": 317,
   "id": "f3d4eaa6-e21d-452e-a38e-0b3f89d93d47",
   "metadata": {},
   "outputs": [
    {
     "data": {
      "text/plain": [
       "1.3333333333333333"
      ]
     },
     "execution_count": 317,
     "metadata": {},
     "output_type": "execute_result"
    }
   ],
   "source": [
    "4 / 3"
   ]
  },
  {
   "cell_type": "code",
   "execution_count": 318,
   "id": "90766bf5-2fbe-4c6c-b819-5b4b8768ab3e",
   "metadata": {},
   "outputs": [
    {
     "data": {
      "text/plain": [
       "1"
      ]
     },
     "execution_count": 318,
     "metadata": {},
     "output_type": "execute_result"
    }
   ],
   "source": [
    "4 // 3"
   ]
  },
  {
   "cell_type": "code",
   "execution_count": 339,
   "id": "fa4b6067-bac5-42f7-b360-fea73546f829",
   "metadata": {},
   "outputs": [
    {
     "name": "stdin",
     "output_type": "stream",
     "text": [
      " 2 + 3\n"
     ]
    },
    {
     "name": "stdout",
     "output_type": "stream",
     "text": [
      "5.0\n"
     ]
    },
    {
     "name": "stdin",
     "output_type": "stream",
     "text": [
      " 2 = 3\n"
     ]
    },
    {
     "name": "stdout",
     "output_type": "stream",
     "text": [
      "bad operator: =\n"
     ]
    },
    {
     "name": "stdin",
     "output_type": "stream",
     "text": [
      " 87 / 54\n"
     ]
    },
    {
     "name": "stdout",
     "output_type": "stream",
     "text": [
      "1.6111111111111112\n"
     ]
    },
    {
     "name": "stdin",
     "output_type": "stream",
     "text": [
      " \n"
     ]
    }
   ],
   "source": [
    "# Example of a function dispatcher.\n",
    "# Read in an expression from user, like '2 + 4', '3 * 8', etc.\n",
    "# Parse into 3 parts, operand1, operator, and operand2\n",
    "# Plug operator into dict to get function to be called\n",
    "# Call function in operator module and pass float versions of each operand\n",
    "# Lather, rinse, repeat\n",
    "\n",
    "import operator\n",
    "\n",
    "ops_dict = {\n",
    "    '+': operator.add,\n",
    "    '-': operator.sub,\n",
    "    '*': operator.mul,\n",
    "    '/': operator.truediv, # floating point division\n",
    "}\n",
    "\n",
    "while (response := input()): # 3 + 4\n",
    "    op1, oper, op2 = response.split()\n",
    "    if oper in ops_dict:\n",
    "        print(ops_dict[oper](float(op1), float(op2)))\n",
    "    else:\n",
    "        print('bad operator:', oper)"
   ]
  },
  {
   "cell_type": "code",
   "execution_count": 335,
   "id": "5453c422-d596-42b7-aaaf-8dc71a652502",
   "metadata": {},
   "outputs": [],
   "source": [
    "import operator"
   ]
  },
  {
   "cell_type": "code",
   "execution_count": 336,
   "id": "a6dfe79d-8176-4ce2-9f0c-258836e72200",
   "metadata": {},
   "outputs": [
    {
     "data": {
      "text/plain": [
       "5"
      ]
     },
     "execution_count": 336,
     "metadata": {},
     "output_type": "execute_result"
    }
   ],
   "source": [
    "operator.add(2, 3)"
   ]
  },
  {
   "cell_type": "code",
   "execution_count": 337,
   "id": "0bb9da1c-deb9-4dce-a330-d8839f40d1ec",
   "metadata": {},
   "outputs": [
    {
     "data": {
      "text/plain": [
       "'23'"
      ]
     },
     "execution_count": 337,
     "metadata": {},
     "output_type": "execute_result"
    }
   ],
   "source": [
    "operator.add('2', '3')"
   ]
  },
  {
   "cell_type": "code",
   "execution_count": 338,
   "id": "be4505af-def1-4420-9d46-2cfaa4b5e752",
   "metadata": {},
   "outputs": [
    {
     "data": {
      "text/plain": [
       "[1, 2, 3, 4, 5]"
      ]
     },
     "execution_count": 338,
     "metadata": {},
     "output_type": "execute_result"
    }
   ],
   "source": [
    "operator.add([1, 2, 3], [4, 5])"
   ]
  },
  {
   "cell_type": "code",
   "execution_count": 340,
   "id": "c1a3626d-7b99-469e-a9a1-ab6859b9f8d4",
   "metadata": {},
   "outputs": [
    {
     "data": {
      "text/plain": [
       "[-2, -1, 1, 3, 4]"
      ]
     },
     "execution_count": 340,
     "metadata": {},
     "output_type": "execute_result"
    }
   ],
   "source": [
    "sorted([1, 3, -2, 4, -1])"
   ]
  },
  {
   "cell_type": "code",
   "execution_count": 341,
   "id": "eb463d8d-edec-4089-aa0b-e119f5c39b3d",
   "metadata": {},
   "outputs": [
    {
     "data": {
      "text/plain": [
       "['C', 'e', 'n', 't', 'v']"
      ]
     },
     "execution_count": 341,
     "metadata": {},
     "output_type": "execute_result"
    }
   ],
   "source": [
    "sorted('Cvent')"
   ]
  },
  {
   "cell_type": "code",
   "execution_count": 342,
   "id": "cacac208-08fe-495c-9da4-43f88d134305",
   "metadata": {},
   "outputs": [
    {
     "data": {
      "text/plain": [
       "[-1, 1, 2, 4, 5]"
      ]
     },
     "execution_count": 342,
     "metadata": {},
     "output_type": "execute_result"
    }
   ],
   "source": [
    "sorted({1, 2, 4, 5, -1})"
   ]
  },
  {
   "cell_type": "code",
   "execution_count": 343,
   "id": "6a21e10d-35d9-4dc3-af6d-47d13cb857dc",
   "metadata": {},
   "outputs": [
    {
     "data": {
      "text/plain": [
       "['grande', 'tall']"
      ]
     },
     "execution_count": 343,
     "metadata": {},
     "output_type": "execute_result"
    }
   ],
   "source": [
    "sorted({'tall': 12, 'grande': 16 })"
   ]
  },
  {
   "cell_type": "code",
   "execution_count": 344,
   "id": "d31d7822-1269-4a27-8d4c-469fca6a03b0",
   "metadata": {},
   "outputs": [
    {
     "ename": "TypeError",
     "evalue": "'int' object is not iterable",
     "output_type": "error",
     "traceback": [
      "\u001b[0;31m---------------------------------------------------------------------------\u001b[0m",
      "\u001b[0;31mTypeError\u001b[0m                                 Traceback (most recent call last)",
      "Cell \u001b[0;32mIn[344], line 1\u001b[0m\n\u001b[0;32m----> 1\u001b[0m \u001b[38;5;28;43msorted\u001b[39;49m\u001b[43m(\u001b[49m\u001b[38;5;241;43m1\u001b[39;49m\u001b[43m)\u001b[49m\n",
      "\u001b[0;31mTypeError\u001b[0m: 'int' object is not iterable"
     ]
    }
   ],
   "source": [
    "sorted(1)"
   ]
  },
  {
   "cell_type": "code",
   "execution_count": 349,
   "id": "fdbd6f50-c047-4bff-b4e2-0a83aa3739d6",
   "metadata": {},
   "outputs": [],
   "source": [
    "def iterate(container: list):\n",
    "    \"\"\"iterate over whatever container you send in...\"\"\"\n",
    "    for thing in container:\n",
    "        print(thing)"
   ]
  },
  {
   "cell_type": "code",
   "execution_count": 350,
   "id": "95a1e805-3116-4680-8a08-0c2f43198157",
   "metadata": {},
   "outputs": [
    {
     "name": "stdout",
     "output_type": "stream",
     "text": [
      "1\n",
      "3\n",
      "-2\n",
      "4\n",
      "-1\n"
     ]
    }
   ],
   "source": [
    "iterate([1, 3, -2, 4, -1])"
   ]
  },
  {
   "cell_type": "code",
   "execution_count": 351,
   "id": "cace9365-0a81-4745-9ce5-a9d6219be84b",
   "metadata": {},
   "outputs": [
    {
     "name": "stdout",
     "output_type": "stream",
     "text": [
      "C\n",
      "v\n",
      "e\n",
      "n\n",
      "t\n"
     ]
    }
   ],
   "source": [
    "iterate('Cvent')"
   ]
  },
  {
   "cell_type": "code",
   "execution_count": 348,
   "id": "4db59428-80d0-475c-8452-2b5fb1d8a68c",
   "metadata": {
    "collapsed": true,
    "jupyter": {
     "outputs_hidden": true
    }
   },
   "outputs": [
    {
     "ename": "TypeError",
     "evalue": "'int' object is not iterable",
     "output_type": "error",
     "traceback": [
      "\u001b[0;31m---------------------------------------------------------------------------\u001b[0m",
      "\u001b[0;31mTypeError\u001b[0m                                 Traceback (most recent call last)",
      "Cell \u001b[0;32mIn[348], line 1\u001b[0m\n\u001b[0;32m----> 1\u001b[0m \u001b[43miterate\u001b[49m\u001b[43m(\u001b[49m\u001b[38;5;241;43m1\u001b[39;49m\u001b[43m)\u001b[49m\n",
      "Cell \u001b[0;32mIn[345], line 3\u001b[0m, in \u001b[0;36miterate\u001b[0;34m(container)\u001b[0m\n\u001b[1;32m      1\u001b[0m \u001b[38;5;28;01mdef\u001b[39;00m \u001b[38;5;21miterate\u001b[39m(container):\n\u001b[1;32m      2\u001b[0m \u001b[38;5;250m    \u001b[39m\u001b[38;5;124;03m\"\"\"iterate over whatever container you send in...\"\"\"\u001b[39;00m\n\u001b[0;32m----> 3\u001b[0m \u001b[43m    \u001b[49m\u001b[38;5;28;43;01mfor\u001b[39;49;00m\u001b[43m \u001b[49m\u001b[43mthing\u001b[49m\u001b[43m \u001b[49m\u001b[38;5;129;43;01min\u001b[39;49;00m\u001b[43m \u001b[49m\u001b[43mcontainer\u001b[49m\u001b[43m:\u001b[49m\n\u001b[1;32m      4\u001b[0m \u001b[43m        \u001b[49m\u001b[38;5;28;43mprint\u001b[39;49m\u001b[43m(\u001b[49m\u001b[43mthing\u001b[49m\u001b[43m)\u001b[49m\n",
      "\u001b[0;31mTypeError\u001b[0m: 'int' object is not iterable"
     ]
    }
   ],
   "source": [
    "iterate(1)"
   ]
  },
  {
   "cell_type": "code",
   "execution_count": 360,
   "id": "eb73016c-c12f-4b3f-90df-8956bfd3e7a1",
   "metadata": {},
   "outputs": [],
   "source": [
    "def intToRoman(num: int) -> str:\n",
    "        hindu_arabic_to_roman = {\n",
    "              1000: 'M',\n",
    "               900: 'CM',\n",
    "               500: 'D',\n",
    "               400: 'CD',\n",
    "               100: 'C',\n",
    "                90: 'XC',\n",
    "                50: 'L',\n",
    "                40: 'XL',\n",
    "                10: 'X',\n",
    "                 9: 'IX',\n",
    "                 5: 'V',\n",
    "                 4: 'IV',\n",
    "                 1: 'I',\n",
    "        }\n",
    "        roman = ''\n",
    "        while num: # while num > 0\n",
    "            for key in hindu_arabic_to_roman:\n",
    "                while num > key:\n",
    "                    num -= key\n",
    "                    roman += hindu_arabic_to_roman[key]\n",
    "\n",
    "        return roman"
   ]
  },
  {
   "cell_type": "code",
   "execution_count": 365,
   "id": "545aa4e9-7cd5-4a92-9fe1-3703608ae850",
   "metadata": {},
   "outputs": [
    {
     "data": {
      "text/plain": [
       "'MCMXCIX'"
      ]
     },
     "execution_count": 365,
     "metadata": {},
     "output_type": "execute_result"
    }
   ],
   "source": [
    "intToRoman(1999)"
   ]
  },
  {
   "cell_type": "code",
   "execution_count": 366,
   "id": "34eee3ab-7cfc-4db8-b8a9-2fd909a1c6dc",
   "metadata": {},
   "outputs": [
    {
     "data": {
      "text/plain": [
       "True"
      ]
     },
     "execution_count": 366,
     "metadata": {},
     "output_type": "execute_result"
    }
   ],
   "source": [
    "'apple' < 'fig'"
   ]
  },
  {
   "cell_type": "markdown",
   "id": "556c5f8c-0c10-4798-b0b5-0af100bb6144",
   "metadata": {},
   "source": [
    "## What do strings do for us?\n",
    "* indexing to access/retrieve individual characters if we wish\n",
    "* concatenate them ... 'this' + ' ' + 'that' = 'this that'\n",
    "* compute their length\n",
    "* split them into a list\n",
    "* slicing to extract a portion (or the entire)\n",
    "* order themselves relative to dictionary order"
   ]
  },
  {
   "cell_type": "code",
   "execution_count": 367,
   "id": "f01c2243-8db1-4c5b-af13-473fe598805e",
   "metadata": {},
   "outputs": [
    {
     "data": {
      "text/plain": [
       "False"
      ]
     },
     "execution_count": 367,
     "metadata": {},
     "output_type": "execute_result"
    }
   ],
   "source": [
    "len('apple') < len('fig')"
   ]
  },
  {
   "cell_type": "code",
   "execution_count": 369,
   "id": "a676e3e5-4d26-4b23-af5d-41c5ebda40b7",
   "metadata": {},
   "outputs": [
    {
     "data": {
      "text/plain": [
       "True"
      ]
     },
     "execution_count": 369,
     "metadata": {},
     "output_type": "execute_result"
    }
   ],
   "source": [
    "len('fig') < len('apple')"
   ]
  },
  {
   "cell_type": "code",
   "execution_count": 370,
   "id": "4c37b472-109f-4116-acb0-e1425b03e743",
   "metadata": {},
   "outputs": [
    {
     "data": {
      "text/plain": [
       "True"
      ]
     },
     "execution_count": 370,
     "metadata": {},
     "output_type": "execute_result"
    }
   ],
   "source": [
    "len('apple') == len('lemon')"
   ]
  },
  {
   "cell_type": "code",
   "execution_count": 371,
   "id": "536a04e8-d063-4d0e-bc07-16c0a554e9de",
   "metadata": {},
   "outputs": [],
   "source": [
    "def less_than(str1, str2):\n",
    "    return len(str1) < len(str2)"
   ]
  },
  {
   "cell_type": "code",
   "execution_count": 372,
   "id": "878317dd-e60a-409e-bdc1-b77b7e0bd2c4",
   "metadata": {},
   "outputs": [
    {
     "data": {
      "text/plain": [
       "False"
      ]
     },
     "execution_count": 372,
     "metadata": {},
     "output_type": "execute_result"
    }
   ],
   "source": [
    "compare('apple', 'fig')"
   ]
  },
  {
   "cell_type": "code",
   "execution_count": 373,
   "id": "f197dcfa-530d-49d9-9ad3-671c7c3db7b2",
   "metadata": {},
   "outputs": [],
   "source": [
    "s = '1234'"
   ]
  },
  {
   "cell_type": "code",
   "execution_count": 374,
   "id": "42217d85-2ec8-48f2-917e-a5b89792c306",
   "metadata": {},
   "outputs": [
    {
     "data": {
      "text/plain": [
       "1234"
      ]
     },
     "execution_count": 374,
     "metadata": {},
     "output_type": "execute_result"
    }
   ],
   "source": [
    "int(s) # \"int-ifying\" s"
   ]
  },
  {
   "cell_type": "code",
   "execution_count": 375,
   "id": "e8ca7677-fb61-4fad-b708-0263ca6f7ccd",
   "metadata": {},
   "outputs": [
    {
     "data": {
      "text/plain": [
       "2"
      ]
     },
     "execution_count": 375,
     "metadata": {},
     "output_type": "execute_result"
    }
   ],
   "source": [
    "int(2)"
   ]
  },
  {
   "cell_type": "code",
   "execution_count": null,
   "id": "315f4f62-0a15-4166-aeba-cc54606753ce",
   "metadata": {},
   "outputs": [],
   "source": [
    "int('two')"
   ]
  },
  {
   "cell_type": "code",
   "execution_count": 378,
   "id": "fd4c90e7-5a21-4a0d-a2c7-594bf3430cdb",
   "metadata": {},
   "outputs": [
    {
     "data": {
      "text/plain": [
       "False"
      ]
     },
     "execution_count": 378,
     "metadata": {},
     "output_type": "execute_result"
    }
   ],
   "source": [
    "[1, 2, 3] == [1.0, 2.0, 3.1]"
   ]
  },
  {
   "cell_type": "code",
   "execution_count": 379,
   "id": "5d8e77f1-02e1-4acb-910e-6c70abeb346e",
   "metadata": {},
   "outputs": [
    {
     "data": {
      "text/plain": [
       "False"
      ]
     },
     "execution_count": 379,
     "metadata": {},
     "output_type": "execute_result"
    }
   ],
   "source": [
    "[1, 2, 3] == [3, 2, 1]"
   ]
  },
  {
   "cell_type": "code",
   "execution_count": 380,
   "id": "a30c8c62-d159-4cc3-a5c4-f159fa9c1eac",
   "metadata": {},
   "outputs": [],
   "source": [
    "cars = 'Rivian Tesla Polestar'.split()"
   ]
  },
  {
   "cell_type": "code",
   "execution_count": 383,
   "id": "22ddae2d-78e6-40c5-95e6-6c01ae920233",
   "metadata": {},
   "outputs": [
    {
     "ename": "ValueError",
     "evalue": "list.remove(x): x not in list",
     "output_type": "error",
     "traceback": [
      "\u001b[0;31m---------------------------------------------------------------------------\u001b[0m",
      "\u001b[0;31mValueError\u001b[0m                                Traceback (most recent call last)",
      "Cell \u001b[0;32mIn[383], line 1\u001b[0m\n\u001b[0;32m----> 1\u001b[0m \u001b[43mcars\u001b[49m\u001b[38;5;241;43m.\u001b[39;49m\u001b[43mremove\u001b[49m\u001b[43m(\u001b[49m\u001b[38;5;124;43m'\u001b[39;49m\u001b[38;5;124;43mRivian\u001b[39;49m\u001b[38;5;124;43m'\u001b[39;49m\u001b[43m)\u001b[49m\n",
      "\u001b[0;31mValueError\u001b[0m: list.remove(x): x not in list"
     ]
    }
   ],
   "source": [
    "cars.remove('Rivian')"
   ]
  },
  {
   "cell_type": "code",
   "execution_count": 382,
   "id": "177d31ab-50fc-4482-bcbe-2a1efe49bf01",
   "metadata": {},
   "outputs": [
    {
     "data": {
      "text/plain": [
       "['Tesla', 'Polestar']"
      ]
     },
     "execution_count": 382,
     "metadata": {},
     "output_type": "execute_result"
    }
   ],
   "source": [
    "cars"
   ]
  },
  {
   "cell_type": "code",
   "execution_count": 387,
   "id": "3516f54c-3ed4-4ce7-ace7-f98440548e74",
   "metadata": {},
   "outputs": [],
   "source": [
    "if 'Tesla' in cars:\n",
    "    cars.remove('Tesla')"
   ]
  },
  {
   "cell_type": "code",
   "execution_count": 385,
   "id": "4ce4c61a-10f5-42fb-a396-80a1e8f8edce",
   "metadata": {},
   "outputs": [
    {
     "data": {
      "text/plain": [
       "['Polestar']"
      ]
     },
     "execution_count": 385,
     "metadata": {},
     "output_type": "execute_result"
    }
   ],
   "source": [
    "cars"
   ]
  },
  {
   "cell_type": "code",
   "execution_count": 388,
   "id": "b60bfa09-32e1-4656-8ff6-d2a50a16e186",
   "metadata": {},
   "outputs": [],
   "source": [
    "cars = { 'Rivian', 'Tesla', 'Polestar' }"
   ]
  },
  {
   "cell_type": "code",
   "execution_count": 391,
   "id": "19f6955d-d14e-430f-a054-ad1deb705df1",
   "metadata": {},
   "outputs": [
    {
     "ename": "KeyError",
     "evalue": "'Rivian'",
     "output_type": "error",
     "traceback": [
      "\u001b[0;31m---------------------------------------------------------------------------\u001b[0m",
      "\u001b[0;31mKeyError\u001b[0m                                  Traceback (most recent call last)",
      "Cell \u001b[0;32mIn[391], line 1\u001b[0m\n\u001b[0;32m----> 1\u001b[0m \u001b[43mcars\u001b[49m\u001b[38;5;241;43m.\u001b[39;49m\u001b[43mremove\u001b[49m\u001b[43m(\u001b[49m\u001b[38;5;124;43m'\u001b[39;49m\u001b[38;5;124;43mRivian\u001b[39;49m\u001b[38;5;124;43m'\u001b[39;49m\u001b[43m)\u001b[49m\n",
      "\u001b[0;31mKeyError\u001b[0m: 'Rivian'"
     ]
    }
   ],
   "source": [
    "cars.remove('Rivian')"
   ]
  },
  {
   "cell_type": "code",
   "execution_count": 390,
   "id": "517aa5c3-6b53-4a6c-bf84-1cae0fc7ac31",
   "metadata": {},
   "outputs": [
    {
     "data": {
      "text/plain": [
       "{'Polestar', 'Tesla'}"
      ]
     },
     "execution_count": 390,
     "metadata": {},
     "output_type": "execute_result"
    }
   ],
   "source": [
    "cars"
   ]
  },
  {
   "cell_type": "code",
   "execution_count": 393,
   "id": "10eb3999-e0a3-48fc-8541-f0eaa075b45b",
   "metadata": {},
   "outputs": [],
   "source": [
    "cars.discard('Rivian')"
   ]
  },
  {
   "cell_type": "markdown",
   "id": "945d1439-4cb3-4cbb-b9a7-502805c03cf0",
   "metadata": {},
   "source": [
    "# Lab: Inheritance\n",
    "* create a type called FunnyList which has all the chocolately goodness of a list, but adds the following wrinkle:\n",
    "  * if two lists have same items but in different orders, they are considered equal\n",
    "  * e.g., __`[1, 2, 3]`__ == __`[3, 1, 2]`__\n",
    "* create a list class which has a __`.discard()`__ method analogous to the one in the set class"
   ]
  },
  {
   "cell_type": "code",
   "execution_count": 404,
   "id": "71cfefeb-9681-415d-b4b1-ac8b08cc1ef2",
   "metadata": {},
   "outputs": [],
   "source": [
    "class FunnyList(list):\n",
    "    \"\"\"A list class which allows \"unsorted\" comparisons of lists, e.g.,\n",
    "       [1, 2, 3] should equal [3, 2, 1] because they have the same items\n",
    "       in a different order.\n",
    "    \"\"\"\n",
    "    def __eq__(self, other): # list1 == list2\n",
    "        \"\"\"If we're OK with throwing an error when lists are heterogeneous,\n",
    "           then this should work. But we can't sort a heterogeneous list...\n",
    "        \"\"\"\n",
    "        return sorted(self) == sorted(other)"
   ]
  },
  {
   "cell_type": "code",
   "execution_count": 405,
   "id": "3c39ff19-691c-4df0-bb13-b1cf29bd5e19",
   "metadata": {},
   "outputs": [],
   "source": [
    "list1 = FunnyList([1, 2, 3])\n",
    "list2 = FunnyList([3, 2, 1])"
   ]
  },
  {
   "cell_type": "code",
   "execution_count": 406,
   "id": "9061c7b6-234a-4143-8439-1e2a3163584d",
   "metadata": {},
   "outputs": [
    {
     "data": {
      "text/plain": [
       "True"
      ]
     },
     "execution_count": 406,
     "metadata": {},
     "output_type": "execute_result"
    }
   ],
   "source": [
    "list1 == list2"
   ]
  },
  {
   "cell_type": "code",
   "execution_count": 407,
   "id": "ccb66f9e-760b-47a0-8211-ea39116eb3ad",
   "metadata": {},
   "outputs": [
    {
     "data": {
      "text/plain": [
       "False"
      ]
     },
     "execution_count": 407,
     "metadata": {},
     "output_type": "execute_result"
    }
   ],
   "source": [
    "[1, 2, 3] == [3, 2, 1]"
   ]
  },
  {
   "cell_type": "code",
   "execution_count": 400,
   "id": "d2cc7283-3526-4939-bea7-662dfd429da2",
   "metadata": {},
   "outputs": [],
   "source": [
    "heterogeneous_list = [1, 2, 3, 'four']"
   ]
  },
  {
   "cell_type": "code",
   "execution_count": 402,
   "id": "29cf4c6f-e2c2-4e73-9d1f-60dc3341c15a",
   "metadata": {},
   "outputs": [
    {
     "data": {
      "text/plain": [
       "[1, 2, 3, 'four']"
      ]
     },
     "execution_count": 402,
     "metadata": {},
     "output_type": "execute_result"
    }
   ],
   "source": [
    "heterogeneous_list"
   ]
  },
  {
   "cell_type": "code",
   "execution_count": 403,
   "id": "a1677709-7a8a-4690-bfbd-af7c7d0b9f6a",
   "metadata": {},
   "outputs": [
    {
     "ename": "TypeError",
     "evalue": "'<' not supported between instances of 'str' and 'int'",
     "output_type": "error",
     "traceback": [
      "\u001b[0;31m---------------------------------------------------------------------------\u001b[0m",
      "\u001b[0;31mTypeError\u001b[0m                                 Traceback (most recent call last)",
      "Cell \u001b[0;32mIn[403], line 1\u001b[0m\n\u001b[0;32m----> 1\u001b[0m \u001b[43mheterogeneous_list\u001b[49m\u001b[38;5;241;43m.\u001b[39;49m\u001b[43msort\u001b[49m\u001b[43m(\u001b[49m\u001b[43m)\u001b[49m\n",
      "\u001b[0;31mTypeError\u001b[0m: '<' not supported between instances of 'str' and 'int'"
     ]
    }
   ],
   "source": [
    "heterogeneous_list.sort()"
   ]
  },
  {
   "cell_type": "code",
   "execution_count": 413,
   "id": "d768aa60-dfb2-424a-80db-e29c9046ae57",
   "metadata": {},
   "outputs": [],
   "source": [
    "fl1 = FunnyList('this that other foo'.split())"
   ]
  },
  {
   "cell_type": "code",
   "execution_count": 414,
   "id": "b0029cc5-c0b6-4dbb-b235-d9a32c6225cf",
   "metadata": {},
   "outputs": [
    {
     "data": {
      "text/plain": [
       "['this', 'that', 'other', 'foo']"
      ]
     },
     "execution_count": 414,
     "metadata": {},
     "output_type": "execute_result"
    }
   ],
   "source": [
    "fl1"
   ]
  },
  {
   "cell_type": "code",
   "execution_count": 415,
   "id": "b412839f-b90a-497d-9b78-3e54df817f24",
   "metadata": {},
   "outputs": [],
   "source": [
    "fl2 = FunnyList(sorted('this that other'.split()))"
   ]
  },
  {
   "cell_type": "code",
   "execution_count": 411,
   "id": "64b01d1b-b36a-4c05-954b-dab22b87aeea",
   "metadata": {},
   "outputs": [
    {
     "data": {
      "text/plain": [
       "['other', 'that', 'this']"
      ]
     },
     "execution_count": 411,
     "metadata": {},
     "output_type": "execute_result"
    }
   ],
   "source": [
    "fl2"
   ]
  },
  {
   "cell_type": "code",
   "execution_count": 416,
   "id": "c59e02d4-7b07-49de-86bd-cf6df0ed20f0",
   "metadata": {},
   "outputs": [
    {
     "data": {
      "text/plain": [
       "False"
      ]
     },
     "execution_count": 416,
     "metadata": {},
     "output_type": "execute_result"
    }
   ],
   "source": [
    "fl1 == fl2"
   ]
  },
  {
   "cell_type": "code",
   "execution_count": 417,
   "id": "997c6b17-c358-4799-a57b-a2ff51456e41",
   "metadata": {},
   "outputs": [],
   "source": [
    "class SetList(list):\n",
    "    \"\"\"List class which has a .discard()\n",
    "       method like sets do!\n",
    "    \"\"\"\n",
    "    def discard(self, item):\n",
    "        \"\"\"Remove an item if it's in the\n",
    "           list, otherwise do nothing.\n",
    "        \"\"\"\n",
    "        if item in self: # is it in here?\n",
    "            self.remove(item)\n",
    "\n",
    "    def remove_all(self, item):\n",
    "        \"\"\"Remove *all* instances of item.\"\"\"\n",
    "        while item in self:\n",
    "            self.remove(item)"
   ]
  },
  {
   "cell_type": "code",
   "execution_count": 418,
   "id": "7f1d7ee8-a870-4581-bfe7-c42baa9fe496",
   "metadata": {},
   "outputs": [
    {
     "name": "stdout",
     "output_type": "stream",
     "text": [
      "[2, 1, 1, 1, 1, 1, 1, 1, 1, 1, 1, 1, 1, 1, 1, 1, 1, 1, 1, 1, 1, 1, 1, 1, 1, 1, 1, 1, 1, 1, 1, 1, 1, 1, 1, 1, 1, 1, 1, 1, 1, 1, 1, 1, 1, 1, 1, 1, 1, 1, 1, 1, 1, 1, 1, 1, 1, 1, 1, 1, 1, 1, 1, 1, 1, 1, 1, 1, 1, 1, 1, 1, 1, 1, 1, 1, 1, 1, 1, 1, 1, 1, 1, 1, 1, 1, 1, 1, 1, 1, 1, 1, 1, 1, 1, 1, 1, 1, 1, 1, 1, 1, 1, 1, 1, 1, 1, 1, 1, 1, 1, 1, 1, 1, 1, 1, 1, 1, 1, 1, 1, 1, 1, 1, 1, 1, 1, 1, 1, 1, 1, 1, 1, 1, 1, 1, 1, 1, 1, 1, 1, 1, 1, 1, 1, 1, 1, 1, 1, 1, 1, 1, 1, 1, 1, 1, 1, 1, 1, 1, 1, 1, 1, 1, 1, 1, 1, 1, 1, 1, 1, 1, 1, 1, 1, 1, 1, 1, 1, 1, 1, 1, 1, 1, 1, 1, 1, 1, 1, 1, 1, 1, 1, 1, 1, 1, 1, 1, 1, 1, 1, 1, 1, 1, 1, 1, 1, 1, 1, 1, 1, 1, 1, 1, 1, 1, 1, 1, 1, 1, 1, 1, 1, 1, 1, 1, 1, 1, 1, 1, 1, 1, 1, 1, 1, 1, 1, 1, 1, 1, 1, 1, 1, 1, 1, 1, 1, 1, 1, 1, 1, 1, 1, 1, 1, 1, 1, 1, 1, 1, 1, 1, 1, 1, 1, 1, 1, 1, 1, 1, 1, 1, 1, 1, 1, 1, 1, 1, 1, 1, 1, 1, 1, 1, 1, 1, 1, 1, 1, 1, 1, 1, 1, 1, 1, 1, 1, 1, 1, 1, 1, 1, 1, 1, 1, 1, 1, 1, 1, 1, 1, 1, 1, 1, 1, 1, 1, 1, 1, 1, 1, 1, 1, 1, 1, 1, 1, 1, 1, 1, 1, 1, 1, 1, 1, 1, 1, 1, 1, 1, 1, 1, 1, 1, 1, 1, 1, 1, 1, 1, 1, 1, 1, 1, 1, 1, 1, 1, 1, 1, 1, 1, 1, 1, 1, 1, 1, 1, 1, 1, 1, 1, 1, 1, 1, 1, 1, 1, 1, 1, 1, 1, 1, 1, 1, 1, 1, 1, 1, 1, 1, 1, 1, 1, 1, 1, 1, 1, 1, 1, 1, 1, 1, 1, 1, 1, 1, 1, 1, 1, 1, 1, 1, 1, 1, 1, 1, 1, 1, 1, 1, 1, 1, 1, 1, 1, 1, 1, 1, 1, 1, 1, 1, 1, 1, 1, 1, 1, 1, 1, 1, 1, 1, 1, 1, 1, 1, 1, 1, 1, 1, 1, 1, 1, 1, 1, 1, 1, 1, 1, 1, 1, 1, 1, 1, 1, 1, 1, 1, 1, 1, 1, 1, 1, 1, 1, 1, 1, 1, 1, 1, 1, 1, 1, 1, 1, 1, 1, 1, 1, 1, 1, 1, 1, 1, 1, 1, 1, 1, 1, 1, 1, 1, 1, 1, 1, 1, 1, 1, 1, 1, 1, 1, 1, 1, 1, 1, 1, 1, 1, 1, 1, 1, 1, 1, 1, 1, 1, 1, 1, 1, 1, 1, 1, 1, 1, 1, 1, 1, 1, 1, 1, 1, 1, 1, 1, 1, 1, 1, 1, 1, 1, 1, 1, 1, 1, 1, 1, 1, 1, 1, 1, 1, 1, 1, 1, 1, 1, 1, 1, 1, 1, 1, 1, 1, 1, 1, 1, 1, 1, 1, 1, 1, 1, 1, 1, 1, 1, 1, 1, 1, 1, 1, 1, 1, 1, 1, 1, 1, 1, 1, 1, 1, 1, 1, 1, 1, 1, 1, 1, 1, 1, 1, 1, 1, 1, 1, 1, 1, 1, 1, 1, 1, 1, 1, 1, 1, 1, 1, 1, 1, 1, 1, 1, 1, 1, 1, 1, 1, 1, 1, 1, 1, 1, 1, 1, 1, 1, 1, 1, 1, 1, 1, 1, 1, 1, 1, 1, 1, 1, 1, 1, 1, 1, 1, 1, 1, 1, 1, 1, 1, 1, 1, 1, 1, 1, 1, 1, 1, 1, 1, 1, 1, 1, 1, 1, 1, 1, 1, 1, 1, 1, 1, 1, 1, 1, 1, 1, 1, 1, 1, 1, 1, 1, 1, 1, 1, 1, 1, 1, 1, 1, 1, 1, 1, 1, 1, 1, 1, 1, 1, 1, 1, 1, 1, 1, 1, 1, 1, 1, 1, 1, 1, 1, 1, 1, 1, 1, 1, 1, 1, 1, 1, 1, 1, 1, 1, 1, 1, 1, 1, 1, 1, 1, 1, 1, 1, 1, 1, 1, 1, 1, 1, 1, 1, 1, 1, 1, 1, 1, 1, 1, 1, 1, 1, 1, 1, 1, 1, 1, 1, 1, 1, 1, 1, 1, 1, 1, 1, 1, 1, 1, 1, 1, 1, 1, 1, 1, 1, 1, 1, 1, 1, 1, 1, 1, 1, 1, 1, 1, 1, 1, 1, 1, 1, 1, 1, 1, 1, 1, 1, 1, 1, 1, 1, 1, 1, 1, 1, 1, 1, 1, 1, 1, 1, 1, 1, 1, 1, 1, 1, 1, 1, 1, 1, 1, 1, 1, 1, 1, 1, 1, 1, 1, 1, 1, 1, 1, 1, 1, 1, 1, 1, 1, 1, 1, 1, 1, 1, 1, 1, 1, 1, 1, 1, 1, 1, 1, 1, 1, 1, 1, 1, 1, 1, 1, 1, 1, 1, 1, 1, 1, 1, 1, 1, 1, 1, 1, 1, 1, 1, 1, 1, 1, 1, 1, 1, 1, 1, 1, 1, 1, 1, 1, 1, 1, 1, 1, 1, 1, 1, 1, 1, 1, 1, 1, 1, 1, 1, 1, 1, 1, 1, 1, 1, 1, 1, 1, 1, 1, 1, 1, 1, 1, 1, 1, 1, 1, 1, 1, 1, 1, 1, 1, 1, 1, 1, 1, 1, 1, 1, 1, 1, 1, 1, 1, 1, 1, 1, 1, 1, 1, 1, 1, 1, 1, 1, 1, 1, 1, 1, 1, 1, 1, 1, 1, 1, 1, 1, 1, 1, 1, 1, 1, 1, 1, 1, 1, 1, 1, 1]\n"
     ]
    }
   ],
   "source": [
    "setlist = SetList([2] + [1] * 1000)\n",
    "print(setlist)"
   ]
  },
  {
   "cell_type": "code",
   "execution_count": 419,
   "id": "f1e0dc64-6b82-4c55-97b8-ddbf1e58589d",
   "metadata": {},
   "outputs": [
    {
     "name": "stdout",
     "output_type": "stream",
     "text": [
      "[2, 1, 1, 1, 1, 1, 1, 1, 1, 1, 1, 1, 1, 1, 1, 1, 1, 1, 1, 1, 1, 1, 1, 1, 1, 1, 1, 1, 1, 1, 1, 1, 1, 1, 1, 1, 1, 1, 1, 1, 1, 1, 1, 1, 1, 1, 1, 1, 1, 1, 1, 1, 1, 1, 1, 1, 1, 1, 1, 1, 1, 1, 1, 1, 1, 1, 1, 1, 1, 1, 1, 1, 1, 1, 1, 1, 1, 1, 1, 1, 1, 1, 1, 1, 1, 1, 1, 1, 1, 1, 1, 1, 1, 1, 1, 1, 1, 1, 1, 1, 1, 1, 1, 1, 1, 1, 1, 1, 1, 1, 1, 1, 1, 1, 1, 1, 1, 1, 1, 1, 1, 1, 1, 1, 1, 1, 1, 1, 1, 1, 1, 1, 1, 1, 1, 1, 1, 1, 1, 1, 1, 1, 1, 1, 1, 1, 1, 1, 1, 1, 1, 1, 1, 1, 1, 1, 1, 1, 1, 1, 1, 1, 1, 1, 1, 1, 1, 1, 1, 1, 1, 1, 1, 1, 1, 1, 1, 1, 1, 1, 1, 1, 1, 1, 1, 1, 1, 1, 1, 1, 1, 1, 1, 1, 1, 1, 1, 1, 1, 1, 1, 1, 1, 1, 1, 1, 1, 1, 1, 1, 1, 1, 1, 1, 1, 1, 1, 1, 1, 1, 1, 1, 1, 1, 1, 1, 1, 1, 1, 1, 1, 1, 1, 1, 1, 1, 1, 1, 1, 1, 1, 1, 1, 1, 1, 1, 1, 1, 1, 1, 1, 1, 1, 1, 1, 1, 1, 1, 1, 1, 1, 1, 1, 1, 1, 1, 1, 1, 1, 1, 1, 1, 1, 1, 1, 1, 1, 1, 1, 1, 1, 1, 1, 1, 1, 1, 1, 1, 1, 1, 1, 1, 1, 1, 1, 1, 1, 1, 1, 1, 1, 1, 1, 1, 1, 1, 1, 1, 1, 1, 1, 1, 1, 1, 1, 1, 1, 1, 1, 1, 1, 1, 1, 1, 1, 1, 1, 1, 1, 1, 1, 1, 1, 1, 1, 1, 1, 1, 1, 1, 1, 1, 1, 1, 1, 1, 1, 1, 1, 1, 1, 1, 1, 1, 1, 1, 1, 1, 1, 1, 1, 1, 1, 1, 1, 1, 1, 1, 1, 1, 1, 1, 1, 1, 1, 1, 1, 1, 1, 1, 1, 1, 1, 1, 1, 1, 1, 1, 1, 1, 1, 1, 1, 1, 1, 1, 1, 1, 1, 1, 1, 1, 1, 1, 1, 1, 1, 1, 1, 1, 1, 1, 1, 1, 1, 1, 1, 1, 1, 1, 1, 1, 1, 1, 1, 1, 1, 1, 1, 1, 1, 1, 1, 1, 1, 1, 1, 1, 1, 1, 1, 1, 1, 1, 1, 1, 1, 1, 1, 1, 1, 1, 1, 1, 1, 1, 1, 1, 1, 1, 1, 1, 1, 1, 1, 1, 1, 1, 1, 1, 1, 1, 1, 1, 1, 1, 1, 1, 1, 1, 1, 1, 1, 1, 1, 1, 1, 1, 1, 1, 1, 1, 1, 1, 1, 1, 1, 1, 1, 1, 1, 1, 1, 1, 1, 1, 1, 1, 1, 1, 1, 1, 1, 1, 1, 1, 1, 1, 1, 1, 1, 1, 1, 1, 1, 1, 1, 1, 1, 1, 1, 1, 1, 1, 1, 1, 1, 1, 1, 1, 1, 1, 1, 1, 1, 1, 1, 1, 1, 1, 1, 1, 1, 1, 1, 1, 1, 1, 1, 1, 1, 1, 1, 1, 1, 1, 1, 1, 1, 1, 1, 1, 1, 1, 1, 1, 1, 1, 1, 1, 1, 1, 1, 1, 1, 1, 1, 1, 1, 1, 1, 1, 1, 1, 1, 1, 1, 1, 1, 1, 1, 1, 1, 1, 1, 1, 1, 1, 1, 1, 1, 1, 1, 1, 1, 1, 1, 1, 1, 1, 1, 1, 1, 1, 1, 1, 1, 1, 1, 1, 1, 1, 1, 1, 1, 1, 1, 1, 1, 1, 1, 1, 1, 1, 1, 1, 1, 1, 1, 1, 1, 1, 1, 1, 1, 1, 1, 1, 1, 1, 1, 1, 1, 1, 1, 1, 1, 1, 1, 1, 1, 1, 1, 1, 1, 1, 1, 1, 1, 1, 1, 1, 1, 1, 1, 1, 1, 1, 1, 1, 1, 1, 1, 1, 1, 1, 1, 1, 1, 1, 1, 1, 1, 1, 1, 1, 1, 1, 1, 1, 1, 1, 1, 1, 1, 1, 1, 1, 1, 1, 1, 1, 1, 1, 1, 1, 1, 1, 1, 1, 1, 1, 1, 1, 1, 1, 1, 1, 1, 1, 1, 1, 1, 1, 1, 1, 1, 1, 1, 1, 1, 1, 1, 1, 1, 1, 1, 1, 1, 1, 1, 1, 1, 1, 1, 1, 1, 1, 1, 1, 1, 1, 1, 1, 1, 1, 1, 1, 1, 1, 1, 1, 1, 1, 1, 1, 1, 1, 1, 1, 1, 1, 1, 1, 1, 1, 1, 1, 1, 1, 1, 1, 1, 1, 1, 1, 1, 1, 1, 1, 1, 1, 1, 1, 1, 1, 1, 1, 1, 1, 1, 1, 1, 1, 1, 1, 1, 1, 1, 1, 1, 1, 1, 1, 1, 1, 1, 1, 1, 1, 1, 1, 1, 1, 1, 1, 1, 1, 1, 1, 1, 1, 1, 1, 1, 1, 1, 1, 1, 1, 1, 1, 1, 1, 1, 1, 1, 1, 1, 1, 1, 1, 1, 1, 1, 1, 1, 1, 1, 1, 1, 1, 1, 1, 1, 1, 1, 1, 1, 1, 1, 1, 1, 1, 1, 1, 1, 1, 1, 1, 1, 1, 1, 1, 1, 1, 1, 1, 1, 1, 1, 1, 1, 1, 1, 1, 1, 1, 1, 1, 1, 1, 1, 1, 1, 1, 1, 1, 1, 1, 1, 1, 1, 1, 1, 1, 1, 1, 1, 1, 1, 1, 1, 1, 1, 1, 1, 1, 1, 1, 1, 1, 1, 1, 1, 1, 1, 1, 1, 1, 1, 1, 1, 1, 1, 1, 1, 1, 1, 1, 1, 1, 1, 1, 1, 1, 1, 1, 1, 1, 1, 1, 1, 1, 1, 1, 1, 1, 1, 1, 1, 1, 1, 1, 1, 1, 1, 1, 1, 1]\n"
     ]
    }
   ],
   "source": [
    "setlist.remove(1)\n",
    "print(setlist)"
   ]
  },
  {
   "cell_type": "code",
   "execution_count": 420,
   "id": "54784140-17f5-4ad4-9a7f-f5522ec940e9",
   "metadata": {},
   "outputs": [
    {
     "data": {
      "text/plain": [
       "[2]"
      ]
     },
     "execution_count": 420,
     "metadata": {},
     "output_type": "execute_result"
    }
   ],
   "source": [
    "setlist.remove_all(1)\n",
    "setlist"
   ]
  },
  {
   "cell_type": "code",
   "execution_count": 491,
   "id": "38b8b99d-653f-4bfe-8c48-0f91c208c3c7",
   "metadata": {},
   "outputs": [],
   "source": [
    "def lengthOfLongestSubstring(s: str) -> int:\n",
    "    max_substr_len = 0\n",
    "    max_substr = ''\n",
    "    substr_set = set() # not {}!\n",
    "    substr_start = 0\n",
    "\n",
    "    for index in range(len(s)): # use indexing to go thru entire string\n",
    "        for possible_substring in range(index, len(s)):\n",
    "            if s[possible_substring] not in substr_set: # not seen before, still part of substring\n",
    "                substr_set.add(s[possible_substring])\n",
    "                print('adding', s[possible_substring], 'len is', len(substr_set))\n",
    "            else: # already seen this, so end of substring\n",
    "                if len(substr_set) > max_substr_len:\n",
    "                    max_substr = s[substr_start:substr_start + max_substr_len]\n",
    "                    max_substr_len = len(substr_set)\n",
    "                    print('max is', max_substr_len)\n",
    "                substr_set = set()\n",
    "                substr_start = index\n",
    "                break\n",
    "    if len(substr_set) > max_substr_len:\n",
    "        max_substr = s[substr_start:substr_start + max_substr_len]\n",
    "        max_substr_len = len(substr_set)\n",
    "        print('max is', max_substr_len)\n",
    "     \n",
    "    return max_substr_len"
   ]
  },
  {
   "cell_type": "code",
   "execution_count": 492,
   "id": "58a502fb-d419-4945-81fb-f8712a03420f",
   "metadata": {},
   "outputs": [
    {
     "name": "stdout",
     "output_type": "stream",
     "text": [
      "adding j len is 1\n",
      "adding b len is 2\n",
      "adding p len is 3\n",
      "adding n len is 4\n",
      "max is 4\n",
      "adding b len is 1\n",
      "adding p len is 2\n",
      "adding n len is 3\n",
      "adding p len is 1\n",
      "adding n len is 2\n",
      "adding b len is 3\n",
      "adding w len is 4\n",
      "adding n len is 1\n",
      "adding b len is 2\n",
      "adding w len is 3\n",
      "adding b len is 1\n",
      "adding w len is 2\n",
      "adding w len is 1\n",
      "adding w len is 1\n",
      "adding d len is 2\n"
     ]
    },
    {
     "data": {
      "text/plain": [
       "4"
      ]
     },
     "execution_count": 492,
     "metadata": {},
     "output_type": "execute_result"
    }
   ],
   "source": [
    "lengthOfLongestSubstring('jbpnbwwd')"
   ]
  },
  {
   "cell_type": "code",
   "execution_count": 495,
   "id": "f5a77723-38be-4cff-ba27-cf960c04051d",
   "metadata": {},
   "outputs": [],
   "source": [
    "def three():\n",
    "    1 / 0\n",
    "    \n",
    "def two():\n",
    "    three()\n",
    "    \n",
    "def one():\n",
    "    two()"
   ]
  },
  {
   "cell_type": "code",
   "execution_count": 494,
   "id": "b5f1a48a-1932-4e3a-959d-d225b44d5569",
   "metadata": {},
   "outputs": [
    {
     "ename": "ZeroDivisionError",
     "evalue": "division by zero",
     "output_type": "error",
     "traceback": [
      "\u001b[0;31m---------------------------------------------------------------------------\u001b[0m",
      "\u001b[0;31mZeroDivisionError\u001b[0m                         Traceback (most recent call last)",
      "Cell \u001b[0;32mIn[494], line 1\u001b[0m\n\u001b[0;32m----> 1\u001b[0m \u001b[43mone\u001b[49m\u001b[43m(\u001b[49m\u001b[43m)\u001b[49m\n",
      "Cell \u001b[0;32mIn[493], line 8\u001b[0m, in \u001b[0;36mone\u001b[0;34m()\u001b[0m\n\u001b[1;32m      7\u001b[0m \u001b[38;5;28;01mdef\u001b[39;00m \u001b[38;5;21mone\u001b[39m():\n\u001b[0;32m----> 8\u001b[0m     \u001b[43mtwo\u001b[49m\u001b[43m(\u001b[49m\u001b[43m)\u001b[49m\n",
      "Cell \u001b[0;32mIn[493], line 5\u001b[0m, in \u001b[0;36mtwo\u001b[0;34m()\u001b[0m\n\u001b[1;32m      4\u001b[0m \u001b[38;5;28;01mdef\u001b[39;00m \u001b[38;5;21mtwo\u001b[39m():\n\u001b[0;32m----> 5\u001b[0m     \u001b[43mthree\u001b[49m\u001b[43m(\u001b[49m\u001b[43m)\u001b[49m\n",
      "Cell \u001b[0;32mIn[493], line 2\u001b[0m, in \u001b[0;36mthree\u001b[0;34m()\u001b[0m\n\u001b[1;32m      1\u001b[0m \u001b[38;5;28;01mdef\u001b[39;00m \u001b[38;5;21mthree\u001b[39m():\n\u001b[0;32m----> 2\u001b[0m     \u001b[38;5;241;43m1\u001b[39;49m\u001b[43m \u001b[49m\u001b[38;5;241;43m/\u001b[39;49m\u001b[43m \u001b[49m\u001b[38;5;241;43m0\u001b[39;49m\n",
      "\u001b[0;31mZeroDivisionError\u001b[0m: division by zero"
     ]
    }
   ],
   "source": [
    "one()"
   ]
  },
  {
   "cell_type": "code",
   "execution_count": 516,
   "id": "33d9c27f-7af7-46e7-adeb-62daf180d6f9",
   "metadata": {
    "jupyter": {
     "source_hidden": true
    }
   },
   "outputs": [],
   "source": [
    "class BankAccount:\n",
    "    class OverdrawnError(ValueError):\n",
    "        \"\"\"Exception to indicate action would cause account to be overdrawn.\"\"\"\n",
    "        \n",
    "    def __init__(self, name, initial_balance):\n",
    "        self.name = name\n",
    "        self.balance = initial_balance\n",
    "\n",
    "        \n",
    "    def __repr__(self):\n",
    "        '''unambiguous representation of the object'''\n",
    "        return self.name + ' has $' + repr(self.balance) + ' in the bank'\n",
    "\n",
    "    \n",
    "    def deposit(self, amount):\n",
    "        if amount > 0:\n",
    "            self.balance += amount\n",
    "            return self.balance\n",
    "        else:\n",
    "            raise ValueError(\"Can't deposit nonpositive amount!\")\n",
    "\n",
    "    \n",
    "    def withdraw(self, amount):\n",
    "        if amount > 0:\n",
    "            if amount <= self.balance:\n",
    "                self.balance -= amount\n",
    "                return self.balance\n",
    "            else:\n",
    "                raise self.OverdrawnError(f'The account does not have ${amount} in it to withdraw!')\n",
    "        else:\n",
    "            raise ValueError(\"Can't withdraw nonpositive amount!\")"
   ]
  },
  {
   "cell_type": "code",
   "execution_count": 501,
   "id": "3534cb33-bfc4-42be-9b50-8f0a5d45835a",
   "metadata": {},
   "outputs": [],
   "source": [
    "ba = BankAccount('Dave', 12)"
   ]
  },
  {
   "cell_type": "code",
   "execution_count": 502,
   "id": "3f5caac3-61e7-4b08-893e-05214ea26d0e",
   "metadata": {},
   "outputs": [
    {
     "data": {
      "text/plain": [
       "22"
      ]
     },
     "execution_count": 502,
     "metadata": {},
     "output_type": "execute_result"
    }
   ],
   "source": [
    "ba.deposit(10)"
   ]
  },
  {
   "cell_type": "code",
   "execution_count": 503,
   "id": "a95d9d94-7754-4929-af0b-a5f5d2cac1e8",
   "metadata": {},
   "outputs": [
    {
     "ename": "ValueError",
     "evalue": "Can't deposit nonpositive amount!",
     "output_type": "error",
     "traceback": [
      "\u001b[0;31m---------------------------------------------------------------------------\u001b[0m",
      "\u001b[0;31mValueError\u001b[0m                                Traceback (most recent call last)",
      "Cell \u001b[0;32mIn[503], line 1\u001b[0m\n\u001b[0;32m----> 1\u001b[0m \u001b[43mba\u001b[49m\u001b[38;5;241;43m.\u001b[39;49m\u001b[43mdeposit\u001b[49m\u001b[43m(\u001b[49m\u001b[38;5;241;43m-\u001b[39;49m\u001b[38;5;241;43m10\u001b[39;49m\u001b[43m)\u001b[49m\n",
      "Cell \u001b[0;32mIn[500], line 17\u001b[0m, in \u001b[0;36mBankAccount.deposit\u001b[0;34m(self, amount)\u001b[0m\n\u001b[1;32m     15\u001b[0m     \u001b[38;5;28;01mreturn\u001b[39;00m \u001b[38;5;28mself\u001b[39m\u001b[38;5;241m.\u001b[39mbalance\n\u001b[1;32m     16\u001b[0m \u001b[38;5;28;01melse\u001b[39;00m:\n\u001b[0;32m---> 17\u001b[0m     \u001b[38;5;28;01mraise\u001b[39;00m \u001b[38;5;167;01mValueError\u001b[39;00m(\u001b[38;5;124m\"\u001b[39m\u001b[38;5;124mCan\u001b[39m\u001b[38;5;124m'\u001b[39m\u001b[38;5;124mt deposit nonpositive amount!\u001b[39m\u001b[38;5;124m\"\u001b[39m)\n",
      "\u001b[0;31mValueError\u001b[0m: Can't deposit nonpositive amount!"
     ]
    }
   ],
   "source": [
    "ba.deposit(-10)"
   ]
  },
  {
   "cell_type": "code",
   "execution_count": 505,
   "id": "56d4ee7b-ae1f-4cb4-adb3-4e8b2e4ece90",
   "metadata": {},
   "outputs": [
    {
     "data": {
      "text/plain": [
       "['OverdrawnError',\n",
       " '__class__',\n",
       " '__delattr__',\n",
       " '__dict__',\n",
       " '__dir__',\n",
       " '__doc__',\n",
       " '__eq__',\n",
       " '__format__',\n",
       " '__ge__',\n",
       " '__getattribute__',\n",
       " '__getstate__',\n",
       " '__gt__',\n",
       " '__hash__',\n",
       " '__init__',\n",
       " '__init_subclass__',\n",
       " '__le__',\n",
       " '__lt__',\n",
       " '__module__',\n",
       " '__ne__',\n",
       " '__new__',\n",
       " '__reduce__',\n",
       " '__reduce_ex__',\n",
       " '__repr__',\n",
       " '__setattr__',\n",
       " '__sizeof__',\n",
       " '__str__',\n",
       " '__subclasshook__',\n",
       " '__weakref__',\n",
       " 'deposit',\n",
       " 'withdraw']"
      ]
     },
     "execution_count": 505,
     "metadata": {},
     "output_type": "execute_result"
    }
   ],
   "source": [
    "dir(BankAccount)"
   ]
  },
  {
   "cell_type": "code",
   "execution_count": 507,
   "id": "9b0393f5-bc07-441f-8990-90a3420445f0",
   "metadata": {},
   "outputs": [
    {
     "name": "stdout",
     "output_type": "stream",
     "text": [
      "Help on class OverdrawnError in module __main__:\n",
      "\n",
      "class OverdrawnError(builtins.ValueError)\n",
      " |  Exception to indicate action would cause account to be overdrawn.\n",
      " |\n",
      " |  Method resolution order:\n",
      " |      OverdrawnError\n",
      " |      builtins.ValueError\n",
      " |      builtins.Exception\n",
      " |      builtins.BaseException\n",
      " |      builtins.object\n",
      " |\n",
      " |  Data descriptors defined here:\n",
      " |\n",
      " |  __weakref__\n",
      " |      list of weak references to the object\n",
      " |\n",
      " |  ----------------------------------------------------------------------\n",
      " |  Methods inherited from builtins.ValueError:\n",
      " |\n",
      " |  __init__(self, /, *args, **kwargs)\n",
      " |      Initialize self.  See help(type(self)) for accurate signature.\n",
      " |\n",
      " |  ----------------------------------------------------------------------\n",
      " |  Static methods inherited from builtins.ValueError:\n",
      " |\n",
      " |  __new__(*args, **kwargs) from builtins.type\n",
      " |      Create and return a new object.  See help(type) for accurate signature.\n",
      " |\n",
      " |  ----------------------------------------------------------------------\n",
      " |  Methods inherited from builtins.BaseException:\n",
      " |\n",
      " |  __delattr__(self, name, /)\n",
      " |      Implement delattr(self, name).\n",
      " |\n",
      " |  __getattribute__(self, name, /)\n",
      " |      Return getattr(self, name).\n",
      " |\n",
      " |  __reduce__(...)\n",
      " |      Helper for pickle.\n",
      " |\n",
      " |  __repr__(self, /)\n",
      " |      Return repr(self).\n",
      " |\n",
      " |  __setattr__(self, name, value, /)\n",
      " |      Implement setattr(self, name, value).\n",
      " |\n",
      " |  __setstate__(...)\n",
      " |\n",
      " |  __str__(self, /)\n",
      " |      Return str(self).\n",
      " |\n",
      " |  add_note(...)\n",
      " |      Exception.add_note(note) --\n",
      " |      add a note to the exception\n",
      " |\n",
      " |  with_traceback(...)\n",
      " |      Exception.with_traceback(tb) --\n",
      " |      set self.__traceback__ to tb and return self.\n",
      " |\n",
      " |  ----------------------------------------------------------------------\n",
      " |  Data descriptors inherited from builtins.BaseException:\n",
      " |\n",
      " |  __cause__\n",
      " |      exception cause\n",
      " |\n",
      " |  __context__\n",
      " |      exception context\n",
      " |\n",
      " |  __dict__\n",
      " |\n",
      " |  __suppress_context__\n",
      " |\n",
      " |  __traceback__\n",
      " |\n",
      " |  args\n",
      "\n"
     ]
    }
   ],
   "source": [
    "help(BankAccount.OverdrawnError)"
   ]
  },
  {
   "cell_type": "code",
   "execution_count": 517,
   "id": "6a860be0-4f23-4354-90e7-1ab2c9ef7a93",
   "metadata": {},
   "outputs": [],
   "source": [
    "ba = BankAccount('Felix', 123)"
   ]
  },
  {
   "cell_type": "code",
   "execution_count": 518,
   "id": "aacb7b07-a25f-4960-80e0-fa5735df3ab0",
   "metadata": {},
   "outputs": [
    {
     "data": {
      "text/plain": [
       "23"
      ]
     },
     "execution_count": 518,
     "metadata": {},
     "output_type": "execute_result"
    }
   ],
   "source": [
    "ba.withdraw(100)"
   ]
  },
  {
   "cell_type": "code",
   "execution_count": 519,
   "id": "2ceaabff-1edc-49dd-8e7e-9b28a22f1e8f",
   "metadata": {},
   "outputs": [
    {
     "ename": "OverdrawnError",
     "evalue": "The account does not have $100 in it to withdraw!",
     "output_type": "error",
     "traceback": [
      "\u001b[0;31m---------------------------------------------------------------------------\u001b[0m",
      "\u001b[0;31mOverdrawnError\u001b[0m                            Traceback (most recent call last)",
      "Cell \u001b[0;32mIn[519], line 1\u001b[0m\n\u001b[0;32m----> 1\u001b[0m \u001b[43mba\u001b[49m\u001b[38;5;241;43m.\u001b[39;49m\u001b[43mwithdraw\u001b[49m\u001b[43m(\u001b[49m\u001b[38;5;241;43m100\u001b[39;49m\u001b[43m)\u001b[49m\n",
      "Cell \u001b[0;32mIn[516], line 29\u001b[0m, in \u001b[0;36mBankAccount.withdraw\u001b[0;34m(self, amount)\u001b[0m\n\u001b[1;32m     27\u001b[0m         \u001b[38;5;28;01mreturn\u001b[39;00m \u001b[38;5;28mself\u001b[39m\u001b[38;5;241m.\u001b[39mbalance\n\u001b[1;32m     28\u001b[0m     \u001b[38;5;28;01melse\u001b[39;00m:\n\u001b[0;32m---> 29\u001b[0m         \u001b[38;5;28;01mraise\u001b[39;00m \u001b[38;5;28mself\u001b[39m\u001b[38;5;241m.\u001b[39mOverdrawnError(\u001b[38;5;124mf\u001b[39m\u001b[38;5;124m'\u001b[39m\u001b[38;5;124mThe account does not have $\u001b[39m\u001b[38;5;132;01m{\u001b[39;00mamount\u001b[38;5;132;01m}\u001b[39;00m\u001b[38;5;124m in it to withdraw!\u001b[39m\u001b[38;5;124m'\u001b[39m)\n\u001b[1;32m     30\u001b[0m \u001b[38;5;28;01melse\u001b[39;00m:\n\u001b[1;32m     31\u001b[0m     \u001b[38;5;28;01mraise\u001b[39;00m \u001b[38;5;167;01mValueError\u001b[39;00m(\u001b[38;5;124m\"\u001b[39m\u001b[38;5;124mCan\u001b[39m\u001b[38;5;124m'\u001b[39m\u001b[38;5;124mt withdraw nonpositive amount!\u001b[39m\u001b[38;5;124m\"\u001b[39m)\n",
      "\u001b[0;31mOverdrawnError\u001b[0m: The account does not have $100 in it to withdraw!"
     ]
    }
   ],
   "source": [
    "ba.withdraw(100)"
   ]
  },
  {
   "cell_type": "code",
   "execution_count": 520,
   "id": "f8e6231d-89fa-41d8-9814-46bed1e10ae6",
   "metadata": {},
   "outputs": [
    {
     "ename": "ValueError",
     "evalue": "invalid literal for int() with base 10: 'anything'",
     "output_type": "error",
     "traceback": [
      "\u001b[0;31m---------------------------------------------------------------------------\u001b[0m",
      "\u001b[0;31mValueError\u001b[0m                                Traceback (most recent call last)",
      "Cell \u001b[0;32mIn[520], line 1\u001b[0m\n\u001b[0;32m----> 1\u001b[0m \u001b[38;5;28;43mint\u001b[39;49m\u001b[43m(\u001b[49m\u001b[38;5;124;43m'\u001b[39;49m\u001b[38;5;124;43manything\u001b[39;49m\u001b[38;5;124;43m'\u001b[39;49m\u001b[43m)\u001b[49m\n",
      "\u001b[0;31mValueError\u001b[0m: invalid literal for int() with base 10: 'anything'"
     ]
    }
   ],
   "source": [
    "int('anything')"
   ]
  },
  {
   "cell_type": "markdown",
   "id": "875c5b05-80b5-4b91-9563-f19a5f8b77e4",
   "metadata": {},
   "source": [
    "# Exercise\n",
    "* Write a function __`get_integer_input`__\n",
    "  * repeatedly prompt the user and ask them to enter an integer\n",
    "  * allow them to quit if they enter\n",
    "  * return either an integer or some indication that they didn't"
   ]
  },
  {
   "cell_type": "code",
   "execution_count": 535,
   "id": "47f84e44-116d-4df4-bc5c-87e2e3d3c271",
   "metadata": {},
   "outputs": [],
   "source": [
    "def get_integer_input():\n",
    "    \"\"\"Get an integer from the user, or let them choose not to provide one.\"\"\"\n",
    "    \n",
    "    while True:\n",
    "        if (response := input('Enter an integer (or \"q\" to quit): ')) == 'q': # they entered nothing/'q'\n",
    "            return None\n",
    "        try:\n",
    "            return int(response)\n",
    "        except ValueError: # they entered a non-int, there's nothing for us to\n",
    "            pass"
   ]
  },
  {
   "cell_type": "code",
   "execution_count": 537,
   "id": "b1c7318e-065d-44ae-8758-ede765d1fd0b",
   "metadata": {},
   "outputs": [],
   "source": [
    "def get_integer_input():\n",
    "    \"\"\"Get an integer from the user, or let them choose not to provide one.\"\"\"\n",
    "    while True:\n",
    "        try:\n",
    "            if (response := input('Enter an integer (or \"q\" to quit): ')) == 'q': # they entered nothing/'q'\n",
    "                return None\n",
    "            return int(response)\n",
    "        except ValueError: # they entered a non-int, there's nothing for us to\n",
    "            pass"
   ]
  },
  {
   "cell_type": "code",
   "execution_count": 539,
   "id": "93646f61-e79d-4a82-b22d-c13d320877a4",
   "metadata": {},
   "outputs": [
    {
     "name": "stdin",
     "output_type": "stream",
     "text": [
      "Enter an integer (or \"q\" to quit):  q\n"
     ]
    }
   ],
   "source": [
    "get_integer_input()"
   ]
  },
  {
   "cell_type": "code",
   "execution_count": null,
   "id": "5bf3fb9b-cea5-48e3-917e-c07fd02f5232",
   "metadata": {},
   "outputs": [],
   "source": [
    "try:\n",
    "    # could throw 1\n",
    "except...\n",
    "   ...\n",
    "else:\n",
    "   # can't throw\n",
    "\n",
    "try:\n",
    "    # could throw 2\n",
    "except ..."
   ]
  },
  {
   "cell_type": "code",
   "execution_count": 540,
   "id": "622345d1-17d7-4408-81cc-28243f853256",
   "metadata": {},
   "outputs": [
    {
     "data": {
      "text/plain": [
       "(1, 2, 3)"
      ]
     },
     "execution_count": 540,
     "metadata": {},
     "output_type": "execute_result"
    }
   ],
   "source": [
    "1, 2, 3"
   ]
  },
  {
   "cell_type": "code",
   "execution_count": 541,
   "id": "5642a809-6a7c-4ee0-af04-c58e5d41f273",
   "metadata": {},
   "outputs": [],
   "source": [
    "import random\n",
    "import string\n",
    "\n",
    "this = ''\n",
    "\n",
    "for _ in range(150):\n",
    "    this += random.choice(string.ascii_letters)"
   ]
  },
  {
   "cell_type": "code",
   "execution_count": 542,
   "id": "755207d2-a4f9-4b2b-9215-e0d130abd762",
   "metadata": {},
   "outputs": [
    {
     "data": {
      "text/plain": [
       "'ajTKzErOFQTmkxhaUCpXkiZtOIGBxQTNusZXfyAdNIlHWqgduLAJugrwUWyazPtkQGcjpnSJyoBFGondjznvvrguvnQMPRFmbzBkaHLRNCbWvcLbQeyOFzJatjWvsAvFWxHzfdhpHpZYFsHYsSMznn'"
      ]
     },
     "execution_count": 542,
     "metadata": {},
     "output_type": "execute_result"
    }
   ],
   "source": [
    "this"
   ]
  },
  {
   "cell_type": "code",
   "execution_count": 543,
   "id": "08b24782-0b18-42cf-8a24-f8dc4f8f09de",
   "metadata": {},
   "outputs": [],
   "source": [
    "import re"
   ]
  },
  {
   "cell_type": "code",
   "execution_count": 549,
   "id": "b99b5759-ceac-4da4-8078-0718766eee9d",
   "metadata": {},
   "outputs": [
    {
     "name": "stdout",
     "output_type": "stream",
     "text": [
      "<re.Match object; span=(0, 1), match='a'>\n"
     ]
    }
   ],
   "source": [
    "print(re.search('a', this))"
   ]
  },
  {
   "cell_type": "code",
   "execution_count": 550,
   "id": "ac854994-189d-42f0-873f-ffaaef434ced",
   "metadata": {},
   "outputs": [
    {
     "data": {
      "text/plain": [
       "['A',\n",
       " 'ASCII',\n",
       " 'DEBUG',\n",
       " 'DOTALL',\n",
       " 'I',\n",
       " 'IGNORECASE',\n",
       " 'L',\n",
       " 'LOCALE',\n",
       " 'M',\n",
       " 'MULTILINE',\n",
       " 'Match',\n",
       " 'NOFLAG',\n",
       " 'Pattern',\n",
       " 'RegexFlag',\n",
       " 'S',\n",
       " 'Scanner',\n",
       " 'T',\n",
       " 'TEMPLATE',\n",
       " 'U',\n",
       " 'UNICODE',\n",
       " 'VERBOSE',\n",
       " 'X',\n",
       " '_MAXCACHE',\n",
       " '_MAXCACHE2',\n",
       " '__all__',\n",
       " '__builtins__',\n",
       " '__cached__',\n",
       " '__doc__',\n",
       " '__file__',\n",
       " '__loader__',\n",
       " '__name__',\n",
       " '__package__',\n",
       " '__path__',\n",
       " '__spec__',\n",
       " '__version__',\n",
       " '_cache',\n",
       " '_cache2',\n",
       " '_casefix',\n",
       " '_compile',\n",
       " '_compile_template',\n",
       " '_compiler',\n",
       " '_constants',\n",
       " '_parser',\n",
       " '_pickle',\n",
       " '_special_chars_map',\n",
       " '_sre',\n",
       " 'compile',\n",
       " 'copyreg',\n",
       " 'enum',\n",
       " 'error',\n",
       " 'escape',\n",
       " 'findall',\n",
       " 'finditer',\n",
       " 'fullmatch',\n",
       " 'functools',\n",
       " 'match',\n",
       " 'purge',\n",
       " 'search',\n",
       " 'split',\n",
       " 'sub',\n",
       " 'subn',\n",
       " 'template']"
      ]
     },
     "execution_count": 550,
     "metadata": {},
     "output_type": "execute_result"
    }
   ],
   "source": [
    "dir(re)"
   ]
  },
  {
   "cell_type": "code",
   "execution_count": 552,
   "id": "6bde62f3-4195-4891-9584-c007c1c4a421",
   "metadata": {},
   "outputs": [
    {
     "data": {
      "text/plain": [
       "['a', 'a', 'a', 'a', 'a']"
      ]
     },
     "execution_count": 552,
     "metadata": {},
     "output_type": "execute_result"
    }
   ],
   "source": [
    "re.findall('a', this)"
   ]
  },
  {
   "cell_type": "code",
   "execution_count": 553,
   "id": "aacdc45b-9f6c-4c71-8dcc-38f3b4452548",
   "metadata": {},
   "outputs": [],
   "source": [
    "s = '\\nhello\\tok'"
   ]
  },
  {
   "cell_type": "code",
   "execution_count": 554,
   "id": "2d3452b6-004d-4d20-821f-6a1c95292215",
   "metadata": {},
   "outputs": [
    {
     "name": "stdout",
     "output_type": "stream",
     "text": [
      "\n",
      "hello\tok\n"
     ]
    }
   ],
   "source": [
    "print(s)"
   ]
  },
  {
   "cell_type": "code",
   "execution_count": 555,
   "id": "38e688d7-ee64-4390-b956-bddea7e24ca0",
   "metadata": {},
   "outputs": [
    {
     "name": "stdout",
     "output_type": "stream",
     "text": [
      "\n",
      "\n"
     ]
    }
   ],
   "source": [
    "print('\\n')"
   ]
  },
  {
   "cell_type": "code",
   "execution_count": 557,
   "id": "b1f961fc-afed-4354-abc5-9ab34de75064",
   "metadata": {},
   "outputs": [
    {
     "name": "stdout",
     "output_type": "stream",
     "text": [
      "\\n\\t\n"
     ]
    }
   ],
   "source": [
    "print('\\\\n\\\\t')"
   ]
  },
  {
   "cell_type": "code",
   "execution_count": 558,
   "id": "5ef44895-1b7a-4155-b878-d9a26e99826c",
   "metadata": {},
   "outputs": [
    {
     "name": "stdout",
     "output_type": "stream",
     "text": [
      "\\n\\t\n"
     ]
    }
   ],
   "source": [
    "print(r'\\n\\t')"
   ]
  },
  {
   "cell_type": "code",
   "execution_count": 560,
   "id": "fa28d11c-4fb0-4e11-a1e2-f97b0be4c2cb",
   "metadata": {},
   "outputs": [
    {
     "data": {
      "text/plain": [
       "'2H^jhkAz'"
      ]
     },
     "execution_count": 560,
     "metadata": {},
     "output_type": "execute_result"
    }
   ],
   "source": [
    "str(2) + 'h'.upper() + '^' + 'JHK'.lower() + 'a'.upper() + 'Z'.lower()"
   ]
  },
  {
   "cell_type": "code",
   "execution_count": 561,
   "id": "4f03ee9f-cd28-4d21-829c-7ec56f5a586a",
   "metadata": {},
   "outputs": [],
   "source": [
    "d = {}"
   ]
  },
  {
   "cell_type": "code",
   "execution_count": 562,
   "id": "d8ac8532-e74e-4cd0-b0ce-aeb9b4b6b524",
   "metadata": {},
   "outputs": [
    {
     "ename": "KeyError",
     "evalue": "'foo'",
     "output_type": "error",
     "traceback": [
      "\u001b[0;31m---------------------------------------------------------------------------\u001b[0m",
      "\u001b[0;31mKeyError\u001b[0m                                  Traceback (most recent call last)",
      "Cell \u001b[0;32mIn[562], line 1\u001b[0m\n\u001b[0;32m----> 1\u001b[0m \u001b[43md\u001b[49m\u001b[43m[\u001b[49m\u001b[38;5;124;43m'\u001b[39;49m\u001b[38;5;124;43mfoo\u001b[39;49m\u001b[38;5;124;43m'\u001b[39;49m\u001b[43m]\u001b[49m\n",
      "\u001b[0;31mKeyError\u001b[0m: 'foo'"
     ]
    }
   ],
   "source": [
    "d['foo']"
   ]
  },
  {
   "cell_type": "code",
   "execution_count": 563,
   "id": "8ef2f95e-a9a1-4eed-9dd6-a8fdfb055a68",
   "metadata": {},
   "outputs": [],
   "source": [
    "if 'foo' in d: # LBYL\n",
    "    print(d['foo'])"
   ]
  },
  {
   "cell_type": "code",
   "execution_count": 564,
   "id": "709f0522-4de3-4d12-a857-5027b9b5691c",
   "metadata": {},
   "outputs": [
    {
     "name": "stdout",
     "output_type": "stream",
     "text": [
      "not in dict\n"
     ]
    }
   ],
   "source": [
    "try: # EAFP\n",
    "    print(d['foo'])\n",
    "except KeyError:\n",
    "    print('not in dict')"
   ]
  },
  {
   "cell_type": "code",
   "execution_count": 572,
   "id": "4d9ee1aa-8328-476d-8edc-17afaa74bb7c",
   "metadata": {},
   "outputs": [
    {
     "name": "stdin",
     "output_type": "stream",
     "text": [
      "Enter a number:              -123            \n"
     ]
    }
   ],
   "source": [
    "try:\n",
    "    stuff = int(input('Enter a number: '))\n",
    "except ValueError:\n",
    "    print('listen to me')"
   ]
  },
  {
   "cell_type": "code",
   "execution_count": 571,
   "id": "8bf6b5fa-b656-442b-96e5-341c5bb5f5d1",
   "metadata": {},
   "outputs": [
    {
     "data": {
      "text/plain": [
       "True"
      ]
     },
     "execution_count": 571,
     "metadata": {},
     "output_type": "execute_result"
    }
   ],
   "source": [
    "' -12345'.strip().strip('-').isdigit()"
   ]
  },
  {
   "cell_type": "code",
   "execution_count": 574,
   "id": "7bc6e904-291d-4300-b324-9e23ac706bf2",
   "metadata": {},
   "outputs": [],
   "source": [
    "d = { 'foo': 'bar' }"
   ]
  },
  {
   "cell_type": "code",
   "execution_count": 575,
   "id": "8620226a-7b13-4b77-9298-9bd25ec262a7",
   "metadata": {},
   "outputs": [
    {
     "data": {
      "text/plain": [
       "'bar'"
      ]
     },
     "execution_count": 575,
     "metadata": {},
     "output_type": "execute_result"
    }
   ],
   "source": [
    "d['foo']"
   ]
  },
  {
   "cell_type": "code",
   "execution_count": 576,
   "id": "a1889f4b-22ad-46c6-bfca-067cdcea2fc8",
   "metadata": {},
   "outputs": [
    {
     "data": {
      "text/plain": [
       "'bar'"
      ]
     },
     "execution_count": 576,
     "metadata": {},
     "output_type": "execute_result"
    }
   ],
   "source": [
    "d.get('foo')"
   ]
  },
  {
   "cell_type": "code",
   "execution_count": 578,
   "id": "d4bff618-9483-4044-b279-09d8a7b63875",
   "metadata": {},
   "outputs": [
    {
     "name": "stdout",
     "output_type": "stream",
     "text": [
      "None\n"
     ]
    }
   ],
   "source": [
    "print(d.get('food'))"
   ]
  },
  {
   "cell_type": "code",
   "execution_count": 579,
   "id": "da600967-c461-4540-ac24-5bc16ad8af4a",
   "metadata": {},
   "outputs": [
    {
     "name": "stdout",
     "output_type": "stream",
     "text": [
      "not there!\n"
     ]
    }
   ],
   "source": [
    "print(d.get('food', 'not there!'))"
   ]
  },
  {
   "cell_type": "code",
   "execution_count": 580,
   "id": "92170574-2534-4260-be17-7e574b55140f",
   "metadata": {},
   "outputs": [
    {
     "name": "stdout",
     "output_type": "stream",
     "text": [
      "1 2 3\n"
     ]
    }
   ],
   "source": [
    "print(1, 2, 3)"
   ]
  },
  {
   "cell_type": "code",
   "execution_count": 581,
   "id": "fe0bd15d-567a-47b5-abca-2fa38578e7d2",
   "metadata": {},
   "outputs": [
    {
     "name": "stdout",
     "output_type": "stream",
     "text": [
      "1...2...3\n"
     ]
    }
   ],
   "source": [
    "print(1, 2, 3, sep='...')"
   ]
  },
  {
   "cell_type": "code",
   "execution_count": 583,
   "id": "39e61cf1-d226-4de4-b1b0-bdbf05191564",
   "metadata": {},
   "outputs": [
    {
     "name": "stdout",
     "output_type": "stream",
     "text": [
      "1\n",
      "2\n",
      "3blah..."
     ]
    }
   ],
   "source": [
    "print(1, 2, 3, sep='\\n', end='blah...')"
   ]
  },
  {
   "cell_type": "code",
   "execution_count": 584,
   "id": "708ce62b-cb4d-4af9-8400-45940bbdc609",
   "metadata": {},
   "outputs": [
    {
     "name": "stdout",
     "output_type": "stream",
     "text": [
      "1 2 3 4 5 6\n"
     ]
    }
   ],
   "source": [
    "print(1, 2, 3, end=' ')\n",
    "# ...later\n",
    "print(4, 5, 6)"
   ]
  },
  {
   "cell_type": "code",
   "execution_count": 585,
   "id": "528dc41d-5fc5-4e4c-a61b-a9769ae3f85d",
   "metadata": {},
   "outputs": [
    {
     "data": {
      "text/plain": [
       "[-5, -2, 1, 2, 3, 4, 6]"
      ]
     },
     "execution_count": 585,
     "metadata": {},
     "output_type": "execute_result"
    }
   ],
   "source": [
    "sorted([1, 3, 2, -5, 6, 4, -2])"
   ]
  },
  {
   "cell_type": "code",
   "execution_count": 586,
   "id": "2f7fb2a6-81b2-4b33-ab5a-7d2402bd37da",
   "metadata": {},
   "outputs": [
    {
     "data": {
      "text/plain": [
       "[6, 4, 3, 2, 1, -2, -5]"
      ]
     },
     "execution_count": 586,
     "metadata": {},
     "output_type": "execute_result"
    }
   ],
   "source": [
    "sorted([1, 3, 2, -5, 6, 4, -2], reverse=True)"
   ]
  },
  {
   "cell_type": "code",
   "execution_count": 587,
   "id": "ec2ce100-ab8d-40eb-92d6-24584c150677",
   "metadata": {},
   "outputs": [],
   "source": [
    "fruits = 'apple fig pear'.split()"
   ]
  },
  {
   "cell_type": "code",
   "execution_count": 588,
   "id": "b26d29d0-e311-4681-9767-d31c6057aa04",
   "metadata": {},
   "outputs": [
    {
     "data": {
      "text/plain": [
       "['apple', 'fig', 'pear']"
      ]
     },
     "execution_count": 588,
     "metadata": {},
     "output_type": "execute_result"
    }
   ],
   "source": [
    "fruits"
   ]
  },
  {
   "cell_type": "code",
   "execution_count": 589,
   "id": "1460a011-01d9-41c4-b64e-f663954f1000",
   "metadata": {},
   "outputs": [
    {
     "data": {
      "text/plain": [
       "['apple', 'fig', 'pear']"
      ]
     },
     "execution_count": 589,
     "metadata": {},
     "output_type": "execute_result"
    }
   ],
   "source": [
    "sorted(fruits)"
   ]
  },
  {
   "cell_type": "code",
   "execution_count": 590,
   "id": "62578153-b15a-4dd4-a607-fa5d05b7b04c",
   "metadata": {},
   "outputs": [
    {
     "data": {
      "text/plain": [
       "['fig', 'pear', 'apple']"
      ]
     },
     "execution_count": 590,
     "metadata": {},
     "output_type": "execute_result"
    }
   ],
   "source": [
    "sorted(fruits, key=len)"
   ]
  },
  {
   "cell_type": "code",
   "execution_count": 591,
   "id": "9e96ba2e-9e0d-46bc-ba25-f8d09cc4f922",
   "metadata": {},
   "outputs": [
    {
     "data": {
      "text/plain": [
       "2"
      ]
     },
     "execution_count": 591,
     "metadata": {},
     "output_type": "execute_result"
    }
   ],
   "source": [
    "round(1.95)"
   ]
  },
  {
   "cell_type": "code",
   "execution_count": 592,
   "id": "d7009e61-bc78-4836-9ffe-293732970e92",
   "metadata": {},
   "outputs": [
    {
     "data": {
      "text/plain": [
       "1.927"
      ]
     },
     "execution_count": 592,
     "metadata": {},
     "output_type": "execute_result"
    }
   ],
   "source": [
    "round(1.92654, ndigits=3)"
   ]
  },
  {
   "cell_type": "code",
   "execution_count": 594,
   "id": "4ee4d112-cc94-4ec5-813f-2adee82c5c29",
   "metadata": {},
   "outputs": [],
   "source": [
    "def f(x, y, z):\n",
    "    # 3 objects need to be passed here\n",
    "    print(x, y, z)"
   ]
  },
  {
   "cell_type": "code",
   "execution_count": 595,
   "id": "ba406828-170a-4c3b-be10-e7f4d897c979",
   "metadata": {},
   "outputs": [
    {
     "name": "stdout",
     "output_type": "stream",
     "text": [
      "1 2 3\n"
     ]
    }
   ],
   "source": [
    "f(1, 2, 3)"
   ]
  },
  {
   "cell_type": "code",
   "execution_count": 596,
   "id": "88cbc660-b005-44eb-ba07-c0b9cd96abd4",
   "metadata": {},
   "outputs": [
    {
     "name": "stdout",
     "output_type": "stream",
     "text": [
      "1 2 3\n"
     ]
    }
   ],
   "source": [
    "f(x=1, y=2, z=3)"
   ]
  },
  {
   "cell_type": "code",
   "execution_count": 597,
   "id": "359bca84-04e5-4e2f-b0a6-f459789e14f0",
   "metadata": {},
   "outputs": [
    {
     "name": "stdout",
     "output_type": "stream",
     "text": [
      "2 3 1\n"
     ]
    }
   ],
   "source": [
    "f(z=1, x=2, y=3)"
   ]
  },
  {
   "cell_type": "code",
   "execution_count": 598,
   "id": "0b402085-bce0-4dab-bee7-bed2185f361c",
   "metadata": {},
   "outputs": [
    {
     "name": "stdout",
     "output_type": "stream",
     "text": [
      "1 2 3\n"
     ]
    }
   ],
   "source": [
    "f(1, y=2, z=3)"
   ]
  },
  {
   "cell_type": "code",
   "execution_count": 599,
   "id": "a9abf41a-c46c-4ba4-a86d-3b8b56232721",
   "metadata": {},
   "outputs": [
    {
     "name": "stdout",
     "output_type": "stream",
     "text": [
      "1 2 3\n"
     ]
    }
   ],
   "source": [
    "f(1, z=3, y=2)"
   ]
  },
  {
   "cell_type": "code",
   "execution_count": 600,
   "id": "eac1a4e7-bdb0-456b-acc0-9f8712b45d2f",
   "metadata": {},
   "outputs": [
    {
     "ename": "SyntaxError",
     "evalue": "positional argument follows keyword argument (3887614580.py, line 1)",
     "output_type": "error",
     "traceback": [
      "\u001b[0;36m  Cell \u001b[0;32mIn[600], line 1\u001b[0;36m\u001b[0m\n\u001b[0;31m    f(z=1, y=2, 3)\u001b[0m\n\u001b[0m                 ^\u001b[0m\n\u001b[0;31mSyntaxError\u001b[0m\u001b[0;31m:\u001b[0m positional argument follows keyword argument\n"
     ]
    }
   ],
   "source": [
    "f(z=1, y=2, 3)"
   ]
  },
  {
   "cell_type": "code",
   "execution_count": 601,
   "id": "d125fb31-c445-4b7d-90d4-7b05a59537ef",
   "metadata": {},
   "outputs": [
    {
     "name": "stdout",
     "output_type": "stream",
     "text": [
      "Help on function f in module __main__:\n",
      "\n",
      "f(x, y, z)\n",
      "\n"
     ]
    }
   ],
   "source": [
    "help(f)"
   ]
  },
  {
   "cell_type": "code",
   "execution_count": 602,
   "id": "34a2786f-884d-460f-9def-83d90caec1cc",
   "metadata": {},
   "outputs": [],
   "source": [
    "import math"
   ]
  },
  {
   "cell_type": "code",
   "execution_count": 603,
   "id": "b3e77ddc-f77b-4340-a429-a29d91e46acb",
   "metadata": {},
   "outputs": [
    {
     "data": {
      "text/plain": [
       "['__doc__',\n",
       " '__file__',\n",
       " '__loader__',\n",
       " '__name__',\n",
       " '__package__',\n",
       " '__spec__',\n",
       " 'acos',\n",
       " 'acosh',\n",
       " 'asin',\n",
       " 'asinh',\n",
       " 'atan',\n",
       " 'atan2',\n",
       " 'atanh',\n",
       " 'cbrt',\n",
       " 'ceil',\n",
       " 'comb',\n",
       " 'copysign',\n",
       " 'cos',\n",
       " 'cosh',\n",
       " 'degrees',\n",
       " 'dist',\n",
       " 'e',\n",
       " 'erf',\n",
       " 'erfc',\n",
       " 'exp',\n",
       " 'exp2',\n",
       " 'expm1',\n",
       " 'fabs',\n",
       " 'factorial',\n",
       " 'floor',\n",
       " 'fmod',\n",
       " 'frexp',\n",
       " 'fsum',\n",
       " 'gamma',\n",
       " 'gcd',\n",
       " 'hypot',\n",
       " 'inf',\n",
       " 'isclose',\n",
       " 'isfinite',\n",
       " 'isinf',\n",
       " 'isnan',\n",
       " 'isqrt',\n",
       " 'lcm',\n",
       " 'ldexp',\n",
       " 'lgamma',\n",
       " 'log',\n",
       " 'log10',\n",
       " 'log1p',\n",
       " 'log2',\n",
       " 'modf',\n",
       " 'nan',\n",
       " 'nextafter',\n",
       " 'perm',\n",
       " 'pi',\n",
       " 'pow',\n",
       " 'prod',\n",
       " 'radians',\n",
       " 'remainder',\n",
       " 'sin',\n",
       " 'sinh',\n",
       " 'sqrt',\n",
       " 'sumprod',\n",
       " 'tan',\n",
       " 'tanh',\n",
       " 'tau',\n",
       " 'trunc',\n",
       " 'ulp']"
      ]
     },
     "execution_count": 603,
     "metadata": {},
     "output_type": "execute_result"
    }
   ],
   "source": [
    "dir(math)"
   ]
  },
  {
   "cell_type": "code",
   "execution_count": 606,
   "id": "51727fb1-533c-4602-b634-d26434ab9247",
   "metadata": {},
   "outputs": [
    {
     "name": "stdout",
     "output_type": "stream",
     "text": [
      "Help on built-in function factorial in module math:\n",
      "\n",
      "factorial(n, /)\n",
      "    Find n!.\n",
      "\n",
      "    Raise a ValueError if x is negative or non-integral.\n",
      "\n"
     ]
    }
   ],
   "source": [
    "help(math.factorial)"
   ]
  },
  {
   "cell_type": "code",
   "execution_count": 605,
   "id": "bf6aa680-3f77-4b41-b6e3-c3458c1364f6",
   "metadata": {},
   "outputs": [
    {
     "data": {
      "text/plain": [
       "80658175170943878571660636856403766975289505440883277824000000000000"
      ]
     },
     "execution_count": 605,
     "metadata": {},
     "output_type": "execute_result"
    }
   ],
   "source": [
    "math.factorial(52)"
   ]
  },
  {
   "cell_type": "code",
   "execution_count": 607,
   "id": "7ac860c9-5816-4530-805f-7505573cb248",
   "metadata": {},
   "outputs": [
    {
     "ename": "TypeError",
     "evalue": "math.factorial() takes no keyword arguments",
     "output_type": "error",
     "traceback": [
      "\u001b[0;31m---------------------------------------------------------------------------\u001b[0m",
      "\u001b[0;31mTypeError\u001b[0m                                 Traceback (most recent call last)",
      "Cell \u001b[0;32mIn[607], line 1\u001b[0m\n\u001b[0;32m----> 1\u001b[0m \u001b[43mmath\u001b[49m\u001b[38;5;241;43m.\u001b[39;49m\u001b[43mfactorial\u001b[49m\u001b[43m(\u001b[49m\u001b[43mn\u001b[49m\u001b[38;5;241;43m=\u001b[39;49m\u001b[38;5;241;43m52\u001b[39;49m\u001b[43m)\u001b[49m\n",
      "\u001b[0;31mTypeError\u001b[0m: math.factorial() takes no keyword arguments"
     ]
    }
   ],
   "source": [
    "math.factorial(n=52)"
   ]
  },
  {
   "cell_type": "code",
   "execution_count": 631,
   "id": "72a51952-691c-476b-845f-d28b868a6ec4",
   "metadata": {},
   "outputs": [],
   "source": [
    "def fact(n, /):\n",
    "    \"\"\"Classic recusrive implementation of factorial...\"\"\"\n",
    "    result = n\n",
    "    for number in range(1, n):\n",
    "        result *= number\n",
    "    return result"
   ]
  },
  {
   "cell_type": "code",
   "execution_count": 632,
   "id": "c2c34d68-c32b-4984-a8e0-12443d4b9383",
   "metadata": {},
   "outputs": [
    {
     "data": {
      "text/plain": [
       "80658175170943878571660636856403766975289505440883277824000000000000"
      ]
     },
     "execution_count": 632,
     "metadata": {},
     "output_type": "execute_result"
    }
   ],
   "source": [
    "fact(52)"
   ]
  },
  {
   "cell_type": "code",
   "execution_count": 633,
   "id": "6b03dcf6-8ae6-4fd5-87ab-2a45953c9b05",
   "metadata": {},
   "outputs": [
    {
     "data": {
      "text/plain": [
       "720"
      ]
     },
     "execution_count": 633,
     "metadata": {},
     "output_type": "execute_result"
    }
   ],
   "source": [
    "fact(n=6)"
   ]
  },
  {
   "cell_type": "code",
   "execution_count": 617,
   "id": "3fb5825e-5a89-41d2-8f26-7bdb36fae9e9",
   "metadata": {},
   "outputs": [
    {
     "name": "stdout",
     "output_type": "stream",
     "text": [
      "Help on function fact in module __main__:\n",
      "\n",
      "fact(n)\n",
      "    Classic recusrive implementation of factorial...\n",
      "\n"
     ]
    }
   ],
   "source": [
    "help(fact)"
   ]
  },
  {
   "cell_type": "code",
   "execution_count": 618,
   "id": "3f5e65de-23e2-467c-8882-988e6154c383",
   "metadata": {},
   "outputs": [
    {
     "name": "stdout",
     "output_type": "stream",
     "text": [
      "Help on built-in function factorial in module math:\n",
      "\n",
      "factorial(n, /)\n",
      "    Find n!.\n",
      "\n",
      "    Raise a ValueError if x is negative or non-integral.\n",
      "\n"
     ]
    }
   ],
   "source": [
    "help(math.factorial)"
   ]
  },
  {
   "cell_type": "code",
   "execution_count": 627,
   "id": "0e1a0291-3b72-4e51-a7a2-4ea79b2db410",
   "metadata": {},
   "outputs": [
    {
     "name": "stdout",
     "output_type": "stream",
     "text": [
      "Help on built-in function sin in module math:\n",
      "\n",
      "sin(x, /)\n",
      "    Return the sine of x (measured in radians).\n",
      "\n"
     ]
    }
   ],
   "source": [
    "help(math.sin)"
   ]
  },
  {
   "cell_type": "code",
   "execution_count": 630,
   "id": "d2ef3fb7-0f26-4786-9637-95decab87dea",
   "metadata": {},
   "outputs": [
    {
     "ename": "TypeError",
     "evalue": "math.sin() takes no keyword arguments",
     "output_type": "error",
     "traceback": [
      "\u001b[0;31m---------------------------------------------------------------------------\u001b[0m",
      "\u001b[0;31mTypeError\u001b[0m                                 Traceback (most recent call last)",
      "Cell \u001b[0;32mIn[630], line 1\u001b[0m\n\u001b[0;32m----> 1\u001b[0m \u001b[43mmath\u001b[49m\u001b[38;5;241;43m.\u001b[39;49m\u001b[43msin\u001b[49m\u001b[43m(\u001b[49m\u001b[43mx\u001b[49m\u001b[38;5;241;43m=\u001b[39;49m\u001b[43mmath\u001b[49m\u001b[38;5;241;43m.\u001b[39;49m\u001b[43mpi\u001b[49m\u001b[38;5;241;43m/\u001b[39;49m\u001b[38;5;241;43m2.0\u001b[39;49m\u001b[43m)\u001b[49m\n",
      "\u001b[0;31mTypeError\u001b[0m: math.sin() takes no keyword arguments"
     ]
    }
   ],
   "source": [
    "math.sin(x=math.pi/2.0)"
   ]
  },
  {
   "cell_type": "code",
   "execution_count": 642,
   "id": "70108b47-a357-4ded-ac1d-14a2e38511b9",
   "metadata": {},
   "outputs": [],
   "source": [
    "def login(session_id, error_token):\n",
    "    print(session_id, error_token)"
   ]
  },
  {
   "cell_type": "code",
   "execution_count": 640,
   "id": "5583abd3-2c21-4307-aae5-146a7013f77d",
   "metadata": {},
   "outputs": [
    {
     "name": "stdout",
     "output_type": "stream",
     "text": [
      "HDHj1_234 something\n"
     ]
    }
   ],
   "source": [
    "login(\"HDHj1_234\", \"something\")"
   ]
  },
  {
   "cell_type": "code",
   "execution_count": 643,
   "id": "317e2d8c-6a35-4480-8f0f-95736cac8759",
   "metadata": {},
   "outputs": [
    {
     "name": "stdout",
     "output_type": "stream",
     "text": [
      "HDHj1_234 something\n"
     ]
    }
   ],
   "source": [
    "login(error_token=\"something\", session_id=\"HDHj1_234\")"
   ]
  },
  {
   "cell_type": "code",
   "execution_count": 644,
   "id": "b90e369d-61d5-4b28-b5ee-50a8305aff09",
   "metadata": {},
   "outputs": [
    {
     "name": "stdout",
     "output_type": "stream",
     "text": [
      "\n"
     ]
    }
   ],
   "source": [
    "print()"
   ]
  },
  {
   "cell_type": "code",
   "execution_count": 645,
   "id": "6771e392-d7bb-480b-bf06-713fb5c4b768",
   "metadata": {},
   "outputs": [
    {
     "name": "stdout",
     "output_type": "stream",
     "text": [
      "1 2 3 4 five [6, 7, 8] {9, 10} ('eleven', 12)\n"
     ]
    }
   ],
   "source": [
    "print(1, 2, 3, 4, 'five', [6, 7, 8], {9, 10}, ('eleven', 12))"
   ]
  },
  {
   "cell_type": "code",
   "execution_count": 646,
   "id": "1f43ebdd-1a11-4302-a215-ee379315470d",
   "metadata": {},
   "outputs": [],
   "source": [
    "def func(*args): # variable no. of args\n",
    "    print(args)"
   ]
  },
  {
   "cell_type": "code",
   "execution_count": 647,
   "id": "9e5b32a2-67df-4757-8840-4dad2b34a67d",
   "metadata": {},
   "outputs": [
    {
     "name": "stdout",
     "output_type": "stream",
     "text": [
      "(1, 2, 3)\n"
     ]
    }
   ],
   "source": [
    "func(1, 2, 3)"
   ]
  },
  {
   "cell_type": "code",
   "execution_count": 648,
   "id": "99ed778e-1cc6-466d-a7a5-a6e110b89d5d",
   "metadata": {},
   "outputs": [
    {
     "name": "stdout",
     "output_type": "stream",
     "text": [
      "()\n"
     ]
    }
   ],
   "source": [
    "func()"
   ]
  },
  {
   "cell_type": "code",
   "execution_count": 649,
   "id": "3f3ac9ef-9a87-42e5-b5fc-da6047be9df3",
   "metadata": {},
   "outputs": [
    {
     "name": "stdout",
     "output_type": "stream",
     "text": [
      "(1,)\n"
     ]
    }
   ],
   "source": [
    "func(1)"
   ]
  },
  {
   "cell_type": "code",
   "execution_count": 650,
   "id": "5440a93b-8a1c-4a63-86b2-231998717cd4",
   "metadata": {},
   "outputs": [],
   "source": [
    "t = (1, 2, 3)"
   ]
  },
  {
   "cell_type": "code",
   "execution_count": 651,
   "id": "6ae40e7b-3718-4a1d-98b3-10e232ea4ba0",
   "metadata": {},
   "outputs": [],
   "source": [
    "t = 1, 2, 3"
   ]
  },
  {
   "cell_type": "code",
   "execution_count": 652,
   "id": "c20a49fa-66a5-4ef4-a301-0929b3de73bd",
   "metadata": {},
   "outputs": [
    {
     "data": {
      "text/plain": [
       "tuple"
      ]
     },
     "execution_count": 652,
     "metadata": {},
     "output_type": "execute_result"
    }
   ],
   "source": [
    "type(t)"
   ]
  },
  {
   "cell_type": "code",
   "execution_count": 653,
   "id": "5b785470-e2b0-407a-8987-d63c1b28aacb",
   "metadata": {},
   "outputs": [],
   "source": [
    "scientist = 'Curie', 'Marie', 1867"
   ]
  },
  {
   "cell_type": "code",
   "execution_count": 654,
   "id": "b19dd567-f21f-48e7-8430-05b93e12b747",
   "metadata": {},
   "outputs": [
    {
     "data": {
      "text/plain": [
       "tuple"
      ]
     },
     "execution_count": 654,
     "metadata": {},
     "output_type": "execute_result"
    }
   ],
   "source": [
    "type(scientist)"
   ]
  },
  {
   "cell_type": "code",
   "execution_count": 655,
   "id": "a4a30792-af6f-4f15-90b4-c497ef5f99b1",
   "metadata": {},
   "outputs": [
    {
     "ename": "TypeError",
     "evalue": "'tuple' object does not support item assignment",
     "output_type": "error",
     "traceback": [
      "\u001b[0;31m---------------------------------------------------------------------------\u001b[0m",
      "\u001b[0;31mTypeError\u001b[0m                                 Traceback (most recent call last)",
      "Cell \u001b[0;32mIn[655], line 1\u001b[0m\n\u001b[0;32m----> 1\u001b[0m \u001b[43mscientist\u001b[49m\u001b[43m[\u001b[49m\u001b[38;5;241;43m-\u001b[39;49m\u001b[38;5;241;43m1\u001b[39;49m\u001b[43m]\u001b[49m \u001b[38;5;241m=\u001b[39m \u001b[38;5;241m1868\u001b[39m\n",
      "\u001b[0;31mTypeError\u001b[0m: 'tuple' object does not support item assignment"
     ]
    }
   ],
   "source": [
    "scientist[-1] = 1868"
   ]
  },
  {
   "cell_type": "code",
   "execution_count": 656,
   "id": "8094c4c1-ca24-442b-9b40-89aafa198a13",
   "metadata": {},
   "outputs": [],
   "source": [
    "scientist = 'Curie', 'Marie', 1867, []"
   ]
  },
  {
   "cell_type": "code",
   "execution_count": 657,
   "id": "0aac4d1a-cc22-471d-9df2-eb0350de9ea9",
   "metadata": {},
   "outputs": [],
   "source": [
    "scientist[-1].extend('physicist chemist'.split())"
   ]
  },
  {
   "cell_type": "code",
   "execution_count": 658,
   "id": "06434f7a-399a-4d81-809c-3eeb2a408bbc",
   "metadata": {},
   "outputs": [
    {
     "data": {
      "text/plain": [
       "('Curie', 'Marie', 1867, ['physicist', 'chemist'])"
      ]
     },
     "execution_count": 658,
     "metadata": {},
     "output_type": "execute_result"
    }
   ],
   "source": [
    "scientist"
   ]
  },
  {
   "cell_type": "code",
   "execution_count": 659,
   "id": "a6c2e82b-5633-420a-81f5-b737b214a400",
   "metadata": {},
   "outputs": [
    {
     "name": "stdout",
     "output_type": "stream",
     "text": [
      "(1, 2, 'string', [1, 2, 3], {'d': 'dee'})\n"
     ]
    }
   ],
   "source": [
    "func(1, 2, 'string', [1, 2, 3], {'d': 'dee'})"
   ]
  },
  {
   "cell_type": "code",
   "execution_count": 661,
   "id": "b38797ff-a1b8-4b98-805c-e3a354714233",
   "metadata": {},
   "outputs": [],
   "source": [
    "def this(x, y, z, *args):\n",
    "    print(x, y, z)\n",
    "    print(args)"
   ]
  },
  {
   "cell_type": "code",
   "execution_count": 662,
   "id": "67e4a346-fa03-408f-9f6c-8dd6ed24e6ae",
   "metadata": {},
   "outputs": [
    {
     "name": "stdout",
     "output_type": "stream",
     "text": [
      "1 2 3\n",
      "(4, 5, 6)\n"
     ]
    }
   ],
   "source": [
    "this(1, 2, 3, 4, 5, 6)"
   ]
  },
  {
   "cell_type": "code",
   "execution_count": 663,
   "id": "55f1f4d2-a223-4a7b-bfee-83e74eb6b681",
   "metadata": {},
   "outputs": [
    {
     "ename": "TypeError",
     "evalue": "this() missing 3 required positional arguments: 'x', 'y', and 'z'",
     "output_type": "error",
     "traceback": [
      "\u001b[0;31m---------------------------------------------------------------------------\u001b[0m",
      "\u001b[0;31mTypeError\u001b[0m                                 Traceback (most recent call last)",
      "Cell \u001b[0;32mIn[663], line 1\u001b[0m\n\u001b[0;32m----> 1\u001b[0m \u001b[43mthis\u001b[49m\u001b[43m(\u001b[49m\u001b[43m)\u001b[49m\n",
      "\u001b[0;31mTypeError\u001b[0m: this() missing 3 required positional arguments: 'x', 'y', and 'z'"
     ]
    }
   ],
   "source": [
    "this()"
   ]
  },
  {
   "cell_type": "code",
   "execution_count": 666,
   "id": "d60bd8d3-6986-4bf5-a36a-405f8cf82173",
   "metadata": {},
   "outputs": [],
   "source": [
    "def vka(**kwargs):\n",
    "    \"\"\"This function accepts a variable number of keyword arguments.\"\"\"\n",
    "    # things like name=value, debug=True, color='blue'\n",
    "    print(kwargs)"
   ]
  },
  {
   "cell_type": "code",
   "execution_count": 668,
   "id": "2097c165-32c6-4c57-9494-af4db64d3b93",
   "metadata": {},
   "outputs": [
    {
     "name": "stdout",
     "output_type": "stream",
     "text": [
      "{'debug': True, 'word': 'bird', 'this': 'that', 'id': 123}\n"
     ]
    }
   ],
   "source": [
    "vka(debug=True, word='bird', this='that', id=123)"
   ]
  },
  {
   "cell_type": "code",
   "execution_count": 669,
   "id": "2d65f7c6-9c5f-4b40-9959-74c313c64f4d",
   "metadata": {},
   "outputs": [
    {
     "name": "stdout",
     "output_type": "stream",
     "text": [
      "{}\n"
     ]
    }
   ],
   "source": [
    "vka()"
   ]
  },
  {
   "cell_type": "code",
   "execution_count": 680,
   "id": "bc40b490-f6e8-49ae-b08b-f765e81de0f2",
   "metadata": {},
   "outputs": [],
   "source": [
    "def important_func(x, y, z, **kwargs):\n",
    "    print(x, y, z)\n",
    "    if kwargs.get('word') == 'bird':\n",
    "        print('turn on bird mode')\n",
    "    # ... rest of function"
   ]
  },
  {
   "cell_type": "code",
   "execution_count": 682,
   "id": "9ce7693d-6af2-431a-85fe-2114837cc565",
   "metadata": {},
   "outputs": [
    {
     "name": "stdout",
     "output_type": "stream",
     "text": [
      "1 2 3\n"
     ]
    },
    {
     "ename": "KeyError",
     "evalue": "'word'",
     "output_type": "error",
     "traceback": [
      "\u001b[0;31m---------------------------------------------------------------------------\u001b[0m",
      "\u001b[0;31mKeyError\u001b[0m                                  Traceback (most recent call last)",
      "Cell \u001b[0;32mIn[682], line 1\u001b[0m\n\u001b[0;32m----> 1\u001b[0m \u001b[43mimportant_func\u001b[49m\u001b[43m(\u001b[49m\u001b[38;5;241;43m1\u001b[39;49m\u001b[43m,\u001b[49m\u001b[43m \u001b[49m\u001b[38;5;241;43m2\u001b[39;49m\u001b[43m,\u001b[49m\u001b[43m \u001b[49m\u001b[38;5;241;43m3\u001b[39;49m\u001b[43m,\u001b[49m\u001b[43m \u001b[49m\u001b[43mdebug\u001b[49m\u001b[38;5;241;43m=\u001b[39;49m\u001b[38;5;28;43;01mTrue\u001b[39;49;00m\u001b[43m,\u001b[49m\u001b[43m \u001b[49m\u001b[43mthis\u001b[49m\u001b[38;5;241;43m=\u001b[39;49m\u001b[38;5;124;43m'\u001b[39;49m\u001b[38;5;124;43mthat\u001b[39;49m\u001b[38;5;124;43m'\u001b[39;49m\u001b[43m,\u001b[49m\u001b[43m \u001b[49m\u001b[38;5;28;43mid\u001b[39;49m\u001b[38;5;241;43m=\u001b[39;49m\u001b[38;5;241;43m123\u001b[39;49m\u001b[43m)\u001b[49m\n",
      "Cell \u001b[0;32mIn[680], line 3\u001b[0m, in \u001b[0;36mimportant_func\u001b[0;34m(x, y, z, **kwargs)\u001b[0m\n\u001b[1;32m      1\u001b[0m \u001b[38;5;28;01mdef\u001b[39;00m \u001b[38;5;21mimportant_func\u001b[39m(x, y, z, \u001b[38;5;241m*\u001b[39m\u001b[38;5;241m*\u001b[39mkwargs):\n\u001b[1;32m      2\u001b[0m     \u001b[38;5;28mprint\u001b[39m(x, y, z)\n\u001b[0;32m----> 3\u001b[0m     \u001b[38;5;28;01mif\u001b[39;00m \u001b[43mkwargs\u001b[49m\u001b[43m[\u001b[49m\u001b[38;5;124;43m'\u001b[39;49m\u001b[38;5;124;43mword\u001b[39;49m\u001b[38;5;124;43m'\u001b[39;49m\u001b[43m]\u001b[49m:\n\u001b[1;32m      4\u001b[0m         \u001b[38;5;28mprint\u001b[39m(\u001b[38;5;124m'\u001b[39m\u001b[38;5;124mturn on bird mode\u001b[39m\u001b[38;5;124m'\u001b[39m)\n",
      "\u001b[0;31mKeyError\u001b[0m: 'word'"
     ]
    }
   ],
   "source": [
    "important_func(1, 2, 3, debug=True, this='that', id=123)"
   ]
  },
  {
   "cell_type": "code",
   "execution_count": 683,
   "id": "a8b7d7e1-f960-4a19-af3b-367d5638648b",
   "metadata": {},
   "outputs": [],
   "source": [
    "def weird_func(x, y, z, *args, **kwargs):\n",
    "    print(x, y, z)\n",
    "    print(args)\n",
    "    print(kwargs)"
   ]
  },
  {
   "cell_type": "code",
   "execution_count": 686,
   "id": "17029133-f8c0-454d-8bca-0be2fedbf7ee",
   "metadata": {},
   "outputs": [
    {
     "name": "stdout",
     "output_type": "stream",
     "text": [
      "1 2 3\n",
      "(4, 5, 6)\n",
      "{'this': 'that', 'foo': 'bar'}\n"
     ]
    }
   ],
   "source": [
    "weird_func(1, 2, 3, 4, 5, 6, this='that', foo='bar')"
   ]
  },
  {
   "cell_type": "code",
   "execution_count": 687,
   "id": "44ad0e33-14d0-4954-bd85-4585460163a2",
   "metadata": {},
   "outputs": [
    {
     "name": "stdout",
     "output_type": "stream",
     "text": [
      "1 2 3\n",
      "()\n",
      "{'this': 'that', 'foo': 'bar'}\n"
     ]
    }
   ],
   "source": [
    "weird_func(1, 2, 3, this='that', foo='bar')"
   ]
  },
  {
   "cell_type": "code",
   "execution_count": 688,
   "id": "a8aad59b-5a28-429e-a238-646f344b7219",
   "metadata": {},
   "outputs": [],
   "source": [
    "def __init__(*args, **kwargs):\n",
    "    \"\"\"something\"\"\""
   ]
  },
  {
   "cell_type": "code",
   "execution_count": 690,
   "id": "4266ec61-227b-4165-a681-4301ebbb0d94",
   "metadata": {},
   "outputs": [],
   "source": [
    "def f(x, y, z):\n",
    "    pass"
   ]
  },
  {
   "cell_type": "code",
   "execution_count": 692,
   "id": "689a169c-c40d-4418-ab81-ad5c62a354e3",
   "metadata": {},
   "outputs": [],
   "source": [
    "def f(x, y):\n",
    "    pass"
   ]
  },
  {
   "cell_type": "code",
   "execution_count": 700,
   "id": "5197e67e-7480-45b1-8bf6-ab47cf8a5e1b",
   "metadata": {},
   "outputs": [],
   "source": [
    "def weird(a, b, c, /, info, other):\n",
    "    print(a, b, c)\n",
    "    print(info, other)"
   ]
  },
  {
   "cell_type": "code",
   "execution_count": 701,
   "id": "62c58482-f443-4a35-bc6d-aa1061770fca",
   "metadata": {},
   "outputs": [
    {
     "name": "stdout",
     "output_type": "stream",
     "text": [
      "1 2 3\n",
      "some info something else\n"
     ]
    }
   ],
   "source": [
    "weird(1, 2, 3, 'some info', 'something else')"
   ]
  },
  {
   "cell_type": "code",
   "execution_count": 702,
   "id": "7a65fb0c-7646-41f0-a88c-966b8c1cfcb9",
   "metadata": {},
   "outputs": [
    {
     "name": "stdout",
     "output_type": "stream",
     "text": [
      "1 2 3\n",
      "something else some info\n"
     ]
    }
   ],
   "source": [
    "weird(1, 2, 3, other='some info', info='something else')"
   ]
  },
  {
   "cell_type": "code",
   "execution_count": null,
   "id": "32881b5d-fcec-46cb-bde9-11a8d59cae1a",
   "metadata": {},
   "outputs": [],
   "source": [
    "def weird(a, b, c, /, info, other):\n",
    "    print(a, b, c)\n",
    "    print(info, other)"
   ]
  },
  {
   "cell_type": "code",
   "execution_count": 703,
   "id": "bf170243-70c1-48d9-ac5a-1139eeb490f8",
   "metadata": {},
   "outputs": [
    {
     "data": {
      "text/plain": [
       "[1, 2, 3]"
      ]
     },
     "execution_count": 703,
     "metadata": {},
     "output_type": "execute_result"
    }
   ],
   "source": [
    "sorted([1, 3, 2])"
   ]
  },
  {
   "cell_type": "code",
   "execution_count": 704,
   "id": "1ec74a7a-59ca-4b29-8310-42205bdeab97",
   "metadata": {},
   "outputs": [
    {
     "ename": "TypeError",
     "evalue": "sorted expected 1 argument, got 0",
     "output_type": "error",
     "traceback": [
      "\u001b[0;31m---------------------------------------------------------------------------\u001b[0m",
      "\u001b[0;31mTypeError\u001b[0m                                 Traceback (most recent call last)",
      "Cell \u001b[0;32mIn[704], line 1\u001b[0m\n\u001b[0;32m----> 1\u001b[0m \u001b[38;5;28;43msorted\u001b[39;49m\u001b[43m(\u001b[49m\u001b[43miterable\u001b[49m\u001b[38;5;241;43m=\u001b[39;49m\u001b[43m[\u001b[49m\u001b[38;5;241;43m1\u001b[39;49m\u001b[43m,\u001b[49m\u001b[43m \u001b[49m\u001b[38;5;241;43m3\u001b[39;49m\u001b[43m,\u001b[49m\u001b[43m \u001b[49m\u001b[38;5;241;43m2\u001b[39;49m\u001b[43m]\u001b[49m\u001b[43m)\u001b[49m\n",
      "\u001b[0;31mTypeError\u001b[0m: sorted expected 1 argument, got 0"
     ]
    }
   ],
   "source": [
    "sorted(iterable=[1, 3, 2])"
   ]
  },
  {
   "cell_type": "code",
   "execution_count": 705,
   "id": "ac2822e0-8bce-42bf-a12f-4c04214fba66",
   "metadata": {},
   "outputs": [],
   "source": [
    "def myfunc(cool_thing, second_arg, /):\n",
    "    print(cool_thing)"
   ]
  },
  {
   "cell_type": "code",
   "execution_count": 707,
   "id": "7495bf19-2234-43fb-8ac5-2dc49323fb45",
   "metadata": {},
   "outputs": [
    {
     "name": "stdout",
     "output_type": "stream",
     "text": [
      "test\n"
     ]
    }
   ],
   "source": [
    "myfunc('test')"
   ]
  },
  {
   "cell_type": "code",
   "execution_count": null,
   "id": "ab62a264-afd7-412d-a821-150be7676395",
   "metadata": {},
   "outputs": [],
   "source": [
    "def weird(a, b, c, /, info, other, *, debug=True, text_color='red'):\n",
    "    print(a, b, c)\n",
    "    print(info, other)"
   ]
  },
  {
   "cell_type": "code",
   "execution_count": 711,
   "id": "53f630ba-6121-4aff-bb27-2060a38b43ad",
   "metadata": {},
   "outputs": [],
   "source": [
    "def f(x, y, z, *, debug=True):\n",
    "    print(x, y, z)\n",
    "    print(debug)"
   ]
  },
  {
   "cell_type": "code",
   "execution_count": 713,
   "id": "100d3fb7-5b8c-4057-a1ce-e7495c1308ea",
   "metadata": {},
   "outputs": [
    {
     "name": "stdout",
     "output_type": "stream",
     "text": [
      "1 2 3\n",
      "False\n"
     ]
    }
   ],
   "source": [
    "f(1, 2, 3, debug=False)"
   ]
  },
  {
   "cell_type": "code",
   "execution_count": null,
   "id": "fbfaa5b7-4783-43f7-8f74-01cf8f36fe6e",
   "metadata": {},
   "outputs": [],
   "source": [
    "def get_integer_input():\n",
    "    \"\"\"Get an integer from the user, or let them choose not to provide one.\"\"\"\n",
    "    # add optional quit string (q is default)\n",
    "    # add optional limit (number of times before returning)\n",
    "    # what should be returned when they quite (None is default)\n",
    "    \n",
    "    while True:\n",
    "        if (response := input('Enter an integer (or \"q\" to quit): ')) == 'q': # they entered nothing/'q'\n",
    "            return None\n",
    "        try:\n",
    "            return int(response)\n",
    "        except ValueError: # they entered a non-int, there's nothing for us to\n",
    "            pass"
   ]
  },
  {
   "cell_type": "code",
   "execution_count": 735,
   "id": "6728b668-6220-4415-ad0c-b9f8b170f8f7",
   "metadata": {},
   "outputs": [],
   "source": [
    "def get_integer_input(quit_string='q', limit=5, return_val=None):\n",
    "    \"\"\"Get an integer from the user, or let them choose not to provide one.\"\"\"\n",
    "    # add optional quit string (q is default)s\n",
    "    # add optional limit (number of times before returning)\n",
    "    # what should be returned when they quite (None is default)\n",
    "\n",
    "    count = 0\n",
    "    while True:\n",
    "        if count == limit:\n",
    "            print(f'Exceeded {count} attempts...returning.')\n",
    "            return return_val\n",
    "        if (response := input(f'Enter an integer (or \"{quit_string}\" to quit): ')) == quit_string: # they entered nothing/'q'\n",
    "            return return_val\n",
    "        count += 1\n",
    "        try:\n",
    "            return int(response)\n",
    "        except ValueError: # they entered a non-int, there's nothing for us to\n",
    "            pass"
   ]
  },
  {
   "cell_type": "code",
   "execution_count": 738,
   "id": "b6cba28a-9c3b-4e7f-ac38-ab391b9de96d",
   "metadata": {},
   "outputs": [
    {
     "name": "stdin",
     "output_type": "stream",
     "text": [
      "Enter an integer (or \"q\" to quit):  \n",
      "Enter an integer (or \"q\" to quit):  \n",
      "Enter an integer (or \"q\" to quit):  \n",
      "Enter an integer (or \"q\" to quit):  \n",
      "Enter an integer (or \"q\" to quit):  \n"
     ]
    },
    {
     "name": "stdout",
     "output_type": "stream",
     "text": [
      "Exceeded 5 attempts...returning.\n",
      "None\n"
     ]
    }
   ],
   "source": [
    "print(get_integer_input())"
   ]
  },
  {
   "cell_type": "code",
   "execution_count": 739,
   "id": "e88ee453-e745-4fda-b075-f0a12e5a344b",
   "metadata": {},
   "outputs": [],
   "source": [
    "def get_integer_input(**kwargs):\n",
    "    \"\"\"Get an integer from the user, or let them choose not to provide one.\"\"\"\n",
    "    # add optional quit string (q is default)\n",
    "    # add optional limit (number of times before returning)\n",
    "    # what should be returned when they quite (None is default)\n",
    "    limit = kwargs.get('limit') if kwargs.get('limit') else 5\n",
    "    quit_string = kwargs.get('quit_string') if kwargs.get('quit_string') else 'q'\n",
    "    return_val = kwargs.get('return_val') if kwargs.get('return_val') else None\n",
    "    count = 0\n",
    "    \n",
    "    while True:\n",
    "        if count == limit:\n",
    "            print(f'Exceeded {count} attempts...returning.')\n",
    "            return return_val\n",
    "        if (response := input(f'Enter an integer (or \"{quit_string}\" to quit): ')) == quit_string: # they entered nothing/'q'\n",
    "            return return_val\n",
    "        count += 1\n",
    "        try:\n",
    "            return int(response)\n",
    "        except ValueError: # they entered a non-int, there's nothing for us to\n",
    "            pass"
   ]
  },
  {
   "cell_type": "code",
   "execution_count": 743,
   "id": "b5e49cd9-30cc-4300-a5c4-eee40b13cdc2",
   "metadata": {},
   "outputs": [
    {
     "name": "stdin",
     "output_type": "stream",
     "text": [
      "Enter an integer (or \"q\" to quit):  \n",
      "Enter an integer (or \"q\" to quit):  \n",
      "Enter an integer (or \"q\" to quit):  \n",
      "Enter an integer (or \"q\" to quit):  \n",
      "Enter an integer (or \"q\" to quit):  \n"
     ]
    },
    {
     "name": "stdout",
     "output_type": "stream",
     "text": [
      "Exceeded 5 attempts...returning.\n",
      "None\n"
     ]
    }
   ],
   "source": [
    "print(get_integer_input())"
   ]
  },
  {
   "cell_type": "code",
   "execution_count": 746,
   "id": "b563a826-cbac-4610-86b6-23db7f98ac4a",
   "metadata": {},
   "outputs": [],
   "source": [
    "nums = list(range(1, 11))"
   ]
  },
  {
   "cell_type": "code",
   "execution_count": 748,
   "id": "9a33e81b-34fa-4af3-931d-45059e0f73a9",
   "metadata": {},
   "outputs": [
    {
     "data": {
      "text/plain": [
       "[1, 2, 3, 4, 5, 6, 7, 8, 9, 10]"
      ]
     },
     "execution_count": 748,
     "metadata": {},
     "output_type": "execute_result"
    }
   ],
   "source": [
    "nums"
   ]
  },
  {
   "cell_type": "markdown",
   "id": "9055d1ad-0e2d-4ccb-aa56-2312e251184a",
   "metadata": {},
   "source": [
    "# *\n",
    "* multiplication (int, floats)\n",
    "* replication (str, lists, or other containers)\n",
    "* unpacking!\n",
    "* __`**`__ unpack a dict into __`key=val`__ pairs"
   ]
  },
  {
   "cell_type": "code",
   "execution_count": 749,
   "id": "927ebfe9-ab37-498a-9c54-70b827b0e48c",
   "metadata": {},
   "outputs": [
    {
     "data": {
      "text/plain": [
       "[1, 1, 1, 1, 1, 1, 1, 1, 1, 1]"
      ]
     },
     "execution_count": 749,
     "metadata": {},
     "output_type": "execute_result"
    }
   ],
   "source": [
    "[1] * 10"
   ]
  },
  {
   "cell_type": "code",
   "execution_count": 750,
   "id": "23d2b7f1-aef2-47b7-abed-05f59c48bc00",
   "metadata": {},
   "outputs": [
    {
     "data": {
      "text/plain": [
       "'1111111111'"
      ]
     },
     "execution_count": 750,
     "metadata": {},
     "output_type": "execute_result"
    }
   ],
   "source": [
    "'1' * 10"
   ]
  },
  {
   "cell_type": "code",
   "execution_count": 752,
   "id": "02d8870f-124a-46e9-a73b-3a6c0c46c4c8",
   "metadata": {},
   "outputs": [],
   "source": [
    "first, second, *rest = nums"
   ]
  },
  {
   "cell_type": "code",
   "execution_count": 753,
   "id": "f2e8a318-d09b-4d07-a9ae-5b42002e1ac7",
   "metadata": {},
   "outputs": [
    {
     "data": {
      "text/plain": [
       "(1, 2)"
      ]
     },
     "execution_count": 753,
     "metadata": {},
     "output_type": "execute_result"
    }
   ],
   "source": [
    "first, second"
   ]
  },
  {
   "cell_type": "code",
   "execution_count": 754,
   "id": "f2c3896b-1a20-4b82-ba72-0d5a762f7c49",
   "metadata": {},
   "outputs": [
    {
     "data": {
      "text/plain": [
       "[3, 4, 5, 6, 7, 8, 9, 10]"
      ]
     },
     "execution_count": 754,
     "metadata": {},
     "output_type": "execute_result"
    }
   ],
   "source": [
    "rest"
   ]
  },
  {
   "cell_type": "code",
   "execution_count": 755,
   "id": "88b846c4-2c2f-4b16-bdc3-2ffee0816952",
   "metadata": {},
   "outputs": [],
   "source": [
    "first, *middle, last = nums"
   ]
  },
  {
   "cell_type": "code",
   "execution_count": 756,
   "id": "3662f2e7-a501-4785-a537-18409e86fcda",
   "metadata": {},
   "outputs": [
    {
     "data": {
      "text/plain": [
       "1"
      ]
     },
     "execution_count": 756,
     "metadata": {},
     "output_type": "execute_result"
    }
   ],
   "source": [
    "first"
   ]
  },
  {
   "cell_type": "code",
   "execution_count": 757,
   "id": "32e20052-24ef-458d-ba76-c326164bc06a",
   "metadata": {},
   "outputs": [
    {
     "data": {
      "text/plain": [
       "10"
      ]
     },
     "execution_count": 757,
     "metadata": {},
     "output_type": "execute_result"
    }
   ],
   "source": [
    "last"
   ]
  },
  {
   "cell_type": "code",
   "execution_count": 758,
   "id": "6cf04abf-ff37-4025-8768-f5742d8190e0",
   "metadata": {},
   "outputs": [
    {
     "data": {
      "text/plain": [
       "[2, 3, 4, 5, 6, 7, 8, 9]"
      ]
     },
     "execution_count": 758,
     "metadata": {},
     "output_type": "execute_result"
    }
   ],
   "source": [
    "middle"
   ]
  },
  {
   "cell_type": "code",
   "execution_count": null,
   "id": "49b8892c-2b60-4259-b5cc-65eaae100600",
   "metadata": {},
   "outputs": [],
   "source": [
    "first, *middle, last = nums"
   ]
  },
  {
   "cell_type": "code",
   "execution_count": 760,
   "id": "a14d2cbd-2eb6-472b-a7f8-faf0f07f041f",
   "metadata": {},
   "outputs": [
    {
     "name": "stdout",
     "output_type": "stream",
     "text": [
      "hello 0\n",
      "hello 1\n",
      "hello 2\n",
      "hello 3\n",
      "hello 4\n"
     ]
    }
   ],
   "source": [
    "for times in range(5): # \"counting something from 0 to 4\"\n",
    "    print('hello', times)     # do this 5 times"
   ]
  },
  {
   "cell_type": "code",
   "execution_count": 764,
   "id": "2893c537-2378-4b59-ad0d-0d98ad8bd9c6",
   "metadata": {},
   "outputs": [
    {
     "name": "stdout",
     "output_type": "stream",
     "text": [
      "hello\n",
      "hello\n",
      "hello\n",
      "hello\n",
      "hello\n"
     ]
    }
   ],
   "source": [
    "for _ in range(5): # do this 5 times\n",
    "    print('hello')     "
   ]
  },
  {
   "cell_type": "code",
   "execution_count": 762,
   "id": "07c322d9-28f7-461b-bb41-dae0e190137e",
   "metadata": {},
   "outputs": [],
   "source": [
    "this_thing = 'valid var name'"
   ]
  },
  {
   "cell_type": "code",
   "execution_count": 765,
   "id": "be871dca-3f0b-4e79-b02d-3b483acad02d",
   "metadata": {},
   "outputs": [],
   "source": [
    "first, *_, last = nums"
   ]
  },
  {
   "cell_type": "code",
   "execution_count": 766,
   "id": "35cda945-8323-49e2-9e9d-206eaf02a426",
   "metadata": {},
   "outputs": [
    {
     "data": {
      "text/plain": [
       "1"
      ]
     },
     "execution_count": 766,
     "metadata": {},
     "output_type": "execute_result"
    }
   ],
   "source": [
    "first"
   ]
  },
  {
   "cell_type": "code",
   "execution_count": 767,
   "id": "c690130c-e266-464f-a935-18214692b787",
   "metadata": {},
   "outputs": [
    {
     "data": {
      "text/plain": [
       "10"
      ]
     },
     "execution_count": 767,
     "metadata": {},
     "output_type": "execute_result"
    }
   ],
   "source": [
    "last"
   ]
  },
  {
   "cell_type": "code",
   "execution_count": 768,
   "id": "eb3e719f-2f15-45d0-a111-0a0266d369f0",
   "metadata": {},
   "outputs": [
    {
     "data": {
      "text/plain": [
       "[1, 2, 3, 4, 5, 6, 7, 8, 9, 10]"
      ]
     },
     "execution_count": 768,
     "metadata": {},
     "output_type": "execute_result"
    }
   ],
   "source": [
    "nums"
   ]
  },
  {
   "cell_type": "code",
   "execution_count": 769,
   "id": "60ddd50f-7e51-4a01-bd72-e634c748e22a",
   "metadata": {},
   "outputs": [],
   "source": [
    "def f(x, y, z):\n",
    "    print(x, y, z)"
   ]
  },
  {
   "cell_type": "code",
   "execution_count": 770,
   "id": "5261e7d0-f7f9-4e5c-a71a-ba359b725a7a",
   "metadata": {},
   "outputs": [],
   "source": [
    "nums = [1, 2, 3]"
   ]
  },
  {
   "cell_type": "code",
   "execution_count": 771,
   "id": "5cbb29e9-50e9-415b-ad6b-a27d41dc677a",
   "metadata": {},
   "outputs": [
    {
     "ename": "TypeError",
     "evalue": "f() missing 2 required positional arguments: 'y' and 'z'",
     "output_type": "error",
     "traceback": [
      "\u001b[0;31m---------------------------------------------------------------------------\u001b[0m",
      "\u001b[0;31mTypeError\u001b[0m                                 Traceback (most recent call last)",
      "Cell \u001b[0;32mIn[771], line 1\u001b[0m\n\u001b[0;32m----> 1\u001b[0m \u001b[43mf\u001b[49m\u001b[43m(\u001b[49m\u001b[43mnums\u001b[49m\u001b[43m)\u001b[49m\n",
      "\u001b[0;31mTypeError\u001b[0m: f() missing 2 required positional arguments: 'y' and 'z'"
     ]
    }
   ],
   "source": [
    "f(nums)"
   ]
  },
  {
   "cell_type": "code",
   "execution_count": 772,
   "id": "d52397c6-adc9-43e5-95aa-0d063a007c8e",
   "metadata": {},
   "outputs": [
    {
     "name": "stdout",
     "output_type": "stream",
     "text": [
      "1 2 3\n"
     ]
    }
   ],
   "source": [
    "f(nums[0], nums[1], nums[2])"
   ]
  },
  {
   "cell_type": "code",
   "execution_count": 773,
   "id": "b6b3b66d-bb2d-403d-b0d0-d7d4efafbd18",
   "metadata": {},
   "outputs": [
    {
     "name": "stdout",
     "output_type": "stream",
     "text": [
      "1 2 3\n"
     ]
    }
   ],
   "source": [
    "f(*nums)"
   ]
  },
  {
   "cell_type": "code",
   "execution_count": 774,
   "id": "74aab9e9-91f8-4065-91f4-80d4e6e53b07",
   "metadata": {},
   "outputs": [
    {
     "name": "stdout",
     "output_type": "stream",
     "text": [
      "[1, 2, 3]\n"
     ]
    }
   ],
   "source": [
    "print(nums)"
   ]
  },
  {
   "cell_type": "code",
   "execution_count": 776,
   "id": "1d6b6cbe-22b7-45ca-8a49-4e9ed815cea3",
   "metadata": {},
   "outputs": [
    {
     "name": "stdout",
     "output_type": "stream",
     "text": [
      "1, 2, 3\n"
     ]
    }
   ],
   "source": [
    "print(*nums, sep=', ')"
   ]
  },
  {
   "cell_type": "code",
   "execution_count": 777,
   "id": "cb926627-113d-42a2-bb94-b7bb3cddf3c0",
   "metadata": {},
   "outputs": [],
   "source": [
    "fruits = 'apple fig pear'.split()"
   ]
  },
  {
   "cell_type": "code",
   "execution_count": 778,
   "id": "352c69f5-43f4-4796-bc74-1acc2bd28697",
   "metadata": {},
   "outputs": [
    {
     "name": "stdout",
     "output_type": "stream",
     "text": [
      "['apple', 'fig', 'pear']\n"
     ]
    }
   ],
   "source": [
    "print(fruits)"
   ]
  },
  {
   "cell_type": "code",
   "execution_count": 779,
   "id": "7d277b7c-8e22-4297-868a-4b68bfde1182",
   "metadata": {},
   "outputs": [
    {
     "name": "stdout",
     "output_type": "stream",
     "text": [
      "apple, fig, pear\n"
     ]
    }
   ],
   "source": [
    "print(', '.join(fruits))"
   ]
  },
  {
   "cell_type": "code",
   "execution_count": 781,
   "id": "d9acbfe5-983c-444b-8f7f-1b3502627784",
   "metadata": {},
   "outputs": [
    {
     "name": "stdout",
     "output_type": "stream",
     "text": [
      "apple\n",
      "fig\n",
      "pear\n"
     ]
    }
   ],
   "source": [
    "print(*fruits, sep='\\n')"
   ]
  },
  {
   "cell_type": "code",
   "execution_count": 782,
   "id": "9f63511f-977c-4d8f-9dd7-53e46f40d07a",
   "metadata": {},
   "outputs": [],
   "source": [
    "sbux = { 'tall': 12, 'grande': 16, 'venti': 20, 'trenta': 31 }"
   ]
  },
  {
   "cell_type": "code",
   "execution_count": 783,
   "id": "17296028-2663-436e-b06e-3371804d1f3d",
   "metadata": {},
   "outputs": [
    {
     "name": "stdout",
     "output_type": "stream",
     "text": [
      "{'tall': 12, 'grande': 16, 'venti': 20, 'trenta': 31}\n"
     ]
    }
   ],
   "source": [
    "print(sbux)"
   ]
  },
  {
   "cell_type": "code",
   "execution_count": 784,
   "id": "9114038f-e0d1-47cb-8cef-f952b8c9b6b1",
   "metadata": {},
   "outputs": [
    {
     "name": "stdout",
     "output_type": "stream",
     "text": [
      "tall grande venti trenta\n"
     ]
    }
   ],
   "source": [
    "print(*sbux)"
   ]
  },
  {
   "cell_type": "code",
   "execution_count": null,
   "id": "3053a3d3-a277-46b3-9846-71d7be3fe10c",
   "metadata": {},
   "outputs": [],
   "source": [
    "def get_integer_input(quit_string='q', limit=5, return_val=None):\n",
    "    \"\"\"Get an integer from the user, or let them choose not to provide one.\"\"\"\n",
    "    # add optional quit string (q is default)s\n",
    "    # add optional limit (number of times before returning)\n",
    "    # what should be returned when they quite (None is default)\n",
    "\n",
    "    count = 0\n",
    "    while True:\n",
    "        if count == limit:\n",
    "            print(f'Exceeded {count} attempts...returning.')\n",
    "            return return_val\n",
    "        if (response := input(f'Enter an integer (or \"{quit_string}\" to quit): ')) == quit_string: # they entered nothing/'q'\n",
    "            return return_val\n",
    "        count += 1\n",
    "        try:\n",
    "            return int(response)\n",
    "        except ValueError: # they entered a non-int, there's nothing for us to\n",
    "            pass"
   ]
  },
  {
   "cell_type": "code",
   "execution_count": 787,
   "id": "e27624b1-538f-49ad-8aa7-c8912d074cec",
   "metadata": {},
   "outputs": [],
   "source": [
    "args = {'quit_string': 'exit', 'return_val': -1, 'limit': 10 }"
   ]
  },
  {
   "cell_type": "code",
   "execution_count": 789,
   "id": "1196b3d6-5e98-4f5e-bc5a-e2f1c1ee5e9a",
   "metadata": {},
   "outputs": [
    {
     "name": "stdin",
     "output_type": "stream",
     "text": [
      "Enter an integer (or \"exit\" to quit):  \n",
      "Enter an integer (or \"exit\" to quit):  \n",
      "Enter an integer (or \"exit\" to quit):  \n",
      "Enter an integer (or \"exit\" to quit):  \n",
      "Enter an integer (or \"exit\" to quit):  \n",
      "Enter an integer (or \"exit\" to quit):  \n",
      "Enter an integer (or \"exit\" to quit):  \n",
      "Enter an integer (or \"exit\" to quit):  \n",
      "Enter an integer (or \"exit\" to quit):  \n",
      "Enter an integer (or \"exit\" to quit):  \n"
     ]
    },
    {
     "name": "stdout",
     "output_type": "stream",
     "text": [
      "Exceeded 10 attempts...returning.\n"
     ]
    },
    {
     "data": {
      "text/plain": [
       "-1"
      ]
     },
     "execution_count": 789,
     "metadata": {},
     "output_type": "execute_result"
    }
   ],
   "source": [
    "get_integer_input(**args)"
   ]
  },
  {
   "cell_type": "markdown",
   "id": "81f85f3e-935c-474c-a3b4-ee61e75591f8",
   "metadata": {},
   "source": [
    "# List Comprehensions\n",
    "* 4 types:\n",
    "  1. \"straight up\" (single loop)\n",
    "  2. Cartesian Product (nested loops)\n",
    "  3. filter (if statement)\n",
    "  4. __`zip()`__ (parallel lists)\n",
    "* __`[thing for thing in container...]`__\n",
    "  * we can \"transform\" __`thing`__ any way we like, right after the opening __`[`__"
   ]
  },
  {
   "cell_type": "markdown",
   "id": "5a50c08b-9855-48f7-a48f-83383e0054fe",
   "metadata": {},
   "source": [
    "## Lab: List Comprehensions\n",
    "*  Start with Cartesian product example (colors x sizes of t-shirts) and a\n",
    "*  dd a third list, __`sleeves = ['short', 'long']`__ then write a new listcomp which generates the Cartesian product __`colors x sizes x sleeves`__. __`tshirts`__ should look like this:<pre><b>\n",
    "    [['black', 'S', 'short'],\n",
    "     ['black', 'S', 'long'],\n",
    "     ['black', 'M', 'short'],\n",
    "     ['black', 'M', 'long'],\n",
    "     ['black', 'L', 'short'],\n",
    "     ['black', 'L', 'long'],\n",
    "     ['white', 'S', 'short'],\n",
    "     ['white', 'S', 'long'],\n",
    "     ['white', 'M', 'short'],\n",
    "     ['white', 'M', 'long'],\n",
    "     ['white', 'L', 'short'],\n",
    "     ['white', 'L', 'long']]\n",
    "     \n",
    " </b></pre>\n",
    "* Use a list comprehension to create a list of the squares of the integers from 1 to 25 (i.e, 1, 4, 9, 16, …, 625)\n",
    "* Given a list of words, create a second list which contains all the words from the first list which do not end with a vowel\n",
    "* Use a list comprehension to create a list of the integers from 1 to 100 which are not divisible by 5\n",
    "* Use a list comprehension and __`zip()`__ to create a list of lists, where the list items are name and ID number that you grabbed from separate lists of names and ID numbers\n",
    "  * start with a list of, say, 5 names ['John', 'Mary', 'Edward', 'Linda', 'Dinesh']\n",
    "  * and a list of, say, 5 ID numbers [1003, 2043, 8762, 7862, 1093]\n",
    "  * additional wrinkle: do not include any names whose corresponding ID is -1"
   ]
  },
  {
   "cell_type": "code",
   "execution_count": 806,
   "id": "1d17b30a-c6f4-44e6-bae1-6b13cf4fdf33",
   "metadata": {},
   "outputs": [
    {
     "data": {
      "text/plain": [
       "[['black', 'S', 'short'],\n",
       " ['black', 'S', 'long'],\n",
       " ['white', 'S', 'short'],\n",
       " ['white', 'S', 'long'],\n",
       " ['black', 'M', 'short'],\n",
       " ['black', 'M', 'long'],\n",
       " ['white', 'M', 'short'],\n",
       " ['white', 'M', 'long'],\n",
       " ['black', 'L', 'short'],\n",
       " ['black', 'L', 'long'],\n",
       " ['white', 'L', 'short'],\n",
       " ['white', 'L', 'long'],\n",
       " ['black', 'XL', 'short'],\n",
       " ['black', 'XL', 'long'],\n",
       " ['white', 'XL', 'short'],\n",
       " ['white', 'XL', 'long']]"
      ]
     },
     "execution_count": 806,
     "metadata": {},
     "output_type": "execute_result"
    }
   ],
   "source": [
    "# listcomp style: Cartesian Product\n",
    "colors = ['black', 'white']\n",
    "sizes = ['S', 'M', 'L', 'XL']\n",
    "sleeves = ['short', 'long']\n",
    "\n",
    "tshirts = [[color, size, sleeve] for size in sizes\n",
    "                                    for color in colors\n",
    "                                       for sleeve in sleeves]\n",
    "tshirts"
   ]
  },
  {
   "cell_type": "code",
   "execution_count": 790,
   "id": "59ec5fe4-26df-4f8d-8ef3-2c4266492cfc",
   "metadata": {},
   "outputs": [],
   "source": [
    "num = 1234"
   ]
  },
  {
   "cell_type": "code",
   "execution_count": 791,
   "id": "316a466f-2ffa-4aae-a9c4-87eb84de68a3",
   "metadata": {},
   "outputs": [
    {
     "name": "stdout",
     "output_type": "stream",
     "text": [
      "1\n",
      "2\n",
      "3\n",
      "4\n"
     ]
    }
   ],
   "source": [
    "for digit in str(num): # very \"Pythonic\"\n",
    "    print(digit)"
   ]
  },
  {
   "cell_type": "code",
   "execution_count": 792,
   "id": "4f2716ad-277a-4c41-b65b-ce84bc26be56",
   "metadata": {},
   "outputs": [
    {
     "data": {
      "text/plain": [
       "4"
      ]
     },
     "execution_count": 792,
     "metadata": {},
     "output_type": "execute_result"
    }
   ],
   "source": [
    "num % 10"
   ]
  },
  {
   "cell_type": "code",
   "execution_count": 793,
   "id": "5b7026d3-c451-4892-bd74-56690848c174",
   "metadata": {},
   "outputs": [],
   "source": [
    "num //= 10"
   ]
  },
  {
   "cell_type": "code",
   "execution_count": 794,
   "id": "e5c32042-4345-4841-a5bb-fe1d37c25e2a",
   "metadata": {},
   "outputs": [
    {
     "data": {
      "text/plain": [
       "123"
      ]
     },
     "execution_count": 794,
     "metadata": {},
     "output_type": "execute_result"
    }
   ],
   "source": [
    "num"
   ]
  },
  {
   "cell_type": "code",
   "execution_count": 797,
   "id": "bf337aef-e362-4a56-9a8c-ccac19697ef9",
   "metadata": {},
   "outputs": [
    {
     "data": {
      "text/plain": [
       "True"
      ]
     },
     "execution_count": 797,
     "metadata": {},
     "output_type": "execute_result"
    }
   ],
   "source": [
    "'apple'[-1] in 'aeiou'"
   ]
  },
  {
   "cell_type": "code",
   "execution_count": 798,
   "id": "d1e5a3f9-8886-4cdd-95f8-93cfbd8b1280",
   "metadata": {},
   "outputs": [
    {
     "data": {
      "text/plain": [
       "'syzygy'"
      ]
     },
     "execution_count": 798,
     "metadata": {},
     "output_type": "execute_result"
    }
   ],
   "source": [
    "'syzygy'"
   ]
  },
  {
   "cell_type": "code",
   "execution_count": 800,
   "id": "d17656ce-3b32-4d71-8440-cf22b0b490a2",
   "metadata": {},
   "outputs": [
    {
     "name": "stdout",
     "output_type": "stream",
     "text": [
      "[1, 2, 3, 4, 5, 6, 7, 8, 9, 10, 11, 12, 13, 14, 15, 16, 17, 18, 19, 20, 21, 22, 23, 24, 25, 26, 27, 28, 29, 30, 31, 32, 33, 34, 35, 36, 37, 38, 39, 40, 41, 42, 43, 44, 45, 46, 47, 48, 49, 50, 51, 52, 53, 54, 55, 56, 57, 58, 59, 60, 61, 62, 63, 64, 65, 66, 67, 68, 69, 70, 71, 72, 73, 74, 75, 76, 77, 78, 79, 80, 81, 82, 83, 84, 85, 86, 87, 88, 89, 90, 91, 92, 93, 94, 95, 96, 97, 98, 99, 100]\n"
     ]
    }
   ],
   "source": [
    "print(list(range(1, 101)))"
   ]
  },
  {
   "cell_type": "code",
   "execution_count": 802,
   "id": "13385c16-d181-4ae6-b7f3-a6ec70e4fcef",
   "metadata": {},
   "outputs": [
    {
     "data": {
      "text/plain": [
       "[5,\n",
       " 10,\n",
       " 15,\n",
       " 20,\n",
       " 25,\n",
       " 30,\n",
       " 35,\n",
       " 40,\n",
       " 45,\n",
       " 50,\n",
       " 55,\n",
       " 60,\n",
       " 65,\n",
       " 70,\n",
       " 75,\n",
       " 80,\n",
       " 85,\n",
       " 90,\n",
       " 95,\n",
       " 100]"
      ]
     },
     "execution_count": 802,
     "metadata": {},
     "output_type": "execute_result"
    }
   ],
   "source": [
    "list(range(5, 101, 5))"
   ]
  },
  {
   "cell_type": "code",
   "execution_count": 817,
   "id": "1d88759b-86ce-4f87-bf55-d2d2bff49fe9",
   "metadata": {},
   "outputs": [
    {
     "name": "stdout",
     "output_type": "stream",
     "text": [
      "[1, 4, 9, 16, 25, 36, 49, 64, 81, 100, 121, 144, 169, 196, 225, 256, 289, 324, 361, 400, 441, 484, 529, 576, 625]\n"
     ]
    }
   ],
   "source": [
    "# squares: listcomp style = \"straight up\"\n",
    "squares = [num * num for num in range(1, 26)]\n",
    "print(squares)"
   ]
  },
  {
   "cell_type": "code",
   "execution_count": 818,
   "id": "3d4f71b8-a20b-4fe8-bb47-62a35224a73d",
   "metadata": {},
   "outputs": [
    {
     "name": "stdout",
     "output_type": "stream",
     "text": [
      "['lemon', 'milk', 'fig']\n"
     ]
    }
   ],
   "source": [
    "# wordlist: listcomp style = filter\n",
    "words = 'cherry lemon apple guava milk fig salsa'.split()\n",
    "no_end_in_vowel = [word for word in words\n",
    "                           if word[-1] not in 'aeiouy']\n",
    "print(no_end_in_vowel)"
   ]
  },
  {
   "cell_type": "code",
   "execution_count": 819,
   "id": "729e7762-ec4f-4d45-80f8-97992c270b50",
   "metadata": {},
   "outputs": [
    {
     "name": "stdout",
     "output_type": "stream",
     "text": [
      "[1, 2, 3, 4, 6, 7, 8, 9, 11, 12, 13, 14, 16, 17, 18, 19, 21, 22, 23, 24, 26, 27, 28, 29, 31, 32, 33, 34, 36, 37, 38, 39, 41, 42, 43, 44, 46, 47, 48, 49, 51, 52, 53, 54, 56, 57, 58, 59, 61, 62, 63, 64, 66, 67, 68, 69, 71, 72, 73, 74, 76, 77, 78, 79, 81, 82, 83, 84, 86, 87, 88, 89, 91, 92, 93, 94, 96, 97, 98, 99]\n"
     ]
    }
   ],
   "source": [
    "# non-multiples of 5: listcomp style = filter\n",
    "no_divis_by_5 = [num for num in range(1, 101) if num % 5]\n",
    "print(no_divis_by_5)"
   ]
  },
  {
   "cell_type": "code",
   "execution_count": 820,
   "id": "5c9ae9fb-93f0-44a1-8783-5179a88c044d",
   "metadata": {},
   "outputs": [
    {
     "name": "stdout",
     "output_type": "stream",
     "text": [
      "[('JOHN', 11003), ('MARY', 12043), ('EDWARD', 18762), ('LINDA', 17862), ('DINESH', 11093)]\n"
     ]
    }
   ],
   "source": [
    "names = ['John', 'Mary', 'Edward', 'Linda', 'Dinesh']\n",
    "id_nums = [1003, 2043, 8762, 7862, 1093]\n",
    "employees = [(name.upper(), 10000 + id_num) for name, id_num in zip(names, id_nums)]\n",
    "print(employees)"
   ]
  },
  {
   "cell_type": "code",
   "execution_count": null,
   "id": "8811d174-ebf7-45c9-b030-e6bd27918871",
   "metadata": {},
   "outputs": [],
   "source": [
    "names = ['John', 'Mary', 'Edward', 'Linda', 'Dinesh']\n",
    "id_nums = [1003, 2043, -1, 7862, -1]\n",
    "employees = [(name.upper(), 10000 + id_num)\n",
    "             for name, id_num in zip(names, id_nums)\n",
    "                if id_num != -1]\n",
    "print(employees)"
   ]
  },
  {
   "cell_type": "code",
   "execution_count": 821,
   "id": "a75aded8-36f0-47ff-b6fa-4f0f35761ad6",
   "metadata": {},
   "outputs": [
    {
     "data": {
      "text/plain": [
       "[0, 0, 0]"
      ]
     },
     "execution_count": 821,
     "metadata": {},
     "output_type": "execute_result"
    }
   ],
   "source": [
    "[0] * 3"
   ]
  },
  {
   "cell_type": "code",
   "execution_count": 822,
   "id": "54f5ecfa-3e8f-4e30-a62a-339ca5b655a5",
   "metadata": {},
   "outputs": [
    {
     "data": {
      "text/plain": [
       "[0, 0, 0, 0]"
      ]
     },
     "execution_count": 822,
     "metadata": {},
     "output_type": "execute_result"
    }
   ],
   "source": [
    "[0] * 4"
   ]
  },
  {
   "cell_type": "code",
   "execution_count": 823,
   "id": "db7e584a-d0cb-49ba-abff-df03b40063fa",
   "metadata": {},
   "outputs": [
    {
     "data": {
      "text/plain": [
       "[0, 0, 0, 0, 0, 0]"
      ]
     },
     "execution_count": 823,
     "metadata": {},
     "output_type": "execute_result"
    }
   ],
   "source": [
    "[0] * 6"
   ]
  },
  {
   "cell_type": "code",
   "execution_count": 824,
   "id": "77c90b93-00ee-4335-b905-a8425aebe362",
   "metadata": {},
   "outputs": [],
   "source": [
    "sides = [0, 0, 0, 0, 0, 0]"
   ]
  },
  {
   "cell_type": "code",
   "execution_count": 827,
   "id": "daea7950-2527-4e5b-a81e-6ac477ccc647",
   "metadata": {},
   "outputs": [
    {
     "data": {
      "text/plain": [
       "'0, 0, 0, 0, 0, 0'"
      ]
     },
     "execution_count": 827,
     "metadata": {},
     "output_type": "execute_result"
    }
   ],
   "source": [
    "\", \".join([str(i) for i in sides])"
   ]
  },
  {
   "cell_type": "code",
   "execution_count": 833,
   "id": "c8fca22b-422f-4b79-9c7a-9a43e41a2f6e",
   "metadata": {},
   "outputs": [
    {
     "data": {
      "text/plain": [
       "'0, 0, 0, 0, 0, 0'"
      ]
     },
     "execution_count": 833,
     "metadata": {},
     "output_type": "execute_result"
    }
   ],
   "source": [
    "\", \".join(map(str, sides))"
   ]
  },
  {
   "cell_type": "code",
   "execution_count": 828,
   "id": "2e85741e-436e-4296-9cd6-468b24933c75",
   "metadata": {},
   "outputs": [],
   "source": [
    "nums = [2, 4, 12, 16, 20, 25]"
   ]
  },
  {
   "cell_type": "code",
   "execution_count": 829,
   "id": "3cd4268a-01ae-46cc-ae04-5bd5cf84e1df",
   "metadata": {},
   "outputs": [
    {
     "data": {
      "text/plain": [
       "<map at 0x106b68880>"
      ]
     },
     "execution_count": 829,
     "metadata": {},
     "output_type": "execute_result"
    }
   ],
   "source": [
    "import math\n",
    "map(math.sqrt, nums)"
   ]
  },
  {
   "cell_type": "code",
   "execution_count": 835,
   "id": "b56f6019-f7f4-4915-a959-c84d28b9df90",
   "metadata": {},
   "outputs": [
    {
     "data": {
      "text/plain": [
       "[1.4142135623730951, 2.0, 3.4641016151377544, 4.0, 4.47213595499958, 5.0]"
      ]
     },
     "execution_count": 835,
     "metadata": {},
     "output_type": "execute_result"
    }
   ],
   "source": [
    "sqrts = list(map(math.sqrt, nums))\n",
    "sqrts"
   ]
  },
  {
   "cell_type": "code",
   "execution_count": 836,
   "id": "f3a98dce-99b1-404e-a693-37018ee7a956",
   "metadata": {},
   "outputs": [
    {
     "data": {
      "text/plain": [
       "[1.4142135623730951, 2.0, 3.4641016151377544, 4.0, 4.47213595499958, 5.0]"
      ]
     },
     "execution_count": 836,
     "metadata": {},
     "output_type": "execute_result"
    }
   ],
   "source": [
    "sqrts_lc = [math.sqrt(num) for num in nums]\n",
    "sqrts_lc"
   ]
  },
  {
   "cell_type": "code",
   "execution_count": 838,
   "id": "58be9ec9-607a-45c7-a6f8-a10fa5ff3c7d",
   "metadata": {},
   "outputs": [
    {
     "data": {
      "text/plain": [
       "[1.4142135623730951, 2.0, 3.4641016151377544, 4.0, 4.47213595499958, 5.0]"
      ]
     },
     "execution_count": 838,
     "metadata": {},
     "output_type": "execute_result"
    }
   ],
   "source": [
    "sqrts_lc = [] # empty list\n",
    "\n",
    "for num in nums:\n",
    "    sqrts_lc.append(math.sqrt(num))\n",
    "    \n",
    "sqrts_lc"
   ]
  },
  {
   "cell_type": "code",
   "execution_count": 839,
   "id": "be1c4118-7129-41f4-b0c4-d99ef0185c7c",
   "metadata": {},
   "outputs": [],
   "source": [
    "class Polygon: # Abstract Base Class\n",
    "    def __init__(self, num_sides):\n",
    "        self.num_sides = num_sides\n",
    "        self.sides = [0] * num_sides\n",
    "\n",
    "    def __repr__(self):\n",
    "        return \", \".join(str(i) for i in self.sides)\n",
    "\n",
    "    def input_sides(self):\n",
    "        self.sides = [float(input(f\"Enter side {i + 1}: \"))\n",
    "                      for i in range(self.num_sides)]\n",
    "    def area(self):\n",
    "        raise ValueError(\"Can't compute area of unknown polygon!\")"
   ]
  },
  {
   "cell_type": "code",
   "execution_count": 840,
   "id": "223fe8fe-5103-4124-ae35-7c501f77efad",
   "metadata": {},
   "outputs": [],
   "source": [
    "p = Polygon(3)"
   ]
  },
  {
   "cell_type": "code",
   "execution_count": 841,
   "id": "99eac0dc-1a80-4906-af71-414a8698c9ac",
   "metadata": {},
   "outputs": [
    {
     "data": {
      "text/plain": [
       "{'num_sides': 3, 'sides': [0, 0, 0]}"
      ]
     },
     "execution_count": 841,
     "metadata": {},
     "output_type": "execute_result"
    }
   ],
   "source": [
    "vars(p)"
   ]
  },
  {
   "cell_type": "code",
   "execution_count": 843,
   "id": "2c9ff580-1a45-43e5-9858-f9184b0b4986",
   "metadata": {},
   "outputs": [
    {
     "name": "stdin",
     "output_type": "stream",
     "text": [
      "Enter side 1:  3\n",
      "Enter side 2:  4\n",
      "Enter side 3:  5\n"
     ]
    }
   ],
   "source": [
    "p.input_sides()"
   ]
  },
  {
   "cell_type": "code",
   "execution_count": 844,
   "id": "c228052e-a322-48fe-973b-53d90d8f46bd",
   "metadata": {},
   "outputs": [
    {
     "data": {
      "text/plain": [
       "{'num_sides': 3, 'sides': [3.0, 4.0, 5.0]}"
      ]
     },
     "execution_count": 844,
     "metadata": {},
     "output_type": "execute_result"
    }
   ],
   "source": [
    "vars(p)"
   ]
  },
  {
   "cell_type": "code",
   "execution_count": 845,
   "id": "47f53eed-a904-426f-bef2-125196e15a49",
   "metadata": {},
   "outputs": [
    {
     "name": "stdout",
     "output_type": "stream",
     "text": [
      "3.0, 4.0, 5.0\n"
     ]
    }
   ],
   "source": [
    "print(p)"
   ]
  },
  {
   "cell_type": "code",
   "execution_count": 846,
   "id": "05eac8e8-1196-4f3d-bba0-b070b639971a",
   "metadata": {},
   "outputs": [
    {
     "data": {
      "text/plain": [
       "3.0, 4.0, 5.0"
      ]
     },
     "execution_count": 846,
     "metadata": {},
     "output_type": "execute_result"
    }
   ],
   "source": [
    "p"
   ]
  },
  {
   "cell_type": "code",
   "execution_count": 847,
   "id": "44a5b2c6-ebb6-41cf-b9cf-5e51d10032d3",
   "metadata": {},
   "outputs": [
    {
     "data": {
      "text/plain": [
       "'3.0, 4.0, 5.0'"
      ]
     },
     "execution_count": 847,
     "metadata": {},
     "output_type": "execute_result"
    }
   ],
   "source": [
    "str(p)"
   ]
  },
  {
   "cell_type": "code",
   "execution_count": 848,
   "id": "86722b47-9aee-4326-a413-13cac792a49c",
   "metadata": {},
   "outputs": [
    {
     "data": {
      "text/plain": [
       "'3.0, 4.0, 5.0'"
      ]
     },
     "execution_count": 848,
     "metadata": {},
     "output_type": "execute_result"
    }
   ],
   "source": [
    "repr(p)"
   ]
  },
  {
   "cell_type": "code",
   "execution_count": 849,
   "id": "f5c55150-e132-4a02-a87a-ef6a5403bc9d",
   "metadata": {},
   "outputs": [
    {
     "ename": "ValueError",
     "evalue": "Can't compute area of unknown polygon!",
     "output_type": "error",
     "traceback": [
      "\u001b[0;31m---------------------------------------------------------------------------\u001b[0m",
      "\u001b[0;31mValueError\u001b[0m                                Traceback (most recent call last)",
      "Cell \u001b[0;32mIn[849], line 1\u001b[0m\n\u001b[0;32m----> 1\u001b[0m \u001b[43mp\u001b[49m\u001b[38;5;241;43m.\u001b[39;49m\u001b[43marea\u001b[49m\u001b[43m(\u001b[49m\u001b[43m)\u001b[49m\n",
      "Cell \u001b[0;32mIn[839], line 13\u001b[0m, in \u001b[0;36mPolygon.area\u001b[0;34m(self)\u001b[0m\n\u001b[1;32m     12\u001b[0m \u001b[38;5;28;01mdef\u001b[39;00m \u001b[38;5;21marea\u001b[39m(\u001b[38;5;28mself\u001b[39m):\n\u001b[0;32m---> 13\u001b[0m     \u001b[38;5;28;01mraise\u001b[39;00m \u001b[38;5;167;01mValueError\u001b[39;00m(\u001b[38;5;124m\"\u001b[39m\u001b[38;5;124mCan\u001b[39m\u001b[38;5;124m'\u001b[39m\u001b[38;5;124mt compute area of unknown polygon!\u001b[39m\u001b[38;5;124m\"\u001b[39m)\n",
      "\u001b[0;31mValueError\u001b[0m: Can't compute area of unknown polygon!"
     ]
    }
   ],
   "source": [
    "p.area()"
   ]
  },
  {
   "cell_type": "code",
   "execution_count": 850,
   "id": "733029be-e82d-4eac-9bc2-f93f1ba7b721",
   "metadata": {},
   "outputs": [
    {
     "data": {
      "text/plain": [
       "7"
      ]
     },
     "execution_count": 850,
     "metadata": {},
     "output_type": "execute_result"
    }
   ],
   "source": [
    "3 + 4"
   ]
  },
  {
   "cell_type": "code",
   "execution_count": 851,
   "id": "0012bf59-24b4-4ed5-855b-061140f5a446",
   "metadata": {},
   "outputs": [
    {
     "data": {
      "text/plain": [
       "7"
      ]
     },
     "execution_count": 851,
     "metadata": {},
     "output_type": "execute_result"
    }
   ],
   "source": [
    "int.__add__(3, 4)"
   ]
  },
  {
   "cell_type": "code",
   "execution_count": 852,
   "id": "558ba973-a943-46c4-a179-e621fe024228",
   "metadata": {},
   "outputs": [
    {
     "data": {
      "text/plain": [
       "6"
      ]
     },
     "execution_count": 852,
     "metadata": {},
     "output_type": "execute_result"
    }
   ],
   "source": [
    "len('string')"
   ]
  },
  {
   "cell_type": "code",
   "execution_count": 853,
   "id": "9233a2e5-b1b7-45c2-8eef-091e1ac82363",
   "metadata": {},
   "outputs": [
    {
     "data": {
      "text/plain": [
       "3"
      ]
     },
     "execution_count": 853,
     "metadata": {},
     "output_type": "execute_result"
    }
   ],
   "source": [
    "len([1, 2, 3])"
   ]
  },
  {
   "cell_type": "code",
   "execution_count": 854,
   "id": "475bd92c-86f2-4cb3-827b-fda4c8a0a060",
   "metadata": {},
   "outputs": [
    {
     "data": {
      "text/plain": [
       "2"
      ]
     },
     "execution_count": 854,
     "metadata": {},
     "output_type": "execute_result"
    }
   ],
   "source": [
    "len((1, 2))"
   ]
  },
  {
   "cell_type": "code",
   "execution_count": 855,
   "id": "955d6fc5-94bb-47ef-943d-fce9c3617a78",
   "metadata": {},
   "outputs": [
    {
     "data": {
      "text/plain": [
       "3"
      ]
     },
     "execution_count": 855,
     "metadata": {},
     "output_type": "execute_result"
    }
   ],
   "source": [
    "len({3, 4, 5})"
   ]
  },
  {
   "cell_type": "code",
   "execution_count": 857,
   "id": "9ff4b42d-6e2f-43e8-bbf5-966745bb21a3",
   "metadata": {},
   "outputs": [
    {
     "data": {
      "text/plain": [
       "1"
      ]
     },
     "execution_count": 857,
     "metadata": {},
     "output_type": "execute_result"
    }
   ],
   "source": [
    "len({3: 'three'})"
   ]
  },
  {
   "cell_type": "code",
   "execution_count": 858,
   "id": "f71f75ce-1430-4f93-8c70-8b8e8b5b2fd5",
   "metadata": {},
   "outputs": [],
   "source": [
    "my_cool_set = {}"
   ]
  },
  {
   "cell_type": "code",
   "execution_count": 859,
   "id": "f59b68d7-2eb2-4e39-a3be-8d01e88c207d",
   "metadata": {},
   "outputs": [
    {
     "data": {
      "text/plain": [
       "dict"
      ]
     },
     "execution_count": 859,
     "metadata": {},
     "output_type": "execute_result"
    }
   ],
   "source": [
    "type(my_cool_set)"
   ]
  },
  {
   "cell_type": "code",
   "execution_count": 860,
   "id": "52999776-d61b-47da-b9a5-ea1f6cc647db",
   "metadata": {},
   "outputs": [],
   "source": [
    "my_cool_set = set()"
   ]
  },
  {
   "cell_type": "code",
   "execution_count": 861,
   "id": "c22eabdb-e398-4a69-b685-67dc5f94b643",
   "metadata": {},
   "outputs": [
    {
     "data": {
      "text/plain": [
       "set()"
      ]
     },
     "execution_count": 861,
     "metadata": {},
     "output_type": "execute_result"
    }
   ],
   "source": [
    "my_cool_set"
   ]
  },
  {
   "cell_type": "code",
   "execution_count": 862,
   "id": "abbe9203-4d10-4017-a68f-b1ae4095322c",
   "metadata": {},
   "outputs": [
    {
     "ename": "TypeError",
     "evalue": "object of type 'int' has no len()",
     "output_type": "error",
     "traceback": [
      "\u001b[0;31m---------------------------------------------------------------------------\u001b[0m",
      "\u001b[0;31mTypeError\u001b[0m                                 Traceback (most recent call last)",
      "Cell \u001b[0;32mIn[862], line 1\u001b[0m\n\u001b[0;32m----> 1\u001b[0m \u001b[38;5;28;43mlen\u001b[39;49m\u001b[43m(\u001b[49m\u001b[38;5;241;43m4\u001b[39;49m\u001b[43m)\u001b[49m\n",
      "\u001b[0;31mTypeError\u001b[0m: object of type 'int' has no len()"
     ]
    }
   ],
   "source": [
    "len(4)"
   ]
  },
  {
   "cell_type": "code",
   "execution_count": 863,
   "id": "704947ca-bdc9-443c-9e08-ae512de4eb32",
   "metadata": {},
   "outputs": [],
   "source": [
    "import random"
   ]
  },
  {
   "cell_type": "code",
   "execution_count": 864,
   "id": "b8972f83-db8f-47ce-9ecc-4d689397e1aa",
   "metadata": {},
   "outputs": [
    {
     "data": {
      "text/plain": [
       "['BPF',\n",
       " 'LOG4',\n",
       " 'NV_MAGICCONST',\n",
       " 'RECIP_BPF',\n",
       " 'Random',\n",
       " 'SG_MAGICCONST',\n",
       " 'SystemRandom',\n",
       " 'TWOPI',\n",
       " '_ONE',\n",
       " '_Sequence',\n",
       " '__all__',\n",
       " '__builtins__',\n",
       " '__cached__',\n",
       " '__doc__',\n",
       " '__file__',\n",
       " '__loader__',\n",
       " '__name__',\n",
       " '__package__',\n",
       " '__spec__',\n",
       " '_accumulate',\n",
       " '_acos',\n",
       " '_bisect',\n",
       " '_ceil',\n",
       " '_cos',\n",
       " '_e',\n",
       " '_exp',\n",
       " '_fabs',\n",
       " '_floor',\n",
       " '_index',\n",
       " '_inst',\n",
       " '_isfinite',\n",
       " '_lgamma',\n",
       " '_log',\n",
       " '_log2',\n",
       " '_os',\n",
       " '_pi',\n",
       " '_random',\n",
       " '_repeat',\n",
       " '_sha512',\n",
       " '_sin',\n",
       " '_sqrt',\n",
       " '_test',\n",
       " '_test_generator',\n",
       " '_urandom',\n",
       " '_warn',\n",
       " 'betavariate',\n",
       " 'binomialvariate',\n",
       " 'choice',\n",
       " 'choices',\n",
       " 'expovariate',\n",
       " 'gammavariate',\n",
       " 'gauss',\n",
       " 'getrandbits',\n",
       " 'getstate',\n",
       " 'lognormvariate',\n",
       " 'normalvariate',\n",
       " 'paretovariate',\n",
       " 'randbytes',\n",
       " 'randint',\n",
       " 'random',\n",
       " 'randrange',\n",
       " 'sample',\n",
       " 'seed',\n",
       " 'setstate',\n",
       " 'shuffle',\n",
       " 'triangular',\n",
       " 'uniform',\n",
       " 'vonmisesvariate',\n",
       " 'weibullvariate']"
      ]
     },
     "execution_count": 864,
     "metadata": {},
     "output_type": "execute_result"
    }
   ],
   "source": [
    "dir(random)"
   ]
  },
  {
   "cell_type": "code",
   "execution_count": 865,
   "id": "a2598b2c-4378-476b-8e8f-0a5374483e63",
   "metadata": {},
   "outputs": [
    {
     "name": "stdout",
     "output_type": "stream",
     "text": [
      "Help on built-in function random:\n",
      "\n",
      "random() method of random.Random instance\n",
      "    random() -> x in the interval [0, 1).\n",
      "\n"
     ]
    }
   ],
   "source": [
    "help(random.random)"
   ]
  },
  {
   "cell_type": "code",
   "execution_count": 866,
   "id": "4ad80558-f1e7-4e67-b129-bcea668312f1",
   "metadata": {},
   "outputs": [
    {
     "data": {
      "text/plain": [
       "0.5791269528067652"
      ]
     },
     "execution_count": 866,
     "metadata": {},
     "output_type": "execute_result"
    }
   ],
   "source": [
    "random.random()"
   ]
  },
  {
   "cell_type": "code",
   "execution_count": 867,
   "id": "460c0f8d-b9a6-4475-886c-fdb33e4102bd",
   "metadata": {},
   "outputs": [
    {
     "data": {
      "text/plain": [
       "9"
      ]
     },
     "execution_count": 867,
     "metadata": {},
     "output_type": "execute_result"
    }
   ],
   "source": [
    "random.randrange(1, 10) # [1..10)"
   ]
  },
  {
   "cell_type": "code",
   "execution_count": 868,
   "id": "38170e51-3146-46d8-9912-dc73df4d057f",
   "metadata": {},
   "outputs": [
    {
     "data": {
      "text/plain": [
       "4"
      ]
     },
     "execution_count": 868,
     "metadata": {},
     "output_type": "execute_result"
    }
   ],
   "source": [
    "random.randint(1, 10) # [1..10]"
   ]
  },
  {
   "cell_type": "code",
   "execution_count": 869,
   "id": "bc6de4f0-e166-489a-acea-3a04beb4227e",
   "metadata": {},
   "outputs": [
    {
     "name": "stdout",
     "output_type": "stream",
     "text": [
      "4\n",
      "4\n",
      "4.04\n",
      "4.04\n",
      "4\n",
      "4.04\n",
      "4\n",
      "4\n",
      "4\n",
      "4\n",
      "4\n",
      "4\n",
      "4\n",
      "4\n",
      "4\n",
      "4\n",
      "4\n",
      "4.04\n",
      "4\n",
      "4\n",
      "4\n",
      "4\n",
      "4\n",
      "4\n",
      "4\n",
      "4\n",
      "4.04\n",
      "4\n",
      "4\n",
      "4\n",
      "4\n",
      "4\n",
      "4\n",
      "4\n",
      "4.04\n",
      "4\n",
      "4\n",
      "4\n",
      "4\n",
      "4\n",
      "4\n",
      "4\n",
      "4\n",
      "4\n",
      "4\n",
      "4\n",
      "4\n",
      "4\n",
      "4\n",
      "4\n",
      "4\n",
      "4\n",
      "4\n",
      "4\n",
      "4\n",
      "4\n",
      "4\n",
      "4\n",
      "4\n",
      "4\n",
      "4\n",
      "4\n",
      "4\n",
      "4\n",
      "4\n",
      "4\n",
      "4\n",
      "4\n",
      "4.04\n",
      "4\n",
      "4\n",
      "4\n",
      "4\n",
      "4\n",
      "4.04\n",
      "4\n",
      "4\n",
      "4\n",
      "4.04\n",
      "4\n",
      "4\n",
      "4\n",
      "4\n",
      "4\n",
      "4\n",
      "4\n",
      "4\n",
      "4\n",
      "4\n",
      "4\n",
      "4.04\n",
      "4.04\n",
      "4\n",
      "4.04\n",
      "4\n",
      "4\n",
      "4\n",
      "4\n",
      "4\n",
      "4\n"
     ]
    }
   ],
   "source": [
    "for _ in range(100): # do this 100 times\n",
    "    if random.randint(1, 10) == 8:\n",
    "        print(4.04)\n",
    "    else:\n",
    "        print(2 + 2)"
   ]
  },
  {
   "cell_type": "code",
   "execution_count": 870,
   "id": "92623399-c736-4e24-b155-44314009999b",
   "metadata": {},
   "outputs": [
    {
     "name": "stdout",
     "output_type": "stream",
     "text": [
      "4\n",
      "4\n",
      "4\n",
      "4\n",
      "4\n",
      "4\n",
      "4\n",
      "4\n",
      "4\n",
      "4\n",
      "4\n",
      "4\n",
      "4\n",
      "4\n",
      "4\n",
      "4\n",
      "4\n",
      "4\n",
      "4.04\n",
      "4\n",
      "4\n",
      "4\n",
      "4\n",
      "4\n",
      "4\n",
      "4\n",
      "4\n",
      "4\n",
      "4.04\n",
      "4\n",
      "4.04\n",
      "4\n",
      "4\n",
      "4\n",
      "4.04\n",
      "4\n",
      "4\n",
      "4\n",
      "4\n",
      "4\n",
      "4\n",
      "4\n",
      "4\n",
      "4\n",
      "4\n",
      "4\n",
      "4\n",
      "4\n",
      "4\n",
      "4.04\n",
      "4\n",
      "4\n",
      "4\n",
      "4\n",
      "4\n",
      "4\n",
      "4\n",
      "4\n",
      "4\n",
      "4\n",
      "4\n",
      "4\n",
      "4.04\n",
      "4\n",
      "4\n",
      "4\n",
      "4\n",
      "4\n",
      "4\n",
      "4\n",
      "4\n",
      "4\n",
      "4\n",
      "4\n",
      "4\n",
      "4\n",
      "4\n",
      "4\n",
      "4.04\n",
      "4\n",
      "4\n",
      "4\n",
      "4\n",
      "4.04\n",
      "4\n",
      "4.04\n",
      "4\n",
      "4.04\n",
      "4\n",
      "4\n",
      "4\n",
      "4\n",
      "4\n",
      "4\n",
      "4\n",
      "4\n",
      "4.04\n",
      "4\n",
      "4.04\n",
      "4\n"
     ]
    }
   ],
   "source": [
    "for _ in range(100): # do this 100 times\n",
    "    if random.randint(1, 100) <= 13:\n",
    "        print(4.04)\n",
    "    else:\n",
    "        print(2 + 2)"
   ]
  },
  {
   "cell_type": "code",
   "execution_count": 871,
   "id": "cc2f42f6-2ac6-49bc-86c4-094989d24882",
   "metadata": {},
   "outputs": [
    {
     "name": "stdout",
     "output_type": "stream",
     "text": [
      "4\n",
      "4\n",
      "4\n",
      "4\n",
      "4\n",
      "4\n",
      "4\n",
      "4.04\n",
      "4\n",
      "4\n",
      "4.04\n",
      "4\n",
      "4.04\n",
      "4\n",
      "4\n",
      "4\n",
      "4.04\n",
      "4\n",
      "4\n",
      "4\n",
      "4\n",
      "4\n",
      "4\n",
      "4\n",
      "4\n",
      "4\n",
      "4\n",
      "4\n",
      "4\n",
      "4\n",
      "4\n",
      "4\n",
      "4\n",
      "4\n",
      "4\n",
      "4\n",
      "4\n",
      "4\n",
      "4.04\n",
      "4\n",
      "4\n",
      "4\n",
      "4\n",
      "4\n",
      "4\n",
      "4\n",
      "4\n",
      "4\n",
      "4\n",
      "4\n",
      "4\n",
      "4\n",
      "4\n",
      "4\n",
      "4\n",
      "4\n",
      "4.04\n",
      "4.04\n",
      "4\n",
      "4\n",
      "4\n",
      "4.04\n",
      "4\n",
      "4\n",
      "4\n",
      "4\n",
      "4\n",
      "4\n",
      "4\n",
      "4\n",
      "4.04\n",
      "4\n",
      "4\n",
      "4\n",
      "4\n",
      "4\n",
      "4\n",
      "4\n",
      "4\n",
      "4\n",
      "4\n",
      "4\n",
      "4\n",
      "4\n",
      "4\n",
      "4\n",
      "4\n",
      "4\n",
      "4\n",
      "4\n",
      "4\n",
      "4\n",
      "4\n",
      "4\n",
      "4\n",
      "4\n",
      "4\n",
      "4\n",
      "4\n",
      "4\n"
     ]
    }
   ],
   "source": [
    "for _ in range(100): # do this 100 times\n",
    "    if random.random() <= 0.13:\n",
    "        print(4.04)\n",
    "    else:\n",
    "        print(2 + 2)"
   ]
  },
  {
   "cell_type": "markdown",
   "id": "b181dc8d-07df-4c07-91a7-b71ff1291a86",
   "metadata": {},
   "source": [
    "## Lab: Inheritance\n",
    "* Create a \"ZanyInt\" class which inherits from int and adds and overrides certain methods:\n",
    "* __`len()`__ doesn't work for standard ints but make sure it works for a __`ZanyInt`__\n",
    "* make it so the __`str()`__ version of a ZanyInt is something odd, e.g., __`str(3)`__ return 'three', but __`str()`__ of other numbers returns the number with some leading and trailing spaces\n",
    "* make it so + usually gives the right answer, but not always (use the __`random`__ module)"
   ]
  },
  {
   "cell_type": "code",
   "execution_count": 911,
   "id": "a59bc66e-e1b1-43fb-b11c-8ed4e5855475",
   "metadata": {},
   "outputs": [],
   "source": [
    "class ZanyInt(int):\n",
    "    \"\"\"Int class which allows us to use len()...\n",
    "       We can convert a ZanyInt to an int when we need to rely on the base class dunder methods\n",
    "    \"\"\"\n",
    "\n",
    "    def __str__(self): \n",
    "        converter = {\n",
    "            1: 'one',\n",
    "            2: 'two',\n",
    "            3: 'three',\n",
    "        }\n",
    "        if self in converter:\n",
    "            return converter[self]\n",
    "        return f'   {int(self)}   '\n",
    "\n",
    "    def __len__(self):\n",
    "        return len(str(int(self)))\n",
    "\n",
    "    def __add__(self, other):\n",
    "        from random import random\n",
    "        \n",
    "        if random() > 0.92:\n",
    "            return int(self) + int(other) + random()\n",
    "\n",
    "        return int(self) + int(other)"
   ]
  },
  {
   "cell_type": "code",
   "execution_count": 912,
   "id": "57788e1f-21a3-4dae-8fab-a06ee10f58ea",
   "metadata": {},
   "outputs": [],
   "source": [
    "num = ZanyInt(1)"
   ]
  },
  {
   "cell_type": "code",
   "execution_count": 878,
   "id": "d79a88c5-5242-4292-a3d8-9534d45ba635",
   "metadata": {},
   "outputs": [
    {
     "data": {
      "text/plain": [
       "__main__.ZanyInt"
      ]
     },
     "execution_count": 878,
     "metadata": {},
     "output_type": "execute_result"
    }
   ],
   "source": [
    "type(num)"
   ]
  },
  {
   "cell_type": "code",
   "execution_count": 896,
   "id": "6b8d7529-11f7-42de-8167-b7a92395eb16",
   "metadata": {},
   "outputs": [
    {
     "data": {
      "text/plain": [
       "'one'"
      ]
     },
     "execution_count": 896,
     "metadata": {},
     "output_type": "execute_result"
    }
   ],
   "source": [
    "str(num)"
   ]
  },
  {
   "cell_type": "code",
   "execution_count": 913,
   "id": "892e498a-15fa-432b-a6f7-96dad960cc0a",
   "metadata": {},
   "outputs": [],
   "source": [
    "other_num = ZanyInt(1234)"
   ]
  },
  {
   "cell_type": "code",
   "execution_count": 900,
   "id": "a08ac855-3695-46e2-b110-9491e384d4c7",
   "metadata": {},
   "outputs": [
    {
     "data": {
      "text/plain": [
       "4"
      ]
     },
     "execution_count": 900,
     "metadata": {},
     "output_type": "execute_result"
    }
   ],
   "source": [
    "len(other_num)"
   ]
  },
  {
   "cell_type": "code",
   "execution_count": 915,
   "id": "b5d08a67-83f2-4b71-9d24-df96ef14190b",
   "metadata": {},
   "outputs": [
    {
     "data": {
      "text/plain": [
       "1235"
      ]
     },
     "execution_count": 915,
     "metadata": {},
     "output_type": "execute_result"
    }
   ],
   "source": [
    "other_num + num"
   ]
  },
  {
   "cell_type": "code",
   "execution_count": 916,
   "id": "adee2fc6-c75f-4c2c-8feb-4373721c26f0",
   "metadata": {},
   "outputs": [
    {
     "name": "stdout",
     "output_type": "stream",
     "text": [
      "1235.0002\n",
      "1235\n",
      "1235\n",
      "1235.0002\n",
      "1235\n",
      "1235\n",
      "1235.0002\n",
      "1235\n",
      "1235\n",
      "1235\n",
      "1235\n",
      "1235\n",
      "1235\n",
      "1235\n",
      "1235\n",
      "1235\n",
      "1235\n",
      "1235\n",
      "1235\n",
      "1235\n"
     ]
    }
   ],
   "source": [
    "for _ in range(20):\n",
    "    print(other_num + num)"
   ]
  },
  {
   "cell_type": "code",
   "execution_count": 952,
   "id": "34ef5f8a-49b8-414a-aab7-f269c9fa7cf0",
   "metadata": {},
   "outputs": [],
   "source": [
    "class ZanyInt(int):\n",
    "    \"\"\"Raina's solution...\"\"\"\n",
    "    def __str__(self):\n",
    "        num_map = {\n",
    "            1: 'one', \n",
    "            2:'two', \n",
    "            3:'three', \n",
    "            4:'four', \n",
    "            5:'five', \n",
    "            6:'six', \n",
    "            7:'seven',\n",
    "            8:'eight', \n",
    "            9:'nine'}\n",
    "        if self in num_map:\n",
    "            return num_map[self]\n",
    "        return f'  {int(self)}'\n",
    "\n",
    "    def __len__(self):\n",
    "        return len(super().__str__())\n",
    "        return len(str(int(self)))\n",
    "\n",
    "    def __add__(self, other):\n",
    "        import random\n",
    "        r = random.random()\n",
    "        if r > 0.9:\n",
    "            return int(self) + int(other) + r\n",
    "        return int(self) + int(other)\n",
    "        return super().__add__(other)"
   ]
  },
  {
   "cell_type": "code",
   "execution_count": 953,
   "id": "5214a174-6540-4558-b53b-9268f052b86d",
   "metadata": {},
   "outputs": [],
   "source": [
    "zi = ZanyInt(14) # uses base class __init__, i.e., int's __init__"
   ]
  },
  {
   "cell_type": "code",
   "execution_count": 941,
   "id": "98976005-fb04-4d50-b14c-af6694a958b6",
   "metadata": {},
   "outputs": [
    {
     "data": {
      "text/plain": [
       "'  14'"
      ]
     },
     "execution_count": 941,
     "metadata": {},
     "output_type": "execute_result"
    }
   ],
   "source": [
    "str(zi)"
   ]
  },
  {
   "cell_type": "code",
   "execution_count": 942,
   "id": "ae89b585-76a9-4a3f-b936-4a512ce733db",
   "metadata": {},
   "outputs": [
    {
     "data": {
      "text/plain": [
       "2"
      ]
     },
     "execution_count": 942,
     "metadata": {},
     "output_type": "execute_result"
    }
   ],
   "source": [
    "len(zi)"
   ]
  },
  {
   "cell_type": "code",
   "execution_count": 954,
   "id": "9691a821-68bc-49eb-b1cc-b75af0f5855b",
   "metadata": {},
   "outputs": [],
   "source": [
    "zi2 = ZanyInt(2345)"
   ]
  },
  {
   "cell_type": "code",
   "execution_count": 955,
   "id": "57bffc41-3e1a-409b-a916-76573c74b781",
   "metadata": {},
   "outputs": [
    {
     "data": {
      "text/plain": [
       "4"
      ]
     },
     "execution_count": 955,
     "metadata": {},
     "output_type": "execute_result"
    }
   ],
   "source": [
    "len(zi2)"
   ]
  },
  {
   "cell_type": "code",
   "execution_count": 963,
   "id": "3329cd88-f3fc-4cc7-a55f-dc6c3e7872df",
   "metadata": {},
   "outputs": [
    {
     "name": "stdout",
     "output_type": "stream",
     "text": [
      "2359.9254180068415\n",
      "2359\n",
      "2359\n",
      "2359\n",
      "2359\n",
      "2359\n",
      "2359\n",
      "2359\n",
      "2359\n",
      "2359\n",
      "2359\n",
      "2359\n",
      "2359\n",
      "2359\n",
      "2359\n",
      "2359\n",
      "2359\n",
      "2359\n",
      "2359\n",
      "2359\n",
      "2359.9114332628787\n",
      "2359\n",
      "2359\n",
      "2359\n",
      "2359\n"
     ]
    }
   ],
   "source": [
    "for _ in range(25):\n",
    "    print(zi + zi2)"
   ]
  },
  {
   "cell_type": "code",
   "execution_count": 964,
   "id": "6738fb97-d6dc-4ddb-9d52-22f95d678dea",
   "metadata": {},
   "outputs": [],
   "source": [
    "x = 1"
   ]
  },
  {
   "cell_type": "code",
   "execution_count": 965,
   "id": "18589506-b877-4b39-9ec6-b2344ea243ae",
   "metadata": {},
   "outputs": [
    {
     "data": {
      "text/plain": [
       "3"
      ]
     },
     "execution_count": 965,
     "metadata": {},
     "output_type": "execute_result"
    }
   ],
   "source": [
    "x + 2"
   ]
  },
  {
   "cell_type": "code",
   "execution_count": 966,
   "id": "a6bafd53-cf94-42f8-8dbe-a033d2104b7d",
   "metadata": {},
   "outputs": [
    {
     "data": {
      "text/plain": [
       "3"
      ]
     },
     "execution_count": 966,
     "metadata": {},
     "output_type": "execute_result"
    }
   ],
   "source": [
    "x.__add__(2)"
   ]
  },
  {
   "cell_type": "code",
   "execution_count": 967,
   "id": "72fcd748-4db2-4707-9d44-501a4c01025f",
   "metadata": {},
   "outputs": [
    {
     "data": {
      "text/plain": [
       "3"
      ]
     },
     "execution_count": 967,
     "metadata": {},
     "output_type": "execute_result"
    }
   ],
   "source": [
    "int.__add__(x, 2)"
   ]
  },
  {
   "cell_type": "code",
   "execution_count": 968,
   "id": "08f5c71a-9de7-4b20-b591-b84264e1ff14",
   "metadata": {},
   "outputs": [],
   "source": [
    "class Person:\n",
    "    def __init__(self, person_name):\n",
    "        self.name = person_name"
   ]
  },
  {
   "cell_type": "code",
   "execution_count": 969,
   "id": "5b164c7f-1053-4ea9-8c7b-d2c7e662cc1f",
   "metadata": {},
   "outputs": [],
   "source": [
    "class BankAccount: # by convention class names are Pascal Case\n",
    "    \"\"\"A class (or type) that represents a bank account.\"\"\"\n",
    "    routing_number = 307074580\n",
    "    \n",
    "    def __init__(self, name, initial_balance):\n",
    "        self.name = name\n",
    "        self.balance = initial_balance\n",
    "        print('in __init__')\n",
    "        \n",
    "    def deposit(self, amount):\n",
    "        \"\"\"deposit function (method)\"\"\"\n",
    "        if amount > 0:\n",
    "            self.balance += amount\n",
    "            return self.balance\n",
    "        else:\n",
    "            print(\"can't deposit nonpositive amount!\")\n",
    "\n",
    "    def withdraw(self, amount):\n",
    "        if amount > 0:\n",
    "            if amount <= self.balance:\n",
    "                self.balance -= amount\n",
    "                return self.balance\n",
    "            else:\n",
    "                print(\"can't withdraw\", amount, \"or you would be overdrawn!\")\n",
    "        else:\n",
    "            print(\"can't withdraw nonpositive amount!\") "
   ]
  },
  {
   "cell_type": "code",
   "execution_count": 972,
   "id": "73a895b2-92ef-44ab-8039-ab2f1de0ad14",
   "metadata": {},
   "outputs": [],
   "source": [
    "class Person:\n",
    "    \"\"\"How about that?\"\"\"\n",
    "    species = 'Human'\n",
    "    \n",
    "    def __init__(self, name):\n",
    "        \"\"\"init!\"\"\"\n",
    "        print('__dict__', self.__dict__)\n",
    "        self.name = name\n",
    "        print('__dict__', self.__dict__)\n",
    "        print(f\"{name}'s species is {Person.species}\")"
   ]
  },
  {
   "cell_type": "code",
   "execution_count": 971,
   "id": "d0aeaa0d-b523-481d-8201-1a2d51598165",
   "metadata": {},
   "outputs": [
    {
     "name": "stdout",
     "output_type": "stream",
     "text": [
      "Help on class Person in module __main__:\n",
      "\n",
      "class Person(builtins.object)\n",
      " |  Person(name)\n",
      " |\n",
      " |  How about that?\n",
      " |\n",
      " |  Methods defined here:\n",
      " |\n",
      " |  __init__(self, name)\n",
      " |      init!\n",
      " |\n",
      " |  ----------------------------------------------------------------------\n",
      " |  Data descriptors defined here:\n",
      " |\n",
      " |  __dict__\n",
      " |      dictionary for instance variables\n",
      " |\n",
      " |  __weakref__\n",
      " |      list of weak references to the object\n",
      " |\n",
      " |  ----------------------------------------------------------------------\n",
      " |  Data and other attributes defined here:\n",
      " |\n",
      " |  species = 'Human'\n",
      "\n"
     ]
    }
   ],
   "source": [
    "help(Person)"
   ]
  },
  {
   "cell_type": "code",
   "execution_count": 973,
   "id": "d60460f8-003f-4bed-a01b-bbf006c9eeca",
   "metadata": {
    "scrolled": true
   },
   "outputs": [
    {
     "name": "stdout",
     "output_type": "stream",
     "text": [
      "Help on class str in module builtins:\n",
      "\n",
      "class str(object)\n",
      " |  str(object='') -> str\n",
      " |  str(bytes_or_buffer[, encoding[, errors]]) -> str\n",
      " |\n",
      " |  Create a new string object from the given object. If encoding or\n",
      " |  errors is specified, then the object must expose a data buffer\n",
      " |  that will be decoded using the given encoding and error handler.\n",
      " |  Otherwise, returns the result of object.__str__() (if defined)\n",
      " |  or repr(object).\n",
      " |  encoding defaults to sys.getdefaultencoding().\n",
      " |  errors defaults to 'strict'.\n",
      " |\n",
      " |  Methods defined here:\n",
      " |\n",
      " |  __add__(self, value, /)\n",
      " |      Return self+value.\n",
      " |\n",
      " |  __contains__(self, key, /)\n",
      " |      Return bool(key in self).\n",
      " |\n",
      " |  __eq__(self, value, /)\n",
      " |      Return self==value.\n",
      " |\n",
      " |  __format__(self, format_spec, /)\n",
      " |      Return a formatted version of the string as described by format_spec.\n",
      " |\n",
      " |  __ge__(self, value, /)\n",
      " |      Return self>=value.\n",
      " |\n",
      " |  __getattribute__(self, name, /)\n",
      " |      Return getattr(self, name).\n",
      " |\n",
      " |  __getitem__(self, key, /)\n",
      " |      Return self[key].\n",
      " |\n",
      " |  __getnewargs__(...)\n",
      " |\n",
      " |  __gt__(self, value, /)\n",
      " |      Return self>value.\n",
      " |\n",
      " |  __hash__(self, /)\n",
      " |      Return hash(self).\n",
      " |\n",
      " |  __iter__(self, /)\n",
      " |      Implement iter(self).\n",
      " |\n",
      " |  __le__(self, value, /)\n",
      " |      Return self<=value.\n",
      " |\n",
      " |  __len__(self, /)\n",
      " |      Return len(self).\n",
      " |\n",
      " |  __lt__(self, value, /)\n",
      " |      Return self<value.\n",
      " |\n",
      " |  __mod__(self, value, /)\n",
      " |      Return self%value.\n",
      " |\n",
      " |  __mul__(self, value, /)\n",
      " |      Return self*value.\n",
      " |\n",
      " |  __ne__(self, value, /)\n",
      " |      Return self!=value.\n",
      " |\n",
      " |  __repr__(self, /)\n",
      " |      Return repr(self).\n",
      " |\n",
      " |  __rmod__(self, value, /)\n",
      " |      Return value%self.\n",
      " |\n",
      " |  __rmul__(self, value, /)\n",
      " |      Return value*self.\n",
      " |\n",
      " |  __sizeof__(self, /)\n",
      " |      Return the size of the string in memory, in bytes.\n",
      " |\n",
      " |  __str__(self, /)\n",
      " |      Return str(self).\n",
      " |\n",
      " |  capitalize(self, /)\n",
      " |      Return a capitalized version of the string.\n",
      " |\n",
      " |      More specifically, make the first character have upper case and the rest lower\n",
      " |      case.\n",
      " |\n",
      " |  casefold(self, /)\n",
      " |      Return a version of the string suitable for caseless comparisons.\n",
      " |\n",
      " |  center(self, width, fillchar=' ', /)\n",
      " |      Return a centered string of length width.\n",
      " |\n",
      " |      Padding is done using the specified fill character (default is a space).\n",
      " |\n",
      " |  count(...)\n",
      " |      S.count(sub[, start[, end]]) -> int\n",
      " |\n",
      " |      Return the number of non-overlapping occurrences of substring sub in\n",
      " |      string S[start:end].  Optional arguments start and end are\n",
      " |      interpreted as in slice notation.\n",
      " |\n",
      " |  encode(self, /, encoding='utf-8', errors='strict')\n",
      " |      Encode the string using the codec registered for encoding.\n",
      " |\n",
      " |      encoding\n",
      " |        The encoding in which to encode the string.\n",
      " |      errors\n",
      " |        The error handling scheme to use for encoding errors.\n",
      " |        The default is 'strict' meaning that encoding errors raise a\n",
      " |        UnicodeEncodeError.  Other possible values are 'ignore', 'replace' and\n",
      " |        'xmlcharrefreplace' as well as any other name registered with\n",
      " |        codecs.register_error that can handle UnicodeEncodeErrors.\n",
      " |\n",
      " |  endswith(...)\n",
      " |      S.endswith(suffix[, start[, end]]) -> bool\n",
      " |\n",
      " |      Return True if S ends with the specified suffix, False otherwise.\n",
      " |      With optional start, test S beginning at that position.\n",
      " |      With optional end, stop comparing S at that position.\n",
      " |      suffix can also be a tuple of strings to try.\n",
      " |\n",
      " |  expandtabs(self, /, tabsize=8)\n",
      " |      Return a copy where all tab characters are expanded using spaces.\n",
      " |\n",
      " |      If tabsize is not given, a tab size of 8 characters is assumed.\n",
      " |\n",
      " |  find(...)\n",
      " |      S.find(sub[, start[, end]]) -> int\n",
      " |\n",
      " |      Return the lowest index in S where substring sub is found,\n",
      " |      such that sub is contained within S[start:end].  Optional\n",
      " |      arguments start and end are interpreted as in slice notation.\n",
      " |\n",
      " |      Return -1 on failure.\n",
      " |\n",
      " |  format(...)\n",
      " |      S.format(*args, **kwargs) -> str\n",
      " |\n",
      " |      Return a formatted version of S, using substitutions from args and kwargs.\n",
      " |      The substitutions are identified by braces ('{' and '}').\n",
      " |\n",
      " |  format_map(...)\n",
      " |      S.format_map(mapping) -> str\n",
      " |\n",
      " |      Return a formatted version of S, using substitutions from mapping.\n",
      " |      The substitutions are identified by braces ('{' and '}').\n",
      " |\n",
      " |  index(...)\n",
      " |      S.index(sub[, start[, end]]) -> int\n",
      " |\n",
      " |      Return the lowest index in S where substring sub is found,\n",
      " |      such that sub is contained within S[start:end].  Optional\n",
      " |      arguments start and end are interpreted as in slice notation.\n",
      " |\n",
      " |      Raises ValueError when the substring is not found.\n",
      " |\n",
      " |  isalnum(self, /)\n",
      " |      Return True if the string is an alpha-numeric string, False otherwise.\n",
      " |\n",
      " |      A string is alpha-numeric if all characters in the string are alpha-numeric and\n",
      " |      there is at least one character in the string.\n",
      " |\n",
      " |  isalpha(self, /)\n",
      " |      Return True if the string is an alphabetic string, False otherwise.\n",
      " |\n",
      " |      A string is alphabetic if all characters in the string are alphabetic and there\n",
      " |      is at least one character in the string.\n",
      " |\n",
      " |  isascii(self, /)\n",
      " |      Return True if all characters in the string are ASCII, False otherwise.\n",
      " |\n",
      " |      ASCII characters have code points in the range U+0000-U+007F.\n",
      " |      Empty string is ASCII too.\n",
      " |\n",
      " |  isdecimal(self, /)\n",
      " |      Return True if the string is a decimal string, False otherwise.\n",
      " |\n",
      " |      A string is a decimal string if all characters in the string are decimal and\n",
      " |      there is at least one character in the string.\n",
      " |\n",
      " |  isdigit(self, /)\n",
      " |      Return True if the string is a digit string, False otherwise.\n",
      " |\n",
      " |      A string is a digit string if all characters in the string are digits and there\n",
      " |      is at least one character in the string.\n",
      " |\n",
      " |  isidentifier(self, /)\n",
      " |      Return True if the string is a valid Python identifier, False otherwise.\n",
      " |\n",
      " |      Call keyword.iskeyword(s) to test whether string s is a reserved identifier,\n",
      " |      such as \"def\" or \"class\".\n",
      " |\n",
      " |  islower(self, /)\n",
      " |      Return True if the string is a lowercase string, False otherwise.\n",
      " |\n",
      " |      A string is lowercase if all cased characters in the string are lowercase and\n",
      " |      there is at least one cased character in the string.\n",
      " |\n",
      " |  isnumeric(self, /)\n",
      " |      Return True if the string is a numeric string, False otherwise.\n",
      " |\n",
      " |      A string is numeric if all characters in the string are numeric and there is at\n",
      " |      least one character in the string.\n",
      " |\n",
      " |  isprintable(self, /)\n",
      " |      Return True if the string is printable, False otherwise.\n",
      " |\n",
      " |      A string is printable if all of its characters are considered printable in\n",
      " |      repr() or if it is empty.\n",
      " |\n",
      " |  isspace(self, /)\n",
      " |      Return True if the string is a whitespace string, False otherwise.\n",
      " |\n",
      " |      A string is whitespace if all characters in the string are whitespace and there\n",
      " |      is at least one character in the string.\n",
      " |\n",
      " |  istitle(self, /)\n",
      " |      Return True if the string is a title-cased string, False otherwise.\n",
      " |\n",
      " |      In a title-cased string, upper- and title-case characters may only\n",
      " |      follow uncased characters and lowercase characters only cased ones.\n",
      " |\n",
      " |  isupper(self, /)\n",
      " |      Return True if the string is an uppercase string, False otherwise.\n",
      " |\n",
      " |      A string is uppercase if all cased characters in the string are uppercase and\n",
      " |      there is at least one cased character in the string.\n",
      " |\n",
      " |  join(self, iterable, /)\n",
      " |      Concatenate any number of strings.\n",
      " |\n",
      " |      The string whose method is called is inserted in between each given string.\n",
      " |      The result is returned as a new string.\n",
      " |\n",
      " |      Example: '.'.join(['ab', 'pq', 'rs']) -> 'ab.pq.rs'\n",
      " |\n",
      " |  ljust(self, width, fillchar=' ', /)\n",
      " |      Return a left-justified string of length width.\n",
      " |\n",
      " |      Padding is done using the specified fill character (default is a space).\n",
      " |\n",
      " |  lower(self, /)\n",
      " |      Return a copy of the string converted to lowercase.\n",
      " |\n",
      " |  lstrip(self, chars=None, /)\n",
      " |      Return a copy of the string with leading whitespace removed.\n",
      " |\n",
      " |      If chars is given and not None, remove characters in chars instead.\n",
      " |\n",
      " |  partition(self, sep, /)\n",
      " |      Partition the string into three parts using the given separator.\n",
      " |\n",
      " |      This will search for the separator in the string.  If the separator is found,\n",
      " |      returns a 3-tuple containing the part before the separator, the separator\n",
      " |      itself, and the part after it.\n",
      " |\n",
      " |      If the separator is not found, returns a 3-tuple containing the original string\n",
      " |      and two empty strings.\n",
      " |\n",
      " |  removeprefix(self, prefix, /)\n",
      " |      Return a str with the given prefix string removed if present.\n",
      " |\n",
      " |      If the string starts with the prefix string, return string[len(prefix):].\n",
      " |      Otherwise, return a copy of the original string.\n",
      " |\n",
      " |  removesuffix(self, suffix, /)\n",
      " |      Return a str with the given suffix string removed if present.\n",
      " |\n",
      " |      If the string ends with the suffix string and that suffix is not empty,\n",
      " |      return string[:-len(suffix)]. Otherwise, return a copy of the original\n",
      " |      string.\n",
      " |\n",
      " |  replace(self, old, new, count=-1, /)\n",
      " |      Return a copy with all occurrences of substring old replaced by new.\n",
      " |\n",
      " |        count\n",
      " |          Maximum number of occurrences to replace.\n",
      " |          -1 (the default value) means replace all occurrences.\n",
      " |\n",
      " |      If the optional argument count is given, only the first count occurrences are\n",
      " |      replaced.\n",
      " |\n",
      " |  rfind(...)\n",
      " |      S.rfind(sub[, start[, end]]) -> int\n",
      " |\n",
      " |      Return the highest index in S where substring sub is found,\n",
      " |      such that sub is contained within S[start:end].  Optional\n",
      " |      arguments start and end are interpreted as in slice notation.\n",
      " |\n",
      " |      Return -1 on failure.\n",
      " |\n",
      " |  rindex(...)\n",
      " |      S.rindex(sub[, start[, end]]) -> int\n",
      " |\n",
      " |      Return the highest index in S where substring sub is found,\n",
      " |      such that sub is contained within S[start:end].  Optional\n",
      " |      arguments start and end are interpreted as in slice notation.\n",
      " |\n",
      " |      Raises ValueError when the substring is not found.\n",
      " |\n",
      " |  rjust(self, width, fillchar=' ', /)\n",
      " |      Return a right-justified string of length width.\n",
      " |\n",
      " |      Padding is done using the specified fill character (default is a space).\n",
      " |\n",
      " |  rpartition(self, sep, /)\n",
      " |      Partition the string into three parts using the given separator.\n",
      " |\n",
      " |      This will search for the separator in the string, starting at the end. If\n",
      " |      the separator is found, returns a 3-tuple containing the part before the\n",
      " |      separator, the separator itself, and the part after it.\n",
      " |\n",
      " |      If the separator is not found, returns a 3-tuple containing two empty strings\n",
      " |      and the original string.\n",
      " |\n",
      " |  rsplit(self, /, sep=None, maxsplit=-1)\n",
      " |      Return a list of the substrings in the string, using sep as the separator string.\n",
      " |\n",
      " |        sep\n",
      " |          The separator used to split the string.\n",
      " |\n",
      " |          When set to None (the default value), will split on any whitespace\n",
      " |          character (including \\n \\r \\t \\f and spaces) and will discard\n",
      " |          empty strings from the result.\n",
      " |        maxsplit\n",
      " |          Maximum number of splits.\n",
      " |          -1 (the default value) means no limit.\n",
      " |\n",
      " |      Splitting starts at the end of the string and works to the front.\n",
      " |\n",
      " |  rstrip(self, chars=None, /)\n",
      " |      Return a copy of the string with trailing whitespace removed.\n",
      " |\n",
      " |      If chars is given and not None, remove characters in chars instead.\n",
      " |\n",
      " |  split(self, /, sep=None, maxsplit=-1)\n",
      " |      Return a list of the substrings in the string, using sep as the separator string.\n",
      " |\n",
      " |        sep\n",
      " |          The separator used to split the string.\n",
      " |\n",
      " |          When set to None (the default value), will split on any whitespace\n",
      " |          character (including \\n \\r \\t \\f and spaces) and will discard\n",
      " |          empty strings from the result.\n",
      " |        maxsplit\n",
      " |          Maximum number of splits.\n",
      " |          -1 (the default value) means no limit.\n",
      " |\n",
      " |      Splitting starts at the front of the string and works to the end.\n",
      " |\n",
      " |      Note, str.split() is mainly useful for data that has been intentionally\n",
      " |      delimited.  With natural text that includes punctuation, consider using\n",
      " |      the regular expression module.\n",
      " |\n",
      " |  splitlines(self, /, keepends=False)\n",
      " |      Return a list of the lines in the string, breaking at line boundaries.\n",
      " |\n",
      " |      Line breaks are not included in the resulting list unless keepends is given and\n",
      " |      true.\n",
      " |\n",
      " |  startswith(...)\n",
      " |      S.startswith(prefix[, start[, end]]) -> bool\n",
      " |\n",
      " |      Return True if S starts with the specified prefix, False otherwise.\n",
      " |      With optional start, test S beginning at that position.\n",
      " |      With optional end, stop comparing S at that position.\n",
      " |      prefix can also be a tuple of strings to try.\n",
      " |\n",
      " |  strip(self, chars=None, /)\n",
      " |      Return a copy of the string with leading and trailing whitespace removed.\n",
      " |\n",
      " |      If chars is given and not None, remove characters in chars instead.\n",
      " |\n",
      " |  swapcase(self, /)\n",
      " |      Convert uppercase characters to lowercase and lowercase characters to uppercase.\n",
      " |\n",
      " |  title(self, /)\n",
      " |      Return a version of the string where each word is titlecased.\n",
      " |\n",
      " |      More specifically, words start with uppercased characters and all remaining\n",
      " |      cased characters have lower case.\n",
      " |\n",
      " |  translate(self, table, /)\n",
      " |      Replace each character in the string using the given translation table.\n",
      " |\n",
      " |        table\n",
      " |          Translation table, which must be a mapping of Unicode ordinals to\n",
      " |          Unicode ordinals, strings, or None.\n",
      " |\n",
      " |      The table must implement lookup/indexing via __getitem__, for instance a\n",
      " |      dictionary or list.  If this operation raises LookupError, the character is\n",
      " |      left untouched.  Characters mapped to None are deleted.\n",
      " |\n",
      " |  upper(self, /)\n",
      " |      Return a copy of the string converted to uppercase.\n",
      " |\n",
      " |  zfill(self, width, /)\n",
      " |      Pad a numeric string with zeros on the left, to fill a field of the given width.\n",
      " |\n",
      " |      The string is never truncated.\n",
      " |\n",
      " |  ----------------------------------------------------------------------\n",
      " |  Static methods defined here:\n",
      " |\n",
      " |  __new__(*args, **kwargs) from builtins.type\n",
      " |      Create and return a new object.  See help(type) for accurate signature.\n",
      " |\n",
      " |  maketrans(...)\n",
      " |      Return a translation table usable for str.translate().\n",
      " |\n",
      " |      If there is only one argument, it must be a dictionary mapping Unicode\n",
      " |      ordinals (integers) or characters to Unicode ordinals, strings or None.\n",
      " |      Character keys will be then converted to ordinals.\n",
      " |      If there are two arguments, they must be strings of equal length, and\n",
      " |      in the resulting dictionary, each character in x will be mapped to the\n",
      " |      character at the same position in y. If there is a third argument, it\n",
      " |      must be a string, whose characters will be mapped to None in the result.\n",
      "\n"
     ]
    }
   ],
   "source": [
    "help(str)"
   ]
  },
  {
   "cell_type": "code",
   "execution_count": 974,
   "id": "68d43892-917f-4753-b264-2082599b47d1",
   "metadata": {},
   "outputs": [],
   "source": [
    "new_string = str(\n",
    ")"
   ]
  },
  {
   "cell_type": "code",
   "execution_count": 975,
   "id": "4c5f9c99-a448-4ba1-8530-41b5f22bcebd",
   "metadata": {},
   "outputs": [
    {
     "data": {
      "text/plain": [
       "''"
      ]
     },
     "execution_count": 975,
     "metadata": {},
     "output_type": "execute_result"
    }
   ],
   "source": [
    "new_string"
   ]
  },
  {
   "cell_type": "code",
   "execution_count": 976,
   "id": "ca160aea-35dc-4ab7-bc34-9e7d5e394785",
   "metadata": {},
   "outputs": [
    {
     "data": {
      "text/plain": [
       "True"
      ]
     },
     "execution_count": 976,
     "metadata": {},
     "output_type": "execute_result"
    }
   ],
   "source": [
    "'vent' in 'Cvent'"
   ]
  },
  {
   "cell_type": "code",
   "execution_count": 977,
   "id": "8e633d5b-8216-4d60-8b73-74e10d929626",
   "metadata": {},
   "outputs": [
    {
     "data": {
      "text/plain": [
       "True"
      ]
     },
     "execution_count": 977,
     "metadata": {},
     "output_type": "execute_result"
    }
   ],
   "source": [
    "'C' in 'Cvent'"
   ]
  },
  {
   "cell_type": "code",
   "execution_count": 978,
   "id": "ba919ce8-eb56-41f2-82e8-45c140ca18d8",
   "metadata": {},
   "outputs": [],
   "source": [
    "class Word(str):\n",
    "    def __lt__(self, other):\n",
    "        # compute length of each Word (string)\n",
    "        # ask if length of first Word < length of second Word\n",
    "        print(f'{self} < {other} = {len(self) < len(other)}')\n",
    "        return len(self) < len(other)\n",
    " \n",
    "    def __gt__(self, other):\n",
    "        return len(self) > len(other)\n",
    "\n",
    "    def __ge__(self, other):\n",
    "        return len(self) >= len(other)\n",
    "    \n",
    "    def __le__(self, other):\n",
    "        return len(self) <= len(other)\n",
    "    \n",
    "    def __eq__(self, other):\n",
    "        return len(self) == len(other)\n",
    "\n",
    "    def __contains__(self, key):\n",
    "        print('Joanna says right method?')\n",
    "        return False"
   ]
  },
  {
   "cell_type": "code",
   "execution_count": 979,
   "id": "7895274e-9617-43f5-b71b-2c986dc3f6a4",
   "metadata": {},
   "outputs": [],
   "source": [
    "word1 = Word('apple')\n",
    "word2 = Word('fig')"
   ]
  },
  {
   "cell_type": "code",
   "execution_count": 980,
   "id": "22df66b8-aafe-4944-851f-b77019e30a09",
   "metadata": {},
   "outputs": [
    {
     "name": "stdout",
     "output_type": "stream",
     "text": [
      "Joanna says right method?\n"
     ]
    },
    {
     "data": {
      "text/plain": [
       "False"
      ]
     },
     "execution_count": 980,
     "metadata": {},
     "output_type": "execute_result"
    }
   ],
   "source": [
    "word2 in word1"
   ]
  },
  {
   "cell_type": "code",
   "execution_count": 981,
   "id": "29725df7-0f6d-4d67-9d3e-b6cf03de8b7a",
   "metadata": {},
   "outputs": [
    {
     "name": "stdout",
     "output_type": "stream",
     "text": [
      "Joanna says right method?\n"
     ]
    },
    {
     "data": {
      "text/plain": [
       "False"
      ]
     },
     "execution_count": 981,
     "metadata": {},
     "output_type": "execute_result"
    }
   ],
   "source": [
    "'pale' in word1"
   ]
  },
  {
   "cell_type": "code",
   "execution_count": 982,
   "id": "2c2403d7-3fa7-48af-9fd3-35bfd6ac94cd",
   "metadata": {},
   "outputs": [
    {
     "data": {
      "text/plain": [
       "False"
      ]
     },
     "execution_count": 982,
     "metadata": {},
     "output_type": "execute_result"
    }
   ],
   "source": [
    "'pale' in 'apple'"
   ]
  },
  {
   "cell_type": "code",
   "execution_count": null,
   "id": "49594824-1510-41aa-a117-c7fcb2f590ef",
   "metadata": {},
   "outputs": [],
   "source": [
    "class Word(str):\n",
    "    def __lt__(self, other):\n",
    "        # compute length of each Word (string)\n",
    "        # ask if length of first Word < length of second Word\n",
    "        print(f'{self} < {other} = {len(self) < len(other)}')\n",
    "        return len(self) < len(other)\n",
    " \n",
    "    def __gt__(self, other):\n",
    "        return len(self) > len(other)\n",
    "\n",
    "    def __ge__(self, other):\n",
    "        return len(self) >= len(other)\n",
    "    \n",
    "    def __le__(self, other):\n",
    "        return len(self) <= len(other)\n",
    "    \n",
    "    def __eq__(self, other):\n",
    "        return len(self) == len(other)\n",
    "\n",
    "    def __contains__(self, key):\n",
    "        \n",
    "        return False"
   ]
  },
  {
   "cell_type": "code",
   "execution_count": 984,
   "id": "06c91d06-1547-49c6-9f78-c54340a85a8d",
   "metadata": {},
   "outputs": [
    {
     "data": {
      "text/plain": [
       "['p', 'a', 'l', 'e']"
      ]
     },
     "execution_count": 984,
     "metadata": {},
     "output_type": "execute_result"
    }
   ],
   "source": [
    "list('pale')"
   ]
  },
  {
   "cell_type": "code",
   "execution_count": 985,
   "id": "55a84965-82d9-4440-aef5-eb86fb1fb2bf",
   "metadata": {},
   "outputs": [
    {
     "data": {
      "text/plain": [
       "['a', 'p', 'p', 'l', 'e']"
      ]
     },
     "execution_count": 985,
     "metadata": {},
     "output_type": "execute_result"
    }
   ],
   "source": [
    "list('apple')"
   ]
  },
  {
   "cell_type": "code",
   "execution_count": 989,
   "id": "4061d9fa-3a31-4990-a13c-9387b951e3cf",
   "metadata": {},
   "outputs": [
    {
     "data": {
      "text/plain": [
       "False"
      ]
     },
     "execution_count": 989,
     "metadata": {},
     "output_type": "execute_result"
    }
   ],
   "source": [
    "'apple' in 'leapfrog'"
   ]
  },
  {
   "cell_type": "code",
   "execution_count": 987,
   "id": "aaedc2e2-0923-4304-aba3-472131018dba",
   "metadata": {},
   "outputs": [
    {
     "data": {
      "text/plain": [
       "{'a', 'e', 'l', 'p'}"
      ]
     },
     "execution_count": 987,
     "metadata": {},
     "output_type": "execute_result"
    }
   ],
   "source": [
    "set('apple')"
   ]
  },
  {
   "cell_type": "code",
   "execution_count": 990,
   "id": "67cf119d-8092-49e9-941c-d3e6c859c93b",
   "metadata": {},
   "outputs": [
    {
     "data": {
      "text/plain": [
       "{'a', 'e', 'f', 'g', 'l', 'o', 'p', 'r'}"
      ]
     },
     "execution_count": 990,
     "metadata": {},
     "output_type": "execute_result"
    }
   ],
   "source": [
    "set('leapfrog')"
   ]
  },
  {
   "cell_type": "code",
   "execution_count": 991,
   "id": "65733f29-084a-4c4c-ac1d-3af8df310fa5",
   "metadata": {},
   "outputs": [
    {
     "name": "stdout",
     "output_type": "stream",
     "text": [
      "Help on class set in module builtins:\n",
      "\n",
      "class set(object)\n",
      " |  set() -> new empty set object\n",
      " |  set(iterable) -> new set object\n",
      " |\n",
      " |  Build an unordered collection of unique elements.\n",
      " |\n",
      " |  Methods defined here:\n",
      " |\n",
      " |  __and__(self, value, /)\n",
      " |      Return self&value.\n",
      " |\n",
      " |  __contains__(...)\n",
      " |      x.__contains__(y) <==> y in x.\n",
      " |\n",
      " |  __eq__(self, value, /)\n",
      " |      Return self==value.\n",
      " |\n",
      " |  __ge__(self, value, /)\n",
      " |      Return self>=value.\n",
      " |\n",
      " |  __getattribute__(self, name, /)\n",
      " |      Return getattr(self, name).\n",
      " |\n",
      " |  __gt__(self, value, /)\n",
      " |      Return self>value.\n",
      " |\n",
      " |  __iand__(self, value, /)\n",
      " |      Return self&=value.\n",
      " |\n",
      " |  __init__(self, /, *args, **kwargs)\n",
      " |      Initialize self.  See help(type(self)) for accurate signature.\n",
      " |\n",
      " |  __ior__(self, value, /)\n",
      " |      Return self|=value.\n",
      " |\n",
      " |  __isub__(self, value, /)\n",
      " |      Return self-=value.\n",
      " |\n",
      " |  __iter__(self, /)\n",
      " |      Implement iter(self).\n",
      " |\n",
      " |  __ixor__(self, value, /)\n",
      " |      Return self^=value.\n",
      " |\n",
      " |  __le__(self, value, /)\n",
      " |      Return self<=value.\n",
      " |\n",
      " |  __len__(self, /)\n",
      " |      Return len(self).\n",
      " |\n",
      " |  __lt__(self, value, /)\n",
      " |      Return self<value.\n",
      " |\n",
      " |  __ne__(self, value, /)\n",
      " |      Return self!=value.\n",
      " |\n",
      " |  __or__(self, value, /)\n",
      " |      Return self|value.\n",
      " |\n",
      " |  __rand__(self, value, /)\n",
      " |      Return value&self.\n",
      " |\n",
      " |  __reduce__(...)\n",
      " |      Return state information for pickling.\n",
      " |\n",
      " |  __repr__(self, /)\n",
      " |      Return repr(self).\n",
      " |\n",
      " |  __ror__(self, value, /)\n",
      " |      Return value|self.\n",
      " |\n",
      " |  __rsub__(self, value, /)\n",
      " |      Return value-self.\n",
      " |\n",
      " |  __rxor__(self, value, /)\n",
      " |      Return value^self.\n",
      " |\n",
      " |  __sizeof__(...)\n",
      " |      S.__sizeof__() -> size of S in memory, in bytes\n",
      " |\n",
      " |  __sub__(self, value, /)\n",
      " |      Return self-value.\n",
      " |\n",
      " |  __xor__(self, value, /)\n",
      " |      Return self^value.\n",
      " |\n",
      " |  add(...)\n",
      " |      Add an element to a set.\n",
      " |\n",
      " |      This has no effect if the element is already present.\n",
      " |\n",
      " |  clear(...)\n",
      " |      Remove all elements from this set.\n",
      " |\n",
      " |  copy(...)\n",
      " |      Return a shallow copy of a set.\n",
      " |\n",
      " |  difference(...)\n",
      " |      Return the difference of two or more sets as a new set.\n",
      " |\n",
      " |      (i.e. all elements that are in this set but not the others.)\n",
      " |\n",
      " |  difference_update(...)\n",
      " |      Remove all elements of another set from this set.\n",
      " |\n",
      " |  discard(...)\n",
      " |      Remove an element from a set if it is a member.\n",
      " |\n",
      " |      Unlike set.remove(), the discard() method does not raise\n",
      " |      an exception when an element is missing from the set.\n",
      " |\n",
      " |  intersection(...)\n",
      " |      Return the intersection of two sets as a new set.\n",
      " |\n",
      " |      (i.e. all elements that are in both sets.)\n",
      " |\n",
      " |  intersection_update(...)\n",
      " |      Update a set with the intersection of itself and another.\n",
      " |\n",
      " |  isdisjoint(...)\n",
      " |      Return True if two sets have a null intersection.\n",
      " |\n",
      " |  issubset(self, other, /)\n",
      " |      Test whether every element in the set is in other.\n",
      " |\n",
      " |  issuperset(self, other, /)\n",
      " |      Test whether every element in other is in the set.\n",
      " |\n",
      " |  pop(...)\n",
      " |      Remove and return an arbitrary set element.\n",
      " |      Raises KeyError if the set is empty.\n",
      " |\n",
      " |  remove(...)\n",
      " |      Remove an element from a set; it must be a member.\n",
      " |\n",
      " |      If the element is not a member, raise a KeyError.\n",
      " |\n",
      " |  symmetric_difference(...)\n",
      " |      Return the symmetric difference of two sets as a new set.\n",
      " |\n",
      " |      (i.e. all elements that are in exactly one of the sets.)\n",
      " |\n",
      " |  symmetric_difference_update(...)\n",
      " |      Update a set with the symmetric difference of itself and another.\n",
      " |\n",
      " |  union(...)\n",
      " |      Return the union of sets as a new set.\n",
      " |\n",
      " |      (i.e. all elements that are in either set.)\n",
      " |\n",
      " |  update(...)\n",
      " |      Update a set with the union of itself and others.\n",
      " |\n",
      " |  ----------------------------------------------------------------------\n",
      " |  Class methods defined here:\n",
      " |\n",
      " |  __class_getitem__(...) from builtins.type\n",
      " |      See PEP 585\n",
      " |\n",
      " |  ----------------------------------------------------------------------\n",
      " |  Static methods defined here:\n",
      " |\n",
      " |  __new__(*args, **kwargs) from builtins.type\n",
      " |      Create and return a new object.  See help(type) for accurate signature.\n",
      " |\n",
      " |  ----------------------------------------------------------------------\n",
      " |  Data and other attributes defined here:\n",
      " |\n",
      " |  __hash__ = None\n",
      "\n"
     ]
    }
   ],
   "source": [
    "help(set)"
   ]
  },
  {
   "cell_type": "code",
   "execution_count": 992,
   "id": "d50273e9-512c-4f9a-a46d-e2cf69658744",
   "metadata": {},
   "outputs": [
    {
     "data": {
      "text/plain": [
       "True"
      ]
     },
     "execution_count": 992,
     "metadata": {},
     "output_type": "execute_result"
    }
   ],
   "source": [
    "{1, 2, 3} < { 1, 2, 3, 4 }"
   ]
  },
  {
   "cell_type": "code",
   "execution_count": 993,
   "id": "fe7149c4-5164-4e6d-91ec-b740fb37d114",
   "metadata": {},
   "outputs": [
    {
     "data": {
      "text/plain": [
       "False"
      ]
     },
     "execution_count": 993,
     "metadata": {},
     "output_type": "execute_result"
    }
   ],
   "source": [
    "{ 1, 2, 3 } < { 2, 3, 4, 5 }"
   ]
  },
  {
   "cell_type": "code",
   "execution_count": 995,
   "id": "baba5f29-6f85-40f3-8b46-dd6c2eb1eb53",
   "metadata": {},
   "outputs": [
    {
     "data": {
      "text/plain": [
       "True"
      ]
     },
     "execution_count": 995,
     "metadata": {},
     "output_type": "execute_result"
    }
   ],
   "source": [
    "{1, 2, 3 } <= { 1, 2, 3 }"
   ]
  },
  {
   "cell_type": "code",
   "execution_count": 996,
   "id": "0848f5fa-70d8-4b02-a17c-57400316bbba",
   "metadata": {},
   "outputs": [],
   "source": [
    "class Word(str):\n",
    "    def __lt__(self, other):\n",
    "        # compute length of each Word (string)\n",
    "        # ask if length of first Word < length of second Word\n",
    "        print(f'{self} < {other} = {len(self) < len(other)}')\n",
    "        return len(self) < len(other)\n",
    " \n",
    "    def __gt__(self, other):\n",
    "        return len(self) > len(other)\n",
    "\n",
    "    def __ge__(self, other):\n",
    "        return len(self) >= len(other)\n",
    "    \n",
    "    def __le__(self, other):\n",
    "        return len(self) <= len(other)\n",
    "    \n",
    "    def __eq__(self, other):\n",
    "        return len(self) == len(other)\n",
    "\n",
    "    def __contains__(self, key):\n",
    "        return set(key) <= set(self)"
   ]
  },
  {
   "cell_type": "code",
   "execution_count": 997,
   "id": "b09440a7-be5d-4795-87e5-5c136c85f590",
   "metadata": {},
   "outputs": [
    {
     "data": {
      "text/plain": [
       "False"
      ]
     },
     "execution_count": 997,
     "metadata": {},
     "output_type": "execute_result"
    }
   ],
   "source": [
    "'apple' in 'leapfrog'"
   ]
  },
  {
   "cell_type": "code",
   "execution_count": 998,
   "id": "2661d38d-fb01-4900-a6b6-b22888dcc8aa",
   "metadata": {},
   "outputs": [
    {
     "data": {
      "text/plain": [
       "True"
      ]
     },
     "execution_count": 998,
     "metadata": {},
     "output_type": "execute_result"
    }
   ],
   "source": [
    "'apple' in Word('leapfrog')"
   ]
  },
  {
   "cell_type": "code",
   "execution_count": 999,
   "id": "1b0821cd-0770-46c2-8177-e6c200e5db73",
   "metadata": {},
   "outputs": [
    {
     "data": {
      "text/plain": [
       "False"
      ]
     },
     "execution_count": 999,
     "metadata": {},
     "output_type": "execute_result"
    }
   ],
   "source": [
    "'apple' in Word('pelt')"
   ]
  },
  {
   "cell_type": "code",
   "execution_count": 1000,
   "id": "4e73caf1-dbec-4091-af84-bd743db7163c",
   "metadata": {},
   "outputs": [
    {
     "data": {
      "text/plain": [
       "True"
      ]
     },
     "execution_count": 1000,
     "metadata": {},
     "output_type": "execute_result"
    }
   ],
   "source": [
    "'apple' in Word('pelt apple at your teacher')"
   ]
  },
  {
   "cell_type": "code",
   "execution_count": 1001,
   "id": "60be3307-a599-4bc0-b63d-a43e40a921ea",
   "metadata": {},
   "outputs": [
    {
     "data": {
      "text/plain": [
       "['__add__',\n",
       " '__class__',\n",
       " '__contains__',\n",
       " '__delattr__',\n",
       " '__dict__',\n",
       " '__dir__',\n",
       " '__doc__',\n",
       " '__eq__',\n",
       " '__format__',\n",
       " '__ge__',\n",
       " '__getattribute__',\n",
       " '__getitem__',\n",
       " '__getnewargs__',\n",
       " '__getstate__',\n",
       " '__gt__',\n",
       " '__hash__',\n",
       " '__init__',\n",
       " '__init_subclass__',\n",
       " '__iter__',\n",
       " '__le__',\n",
       " '__len__',\n",
       " '__lt__',\n",
       " '__mod__',\n",
       " '__module__',\n",
       " '__mul__',\n",
       " '__ne__',\n",
       " '__new__',\n",
       " '__reduce__',\n",
       " '__reduce_ex__',\n",
       " '__repr__',\n",
       " '__rmod__',\n",
       " '__rmul__',\n",
       " '__setattr__',\n",
       " '__sizeof__',\n",
       " '__str__',\n",
       " '__subclasshook__',\n",
       " '__weakref__',\n",
       " 'capitalize',\n",
       " 'casefold',\n",
       " 'center',\n",
       " 'count',\n",
       " 'encode',\n",
       " 'endswith',\n",
       " 'expandtabs',\n",
       " 'find',\n",
       " 'format',\n",
       " 'format_map',\n",
       " 'index',\n",
       " 'isalnum',\n",
       " 'isalpha',\n",
       " 'isascii',\n",
       " 'isdecimal',\n",
       " 'isdigit',\n",
       " 'isidentifier',\n",
       " 'islower',\n",
       " 'isnumeric',\n",
       " 'isprintable',\n",
       " 'isspace',\n",
       " 'istitle',\n",
       " 'isupper',\n",
       " 'join',\n",
       " 'ljust',\n",
       " 'lower',\n",
       " 'lstrip',\n",
       " 'maketrans',\n",
       " 'partition',\n",
       " 'removeprefix',\n",
       " 'removesuffix',\n",
       " 'replace',\n",
       " 'rfind',\n",
       " 'rindex',\n",
       " 'rjust',\n",
       " 'rpartition',\n",
       " 'rsplit',\n",
       " 'rstrip',\n",
       " 'split',\n",
       " 'splitlines',\n",
       " 'startswith',\n",
       " 'strip',\n",
       " 'swapcase',\n",
       " 'title',\n",
       " 'translate',\n",
       " 'upper',\n",
       " 'zfill']"
      ]
     },
     "execution_count": 1001,
     "metadata": {},
     "output_type": "execute_result"
    }
   ],
   "source": [
    "dir(Word)"
   ]
  },
  {
   "cell_type": "code",
   "execution_count": 1145,
   "id": "27d1091c-b4a1-4e7a-a15e-06512ed45d92",
   "metadata": {},
   "outputs": [
    {
     "data": {
      "text/plain": [
       "-1"
      ]
     },
     "execution_count": 1145,
     "metadata": {},
     "output_type": "execute_result"
    }
   ],
   "source": [
    "s = Solution()\n",
    "s.minimumNumbers(2, 8)"
   ]
  },
  {
   "cell_type": "code",
   "execution_count": 1142,
   "id": "62fd5ba6-148c-4be5-a237-b40125da93ea",
   "metadata": {},
   "outputs": [
    {
     "name": "stdout",
     "output_type": "stream",
     "text": [
      "k_nums = [3]\n",
      "possible_solution is [3]\n"
     ]
    },
    {
     "data": {
      "text/plain": [
       "1"
      ]
     },
     "execution_count": 1142,
     "metadata": {},
     "output_type": "execute_result"
    }
   ],
   "source": [
    "s = Solution()\n",
    "s.minimumNumbers(3, 3)"
   ]
  },
  {
   "cell_type": "code",
   "execution_count": 1152,
   "id": "1d22ecf8-0f65-44bd-b85a-f7801cf07d85",
   "metadata": {},
   "outputs": [
    {
     "data": {
      "text/plain": [
       "0"
      ]
     },
     "execution_count": 1152,
     "metadata": {},
     "output_type": "execute_result"
    }
   ],
   "source": [
    "num, k = 58, 9\n",
    "(10 + num % 10) % k"
   ]
  },
  {
   "cell_type": "code",
   "execution_count": 1151,
   "id": "71715b15-857d-472c-81fc-588b74cd3a91",
   "metadata": {},
   "outputs": [
    {
     "name": "stdout",
     "output_type": "stream",
     "text": [
      "k_nums = [49, 39, 29, 19, 9]\n",
      "special case\n"
     ]
    },
    {
     "data": {
      "text/plain": [
       "-1"
      ]
     },
     "execution_count": 1151,
     "metadata": {},
     "output_type": "execute_result"
    }
   ],
   "source": [
    "s = Solution()\n",
    "s.minimumNumbers(58, 9)"
   ]
  },
  {
   "cell_type": "code",
   "execution_count": 1110,
   "id": "51d6d309-f063-4260-a828-e4fe29ed4476",
   "metadata": {},
   "outputs": [
    {
     "name": "stdout",
     "output_type": "stream",
     "text": [
      "k_nums = [27, 17, 7]\n"
     ]
    },
    {
     "data": {
      "text/plain": [
       "-1"
      ]
     },
     "execution_count": 1110,
     "metadata": {},
     "output_type": "execute_result"
    }
   ],
   "source": [
    "s = Solution()\n",
    "s.minimumNumbers(32, 7)"
   ]
  },
  {
   "cell_type": "code",
   "execution_count": 1137,
   "id": "a7a4eb1d-c4ad-4adb-ab5f-a4cca2764366",
   "metadata": {},
   "outputs": [
    {
     "name": "stdout",
     "output_type": "stream",
     "text": [
      "k_nums = [26, 16, 6]\n"
     ]
    },
    {
     "data": {
      "text/plain": [
       "-1"
      ]
     },
     "execution_count": 1137,
     "metadata": {},
     "output_type": "execute_result"
    }
   ],
   "source": [
    "s = Solution()\n",
    "s.minimumNumbers(32, 6)"
   ]
  },
  {
   "cell_type": "code",
   "execution_count": 1138,
   "id": "88a13950-b4ec-4e2b-8c17-1a9a4381243a",
   "metadata": {},
   "outputs": [
    {
     "name": "stdout",
     "output_type": "stream",
     "text": [
      "k_nums = [355, 345, 335, 325, 315, 305, 295, 285, 275, 265, 255, 245, 235, 225, 215, 205, 195, 185, 175, 165, 155, 145, 135, 125, 115, 105, 95, 85, 75, 65, 55, 45, 35, 25, 15, 5]\n",
      "possible_solution is [355]\n",
      "possible_solution is [355]\n",
      "possible_solution is [355]\n",
      "possible_solution is [355]\n",
      "possible_solution is [355]\n",
      "possible_solution is [355]\n",
      "possible_solution is [355]\n",
      "possible_solution is [355]\n",
      "possible_solution is [355]\n",
      "possible_solution is [355]\n",
      "possible_solution is [355]\n",
      "possible_solution is [355]\n",
      "possible_solution is [355]\n",
      "possible_solution is [355]\n",
      "possible_solution is [355]\n",
      "possible_solution is [355]\n",
      "possible_solution is [355]\n",
      "possible_solution is [355]\n",
      "possible_solution is [355]\n",
      "possible_solution is [355]\n",
      "possible_solution is [355]\n",
      "possible_solution is [355]\n",
      "possible_solution is [355]\n",
      "possible_solution is [355]\n",
      "possible_solution is [355]\n",
      "possible_solution is [355]\n",
      "possible_solution is [355]\n",
      "possible_solution is [355]\n",
      "possible_solution is [355]\n",
      "possible_solution is [355]\n",
      "possible_solution is [355]\n",
      "possible_solution is [355]\n",
      "possible_solution is [355]\n",
      "possible_solution is [355]\n",
      "possible_solution is [355]\n",
      "possible_solution is [355]\n"
     ]
    },
    {
     "data": {
      "text/plain": [
       "1"
      ]
     },
     "execution_count": 1138,
     "metadata": {},
     "output_type": "execute_result"
    }
   ],
   "source": [
    "s = Solution()\n",
    "s.minimumNumbers(360, 5)"
   ]
  },
  {
   "cell_type": "code",
   "execution_count": 1115,
   "id": "40122489-0a9b-44d5-9dc4-727da9727cf0",
   "metadata": {},
   "outputs": [
    {
     "name": "stdout",
     "output_type": "stream",
     "text": [
      "k_nums = [351, 341, 331, 321, 311, 301, 291, 281, 271, 261, 251, 241, 231, 221, 211, 201, 191, 181, 171, 161, 151, 141, 131, 121, 111, 101, 91, 81, 71, 61, 51, 41, 31, 21, 11, 1]\n",
      "append 351\n",
      "append 1\n",
      "append 1\n",
      "append 1\n",
      "append 1\n",
      "possible_solution is [351, 1, 1, 1, 1]\n"
     ]
    },
    {
     "data": {
      "text/plain": [
       "5"
      ]
     },
     "execution_count": 1115,
     "metadata": {},
     "output_type": "execute_result"
    }
   ],
   "source": [
    "s = Solution()\n",
    "s.minimumNumbers(355, 1)"
   ]
  },
  {
   "cell_type": "code",
   "execution_count": 1153,
   "id": "8f0e2b97-8f46-4e9d-9ad8-2d619e058174",
   "metadata": {},
   "outputs": [
    {
     "name": "stdout",
     "output_type": "stream",
     "text": [
      "k_nums = [11, 1]\n",
      "possible_solution is [11]\n",
      "possible_solution is [11]\n"
     ]
    },
    {
     "data": {
      "text/plain": [
       "1"
      ]
     },
     "execution_count": 1153,
     "metadata": {},
     "output_type": "execute_result"
    }
   ],
   "source": [
    "s = Solution()\n",
    "s.minimumNumbers(20, 1)"
   ]
  },
  {
   "cell_type": "code",
   "execution_count": null,
   "id": "11d3909e-d587-4346-b45d-1ac155921fae",
   "metadata": {},
   "outputs": [],
   "source": [
    "\"\"\"Raina's solution to this LeetCode...\n",
    "https://leetcode.com/problems/sum-of-numbers-with-units-digit-k/description/\n",
    "\"\"\"\n",
    "class Solution:\n",
    "    def minimumNumbers(self, num: int, k: int) -> int:\n",
    "        # i: 2 int, one is num(sum) one is k(units digit)\n",
    "        # o: int present the minimum possible size of the set\n",
    "        # e: num = 0? k is even num's ones is odd?\n",
    "        # c: 0 <= k <= 9, 0<= num <= 3000\n",
    "        ones = num % 10\n",
    "        print(ones)\n",
    "        if k % 2 == 0 and ones % 2 != 0:\n",
    "            return -1\n",
    "        if k == 5 and ones not in [0,5]:\n",
    "            return -1\n",
    "        if num == 0:\n",
    "            return 0\n",
    "        if num == k:\n",
    "            return 1\n",
    "        \n",
    "        # a1 + a2 +...+ an = n*k + 10(tens1 + tens2 +.. +tensN) = num\n",
    "        # (n*k + 10(tens1 + tesn2 +...+tensN)) % 10 = num % 10\n",
    "        # (n*k) % 10 + 0 = num % 10\n",
    "        # if n*k % 10 == num % 10 need has 2 elements to get sum to be num\n",
    "        \n",
    "        res = 1\n",
    "        while (res * k) <= num and res <= 10:\n",
    "            if (res * k) % 10 == num % 10:\n",
    "                return res\n",
    "            res += 1\n",
    "        return -1"
   ]
  },
  {
   "cell_type": "code",
   "execution_count": 1154,
   "id": "b143ddc6-7fc7-49d7-854e-c4bf09fadb24",
   "metadata": {},
   "outputs": [
    {
     "data": {
      "text/plain": [
       "14"
      ]
     },
     "execution_count": 1154,
     "metadata": {},
     "output_type": "execute_result"
    }
   ],
   "source": [
    "2 + 3 * 4"
   ]
  },
  {
   "cell_type": "code",
   "execution_count": 1155,
   "id": "d85a9fb7-fc69-4230-aa25-235979214dc3",
   "metadata": {},
   "outputs": [
    {
     "data": {
      "text/plain": [
       "14"
      ]
     },
     "execution_count": 1155,
     "metadata": {},
     "output_type": "execute_result"
    }
   ],
   "source": [
    "2 + (3 * 4)"
   ]
  },
  {
   "cell_type": "code",
   "execution_count": null,
   "id": "c1d7e689-36d7-4955-bc3e-208173a17f8e",
   "metadata": {},
   "outputs": [],
   "source": [
    "# input: 2 3 4 * +\n",
    "# 2\n",
    "# 2 3 \n",
    "# 2 3 4 \n",
    "# pop 3 and 4 and multiply them... 12, then push the result\n",
    "# 2 12\n",
    "# pop 2 and 12 and add them... 14, then push the result\n",
    "# 14"
   ]
  },
  {
   "cell_type": "code",
   "execution_count": 1156,
   "id": "071cdefd-1ec4-4b6d-bf34-80a1407565d1",
   "metadata": {},
   "outputs": [
    {
     "data": {
      "text/plain": [
       "('3', 'diamonds')"
      ]
     },
     "execution_count": 1156,
     "metadata": {},
     "output_type": "execute_result"
    }
   ],
   "source": [
    "('3', 'diamonds')"
   ]
  },
  {
   "cell_type": "code",
   "execution_count": 1157,
   "id": "fefc8be3-04d3-47a9-9dc9-217185d305ea",
   "metadata": {},
   "outputs": [],
   "source": [
    "suits = 'clubs diamonds hearts spades'.split()"
   ]
  },
  {
   "cell_type": "code",
   "execution_count": 1158,
   "id": "5c3da8af-af93-43e0-a678-224bac30820a",
   "metadata": {},
   "outputs": [
    {
     "data": {
      "text/plain": [
       "['clubs', 'diamonds', 'hearts', 'spades']"
      ]
     },
     "execution_count": 1158,
     "metadata": {},
     "output_type": "execute_result"
    }
   ],
   "source": [
    "suits"
   ]
  },
  {
   "cell_type": "code",
   "execution_count": 1159,
   "id": "d331f632-6f44-42d1-81a8-24b70b90ff96",
   "metadata": {},
   "outputs": [],
   "source": [
    "ranks = '2 3 4 5 6 7 8 9 10 J Q K A'.split()"
   ]
  },
  {
   "cell_type": "code",
   "execution_count": 1160,
   "id": "75464749-b2dd-4819-9722-c004e05b4ab0",
   "metadata": {},
   "outputs": [
    {
     "data": {
      "text/plain": [
       "['2', '3', '4', '5', '6', '7', '8', '9', '10', 'J', 'Q', 'K', 'A']"
      ]
     },
     "execution_count": 1160,
     "metadata": {},
     "output_type": "execute_result"
    }
   ],
   "source": [
    "ranks"
   ]
  },
  {
   "cell_type": "code",
   "execution_count": 1163,
   "id": "7c502c7d-7143-44ce-bd63-f6470b3511b2",
   "metadata": {},
   "outputs": [],
   "source": [
    "ranks = [str(num) for num in range(2, 11)] + list('JQKA')"
   ]
  },
  {
   "cell_type": "code",
   "execution_count": 1164,
   "id": "719a53ca-20d8-4f84-aad1-a9784677dea5",
   "metadata": {},
   "outputs": [
    {
     "data": {
      "text/plain": [
       "['2', '3', '4', '5', '6', '7', '8', '9', '10', 'J', 'Q', 'K', 'A']"
      ]
     },
     "execution_count": 1164,
     "metadata": {},
     "output_type": "execute_result"
    }
   ],
   "source": [
    "ranks"
   ]
  },
  {
   "cell_type": "code",
   "execution_count": 1165,
   "id": "65e4e8c6-de2c-4ed3-a963-c1b97c0ddfc3",
   "metadata": {},
   "outputs": [
    {
     "name": "stdout",
     "output_type": "stream",
     "text": [
      "['2', '3', '4', '5', '6', '7', '8', '9', '10', 'J', 'Q', 'K', 'A']\n",
      "['clubs', 'diamonds', 'hearts', 'spades']\n"
     ]
    }
   ],
   "source": [
    "print(ranks, suits, sep='\\n')"
   ]
  },
  {
   "cell_type": "code",
   "execution_count": 1168,
   "id": "a4e25fc0-de6a-49e5-bfbe-195b1384e78c",
   "metadata": {},
   "outputs": [
    {
     "name": "stdout",
     "output_type": "stream",
     "text": [
      "('2', 'clubs')\n",
      "('3', 'clubs')\n",
      "('4', 'clubs')\n",
      "('5', 'clubs')\n",
      "('6', 'clubs')\n",
      "('7', 'clubs')\n",
      "('8', 'clubs')\n",
      "('9', 'clubs')\n",
      "('10', 'clubs')\n",
      "('J', 'clubs')\n",
      "('Q', 'clubs')\n",
      "('K', 'clubs')\n",
      "('A', 'clubs')\n",
      "('2', 'diamonds')\n",
      "('3', 'diamonds')\n",
      "('4', 'diamonds')\n",
      "('5', 'diamonds')\n",
      "('6', 'diamonds')\n",
      "('7', 'diamonds')\n",
      "('8', 'diamonds')\n",
      "('9', 'diamonds')\n",
      "('10', 'diamonds')\n",
      "('J', 'diamonds')\n",
      "('Q', 'diamonds')\n",
      "('K', 'diamonds')\n",
      "('A', 'diamonds')\n",
      "('2', 'hearts')\n",
      "('3', 'hearts')\n",
      "('4', 'hearts')\n",
      "('5', 'hearts')\n",
      "('6', 'hearts')\n",
      "('7', 'hearts')\n",
      "('8', 'hearts')\n",
      "('9', 'hearts')\n",
      "('10', 'hearts')\n",
      "('J', 'hearts')\n",
      "('Q', 'hearts')\n",
      "('K', 'hearts')\n",
      "('A', 'hearts')\n",
      "('2', 'spades')\n",
      "('3', 'spades')\n",
      "('4', 'spades')\n",
      "('5', 'spades')\n",
      "('6', 'spades')\n",
      "('7', 'spades')\n",
      "('8', 'spades')\n",
      "('9', 'spades')\n",
      "('10', 'spades')\n",
      "('J', 'spades')\n",
      "('Q', 'spades')\n",
      "('K', 'spades')\n",
      "('A', 'spades')\n"
     ]
    }
   ],
   "source": [
    "for suit in suits:\n",
    "    for rank in ranks:\n",
    "        t = (rank, suit)\n",
    "        print(t)"
   ]
  },
  {
   "cell_type": "code",
   "execution_count": 1170,
   "id": "1db4e56b-8958-4e3a-ad70-ec795005680d",
   "metadata": {},
   "outputs": [],
   "source": [
    "deck = []\n",
    "\n",
    "for suit in suits:\n",
    "    for rank in ranks:\n",
    "        deck.append((rank, suit))"
   ]
  },
  {
   "cell_type": "code",
   "execution_count": 1171,
   "id": "8b2203e9-9318-4329-a4b6-4c8134588500",
   "metadata": {},
   "outputs": [
    {
     "data": {
      "text/plain": [
       "52"
      ]
     },
     "execution_count": 1171,
     "metadata": {},
     "output_type": "execute_result"
    }
   ],
   "source": [
    "len(deck)"
   ]
  },
  {
   "cell_type": "code",
   "execution_count": 1172,
   "id": "f23b6a6e-a421-4e33-8be3-75bac1056dea",
   "metadata": {},
   "outputs": [
    {
     "name": "stdout",
     "output_type": "stream",
     "text": [
      "[('2', 'clubs'), ('3', 'clubs'), ('4', 'clubs'), ('5', 'clubs'), ('6', 'clubs'), ('7', 'clubs'), ('8', 'clubs'), ('9', 'clubs'), ('10', 'clubs'), ('J', 'clubs'), ('Q', 'clubs'), ('K', 'clubs'), ('A', 'clubs'), ('2', 'diamonds'), ('3', 'diamonds'), ('4', 'diamonds'), ('5', 'diamonds'), ('6', 'diamonds'), ('7', 'diamonds'), ('8', 'diamonds'), ('9', 'diamonds'), ('10', 'diamonds'), ('J', 'diamonds'), ('Q', 'diamonds'), ('K', 'diamonds'), ('A', 'diamonds'), ('2', 'hearts'), ('3', 'hearts'), ('4', 'hearts'), ('5', 'hearts'), ('6', 'hearts'), ('7', 'hearts'), ('8', 'hearts'), ('9', 'hearts'), ('10', 'hearts'), ('J', 'hearts'), ('Q', 'hearts'), ('K', 'hearts'), ('A', 'hearts'), ('2', 'spades'), ('3', 'spades'), ('4', 'spades'), ('5', 'spades'), ('6', 'spades'), ('7', 'spades'), ('8', 'spades'), ('9', 'spades'), ('10', 'spades'), ('J', 'spades'), ('Q', 'spades'), ('K', 'spades'), ('A', 'spades')]\n"
     ]
    }
   ],
   "source": [
    "print(deck)"
   ]
  },
  {
   "cell_type": "code",
   "execution_count": 1173,
   "id": "0bb24150-acd8-4db8-ae99-fe3b241e01e6",
   "metadata": {},
   "outputs": [],
   "source": [
    "import random"
   ]
  },
  {
   "cell_type": "code",
   "execution_count": 1176,
   "id": "67a5fde1-ae6d-4c24-b303-a9581d170c29",
   "metadata": {},
   "outputs": [
    {
     "data": {
      "text/plain": [
       "[('2', 'clubs'),\n",
       " ('3', 'clubs'),\n",
       " ('4', 'clubs'),\n",
       " ('5', 'clubs'),\n",
       " ('6', 'clubs'),\n",
       " ('7', 'clubs'),\n",
       " ('8', 'clubs'),\n",
       " ('9', 'clubs'),\n",
       " ('10', 'clubs'),\n",
       " ('J', 'clubs'),\n",
       " ('Q', 'clubs'),\n",
       " ('K', 'clubs'),\n",
       " ('A', 'clubs'),\n",
       " ('2', 'diamonds'),\n",
       " ('3', 'diamonds'),\n",
       " ('4', 'diamonds'),\n",
       " ('5', 'diamonds'),\n",
       " ('6', 'diamonds'),\n",
       " ('7', 'diamonds'),\n",
       " ('8', 'diamonds'),\n",
       " ('9', 'diamonds'),\n",
       " ('10', 'diamonds'),\n",
       " ('J', 'diamonds'),\n",
       " ('Q', 'diamonds'),\n",
       " ('K', 'diamonds'),\n",
       " ('A', 'diamonds'),\n",
       " ('2', 'hearts'),\n",
       " ('3', 'hearts'),\n",
       " ('4', 'hearts'),\n",
       " ('5', 'hearts'),\n",
       " ('6', 'hearts'),\n",
       " ('7', 'hearts'),\n",
       " ('8', 'hearts'),\n",
       " ('9', 'hearts'),\n",
       " ('10', 'hearts'),\n",
       " ('J', 'hearts'),\n",
       " ('Q', 'hearts'),\n",
       " ('K', 'hearts'),\n",
       " ('A', 'hearts'),\n",
       " ('2', 'spades'),\n",
       " ('3', 'spades'),\n",
       " ('4', 'spades'),\n",
       " ('5', 'spades'),\n",
       " ('6', 'spades'),\n",
       " ('7', 'spades'),\n",
       " ('8', 'spades'),\n",
       " ('9', 'spades'),\n",
       " ('10', 'spades'),\n",
       " ('J', 'spades'),\n",
       " ('Q', 'spades'),\n",
       " ('K', 'spades'),\n",
       " ('A', 'spades')]"
      ]
     },
     "execution_count": 1176,
     "metadata": {},
     "output_type": "execute_result"
    }
   ],
   "source": [
    "deck"
   ]
  },
  {
   "cell_type": "code",
   "execution_count": 1179,
   "id": "c6c56e14-de79-449c-aff1-d4f5ebc8d004",
   "metadata": {},
   "outputs": [],
   "source": [
    "random.shuffle(deck)"
   ]
  },
  {
   "cell_type": "code",
   "execution_count": 1180,
   "id": "5c5a0c2c-3df6-449d-96a0-4aaf985c527c",
   "metadata": {},
   "outputs": [
    {
     "name": "stdout",
     "output_type": "stream",
     "text": [
      "[('10', 'spades'), ('Q', 'hearts'), ('8', 'spades'), ('9', 'hearts'), ('J', 'hearts'), ('2', 'hearts'), ('5', 'diamonds'), ('A', 'hearts'), ('6', 'diamonds'), ('9', 'spades'), ('K', 'spades'), ('K', 'hearts'), ('4', 'spades'), ('6', 'clubs'), ('7', 'spades'), ('Q', 'diamonds'), ('5', 'clubs'), ('9', 'clubs'), ('2', 'spades'), ('4', 'diamonds'), ('8', 'diamonds'), ('7', 'clubs'), ('A', 'spades'), ('K', 'diamonds'), ('Q', 'spades'), ('3', 'diamonds'), ('8', 'hearts'), ('2', 'clubs'), ('Q', 'clubs'), ('7', 'hearts'), ('6', 'hearts'), ('10', 'hearts'), ('5', 'spades'), ('10', 'clubs'), ('10', 'diamonds'), ('A', 'diamonds'), ('5', 'hearts'), ('2', 'diamonds'), ('3', 'hearts'), ('J', 'spades'), ('9', 'diamonds'), ('6', 'spades'), ('3', 'clubs'), ('J', 'diamonds'), ('J', 'clubs'), ('K', 'clubs'), ('3', 'spades'), ('7', 'diamonds'), ('4', 'clubs'), ('A', 'clubs'), ('4', 'hearts'), ('8', 'clubs')]\n"
     ]
    }
   ],
   "source": [
    "print(deck)"
   ]
  },
  {
   "cell_type": "code",
   "execution_count": 1182,
   "id": "e440ebec-3a3f-43cc-8fe9-5c49911d1ad9",
   "metadata": {},
   "outputs": [
    {
     "data": {
      "text/plain": [
       "('2', 'diamonds')"
      ]
     },
     "execution_count": 1182,
     "metadata": {},
     "output_type": "execute_result"
    }
   ],
   "source": [
    "random.choice(deck)"
   ]
  },
  {
   "cell_type": "code",
   "execution_count": 1183,
   "id": "9a9beeeb-8ed3-47bf-a486-f811fec271e3",
   "metadata": {},
   "outputs": [],
   "source": [
    "# Some thoughts about RPN calculator...\n",
    "class Stack(list):\n",
    "    \"\"\"Stack class which extends the built-in list class...\n",
    "    Goal is to have a unified push/pop notations. Pop already\n",
    "    exists, but no push. However, it's the same as .append\n",
    "\n",
    "    We could also use something to tell us when the stack is\n",
    "    empty. The builtin len() function will work, but if we're\n",
    "    writing our own class, we might as well add an empty function.\n",
    "    \"\"\"\n",
    "    def push(self, item):\n",
    "        \"\"\"Push an item onto the stack.\"\"\"\n",
    "        self.append(item)\n",
    "\n",
    "    def is_empty(self):\n",
    "        return len(self) == 0"
   ]
  },
  {
   "cell_type": "code",
   "execution_count": 1187,
   "id": "d2b8505c-7b41-4f8d-a8d9-38d3131386a9",
   "metadata": {},
   "outputs": [],
   "source": [
    "# let's test it...\n",
    "mystack = Stack()"
   ]
  },
  {
   "cell_type": "code",
   "execution_count": 1188,
   "id": "309d3712-ebf5-45e9-b6d7-b6218883506f",
   "metadata": {},
   "outputs": [
    {
     "data": {
      "text/plain": [
       "True"
      ]
     },
     "execution_count": 1188,
     "metadata": {},
     "output_type": "execute_result"
    }
   ],
   "source": [
    "mystack.is_empty()"
   ]
  },
  {
   "cell_type": "code",
   "execution_count": 1189,
   "id": "70b9b01f-fb9a-4a5c-90b6-68ba0c3ec13a",
   "metadata": {},
   "outputs": [],
   "source": [
    "mystack.push(3)\n",
    "mystack.push(4)\n",
    "mystack.push('+')"
   ]
  },
  {
   "cell_type": "code",
   "execution_count": 1190,
   "id": "d2bddad0-8f69-4bed-8cbc-5d9292d33730",
   "metadata": {},
   "outputs": [
    {
     "data": {
      "text/plain": [
       "False"
      ]
     },
     "execution_count": 1190,
     "metadata": {},
     "output_type": "execute_result"
    }
   ],
   "source": [
    "mystack.is_empty()"
   ]
  },
  {
   "cell_type": "code",
   "execution_count": 1191,
   "id": "f3ac88b0-c583-41cf-8612-66356cd28f1e",
   "metadata": {},
   "outputs": [
    {
     "data": {
      "text/plain": [
       "'+'"
      ]
     },
     "execution_count": 1191,
     "metadata": {},
     "output_type": "execute_result"
    }
   ],
   "source": [
    "mystack.pop()"
   ]
  },
  {
   "cell_type": "code",
   "execution_count": null,
   "id": "2d9481bf-05ff-4bc5-9e50-f0d9c8d90228",
   "metadata": {},
   "outputs": [],
   "source": [
    "# some thoughts about Roshambo\n",
    "# there are 3 options (rock, scissors, paper)\n",
    "# player vs. computer = 2 players\n",
    "# so... 9 total possibilities (not many!)\n",
    "# rock rock\n",
    "# rock scissors\n",
    "# rock paper\n",
    "# scissors rock\n",
    "# scissors scissors\n",
    "# scissors paper\n",
    "# paper rock\n",
    "# paper scissors\n",
    "# paper paper\n",
    "# ---\n",
    "# 3 of them are ties, 3 are wins, 3 are losses\n",
    "# so we could store the 9 possibilities in some sort of\n",
    "# data structure, along with the result\n",
    "# many choices, but one that comes to mind is a dict:\n",
    "roshambo = {\n",
    "        ('rock', 'rock'): 'tie',\n",
    "    ('rock', 'scissors'): 'win',\n",
    "       ('rock', 'paper'): 'lose',\n",
    "    ('scissors', 'rock'): 'lose',\n",
    "('scissors', 'scissors'): 'tie',\n",
    "   ('scissors', 'paper'): 'win',\n",
    "       ('paper', 'rock'): 'win',\n",
    "   ('paper', 'scissors'): 'lose',\n",
    "      ('paper', 'paper'): 'tie',\n",
    "}"
   ]
  },
  {
   "cell_type": "code",
   "execution_count": 1192,
   "id": "02aeb9eb-c66d-4ffb-a077-8110133cf1ec",
   "metadata": {},
   "outputs": [
    {
     "name": "stdin",
     "output_type": "stream",
     "text": [
      "Type Rock, Paper, or Scissors: rock\n"
     ]
    },
    {
     "data": {
      "text/plain": [
       "'You tied!'"
      ]
     },
     "execution_count": 1192,
     "metadata": {},
     "output_type": "execute_result"
    }
   ],
   "source": [
    "# Juan's Roshambo solution\n",
    "def Roshambo():\n",
    "    from random import choice\n",
    "\n",
    "    options = 'rock paper scissors'.split()\n",
    "\n",
    "    while (player_choice := input('Type Rock, Paper, or Scissors:').lower()) not in options:\n",
    "        print(player_choice)\n",
    "        \n",
    "    computer_choice = choice(options)\n",
    "    \n",
    "    if player_choice == computer_choice:\n",
    "        return 'You tied!'\n",
    "    \n",
    "    match player_choice:\n",
    "        case 'rock':\n",
    "            if (computer_choice == 'paper'):\n",
    "                print('You lost!')\n",
    "        case 'paper':\n",
    "            if (computer_choice == 'scissors'):\n",
    "                print('You lost!')\n",
    "        case 'scissors':\n",
    "            if (computer_choice == 'rock'):\n",
    "                print('You lost!')\n",
    "    return 'You got lucky!'\n",
    "\n",
    "Roshambo()"
   ]
  },
  {
   "cell_type": "code",
   "execution_count": 1198,
   "id": "13295a82-9e48-4521-8184-d2d3a97d5513",
   "metadata": {},
   "outputs": [
    {
     "name": "stdin",
     "output_type": "stream",
     "text": [
      "Type Rock, Paper, or Scissors: paper\n"
     ]
    },
    {
     "data": {
      "text/plain": [
       "'You tied!'"
      ]
     },
     "execution_count": 1198,
     "metadata": {},
     "output_type": "execute_result"
    }
   ],
   "source": [
    "Roshambo()"
   ]
  },
  {
   "cell_type": "code",
   "execution_count": null,
   "id": "02297fa5-8894-415d-9ef2-3e5774e6fd60",
   "metadata": {},
   "outputs": [],
   "source": []
  }
 ],
 "metadata": {
  "kernelspec": {
   "display_name": "Python 3 (ipykernel)",
   "language": "python",
   "name": "python3"
  },
  "language_info": {
   "codemirror_mode": {
    "name": "ipython",
    "version": 3
   },
   "file_extension": ".py",
   "mimetype": "text/x-python",
   "name": "python",
   "nbconvert_exporter": "python",
   "pygments_lexer": "ipython3",
   "version": "3.12.2"
  }
 },
 "nbformat": 4,
 "nbformat_minor": 5
}
